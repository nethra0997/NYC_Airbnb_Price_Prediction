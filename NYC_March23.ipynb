{
 "cells": [
  {
   "cell_type": "markdown",
   "metadata": {
    "jp-MarkdownHeadingCollapsed": true,
    "tags": []
   },
   "source": [
    "<h1>1. Importing necessay libraries</h1>\n"
   ]
  },
  {
   "cell_type": "code",
   "execution_count": 131,
   "metadata": {},
   "outputs": [],
   "source": [
    "import pandas as pd\n",
    "import seaborn as sns\n",
    "import matplotlib.pyplot as plt"
   ]
  },
  {
   "cell_type": "code",
   "execution_count": 132,
   "metadata": {},
   "outputs": [
    {
     "name": "stdout",
     "output_type": "stream",
     "text": [
      "Requirement already satisfied: folium in c:\\users\\16174\\anaconda3\\lib\\site-packages (0.14.0)\n",
      "Requirement already satisfied: branca>=0.6.0 in c:\\users\\16174\\anaconda3\\lib\\site-packages (from folium) (0.6.0)\n",
      "Requirement already satisfied: jinja2>=2.9 in c:\\users\\16174\\anaconda3\\lib\\site-packages (from folium) (2.11.3)\n",
      "Requirement already satisfied: numpy in c:\\users\\16174\\anaconda3\\lib\\site-packages (from folium) (1.21.5)\n",
      "Requirement already satisfied: requests in c:\\users\\16174\\anaconda3\\lib\\site-packages (from folium) (2.28.1)\n",
      "Requirement already satisfied: MarkupSafe>=0.23 in c:\\users\\16174\\anaconda3\\lib\\site-packages (from jinja2>=2.9->folium) (2.0.1)\n",
      "Requirement already satisfied: idna<4,>=2.5 in c:\\users\\16174\\anaconda3\\lib\\site-packages (from requests->folium) (3.3)\n",
      "Requirement already satisfied: certifi>=2017.4.17 in c:\\users\\16174\\anaconda3\\lib\\site-packages (from requests->folium) (2022.9.14)\n",
      "Requirement already satisfied: charset-normalizer<3,>=2 in c:\\users\\16174\\anaconda3\\lib\\site-packages (from requests->folium) (2.0.4)\n",
      "Requirement already satisfied: urllib3<1.27,>=1.21.1 in c:\\users\\16174\\anaconda3\\lib\\site-packages (from requests->folium) (1.26.11)\n"
     ]
    }
   ],
   "source": [
    "!pip install folium"
   ]
  },
  {
   "cell_type": "markdown",
   "metadata": {
    "colab": {
     "base_uri": "https://localhost:8080/",
     "height": 1000
    },
    "id": "ocJv4tMqhhJI",
    "jp-MarkdownHeadingCollapsed": true,
    "outputId": "dc707a05-ef10-40a3-f494-d7197aefb89f",
    "tags": []
   },
   "source": [
    "<h1>2. Importing data from local</h1>"
   ]
  },
  {
   "cell_type": "code",
   "execution_count": 133,
   "metadata": {},
   "outputs": [
    {
     "data": {
      "text/html": [
       "<div>\n",
       "<style scoped>\n",
       "    .dataframe tbody tr th:only-of-type {\n",
       "        vertical-align: middle;\n",
       "    }\n",
       "\n",
       "    .dataframe tbody tr th {\n",
       "        vertical-align: top;\n",
       "    }\n",
       "\n",
       "    .dataframe thead th {\n",
       "        text-align: right;\n",
       "    }\n",
       "</style>\n",
       "<table border=\"1\" class=\"dataframe\">\n",
       "  <thead>\n",
       "    <tr style=\"text-align: right;\">\n",
       "      <th></th>\n",
       "      <th>id</th>\n",
       "      <th>listing_url</th>\n",
       "      <th>scrape_id</th>\n",
       "      <th>last_scraped</th>\n",
       "      <th>source</th>\n",
       "      <th>name</th>\n",
       "      <th>description</th>\n",
       "      <th>neighborhood_overview</th>\n",
       "      <th>picture_url</th>\n",
       "      <th>host_id</th>\n",
       "      <th>...</th>\n",
       "      <th>review_scores_communication</th>\n",
       "      <th>review_scores_location</th>\n",
       "      <th>review_scores_value</th>\n",
       "      <th>license</th>\n",
       "      <th>instant_bookable</th>\n",
       "      <th>calculated_host_listings_count</th>\n",
       "      <th>calculated_host_listings_count_entire_homes</th>\n",
       "      <th>calculated_host_listings_count_private_rooms</th>\n",
       "      <th>calculated_host_listings_count_shared_rooms</th>\n",
       "      <th>reviews_per_month</th>\n",
       "    </tr>\n",
       "  </thead>\n",
       "  <tbody>\n",
       "    <tr>\n",
       "      <th>0</th>\n",
       "      <td>2.595000e+03</td>\n",
       "      <td>https://www.airbnb.com/rooms/2595</td>\n",
       "      <td>2.022120e+13</td>\n",
       "      <td>2022-12-05</td>\n",
       "      <td>city scrape</td>\n",
       "      <td>Skylit Midtown Castle</td>\n",
       "      <td>Beautiful, spacious skylit studio in the heart...</td>\n",
       "      <td>Centrally located in the heart of Manhattan ju...</td>\n",
       "      <td>https://a0.muscache.com/pictures/f0813a11-40b2...</td>\n",
       "      <td>2845.0</td>\n",
       "      <td>...</td>\n",
       "      <td>4.80</td>\n",
       "      <td>4.81</td>\n",
       "      <td>4.40</td>\n",
       "      <td>NaN</td>\n",
       "      <td>f</td>\n",
       "      <td>3.0</td>\n",
       "      <td>3.0</td>\n",
       "      <td>0.0</td>\n",
       "      <td>0.0</td>\n",
       "      <td>0.31</td>\n",
       "    </tr>\n",
       "    <tr>\n",
       "      <th>1</th>\n",
       "      <td>5.203000e+03</td>\n",
       "      <td>https://www.airbnb.com/rooms/5203</td>\n",
       "      <td>2.022120e+13</td>\n",
       "      <td>2022-12-05</td>\n",
       "      <td>previous scrape</td>\n",
       "      <td>Cozy Clean Guest Room - Family Apt</td>\n",
       "      <td>Our best guests are seeking a safe, clean, spa...</td>\n",
       "      <td>Our neighborhood is full of restaurants and ca...</td>\n",
       "      <td>https://a0.muscache.com/pictures/103776/b37157...</td>\n",
       "      <td>7490.0</td>\n",
       "      <td>...</td>\n",
       "      <td>4.95</td>\n",
       "      <td>4.94</td>\n",
       "      <td>4.92</td>\n",
       "      <td>NaN</td>\n",
       "      <td>f</td>\n",
       "      <td>1.0</td>\n",
       "      <td>0.0</td>\n",
       "      <td>1.0</td>\n",
       "      <td>0.0</td>\n",
       "      <td>0.73</td>\n",
       "    </tr>\n",
       "    <tr>\n",
       "      <th>2</th>\n",
       "      <td>5.136000e+03</td>\n",
       "      <td>https://www.airbnb.com/rooms/5136</td>\n",
       "      <td>2.022120e+13</td>\n",
       "      <td>2022-12-04</td>\n",
       "      <td>city scrape</td>\n",
       "      <td>Spacious Brooklyn Duplex, Patio + Garden</td>\n",
       "      <td>We welcome you to stay in our lovely 2 br dupl...</td>\n",
       "      <td>NaN</td>\n",
       "      <td>https://a0.muscache.com/pictures/miso/Hosting-...</td>\n",
       "      <td>7378.0</td>\n",
       "      <td>...</td>\n",
       "      <td>5.00</td>\n",
       "      <td>4.67</td>\n",
       "      <td>5.00</td>\n",
       "      <td>NaN</td>\n",
       "      <td>f</td>\n",
       "      <td>1.0</td>\n",
       "      <td>1.0</td>\n",
       "      <td>0.0</td>\n",
       "      <td>0.0</td>\n",
       "      <td>0.03</td>\n",
       "    </tr>\n",
       "    <tr>\n",
       "      <th>3</th>\n",
       "      <td>5.121000e+03</td>\n",
       "      <td>https://www.airbnb.com/rooms/5121</td>\n",
       "      <td>2.022120e+13</td>\n",
       "      <td>2022-12-05</td>\n",
       "      <td>city scrape</td>\n",
       "      <td>BlissArtsSpace!</td>\n",
       "      <td>One room available for rent in a 2 bedroom apt...</td>\n",
       "      <td>NaN</td>\n",
       "      <td>https://a0.muscache.com/pictures/2090980c-b68e...</td>\n",
       "      <td>7356.0</td>\n",
       "      <td>...</td>\n",
       "      <td>4.91</td>\n",
       "      <td>4.47</td>\n",
       "      <td>4.52</td>\n",
       "      <td>NaN</td>\n",
       "      <td>f</td>\n",
       "      <td>2.0</td>\n",
       "      <td>0.0</td>\n",
       "      <td>2.0</td>\n",
       "      <td>0.0</td>\n",
       "      <td>0.30</td>\n",
       "    </tr>\n",
       "    <tr>\n",
       "      <th>4</th>\n",
       "      <td>6.848000e+03</td>\n",
       "      <td>https://www.airbnb.com/rooms/6848</td>\n",
       "      <td>2.022120e+13</td>\n",
       "      <td>2022-12-05</td>\n",
       "      <td>city scrape</td>\n",
       "      <td>Only 2 stops to Manhattan studio</td>\n",
       "      <td>Comfortable studio apartment with super comfor...</td>\n",
       "      <td>NaN</td>\n",
       "      <td>https://a0.muscache.com/pictures/e4f031a7-f146...</td>\n",
       "      <td>15991.0</td>\n",
       "      <td>...</td>\n",
       "      <td>4.80</td>\n",
       "      <td>4.67</td>\n",
       "      <td>4.56</td>\n",
       "      <td>NaN</td>\n",
       "      <td>f</td>\n",
       "      <td>1.0</td>\n",
       "      <td>1.0</td>\n",
       "      <td>0.0</td>\n",
       "      <td>0.0</td>\n",
       "      <td>1.13</td>\n",
       "    </tr>\n",
       "    <tr>\n",
       "      <th>...</th>\n",
       "      <td>...</td>\n",
       "      <td>...</td>\n",
       "      <td>...</td>\n",
       "      <td>...</td>\n",
       "      <td>...</td>\n",
       "      <td>...</td>\n",
       "      <td>...</td>\n",
       "      <td>...</td>\n",
       "      <td>...</td>\n",
       "      <td>...</td>\n",
       "      <td>...</td>\n",
       "      <td>...</td>\n",
       "      <td>...</td>\n",
       "      <td>...</td>\n",
       "      <td>...</td>\n",
       "      <td>...</td>\n",
       "      <td>...</td>\n",
       "      <td>...</td>\n",
       "      <td>...</td>\n",
       "      <td>...</td>\n",
       "      <td>...</td>\n",
       "    </tr>\n",
       "    <tr>\n",
       "      <th>25735</th>\n",
       "      <td>7.726070e+17</td>\n",
       "      <td>https://www.airbnb.com/rooms/772607042480055880</td>\n",
       "      <td>2.022120e+13</td>\n",
       "      <td>2022-12-04</td>\n",
       "      <td>city scrape</td>\n",
       "      <td>Hidden Gem: Close to NYC &amp; JFK</td>\n",
       "      <td>Welcome to The Hidden Gem! &lt;br /&gt;&lt;br /&gt;Get tog...</td>\n",
       "      <td>This busy convenient location provides quick a...</td>\n",
       "      <td>https://a0.muscache.com/pictures/miso/Hosting-...</td>\n",
       "      <td>47633041.0</td>\n",
       "      <td>...</td>\n",
       "      <td>NaN</td>\n",
       "      <td>NaN</td>\n",
       "      <td>NaN</td>\n",
       "      <td>NaN</td>\n",
       "      <td>t</td>\n",
       "      <td>5.0</td>\n",
       "      <td>5.0</td>\n",
       "      <td>0.0</td>\n",
       "      <td>0.0</td>\n",
       "      <td>NaN</td>\n",
       "    </tr>\n",
       "    <tr>\n",
       "      <th>25736</th>\n",
       "      <td>7.726101e+17</td>\n",
       "      <td>https://www.airbnb.com/rooms/772610065839345131</td>\n",
       "      <td>2.022120e+13</td>\n",
       "      <td>2022-12-04</td>\n",
       "      <td>city scrape</td>\n",
       "      <td>Bayside Dreams in Brooklyn - 5BR</td>\n",
       "      <td>Bring the whole family to this great place wit...</td>\n",
       "      <td>NaN</td>\n",
       "      <td>https://a0.muscache.com/pictures/miso/Hosting-...</td>\n",
       "      <td>465891299.0</td>\n",
       "      <td>...</td>\n",
       "      <td>NaN</td>\n",
       "      <td>NaN</td>\n",
       "      <td>NaN</td>\n",
       "      <td>NaN</td>\n",
       "      <td>t</td>\n",
       "      <td>14.0</td>\n",
       "      <td>14.0</td>\n",
       "      <td>0.0</td>\n",
       "      <td>0.0</td>\n",
       "      <td>NaN</td>\n",
       "    </tr>\n",
       "    <tr>\n",
       "      <th>25737</th>\n",
       "      <td>7.726185e+17</td>\n",
       "      <td>https://www.airbnb.com/rooms/772618478713578699</td>\n",
       "      <td>2.022120e+13</td>\n",
       "      <td>2022-12-05</td>\n",
       "      <td>city scrape</td>\n",
       "      <td>Beautiful &amp; Cosy Queen Bed Room With A View</td>\n",
       "      <td>Wake up in this GORGEOUS and spacious Queen Be...</td>\n",
       "      <td>The Most BEAUTIFUL NYC Skyline View From The C...</td>\n",
       "      <td>https://a0.muscache.com/pictures/miso/Hosting-...</td>\n",
       "      <td>398073234.0</td>\n",
       "      <td>...</td>\n",
       "      <td>NaN</td>\n",
       "      <td>NaN</td>\n",
       "      <td>NaN</td>\n",
       "      <td>NaN</td>\n",
       "      <td>t</td>\n",
       "      <td>10.0</td>\n",
       "      <td>7.0</td>\n",
       "      <td>3.0</td>\n",
       "      <td>0.0</td>\n",
       "      <td>NaN</td>\n",
       "    </tr>\n",
       "    <tr>\n",
       "      <th>25738</th>\n",
       "      <td>NaN</td>\n",
       "      <td>NaN</td>\n",
       "      <td>NaN</td>\n",
       "      <td>NaT</td>\n",
       "      <td>NaN</td>\n",
       "      <td>NaN</td>\n",
       "      <td>NaN</td>\n",
       "      <td>NaN</td>\n",
       "      <td>NaN</td>\n",
       "      <td>NaN</td>\n",
       "      <td>...</td>\n",
       "      <td>NaN</td>\n",
       "      <td>NaN</td>\n",
       "      <td>NaN</td>\n",
       "      <td>NaN</td>\n",
       "      <td>NaN</td>\n",
       "      <td>NaN</td>\n",
       "      <td>NaN</td>\n",
       "      <td>NaN</td>\n",
       "      <td>NaN</td>\n",
       "      <td>NaN</td>\n",
       "    </tr>\n",
       "    <tr>\n",
       "      <th>25739</th>\n",
       "      <td>7.727108e+17</td>\n",
       "      <td>https://www.airbnb.com/rooms/772710779275911753</td>\n",
       "      <td>2.022120e+13</td>\n",
       "      <td>2022-12-05</td>\n",
       "      <td>city scrape</td>\n",
       "      <td>Central Park Close By - 24</td>\n",
       "      <td>This is a Three-Bedroom Apartment. You will ha...</td>\n",
       "      <td>NaN</td>\n",
       "      <td>https://a0.muscache.com/pictures/miso/Hosting-...</td>\n",
       "      <td>2653479.0</td>\n",
       "      <td>...</td>\n",
       "      <td>NaN</td>\n",
       "      <td>NaN</td>\n",
       "      <td>NaN</td>\n",
       "      <td>NaN</td>\n",
       "      <td>t</td>\n",
       "      <td>37.0</td>\n",
       "      <td>2.0</td>\n",
       "      <td>35.0</td>\n",
       "      <td>0.0</td>\n",
       "      <td>NaN</td>\n",
       "    </tr>\n",
       "  </tbody>\n",
       "</table>\n",
       "<p>25740 rows × 75 columns</p>\n",
       "</div>"
      ],
      "text/plain": [
       "                 id                                      listing_url  \\\n",
       "0      2.595000e+03                https://www.airbnb.com/rooms/2595   \n",
       "1      5.203000e+03                https://www.airbnb.com/rooms/5203   \n",
       "2      5.136000e+03                https://www.airbnb.com/rooms/5136   \n",
       "3      5.121000e+03                https://www.airbnb.com/rooms/5121   \n",
       "4      6.848000e+03                https://www.airbnb.com/rooms/6848   \n",
       "...             ...                                              ...   \n",
       "25735  7.726070e+17  https://www.airbnb.com/rooms/772607042480055880   \n",
       "25736  7.726101e+17  https://www.airbnb.com/rooms/772610065839345131   \n",
       "25737  7.726185e+17  https://www.airbnb.com/rooms/772618478713578699   \n",
       "25738           NaN                                              NaN   \n",
       "25739  7.727108e+17  https://www.airbnb.com/rooms/772710779275911753   \n",
       "\n",
       "          scrape_id last_scraped           source  \\\n",
       "0      2.022120e+13   2022-12-05      city scrape   \n",
       "1      2.022120e+13   2022-12-05  previous scrape   \n",
       "2      2.022120e+13   2022-12-04      city scrape   \n",
       "3      2.022120e+13   2022-12-05      city scrape   \n",
       "4      2.022120e+13   2022-12-05      city scrape   \n",
       "...             ...          ...              ...   \n",
       "25735  2.022120e+13   2022-12-04      city scrape   \n",
       "25736  2.022120e+13   2022-12-04      city scrape   \n",
       "25737  2.022120e+13   2022-12-05      city scrape   \n",
       "25738           NaN          NaT              NaN   \n",
       "25739  2.022120e+13   2022-12-05      city scrape   \n",
       "\n",
       "                                              name  \\\n",
       "0                            Skylit Midtown Castle   \n",
       "1               Cozy Clean Guest Room - Family Apt   \n",
       "2         Spacious Brooklyn Duplex, Patio + Garden   \n",
       "3                                  BlissArtsSpace!   \n",
       "4                 Only 2 stops to Manhattan studio   \n",
       "...                                            ...   \n",
       "25735               Hidden Gem: Close to NYC & JFK   \n",
       "25736             Bayside Dreams in Brooklyn - 5BR   \n",
       "25737  Beautiful & Cosy Queen Bed Room With A View   \n",
       "25738                                          NaN   \n",
       "25739                   Central Park Close By - 24   \n",
       "\n",
       "                                             description  \\\n",
       "0      Beautiful, spacious skylit studio in the heart...   \n",
       "1      Our best guests are seeking a safe, clean, spa...   \n",
       "2      We welcome you to stay in our lovely 2 br dupl...   \n",
       "3      One room available for rent in a 2 bedroom apt...   \n",
       "4      Comfortable studio apartment with super comfor...   \n",
       "...                                                  ...   \n",
       "25735  Welcome to The Hidden Gem! <br /><br />Get tog...   \n",
       "25736  Bring the whole family to this great place wit...   \n",
       "25737  Wake up in this GORGEOUS and spacious Queen Be...   \n",
       "25738                                                NaN   \n",
       "25739  This is a Three-Bedroom Apartment. You will ha...   \n",
       "\n",
       "                                   neighborhood_overview  \\\n",
       "0      Centrally located in the heart of Manhattan ju...   \n",
       "1      Our neighborhood is full of restaurants and ca...   \n",
       "2                                                    NaN   \n",
       "3                                                    NaN   \n",
       "4                                                    NaN   \n",
       "...                                                  ...   \n",
       "25735  This busy convenient location provides quick a...   \n",
       "25736                                                NaN   \n",
       "25737  The Most BEAUTIFUL NYC Skyline View From The C...   \n",
       "25738                                                NaN   \n",
       "25739                                                NaN   \n",
       "\n",
       "                                             picture_url      host_id  ...  \\\n",
       "0      https://a0.muscache.com/pictures/f0813a11-40b2...       2845.0  ...   \n",
       "1      https://a0.muscache.com/pictures/103776/b37157...       7490.0  ...   \n",
       "2      https://a0.muscache.com/pictures/miso/Hosting-...       7378.0  ...   \n",
       "3      https://a0.muscache.com/pictures/2090980c-b68e...       7356.0  ...   \n",
       "4      https://a0.muscache.com/pictures/e4f031a7-f146...      15991.0  ...   \n",
       "...                                                  ...          ...  ...   \n",
       "25735  https://a0.muscache.com/pictures/miso/Hosting-...   47633041.0  ...   \n",
       "25736  https://a0.muscache.com/pictures/miso/Hosting-...  465891299.0  ...   \n",
       "25737  https://a0.muscache.com/pictures/miso/Hosting-...  398073234.0  ...   \n",
       "25738                                                NaN          NaN  ...   \n",
       "25739  https://a0.muscache.com/pictures/miso/Hosting-...    2653479.0  ...   \n",
       "\n",
       "      review_scores_communication review_scores_location review_scores_value  \\\n",
       "0                            4.80                   4.81                4.40   \n",
       "1                            4.95                   4.94                4.92   \n",
       "2                            5.00                   4.67                5.00   \n",
       "3                            4.91                   4.47                4.52   \n",
       "4                            4.80                   4.67                4.56   \n",
       "...                           ...                    ...                 ...   \n",
       "25735                         NaN                    NaN                 NaN   \n",
       "25736                         NaN                    NaN                 NaN   \n",
       "25737                         NaN                    NaN                 NaN   \n",
       "25738                         NaN                    NaN                 NaN   \n",
       "25739                         NaN                    NaN                 NaN   \n",
       "\n",
       "      license instant_bookable calculated_host_listings_count  \\\n",
       "0         NaN                f                            3.0   \n",
       "1         NaN                f                            1.0   \n",
       "2         NaN                f                            1.0   \n",
       "3         NaN                f                            2.0   \n",
       "4         NaN                f                            1.0   \n",
       "...       ...              ...                            ...   \n",
       "25735     NaN                t                            5.0   \n",
       "25736     NaN                t                           14.0   \n",
       "25737     NaN                t                           10.0   \n",
       "25738     NaN              NaN                            NaN   \n",
       "25739     NaN                t                           37.0   \n",
       "\n",
       "       calculated_host_listings_count_entire_homes  \\\n",
       "0                                              3.0   \n",
       "1                                              0.0   \n",
       "2                                              1.0   \n",
       "3                                              0.0   \n",
       "4                                              1.0   \n",
       "...                                            ...   \n",
       "25735                                          5.0   \n",
       "25736                                         14.0   \n",
       "25737                                          7.0   \n",
       "25738                                          NaN   \n",
       "25739                                          2.0   \n",
       "\n",
       "       calculated_host_listings_count_private_rooms  \\\n",
       "0                                               0.0   \n",
       "1                                               1.0   \n",
       "2                                               0.0   \n",
       "3                                               2.0   \n",
       "4                                               0.0   \n",
       "...                                             ...   \n",
       "25735                                           0.0   \n",
       "25736                                           0.0   \n",
       "25737                                           3.0   \n",
       "25738                                           NaN   \n",
       "25739                                          35.0   \n",
       "\n",
       "      calculated_host_listings_count_shared_rooms reviews_per_month  \n",
       "0                                             0.0              0.31  \n",
       "1                                             0.0              0.73  \n",
       "2                                             0.0              0.03  \n",
       "3                                             0.0              0.30  \n",
       "4                                             0.0              1.13  \n",
       "...                                           ...               ...  \n",
       "25735                                         0.0               NaN  \n",
       "25736                                         0.0               NaN  \n",
       "25737                                         0.0               NaN  \n",
       "25738                                         NaN               NaN  \n",
       "25739                                         0.0               NaN  \n",
       "\n",
       "[25740 rows x 75 columns]"
      ]
     },
     "execution_count": 133,
     "metadata": {},
     "output_type": "execute_result"
    }
   ],
   "source": [
    "df = pd.read_excel(\"NYC.xlsx\")\n",
    "df"
   ]
  },
  {
   "cell_type": "code",
   "execution_count": 134,
   "metadata": {
    "colab": {
     "base_uri": "https://localhost:8080/",
     "height": 612
    },
    "id": "JYzk74CHqWF3",
    "outputId": "f28cee3c-8938-40db-a28c-92478f031641"
   },
   "outputs": [
    {
     "data": {
      "text/html": [
       "<div>\n",
       "<style scoped>\n",
       "    .dataframe tbody tr th:only-of-type {\n",
       "        vertical-align: middle;\n",
       "    }\n",
       "\n",
       "    .dataframe tbody tr th {\n",
       "        vertical-align: top;\n",
       "    }\n",
       "\n",
       "    .dataframe thead th {\n",
       "        text-align: right;\n",
       "    }\n",
       "</style>\n",
       "<table border=\"1\" class=\"dataframe\">\n",
       "  <thead>\n",
       "    <tr style=\"text-align: right;\">\n",
       "      <th></th>\n",
       "      <th>id</th>\n",
       "      <th>listing_url</th>\n",
       "      <th>scrape_id</th>\n",
       "      <th>last_scraped</th>\n",
       "      <th>source</th>\n",
       "      <th>name</th>\n",
       "      <th>description</th>\n",
       "      <th>neighborhood_overview</th>\n",
       "      <th>picture_url</th>\n",
       "      <th>host_id</th>\n",
       "      <th>...</th>\n",
       "      <th>review_scores_communication</th>\n",
       "      <th>review_scores_location</th>\n",
       "      <th>review_scores_value</th>\n",
       "      <th>license</th>\n",
       "      <th>instant_bookable</th>\n",
       "      <th>calculated_host_listings_count</th>\n",
       "      <th>calculated_host_listings_count_entire_homes</th>\n",
       "      <th>calculated_host_listings_count_private_rooms</th>\n",
       "      <th>calculated_host_listings_count_shared_rooms</th>\n",
       "      <th>reviews_per_month</th>\n",
       "    </tr>\n",
       "  </thead>\n",
       "  <tbody>\n",
       "    <tr>\n",
       "      <th>0</th>\n",
       "      <td>2595.0</td>\n",
       "      <td>https://www.airbnb.com/rooms/2595</td>\n",
       "      <td>2.022120e+13</td>\n",
       "      <td>2022-12-05</td>\n",
       "      <td>city scrape</td>\n",
       "      <td>Skylit Midtown Castle</td>\n",
       "      <td>Beautiful, spacious skylit studio in the heart...</td>\n",
       "      <td>Centrally located in the heart of Manhattan ju...</td>\n",
       "      <td>https://a0.muscache.com/pictures/f0813a11-40b2...</td>\n",
       "      <td>2845.0</td>\n",
       "      <td>...</td>\n",
       "      <td>4.80</td>\n",
       "      <td>4.81</td>\n",
       "      <td>4.40</td>\n",
       "      <td>NaN</td>\n",
       "      <td>f</td>\n",
       "      <td>3.0</td>\n",
       "      <td>3.0</td>\n",
       "      <td>0.0</td>\n",
       "      <td>0.0</td>\n",
       "      <td>0.31</td>\n",
       "    </tr>\n",
       "    <tr>\n",
       "      <th>1</th>\n",
       "      <td>5203.0</td>\n",
       "      <td>https://www.airbnb.com/rooms/5203</td>\n",
       "      <td>2.022120e+13</td>\n",
       "      <td>2022-12-05</td>\n",
       "      <td>previous scrape</td>\n",
       "      <td>Cozy Clean Guest Room - Family Apt</td>\n",
       "      <td>Our best guests are seeking a safe, clean, spa...</td>\n",
       "      <td>Our neighborhood is full of restaurants and ca...</td>\n",
       "      <td>https://a0.muscache.com/pictures/103776/b37157...</td>\n",
       "      <td>7490.0</td>\n",
       "      <td>...</td>\n",
       "      <td>4.95</td>\n",
       "      <td>4.94</td>\n",
       "      <td>4.92</td>\n",
       "      <td>NaN</td>\n",
       "      <td>f</td>\n",
       "      <td>1.0</td>\n",
       "      <td>0.0</td>\n",
       "      <td>1.0</td>\n",
       "      <td>0.0</td>\n",
       "      <td>0.73</td>\n",
       "    </tr>\n",
       "    <tr>\n",
       "      <th>2</th>\n",
       "      <td>5136.0</td>\n",
       "      <td>https://www.airbnb.com/rooms/5136</td>\n",
       "      <td>2.022120e+13</td>\n",
       "      <td>2022-12-04</td>\n",
       "      <td>city scrape</td>\n",
       "      <td>Spacious Brooklyn Duplex, Patio + Garden</td>\n",
       "      <td>We welcome you to stay in our lovely 2 br dupl...</td>\n",
       "      <td>NaN</td>\n",
       "      <td>https://a0.muscache.com/pictures/miso/Hosting-...</td>\n",
       "      <td>7378.0</td>\n",
       "      <td>...</td>\n",
       "      <td>5.00</td>\n",
       "      <td>4.67</td>\n",
       "      <td>5.00</td>\n",
       "      <td>NaN</td>\n",
       "      <td>f</td>\n",
       "      <td>1.0</td>\n",
       "      <td>1.0</td>\n",
       "      <td>0.0</td>\n",
       "      <td>0.0</td>\n",
       "      <td>0.03</td>\n",
       "    </tr>\n",
       "    <tr>\n",
       "      <th>3</th>\n",
       "      <td>5121.0</td>\n",
       "      <td>https://www.airbnb.com/rooms/5121</td>\n",
       "      <td>2.022120e+13</td>\n",
       "      <td>2022-12-05</td>\n",
       "      <td>city scrape</td>\n",
       "      <td>BlissArtsSpace!</td>\n",
       "      <td>One room available for rent in a 2 bedroom apt...</td>\n",
       "      <td>NaN</td>\n",
       "      <td>https://a0.muscache.com/pictures/2090980c-b68e...</td>\n",
       "      <td>7356.0</td>\n",
       "      <td>...</td>\n",
       "      <td>4.91</td>\n",
       "      <td>4.47</td>\n",
       "      <td>4.52</td>\n",
       "      <td>NaN</td>\n",
       "      <td>f</td>\n",
       "      <td>2.0</td>\n",
       "      <td>0.0</td>\n",
       "      <td>2.0</td>\n",
       "      <td>0.0</td>\n",
       "      <td>0.30</td>\n",
       "    </tr>\n",
       "    <tr>\n",
       "      <th>4</th>\n",
       "      <td>6848.0</td>\n",
       "      <td>https://www.airbnb.com/rooms/6848</td>\n",
       "      <td>2.022120e+13</td>\n",
       "      <td>2022-12-05</td>\n",
       "      <td>city scrape</td>\n",
       "      <td>Only 2 stops to Manhattan studio</td>\n",
       "      <td>Comfortable studio apartment with super comfor...</td>\n",
       "      <td>NaN</td>\n",
       "      <td>https://a0.muscache.com/pictures/e4f031a7-f146...</td>\n",
       "      <td>15991.0</td>\n",
       "      <td>...</td>\n",
       "      <td>4.80</td>\n",
       "      <td>4.67</td>\n",
       "      <td>4.56</td>\n",
       "      <td>NaN</td>\n",
       "      <td>f</td>\n",
       "      <td>1.0</td>\n",
       "      <td>1.0</td>\n",
       "      <td>0.0</td>\n",
       "      <td>0.0</td>\n",
       "      <td>1.13</td>\n",
       "    </tr>\n",
       "  </tbody>\n",
       "</table>\n",
       "<p>5 rows × 75 columns</p>\n",
       "</div>"
      ],
      "text/plain": [
       "       id                        listing_url     scrape_id last_scraped  \\\n",
       "0  2595.0  https://www.airbnb.com/rooms/2595  2.022120e+13   2022-12-05   \n",
       "1  5203.0  https://www.airbnb.com/rooms/5203  2.022120e+13   2022-12-05   \n",
       "2  5136.0  https://www.airbnb.com/rooms/5136  2.022120e+13   2022-12-04   \n",
       "3  5121.0  https://www.airbnb.com/rooms/5121  2.022120e+13   2022-12-05   \n",
       "4  6848.0  https://www.airbnb.com/rooms/6848  2.022120e+13   2022-12-05   \n",
       "\n",
       "            source                                      name  \\\n",
       "0      city scrape                     Skylit Midtown Castle   \n",
       "1  previous scrape        Cozy Clean Guest Room - Family Apt   \n",
       "2      city scrape  Spacious Brooklyn Duplex, Patio + Garden   \n",
       "3      city scrape                           BlissArtsSpace!   \n",
       "4      city scrape          Only 2 stops to Manhattan studio   \n",
       "\n",
       "                                         description  \\\n",
       "0  Beautiful, spacious skylit studio in the heart...   \n",
       "1  Our best guests are seeking a safe, clean, spa...   \n",
       "2  We welcome you to stay in our lovely 2 br dupl...   \n",
       "3  One room available for rent in a 2 bedroom apt...   \n",
       "4  Comfortable studio apartment with super comfor...   \n",
       "\n",
       "                               neighborhood_overview  \\\n",
       "0  Centrally located in the heart of Manhattan ju...   \n",
       "1  Our neighborhood is full of restaurants and ca...   \n",
       "2                                                NaN   \n",
       "3                                                NaN   \n",
       "4                                                NaN   \n",
       "\n",
       "                                         picture_url  host_id  ...  \\\n",
       "0  https://a0.muscache.com/pictures/f0813a11-40b2...   2845.0  ...   \n",
       "1  https://a0.muscache.com/pictures/103776/b37157...   7490.0  ...   \n",
       "2  https://a0.muscache.com/pictures/miso/Hosting-...   7378.0  ...   \n",
       "3  https://a0.muscache.com/pictures/2090980c-b68e...   7356.0  ...   \n",
       "4  https://a0.muscache.com/pictures/e4f031a7-f146...  15991.0  ...   \n",
       "\n",
       "  review_scores_communication review_scores_location review_scores_value  \\\n",
       "0                        4.80                   4.81                4.40   \n",
       "1                        4.95                   4.94                4.92   \n",
       "2                        5.00                   4.67                5.00   \n",
       "3                        4.91                   4.47                4.52   \n",
       "4                        4.80                   4.67                4.56   \n",
       "\n",
       "  license instant_bookable calculated_host_listings_count  \\\n",
       "0     NaN                f                            3.0   \n",
       "1     NaN                f                            1.0   \n",
       "2     NaN                f                            1.0   \n",
       "3     NaN                f                            2.0   \n",
       "4     NaN                f                            1.0   \n",
       "\n",
       "   calculated_host_listings_count_entire_homes  \\\n",
       "0                                          3.0   \n",
       "1                                          0.0   \n",
       "2                                          1.0   \n",
       "3                                          0.0   \n",
       "4                                          1.0   \n",
       "\n",
       "   calculated_host_listings_count_private_rooms  \\\n",
       "0                                           0.0   \n",
       "1                                           1.0   \n",
       "2                                           0.0   \n",
       "3                                           2.0   \n",
       "4                                           0.0   \n",
       "\n",
       "  calculated_host_listings_count_shared_rooms reviews_per_month  \n",
       "0                                         0.0              0.31  \n",
       "1                                         0.0              0.73  \n",
       "2                                         0.0              0.03  \n",
       "3                                         0.0              0.30  \n",
       "4                                         0.0              1.13  \n",
       "\n",
       "[5 rows x 75 columns]"
      ]
     },
     "execution_count": 134,
     "metadata": {},
     "output_type": "execute_result"
    }
   ],
   "source": [
    "df.head()"
   ]
  },
  {
   "cell_type": "code",
   "execution_count": 135,
   "metadata": {
    "colab": {
     "base_uri": "https://localhost:8080/"
    },
    "id": "nvVsh7RYnvLd",
    "outputId": "fdcaee6f-c371-416b-f4b3-874399c96bf5"
   },
   "outputs": [
    {
     "name": "stdout",
     "output_type": "stream",
     "text": [
      "id                                                 43\n",
      "listing_url                                        43\n",
      "scrape_id                                          43\n",
      "last_scraped                                       43\n",
      "source                                             43\n",
      "name                                               53\n",
      "description                                       425\n",
      "neighborhood_overview                           10132\n",
      "picture_url                                        43\n",
      "host_id                                            43\n",
      "host_url                                           43\n",
      "host_name                                          43\n",
      "host_since                                         43\n",
      "host_location                                      43\n",
      "host_about                                       7902\n",
      "host_response_time                               8885\n",
      "host_response_rate                               8885\n",
      "host_acceptance_rate                             7931\n",
      "host_is_superhost                                  54\n",
      "host_thumbnail_url                                 43\n",
      "host_picture_url                                   43\n",
      "host_neighbourhood                               4977\n",
      "host_listings_count                                43\n",
      "host_total_listings_count                          43\n",
      "host_verifications                                 43\n",
      "host_has_profile_pic                               43\n",
      "host_identity_verified                             43\n",
      "neighbourhood                                   10131\n",
      "neighbourhood_cleansed                             43\n",
      "neighbourhood_group_cleansed                       43\n",
      "latitude                                           43\n",
      "longitude                                          43\n",
      "property_type                                      43\n",
      "room_type                                          43\n",
      "accommodates                                       43\n",
      "bathrooms                                       25740\n",
      "bathrooms_text                                     82\n",
      "bedrooms                                         2616\n",
      "beds                                              572\n",
      "amenities                                          43\n",
      "price                                              43\n",
      "minimum_nights                                     43\n",
      "maximum_nights                                     43\n",
      "minimum_minimum_nights                             47\n",
      "maximum_minimum_nights                             47\n",
      "minimum_maximum_nights                             47\n",
      "maximum_maximum_nights                             47\n",
      "minimum_nights_avg_ntm                             47\n",
      "maximum_nights_avg_ntm                             47\n",
      "calendar_updated                                25740\n",
      "has_availability                                   43\n",
      "availability_30                                    43\n",
      "availability_60                                    43\n",
      "availability_90                                    43\n",
      "availability_365                                   43\n",
      "calendar_last_scraped                              43\n",
      "number_of_reviews                                  43\n",
      "number_of_reviews_ltm                              43\n",
      "number_of_reviews_l30d                             43\n",
      "first_review                                     5192\n",
      "last_review                                      5192\n",
      "review_scores_rating                             5192\n",
      "review_scores_accuracy                           5461\n",
      "review_scores_cleanliness                        5452\n",
      "review_scores_checkin                            5465\n",
      "review_scores_communication                      5457\n",
      "review_scores_location                           5467\n",
      "review_scores_value                              5467\n",
      "license                                         25740\n",
      "instant_bookable                                   43\n",
      "calculated_host_listings_count                     43\n",
      "calculated_host_listings_count_entire_homes        43\n",
      "calculated_host_listings_count_private_rooms       43\n",
      "calculated_host_listings_count_shared_rooms        43\n",
      "reviews_per_month                                5192\n",
      "dtype: int64\n"
     ]
    }
   ],
   "source": [
    "# Find the sum of missing values for each feature\n",
    "missing_values=df.isnull().sum()\n",
    "# Set the maximum number of columns to be displayed\n",
    "pd.options.display.max_rows=100\n",
    "# Print the number of missing values for each feature\n",
    "print(missing_values)"
   ]
  },
  {
   "cell_type": "code",
   "execution_count": 136,
   "metadata": {
    "colab": {
     "base_uri": "https://localhost:8080/"
    },
    "id": "pJYGSumEd0Hz",
    "outputId": "2714bbdd-ebc1-4f3a-9ee0-290cf1c16f7d"
   },
   "outputs": [
    {
     "data": {
      "text/plain": [
       "(25740, 75)"
      ]
     },
     "execution_count": 136,
     "metadata": {},
     "output_type": "execute_result"
    }
   ],
   "source": [
    "df.shape"
   ]
  },
  {
   "cell_type": "markdown",
   "metadata": {
    "jp-MarkdownHeadingCollapsed": true,
    "tags": []
   },
   "source": [
    "# 3.Preparing Data for Exploratory Data Analysis (EDA)"
   ]
  },
  {
   "cell_type": "code",
   "execution_count": 137,
   "metadata": {},
   "outputs": [
    {
     "name": "stdout",
     "output_type": "stream",
     "text": [
      "id                                                 43\n",
      "listing_url                                        43\n",
      "scrape_id                                          43\n",
      "last_scraped                                       43\n",
      "source                                             43\n",
      "name                                               53\n",
      "description                                       425\n",
      "neighborhood_overview                           10132\n",
      "picture_url                                        43\n",
      "host_id                                            43\n",
      "host_url                                           43\n",
      "host_name                                          43\n",
      "host_since                                         43\n",
      "host_location                                      43\n",
      "host_about                                       7902\n",
      "host_response_time                               8885\n",
      "host_response_rate                               8885\n",
      "host_acceptance_rate                             7931\n",
      "host_is_superhost                                  54\n",
      "host_thumbnail_url                                 43\n",
      "host_picture_url                                   43\n",
      "host_neighbourhood                               4977\n",
      "host_listings_count                                43\n",
      "host_total_listings_count                          43\n",
      "host_verifications                                 43\n",
      "host_has_profile_pic                               43\n",
      "host_identity_verified                             43\n",
      "neighbourhood                                   10131\n",
      "neighbourhood_cleansed                             43\n",
      "neighbourhood_group_cleansed                       43\n",
      "latitude                                           43\n",
      "longitude                                          43\n",
      "property_type                                      43\n",
      "room_type                                          43\n",
      "accommodates                                       43\n",
      "bathrooms                                       25740\n",
      "bathrooms_text                                     82\n",
      "bedrooms                                         2616\n",
      "beds                                              572\n",
      "amenities                                          43\n",
      "price                                              43\n",
      "minimum_nights                                     43\n",
      "maximum_nights                                     43\n",
      "minimum_minimum_nights                             47\n",
      "maximum_minimum_nights                             47\n",
      "minimum_maximum_nights                             47\n",
      "maximum_maximum_nights                             47\n",
      "minimum_nights_avg_ntm                             47\n",
      "maximum_nights_avg_ntm                             47\n",
      "calendar_updated                                25740\n",
      "has_availability                                   43\n",
      "availability_30                                    43\n",
      "availability_60                                    43\n",
      "availability_90                                    43\n",
      "availability_365                                   43\n",
      "calendar_last_scraped                              43\n",
      "number_of_reviews                                  43\n",
      "number_of_reviews_ltm                              43\n",
      "number_of_reviews_l30d                             43\n",
      "first_review                                     5192\n",
      "last_review                                      5192\n",
      "review_scores_rating                             5192\n",
      "review_scores_accuracy                           5461\n",
      "review_scores_cleanliness                        5452\n",
      "review_scores_checkin                            5465\n",
      "review_scores_communication                      5457\n",
      "review_scores_location                           5467\n",
      "review_scores_value                              5467\n",
      "license                                         25740\n",
      "instant_bookable                                   43\n",
      "calculated_host_listings_count                     43\n",
      "calculated_host_listings_count_entire_homes        43\n",
      "calculated_host_listings_count_private_rooms       43\n",
      "calculated_host_listings_count_shared_rooms        43\n",
      "reviews_per_month                                5192\n",
      "dtype: int64\n"
     ]
    }
   ],
   "source": [
    "# Find the sum of missing values for each feature\n",
    "missing_values=df.isnull().sum()\n",
    "# Set the maximum number of columns to be displayed\n",
    "pd.options.display.max_rows=100\n",
    "# Print the number of missing values for each feature\n",
    "print(missing_values)"
   ]
  },
  {
   "cell_type": "code",
   "execution_count": 138,
   "metadata": {},
   "outputs": [
    {
     "name": "stdout",
     "output_type": "stream",
     "text": [
      "Dropped columns:  ['neighborhood_overview', 'neighbourhood', 'bathrooms', 'calendar_updated', 'license']\n"
     ]
    }
   ],
   "source": [
    "df = df.drop(columns=[\"id\", \"listing_url\", \"scrape_id\",\"last_scraped\",\"source\",\"picture_url\",\"host_url\",\"host_thumbnail_url\",\"host_picture_url\",\"host_about\"], axis=1)\n",
    "df.dropna(subset=['name'], inplace=True)\n",
    "df.dropna(subset=['description'], inplace=True)\n",
    "\n",
    "# Find the sum of missing values for each feature\n",
    "missing_values = df.isnull().sum()\n",
    "\n",
    "# Calculate the percentage of missing values for each feature\n",
    "missing_values_percent = 100 * missing_values / len(df)\n",
    "\n",
    "# Drop columns with more than 35% missing values\n",
    "columns_to_drop = list(missing_values_percent[missing_values_percent > 35].index)\n",
    "df = df.drop(columns_to_drop, axis=1)\n",
    "\n",
    "# Print the list of dropped columns\n",
    "print(\"Dropped columns: \", columns_to_drop)\n",
    "\n",
    "#-----------------host_response_time-------------\n",
    "\n",
    "#Relacing the null values in plalce of \"few days or more\" as assumption\n",
    "df[\"host_response_time\"].fillna(\"a few days or more\", inplace=True)\n",
    "\n",
    "#-----------------host_response_rate-------------\n",
    "\n",
    "# convert host_response_rate column to string data type\n",
    "df[\"host_response_rate\"] = df[\"host_response_rate\"].astype(str)\n",
    "\n",
    "# remove % from host_response_rate column\n",
    "df[\"host_response_rate\"] = df[\"host_response_rate\"].str.replace(\"%\", \"\")\n",
    "\n",
    "# convert host_response_rate column to float data type\n",
    "df[\"host_response_rate\"] = df[\"host_response_rate\"].astype(float) / 100\n",
    "\n",
    "# impute missing values with mean imputation\n",
    "mean = df[\"host_response_rate\"].mean()\n",
    "df[\"host_response_rate\"].fillna(mean, inplace=True)\n",
    "\n",
    "\n",
    "#-----------------host_acceptance_rate-------------\n",
    "\n",
    "# convert host_response_rate column to string data type\n",
    "df[\"host_acceptance_rate\"] = df[\"host_acceptance_rate\"].astype(str)\n",
    "\n",
    "# remove % from host_response_rate column\n",
    "df[\"host_acceptance_rate\"] = df[\"host_acceptance_rate\"].str.replace(\"%\", \"\")\n",
    "\n",
    "# convert host_response_rate column to float data type\n",
    "df[\"host_acceptance_rate\"] = df[\"host_acceptance_rate\"].astype(float) / 100\n",
    "\n",
    "# impute missing values with mean imputation\n",
    "mean = df[\"host_acceptance_rate\"].mean()\n",
    "df[\"host_acceptance_rate\"].fillna(mean, inplace=True)\n",
    "\n",
    "#--------host_is_superhost---------------------\n",
    "\n",
    "# removing null values from host_is_superhost column as they dont contribute to the predictor\n",
    "df= df.dropna(subset=[\"host_is_superhost\"])\n",
    "\n",
    "#--------host_neighbourhood--------------------- \n",
    "\n",
    "# fill null values in host_neighbourhood column with \"Unknown\"\n",
    "df[\"host_neighbourhood\"] = df[\"host_neighbourhood\"].fillna(\"Unknown\")\n",
    "\n"
   ]
  },
  {
   "cell_type": "code",
   "execution_count": null,
   "metadata": {},
   "outputs": [],
   "source": []
  },
  {
   "cell_type": "code",
   "execution_count": 139,
   "metadata": {},
   "outputs": [
    {
     "name": "stderr",
     "output_type": "stream",
     "text": [
      "C:\\Users\\16174\\AppData\\Local\\Temp\\ipykernel_29088\\486101167.py:4: FutureWarning: The default value of regex will change from True to False in a future version. In addition, single character regular expressions will *not* be treated as literal strings when regex=True.\n",
      "  df['price'] = df['price'].str.replace('$', '')\n"
     ]
    }
   ],
   "source": [
    "#--------Price--------------------- \n",
    "\n",
    "df['price'] = df['price'].str.replace(',', '')\n",
    "df['price'] = df['price'].str.replace('$', '')"
   ]
  },
  {
   "cell_type": "code",
   "execution_count": 140,
   "metadata": {},
   "outputs": [],
   "source": [
    "# impute missing values with mean imputation\n",
    "mean = df[\"bedrooms\"].mean()\n",
    "df[\"bedrooms\"].fillna(mean, inplace=True)\n",
    "df['bedrooms'] = df['bedrooms'].round().astype(int)\n",
    "\n",
    "# impute missing values with mean imputation\n",
    "mean = df[\"beds\"].mean()\n",
    "df[\"beds\"].fillna(mean, inplace=True)\n",
    "\n",
    "#--------Review Ratings--------------------- \n",
    "\n",
    "df['review_scores_rating'] = df['review_scores_rating'].fillna(df['review_scores_rating'].mean())\n",
    "\n",
    "df['review_scores_accuracy'] = df['review_scores_accuracy'].fillna(df['review_scores_accuracy'].mean())\n",
    "\n",
    "df['review_scores_cleanliness'] = df['review_scores_cleanliness'].fillna(df['review_scores_cleanliness'].mean())\n",
    "\n",
    "df['review_scores_communication'] = df['review_scores_communication'].fillna(df['review_scores_communication'].mean())\n",
    "\n",
    "df['review_scores_checkin'] = df['review_scores_checkin'].fillna(df['review_scores_checkin'].mean())\n",
    "\n",
    "df['review_scores_location'] = df['review_scores_location'].fillna(df['review_scores_location'].mean())"
   ]
  },
  {
   "cell_type": "code",
   "execution_count": 141,
   "metadata": {},
   "outputs": [
    {
     "name": "stdout",
     "output_type": "stream",
     "text": [
      "[1 2 3 4 5 6 7 8 9]\n",
      "[ 1.          2.          4.          6.          5.          3.\n",
      "  1.59425371 10.          8.         12.          7.          9.\n",
      " 11.         13.         14.         16.        ]\n",
      "['1 bath' '1 shared bath' '1.5 baths' nan '1 private bath' '2 baths'\n",
      " '2.5 baths' '3 baths' '1.5 shared baths' '2 shared baths' 'Half-bath'\n",
      " '0 baths' '0 shared baths' 'Shared half-bath' 'Private half-bath'\n",
      " '5.5 baths' '4.5 baths' '2.5 shared baths' '3.5 baths' '5 baths'\n",
      " '4 baths' '3 shared baths' '4 shared baths' '4.5 shared baths' '6 baths'\n",
      " '7 baths' '6 shared baths']\n",
      "['1 bath' '1 shared bath' '1.5 baths' nan '1 private bath' '2 baths'\n",
      " '2.5 baths' '3 baths' '1.5 shared baths' '2 shared baths' 'Half-bath'\n",
      " '0 baths' '0 shared baths' 'Shared half-bath' 'Private half-bath'\n",
      " '5.5 baths' '4.5 baths' '2.5 shared baths' '3.5 baths' '5 baths'\n",
      " '4 baths' '3 shared baths' '4 shared baths' '4.5 shared baths' '6 baths'\n",
      " '7 baths' '6 shared baths']\n"
     ]
    }
   ],
   "source": [
    "print(df[\"bedrooms\"].unique())\n",
    "print(df[\"beds\"].unique())\n",
    "print(df[\"bathrooms_text\"].unique())\n",
    "print(df[\"bathrooms_text\"].unique())"
   ]
  },
  {
   "cell_type": "code",
   "execution_count": 142,
   "metadata": {},
   "outputs": [],
   "source": [
    "# impute missing values with mean imputation\n",
    "mean = df[\"beds\"].mean()\n",
    "df[\"beds\"].fillna(mean, inplace=True)\n"
   ]
  },
  {
   "cell_type": "code",
   "execution_count": 143,
   "metadata": {},
   "outputs": [],
   "source": [
    "#use bathrom_text mean\n",
    "#dropping nulls in bathroom_text\n",
    "df.dropna(subset=['bathrooms_text'], inplace=True)"
   ]
  },
  {
   "cell_type": "code",
   "execution_count": 144,
   "metadata": {},
   "outputs": [],
   "source": [
    "bathroom_mapping = {\n",
    "    '0 baths': 0.0,\n",
    "    '0 shared baths': 0.0,\n",
    "    '1 bath': 1.0,\n",
    "    '1 shared bath': 1.0,\n",
    "    '1 private bath': 1.0,\n",
    "    '1.5 baths': 1.5,\n",
    "    '1.5 shared baths': 1.5,\n",
    "    '2 baths': 2.0,\n",
    "    '2 shared baths': 2.0,\n",
    "    '2.5 baths': 2.5,\n",
    "    '2.5 shared baths': 2.5,\n",
    "    '3 baths': 3.0,\n",
    "    '3 shared baths': 3.0,\n",
    "    '3.5 baths': 3.5,\n",
    "    '4 baths': 4.0,\n",
    "    '4.5 baths': 4.5,\n",
    "    '4 shared baths': 4.0,\n",
    "    '4.5 shared baths': 4.5,\n",
    "    '5 baths': 5.0,\n",
    "    '5.5 baths': 5.5,\n",
    "    '6 baths': 6.0,\n",
    "    '6 shared baths': 6.0,\n",
    "    '7 baths': 7.0,\n",
    "    'Half-bath': 0.5,\n",
    "    'Shared half-bath': 0.5,\n",
    "    'Private half-bath': 0.5\n",
    "}\n",
    "\n",
    "df[\"bathrooms_text\"] = df[\"bathrooms_text\"].map(bathroom_mapping)\n"
   ]
  },
  {
   "cell_type": "code",
   "execution_count": 145,
   "metadata": {},
   "outputs": [
    {
     "name": "stdout",
     "output_type": "stream",
     "text": [
      "[1.  1.5 2.  2.5 3.  0.5 0.  5.5 4.5 3.5 5.  4.  6.  7. ]\n",
      "[1.  1.5 2.  2.5 3.  0.5 0.  5.5 4.5 3.5 5.  4.  6.  7. ]\n"
     ]
    }
   ],
   "source": [
    "print(df[\"bathrooms_text\"].unique())\n",
    "print(df[\"bathrooms_text\"].unique())"
   ]
  },
  {
   "cell_type": "code",
   "execution_count": 146,
   "metadata": {},
   "outputs": [],
   "source": [
    "import numpy as np\n",
    "import pandas as pd\n",
    "# Convert 'first_review' column to datetime format\n",
    "df['first_review'] = pd.to_datetime(df['first_review'], format='%d-%m-%Y')\n",
    "\n",
    "# Get date range of existing values in column\n",
    "date_range = pd.date_range(start=df['first_review'].min(), end=df['first_review'].max())\n",
    "\n",
    "# Fill missing values with random date within date range\n",
    "df['first_review'] = df['first_review'].fillna(pd.Series(np.random.choice(date_range, size=len(df.index[ df['first_review'].isnull() ]))))\n"
   ]
  },
  {
   "cell_type": "code",
   "execution_count": 147,
   "metadata": {},
   "outputs": [
    {
     "name": "stdout",
     "output_type": "stream",
     "text": [
      "['2009-11-21T00:00:00.000000000' '2009-09-07T00:00:00.000000000'\n",
      " '2014-01-02T00:00:00.000000000' ... '2022-11-19T00:00:00.000000000'\n",
      " '2022-12-01T00:00:00.000000000' '2022-11-29T00:00:00.000000000']\n"
     ]
    }
   ],
   "source": [
    "print(df[\"first_review\"].unique())"
   ]
  },
  {
   "cell_type": "code",
   "execution_count": 148,
   "metadata": {},
   "outputs": [],
   "source": [
    "import numpy as np\n",
    "import pandas as pd\n",
    "# Convert 'first_review' column to datetime format\n",
    "df['last_review'] = pd.to_datetime(df['last_review'], format='%d-%m-%Y')\n",
    "\n",
    "# Get date range of existing values in column\n",
    "date_range = pd.date_range(start=df['last_review'].min(), end=df['last_review'].max())\n",
    "\n",
    "# Fill missing values with random date within date range\n",
    "df['last_review'] = df['last_review'].fillna(pd.Series(np.random.choice(date_range, size=len(df.index[ df['last_review'].isnull() ]))))\n"
   ]
  },
  {
   "cell_type": "code",
   "execution_count": 149,
   "metadata": {},
   "outputs": [],
   "source": [
    "df['review_scores_value'] = df['review_scores_value'].fillna(df['review_scores_value'].mean())\n",
    "\n",
    "df['review_scores_accuracy'] = df['review_scores_accuracy'].fillna(df['review_scores_accuracy'].mean())\n",
    "\n",
    "df['reviews_per_month'] = df['reviews_per_month'].fillna(df['reviews_per_month'].mean())\n"
   ]
  },
  {
   "cell_type": "code",
   "execution_count": 150,
   "metadata": {},
   "outputs": [],
   "source": [
    "\n",
    "\n",
    "email = []\n",
    "phone = []\n",
    "work_email = []\n",
    "\n",
    "for y in df['host_verifications']:\n",
    "  if 'email' in y:\n",
    "    email.append(1)\n",
    "  else:\n",
    "    email.append(0)\n",
    "\n",
    "  if 'phone' in y:\n",
    "    phone.append(1)\n",
    "  else:\n",
    "    phone.append(0)\n",
    "\n",
    "  if 'work_email' in y:\n",
    "    work_email.append(1)\n",
    "  else:\n",
    "    work_email.append(0)\n",
    "\n",
    "\n",
    "df['host_verifications_email'] = email\n",
    "df['host_verifications_phone'] = phone\n",
    "df['host_verifications_work_email'] = work_email\n",
    "\n",
    "import re\n",
    "\n",
    "df['host_verifications'] = df['host_verifications'].str.lower()\n",
    "\n",
    "df[\"host_verifications\"] = df[\"host_verifications\"].apply(lambda x: re.findall(r'\\w+', x))\n",
    "\n",
    "df['host_verifications'] = df['host_verifications'].astype(str)\n",
    "df['host_verifications'] = df['host_verifications'].str.lower().str.split(',')\n",
    "\n",
    "\n",
    "# convert the host_since column to datetime format\n",
    "df['host_since'] = pd.to_datetime(df['host_since'])\n",
    "\n",
    "# extract the year from the host_since column and store it in the same column\n",
    "df['host_since'] = df['host_since'].dt.year\n",
    "\n"
   ]
  },
  {
   "cell_type": "code",
   "execution_count": 151,
   "metadata": {},
   "outputs": [
    {
     "name": "stdout",
     "output_type": "stream",
     "text": [
      "[1 0]\n",
      "[1 0]\n",
      "[1 0]\n",
      "[2008 2009 2010 2011 2012 2016 2013 2014 2018 2017 2015 2019 2020 2022\n",
      " 2021]\n"
     ]
    }
   ],
   "source": [
    "print(df[\"host_verifications_email\"].unique())\n",
    "print(df[\"host_verifications_work_email\"].unique())\n",
    "print(df[\"host_verifications_work_email\"].unique())\n",
    "print(df[\"host_since\"].unique())"
   ]
  },
  {
   "cell_type": "code",
   "execution_count": 152,
   "metadata": {},
   "outputs": [
    {
     "data": {
      "text/plain": [
       "0       2009-11-21\n",
       "1       2009-09-07\n",
       "2       2014-01-02\n",
       "4       2009-05-25\n",
       "5       2009-05-06\n",
       "           ...    \n",
       "25734          NaT\n",
       "25735          NaT\n",
       "25736          NaT\n",
       "25737          NaT\n",
       "25739          NaT\n",
       "Name: first_review, Length: 25284, dtype: datetime64[ns]"
      ]
     },
     "execution_count": 152,
     "metadata": {},
     "output_type": "execute_result"
    }
   ],
   "source": [
    "df['first_review']"
   ]
  },
  {
   "cell_type": "code",
   "execution_count": 153,
   "metadata": {},
   "outputs": [
    {
     "name": "stdout",
     "output_type": "stream",
     "text": [
      "name                                               0\n",
      "description                                        0\n",
      "host_id                                            0\n",
      "host_name                                          0\n",
      "host_since                                         0\n",
      "host_location                                      0\n",
      "host_response_time                                 0\n",
      "host_response_rate                                 0\n",
      "host_acceptance_rate                               0\n",
      "host_is_superhost                                  0\n",
      "host_neighbourhood                                 0\n",
      "host_listings_count                                0\n",
      "host_total_listings_count                          0\n",
      "host_verifications                                 0\n",
      "host_has_profile_pic                               0\n",
      "host_identity_verified                             0\n",
      "neighbourhood_cleansed                             0\n",
      "neighbourhood_group_cleansed                       0\n",
      "latitude                                           0\n",
      "longitude                                          0\n",
      "property_type                                      0\n",
      "room_type                                          0\n",
      "accommodates                                       0\n",
      "bathrooms_text                                     0\n",
      "bedrooms                                           0\n",
      "beds                                               0\n",
      "amenities                                          0\n",
      "price                                              0\n",
      "minimum_nights                                     0\n",
      "maximum_nights                                     0\n",
      "minimum_minimum_nights                             0\n",
      "maximum_minimum_nights                             0\n",
      "minimum_maximum_nights                             0\n",
      "maximum_maximum_nights                             0\n",
      "minimum_nights_avg_ntm                             0\n",
      "maximum_nights_avg_ntm                             0\n",
      "has_availability                                   0\n",
      "availability_30                                    0\n",
      "availability_60                                    0\n",
      "availability_90                                    0\n",
      "availability_365                                   0\n",
      "calendar_last_scraped                              0\n",
      "number_of_reviews                                  0\n",
      "number_of_reviews_ltm                              0\n",
      "number_of_reviews_l30d                             0\n",
      "first_review                                    4360\n",
      "last_review                                     4360\n",
      "review_scores_rating                               0\n",
      "review_scores_accuracy                             0\n",
      "review_scores_cleanliness                          0\n",
      "review_scores_checkin                              0\n",
      "review_scores_communication                        0\n",
      "review_scores_location                             0\n",
      "review_scores_value                                0\n",
      "instant_bookable                                   0\n",
      "calculated_host_listings_count                     0\n",
      "calculated_host_listings_count_entire_homes        0\n",
      "calculated_host_listings_count_private_rooms       0\n",
      "calculated_host_listings_count_shared_rooms        0\n",
      "reviews_per_month                                  0\n",
      "host_verifications_email                           0\n",
      "host_verifications_phone                           0\n",
      "host_verifications_work_email                      0\n",
      "dtype: int64\n"
     ]
    }
   ],
   "source": [
    "# Find the sum of missing values for each feature\n",
    "missing_values=df.isnull().sum()\n",
    "# Set the maximum number of columns to be displayed\n",
    "pd.options.display.max_rows=100\n",
    "# Print the number of missing values for each feature\n",
    "print(missing_values)"
   ]
  },
  {
   "cell_type": "markdown",
   "metadata": {
    "jp-MarkdownHeadingCollapsed": true,
    "tags": []
   },
   "source": [
    "# 4. Exploratory data analysis"
   ]
  },
  {
   "cell_type": "code",
   "execution_count": 154,
   "metadata": {},
   "outputs": [],
   "source": [
    "# select the columns you want to copy\n",
    "columns_to_copy = ['host_since', 'host_response_time', 'host_is_superhost','host_verifications_email','host_verifications_work_email','host_identity_verified',\n",
    "                   'host_has_profile_pic','neighbourhood_group_cleansed',       \n",
    "             'neighbourhood_cleansed','property_type', 'room_type' ,'accommodates','bathrooms_text','bedrooms','beds','has_availability','review_scores_rating','review_scores_accuracy',\n",
    "             'review_scores_cleanliness','review_scores_checkin','review_scores_communication','review_scores_location','review_scores_value','instant_bookable']\n",
    "                                                                               \n",
    "\n",
    "# create a new dataframe using the selected columns\n",
    "dfc = df[columns_to_copy]\n"
   ]
  },
  {
   "cell_type": "code",
   "execution_count": 155,
   "metadata": {},
   "outputs": [
    {
     "data": {
      "text/html": [
       "<div>\n",
       "<style scoped>\n",
       "    .dataframe tbody tr th:only-of-type {\n",
       "        vertical-align: middle;\n",
       "    }\n",
       "\n",
       "    .dataframe tbody tr th {\n",
       "        vertical-align: top;\n",
       "    }\n",
       "\n",
       "    .dataframe thead th {\n",
       "        text-align: right;\n",
       "    }\n",
       "</style>\n",
       "<table border=\"1\" class=\"dataframe\">\n",
       "  <thead>\n",
       "    <tr style=\"text-align: right;\">\n",
       "      <th></th>\n",
       "      <th>host_since</th>\n",
       "      <th>host_response_time</th>\n",
       "      <th>host_is_superhost</th>\n",
       "      <th>host_verifications_email</th>\n",
       "      <th>host_verifications_work_email</th>\n",
       "      <th>host_identity_verified</th>\n",
       "      <th>host_has_profile_pic</th>\n",
       "      <th>neighbourhood_group_cleansed</th>\n",
       "      <th>neighbourhood_cleansed</th>\n",
       "      <th>property_type</th>\n",
       "      <th>...</th>\n",
       "      <th>beds</th>\n",
       "      <th>has_availability</th>\n",
       "      <th>review_scores_rating</th>\n",
       "      <th>review_scores_accuracy</th>\n",
       "      <th>review_scores_cleanliness</th>\n",
       "      <th>review_scores_checkin</th>\n",
       "      <th>review_scores_communication</th>\n",
       "      <th>review_scores_location</th>\n",
       "      <th>review_scores_value</th>\n",
       "      <th>instant_bookable</th>\n",
       "    </tr>\n",
       "  </thead>\n",
       "  <tbody>\n",
       "    <tr>\n",
       "      <th>0</th>\n",
       "      <td>2008</td>\n",
       "      <td>within a day</td>\n",
       "      <td>f</td>\n",
       "      <td>1</td>\n",
       "      <td>1</td>\n",
       "      <td>t</td>\n",
       "      <td>t</td>\n",
       "      <td>Manhattan</td>\n",
       "      <td>Midtown</td>\n",
       "      <td>Entire rental unit</td>\n",
       "      <td>...</td>\n",
       "      <td>1.0</td>\n",
       "      <td>t</td>\n",
       "      <td>4.680000</td>\n",
       "      <td>4.730000</td>\n",
       "      <td>4.630000</td>\n",
       "      <td>4.770000</td>\n",
       "      <td>4.800000</td>\n",
       "      <td>4.810000</td>\n",
       "      <td>4.400000</td>\n",
       "      <td>f</td>\n",
       "    </tr>\n",
       "    <tr>\n",
       "      <th>1</th>\n",
       "      <td>2009</td>\n",
       "      <td>a few days or more</td>\n",
       "      <td>f</td>\n",
       "      <td>1</td>\n",
       "      <td>0</td>\n",
       "      <td>t</td>\n",
       "      <td>t</td>\n",
       "      <td>Manhattan</td>\n",
       "      <td>Upper West Side</td>\n",
       "      <td>Private room in rental unit</td>\n",
       "      <td>...</td>\n",
       "      <td>1.0</td>\n",
       "      <td>t</td>\n",
       "      <td>4.910000</td>\n",
       "      <td>4.830000</td>\n",
       "      <td>4.820000</td>\n",
       "      <td>4.970000</td>\n",
       "      <td>4.950000</td>\n",
       "      <td>4.940000</td>\n",
       "      <td>4.920000</td>\n",
       "      <td>f</td>\n",
       "    </tr>\n",
       "    <tr>\n",
       "      <th>2</th>\n",
       "      <td>2009</td>\n",
       "      <td>a few days or more</td>\n",
       "      <td>f</td>\n",
       "      <td>1</td>\n",
       "      <td>0</td>\n",
       "      <td>t</td>\n",
       "      <td>t</td>\n",
       "      <td>Brooklyn</td>\n",
       "      <td>Sunset Park</td>\n",
       "      <td>Entire rental unit</td>\n",
       "      <td>...</td>\n",
       "      <td>2.0</td>\n",
       "      <td>t</td>\n",
       "      <td>5.000000</td>\n",
       "      <td>5.000000</td>\n",
       "      <td>5.000000</td>\n",
       "      <td>5.000000</td>\n",
       "      <td>5.000000</td>\n",
       "      <td>4.670000</td>\n",
       "      <td>5.000000</td>\n",
       "      <td>f</td>\n",
       "    </tr>\n",
       "    <tr>\n",
       "      <th>4</th>\n",
       "      <td>2009</td>\n",
       "      <td>within an hour</td>\n",
       "      <td>f</td>\n",
       "      <td>1</td>\n",
       "      <td>0</td>\n",
       "      <td>t</td>\n",
       "      <td>t</td>\n",
       "      <td>Brooklyn</td>\n",
       "      <td>Williamsburg</td>\n",
       "      <td>Entire rental unit</td>\n",
       "      <td>...</td>\n",
       "      <td>1.0</td>\n",
       "      <td>t</td>\n",
       "      <td>4.570000</td>\n",
       "      <td>4.590000</td>\n",
       "      <td>4.860000</td>\n",
       "      <td>4.840000</td>\n",
       "      <td>4.800000</td>\n",
       "      <td>4.670000</td>\n",
       "      <td>4.560000</td>\n",
       "      <td>f</td>\n",
       "    </tr>\n",
       "    <tr>\n",
       "      <th>5</th>\n",
       "      <td>2009</td>\n",
       "      <td>within a few hours</td>\n",
       "      <td>f</td>\n",
       "      <td>1</td>\n",
       "      <td>0</td>\n",
       "      <td>f</td>\n",
       "      <td>t</td>\n",
       "      <td>Manhattan</td>\n",
       "      <td>Midtown</td>\n",
       "      <td>Private room in rental unit</td>\n",
       "      <td>...</td>\n",
       "      <td>1.0</td>\n",
       "      <td>t</td>\n",
       "      <td>4.230000</td>\n",
       "      <td>4.240000</td>\n",
       "      <td>3.750000</td>\n",
       "      <td>4.650000</td>\n",
       "      <td>4.450000</td>\n",
       "      <td>4.880000</td>\n",
       "      <td>4.390000</td>\n",
       "      <td>f</td>\n",
       "    </tr>\n",
       "    <tr>\n",
       "      <th>...</th>\n",
       "      <td>...</td>\n",
       "      <td>...</td>\n",
       "      <td>...</td>\n",
       "      <td>...</td>\n",
       "      <td>...</td>\n",
       "      <td>...</td>\n",
       "      <td>...</td>\n",
       "      <td>...</td>\n",
       "      <td>...</td>\n",
       "      <td>...</td>\n",
       "      <td>...</td>\n",
       "      <td>...</td>\n",
       "      <td>...</td>\n",
       "      <td>...</td>\n",
       "      <td>...</td>\n",
       "      <td>...</td>\n",
       "      <td>...</td>\n",
       "      <td>...</td>\n",
       "      <td>...</td>\n",
       "      <td>...</td>\n",
       "      <td>...</td>\n",
       "    </tr>\n",
       "    <tr>\n",
       "      <th>25734</th>\n",
       "      <td>2020</td>\n",
       "      <td>within an hour</td>\n",
       "      <td>f</td>\n",
       "      <td>1</td>\n",
       "      <td>0</td>\n",
       "      <td>t</td>\n",
       "      <td>t</td>\n",
       "      <td>Brooklyn</td>\n",
       "      <td>Bushwick</td>\n",
       "      <td>Entire rental unit</td>\n",
       "      <td>...</td>\n",
       "      <td>1.0</td>\n",
       "      <td>t</td>\n",
       "      <td>4.669564</td>\n",
       "      <td>4.779732</td>\n",
       "      <td>4.655536</td>\n",
       "      <td>4.840654</td>\n",
       "      <td>4.840705</td>\n",
       "      <td>4.766109</td>\n",
       "      <td>4.672977</td>\n",
       "      <td>t</td>\n",
       "    </tr>\n",
       "    <tr>\n",
       "      <th>25735</th>\n",
       "      <td>2015</td>\n",
       "      <td>within an hour</td>\n",
       "      <td>f</td>\n",
       "      <td>0</td>\n",
       "      <td>0</td>\n",
       "      <td>f</td>\n",
       "      <td>t</td>\n",
       "      <td>Queens</td>\n",
       "      <td>St. Albans</td>\n",
       "      <td>Entire rental unit</td>\n",
       "      <td>...</td>\n",
       "      <td>3.0</td>\n",
       "      <td>t</td>\n",
       "      <td>4.669564</td>\n",
       "      <td>4.779732</td>\n",
       "      <td>4.655536</td>\n",
       "      <td>4.840654</td>\n",
       "      <td>4.840705</td>\n",
       "      <td>4.766109</td>\n",
       "      <td>4.672977</td>\n",
       "      <td>t</td>\n",
       "    </tr>\n",
       "    <tr>\n",
       "      <th>25736</th>\n",
       "      <td>2022</td>\n",
       "      <td>within a few hours</td>\n",
       "      <td>f</td>\n",
       "      <td>1</td>\n",
       "      <td>0</td>\n",
       "      <td>t</td>\n",
       "      <td>t</td>\n",
       "      <td>Brooklyn</td>\n",
       "      <td>Bergen Beach</td>\n",
       "      <td>Entire home</td>\n",
       "      <td>...</td>\n",
       "      <td>5.0</td>\n",
       "      <td>t</td>\n",
       "      <td>4.669564</td>\n",
       "      <td>4.779732</td>\n",
       "      <td>4.655536</td>\n",
       "      <td>4.840654</td>\n",
       "      <td>4.840705</td>\n",
       "      <td>4.766109</td>\n",
       "      <td>4.672977</td>\n",
       "      <td>t</td>\n",
       "    </tr>\n",
       "    <tr>\n",
       "      <th>25737</th>\n",
       "      <td>2021</td>\n",
       "      <td>within an hour</td>\n",
       "      <td>f</td>\n",
       "      <td>1</td>\n",
       "      <td>0</td>\n",
       "      <td>t</td>\n",
       "      <td>t</td>\n",
       "      <td>Queens</td>\n",
       "      <td>Maspeth</td>\n",
       "      <td>Private room in rental unit</td>\n",
       "      <td>...</td>\n",
       "      <td>1.0</td>\n",
       "      <td>t</td>\n",
       "      <td>4.669564</td>\n",
       "      <td>4.779732</td>\n",
       "      <td>4.655536</td>\n",
       "      <td>4.840654</td>\n",
       "      <td>4.840705</td>\n",
       "      <td>4.766109</td>\n",
       "      <td>4.672977</td>\n",
       "      <td>t</td>\n",
       "    </tr>\n",
       "    <tr>\n",
       "      <th>25739</th>\n",
       "      <td>2012</td>\n",
       "      <td>within an hour</td>\n",
       "      <td>f</td>\n",
       "      <td>1</td>\n",
       "      <td>1</td>\n",
       "      <td>t</td>\n",
       "      <td>t</td>\n",
       "      <td>Manhattan</td>\n",
       "      <td>Morningside Heights</td>\n",
       "      <td>Private room in rental unit</td>\n",
       "      <td>...</td>\n",
       "      <td>1.0</td>\n",
       "      <td>t</td>\n",
       "      <td>4.669564</td>\n",
       "      <td>4.779732</td>\n",
       "      <td>4.655536</td>\n",
       "      <td>4.840654</td>\n",
       "      <td>4.840705</td>\n",
       "      <td>4.766109</td>\n",
       "      <td>4.672977</td>\n",
       "      <td>t</td>\n",
       "    </tr>\n",
       "  </tbody>\n",
       "</table>\n",
       "<p>25284 rows × 24 columns</p>\n",
       "</div>"
      ],
      "text/plain": [
       "       host_since  host_response_time host_is_superhost  \\\n",
       "0            2008        within a day                 f   \n",
       "1            2009  a few days or more                 f   \n",
       "2            2009  a few days or more                 f   \n",
       "4            2009      within an hour                 f   \n",
       "5            2009  within a few hours                 f   \n",
       "...           ...                 ...               ...   \n",
       "25734        2020      within an hour                 f   \n",
       "25735        2015      within an hour                 f   \n",
       "25736        2022  within a few hours                 f   \n",
       "25737        2021      within an hour                 f   \n",
       "25739        2012      within an hour                 f   \n",
       "\n",
       "       host_verifications_email  host_verifications_work_email  \\\n",
       "0                             1                              1   \n",
       "1                             1                              0   \n",
       "2                             1                              0   \n",
       "4                             1                              0   \n",
       "5                             1                              0   \n",
       "...                         ...                            ...   \n",
       "25734                         1                              0   \n",
       "25735                         0                              0   \n",
       "25736                         1                              0   \n",
       "25737                         1                              0   \n",
       "25739                         1                              1   \n",
       "\n",
       "      host_identity_verified host_has_profile_pic  \\\n",
       "0                          t                    t   \n",
       "1                          t                    t   \n",
       "2                          t                    t   \n",
       "4                          t                    t   \n",
       "5                          f                    t   \n",
       "...                      ...                  ...   \n",
       "25734                      t                    t   \n",
       "25735                      f                    t   \n",
       "25736                      t                    t   \n",
       "25737                      t                    t   \n",
       "25739                      t                    t   \n",
       "\n",
       "      neighbourhood_group_cleansed neighbourhood_cleansed  \\\n",
       "0                        Manhattan                Midtown   \n",
       "1                        Manhattan        Upper West Side   \n",
       "2                         Brooklyn            Sunset Park   \n",
       "4                         Brooklyn           Williamsburg   \n",
       "5                        Manhattan                Midtown   \n",
       "...                            ...                    ...   \n",
       "25734                     Brooklyn               Bushwick   \n",
       "25735                       Queens             St. Albans   \n",
       "25736                     Brooklyn           Bergen Beach   \n",
       "25737                       Queens                Maspeth   \n",
       "25739                    Manhattan    Morningside Heights   \n",
       "\n",
       "                     property_type  ... beds  has_availability  \\\n",
       "0               Entire rental unit  ...  1.0                 t   \n",
       "1      Private room in rental unit  ...  1.0                 t   \n",
       "2               Entire rental unit  ...  2.0                 t   \n",
       "4               Entire rental unit  ...  1.0                 t   \n",
       "5      Private room in rental unit  ...  1.0                 t   \n",
       "...                            ...  ...  ...               ...   \n",
       "25734           Entire rental unit  ...  1.0                 t   \n",
       "25735           Entire rental unit  ...  3.0                 t   \n",
       "25736                  Entire home  ...  5.0                 t   \n",
       "25737  Private room in rental unit  ...  1.0                 t   \n",
       "25739  Private room in rental unit  ...  1.0                 t   \n",
       "\n",
       "       review_scores_rating  review_scores_accuracy  \\\n",
       "0                  4.680000                4.730000   \n",
       "1                  4.910000                4.830000   \n",
       "2                  5.000000                5.000000   \n",
       "4                  4.570000                4.590000   \n",
       "5                  4.230000                4.240000   \n",
       "...                     ...                     ...   \n",
       "25734              4.669564                4.779732   \n",
       "25735              4.669564                4.779732   \n",
       "25736              4.669564                4.779732   \n",
       "25737              4.669564                4.779732   \n",
       "25739              4.669564                4.779732   \n",
       "\n",
       "       review_scores_cleanliness review_scores_checkin  \\\n",
       "0                       4.630000              4.770000   \n",
       "1                       4.820000              4.970000   \n",
       "2                       5.000000              5.000000   \n",
       "4                       4.860000              4.840000   \n",
       "5                       3.750000              4.650000   \n",
       "...                          ...                   ...   \n",
       "25734                   4.655536              4.840654   \n",
       "25735                   4.655536              4.840654   \n",
       "25736                   4.655536              4.840654   \n",
       "25737                   4.655536              4.840654   \n",
       "25739                   4.655536              4.840654   \n",
       "\n",
       "       review_scores_communication  review_scores_location  \\\n",
       "0                         4.800000                4.810000   \n",
       "1                         4.950000                4.940000   \n",
       "2                         5.000000                4.670000   \n",
       "4                         4.800000                4.670000   \n",
       "5                         4.450000                4.880000   \n",
       "...                            ...                     ...   \n",
       "25734                     4.840705                4.766109   \n",
       "25735                     4.840705                4.766109   \n",
       "25736                     4.840705                4.766109   \n",
       "25737                     4.840705                4.766109   \n",
       "25739                     4.840705                4.766109   \n",
       "\n",
       "       review_scores_value  instant_bookable  \n",
       "0                 4.400000                 f  \n",
       "1                 4.920000                 f  \n",
       "2                 5.000000                 f  \n",
       "4                 4.560000                 f  \n",
       "5                 4.390000                 f  \n",
       "...                    ...               ...  \n",
       "25734             4.672977                 t  \n",
       "25735             4.672977                 t  \n",
       "25736             4.672977                 t  \n",
       "25737             4.672977                 t  \n",
       "25739             4.672977                 t  \n",
       "\n",
       "[25284 rows x 24 columns]"
      ]
     },
     "execution_count": 155,
     "metadata": {},
     "output_type": "execute_result"
    }
   ],
   "source": [
    "dfc"
   ]
  },
  {
   "cell_type": "code",
   "execution_count": 156,
   "metadata": {},
   "outputs": [
    {
     "name": "stdout",
     "output_type": "stream",
     "text": [
      "host_since                       0\n",
      "host_response_time               0\n",
      "host_is_superhost                0\n",
      "host_verifications_email         0\n",
      "host_verifications_work_email    0\n",
      "host_identity_verified           0\n",
      "host_has_profile_pic             0\n",
      "neighbourhood_group_cleansed     0\n",
      "neighbourhood_cleansed           0\n",
      "property_type                    0\n",
      "room_type                        0\n",
      "accommodates                     0\n",
      "bathrooms_text                   0\n",
      "bedrooms                         0\n",
      "beds                             0\n",
      "has_availability                 0\n",
      "review_scores_rating             0\n",
      "review_scores_accuracy           0\n",
      "review_scores_cleanliness        0\n",
      "review_scores_checkin            0\n",
      "review_scores_communication      0\n",
      "review_scores_location           0\n",
      "review_scores_value              0\n",
      "instant_bookable                 0\n",
      "dtype: int64\n"
     ]
    }
   ],
   "source": [
    "# Find the sum of missing values for each feature\n",
    "missing_values=dfc.isnull().sum()\n",
    "# Set the maximum number of columns to be displayed\n",
    "pd.options.display.max_rows=100\n",
    "# Print the number of missing values for each feature\n",
    "print(missing_values)"
   ]
  },
  {
   "cell_type": "code",
   "execution_count": 157,
   "metadata": {},
   "outputs": [
    {
     "name": "stdout",
     "output_type": "stream",
     "text": [
      "['within a day' 'a few days or more' 'within an hour' 'within a few hours']\n"
     ]
    }
   ],
   "source": [
    "print(dfc[\"host_response_time\"].unique())"
   ]
  },
  {
   "cell_type": "code",
   "execution_count": 158,
   "metadata": {},
   "outputs": [
    {
     "data": {
      "text/plain": [
       "0        175.00\n",
       "1         75.00\n",
       "2        275.00\n",
       "4         68.00\n",
       "5         68.00\n",
       "          ...  \n",
       "25734    103.00\n",
       "25735    163.00\n",
       "25736    686.00\n",
       "25737    140.00\n",
       "25739     70.00\n",
       "Name: price, Length: 25284, dtype: object"
      ]
     },
     "execution_count": 158,
     "metadata": {},
     "output_type": "execute_result"
    }
   ],
   "source": [
    "df[\"price\"]"
   ]
  },
  {
   "cell_type": "code",
   "execution_count": 182,
   "metadata": {},
   "outputs": [
    {
     "name": "stdout",
     "output_type": "stream",
     "text": [
      "   host_since  host_response_time  host_is_superhost  \\\n",
      "0      2008.0                 1.0                0.0   \n",
      "1      2009.0                 0.0                0.0   \n",
      "2      2009.0                 0.0                0.0   \n",
      "4      2009.0                 3.0                0.0   \n",
      "5      2009.0                 2.0                0.0   \n",
      "\n",
      "   host_verifications_email  host_verifications_work_email  \\\n",
      "0                       1.0                            1.0   \n",
      "1                       1.0                            0.0   \n",
      "2                       1.0                            0.0   \n",
      "4                       1.0                            0.0   \n",
      "5                       1.0                            0.0   \n",
      "\n",
      "   host_identity_verified  host_has_profile_pic  neighbourhood_group_cleansed  \\\n",
      "0                     1.0                   1.0                           2.0   \n",
      "1                     1.0                   1.0                           2.0   \n",
      "2                     1.0                   1.0                           1.0   \n",
      "4                     1.0                   1.0                           1.0   \n",
      "5                     0.0                   1.0                           2.0   \n",
      "\n",
      "   neighbourhood_cleansed  property_type  ...  beds  has_availability  \\\n",
      "0                   124.0           13.0  ...   1.0               1.0   \n",
      "1                   196.0           34.0  ...   1.0               1.0   \n",
      "2                   184.0           13.0  ...   2.0               1.0   \n",
      "4                   208.0           13.0  ...   1.0               1.0   \n",
      "5                   124.0           34.0  ...   1.0               1.0   \n",
      "\n",
      "   review_scores_rating  review_scores_accuracy  review_scores_cleanliness  \\\n",
      "0                  4.68                    4.73                       4.63   \n",
      "1                  4.91                    4.83                       4.82   \n",
      "2                  5.00                    5.00                       5.00   \n",
      "4                  4.57                    4.59                       4.86   \n",
      "5                  4.23                    4.24                       3.75   \n",
      "\n",
      "   review_scores_checkin  review_scores_communication  review_scores_location  \\\n",
      "0                   4.77                         4.80                    4.81   \n",
      "1                   4.97                         4.95                    4.94   \n",
      "2                   5.00                         5.00                    4.67   \n",
      "4                   4.84                         4.80                    4.67   \n",
      "5                   4.65                         4.45                    4.88   \n",
      "\n",
      "   review_scores_value  instant_bookable  \n",
      "0                 4.40               0.0  \n",
      "1                 4.92               0.0  \n",
      "2                 5.00               0.0  \n",
      "4                 4.56               0.0  \n",
      "5                 4.39               0.0  \n",
      "\n",
      "[5 rows x 24 columns]\n"
     ]
    }
   ],
   "source": [
    "#new \n",
    "from sklearn.preprocessing import LabelEncoder\n",
    "\n",
    "le = LabelEncoder()\n",
    "cat_cols = dfc.select_dtypes(include=['object']).columns.tolist()\n",
    "\n",
    "# Apply the LabelEncoder to each categorical column\n",
    "for col in cat_cols:\n",
    "    dfc.loc[:, col] = le.fit_transform(dfc[col].astype(str))\n",
    "    \n",
    "# Encode all categorical columns using .astype('category').cat.codes\n",
    "dfc[cat_cols] = dfc[cat_cols].astype('category').apply(lambda x: x.cat.codes)\n",
    "\n",
    "# Check the results\n",
    "print(dfc.head())\n"
   ]
  },
  {
   "cell_type": "code",
   "execution_count": 183,
   "metadata": {},
   "outputs": [],
   "source": [
    "dfc = dfc.astype(float)\n"
   ]
  },
  {
   "cell_type": "code",
   "execution_count": 184,
   "metadata": {},
   "outputs": [
    {
     "name": "stdout",
     "output_type": "stream",
     "text": [
      "host_since                       float64\n",
      "host_response_time               float64\n",
      "host_is_superhost                float64\n",
      "host_verifications_email         float64\n",
      "host_verifications_work_email    float64\n",
      "host_identity_verified           float64\n",
      "host_has_profile_pic             float64\n",
      "neighbourhood_group_cleansed     float64\n",
      "neighbourhood_cleansed           float64\n",
      "property_type                    float64\n",
      "room_type                        float64\n",
      "accommodates                     float64\n",
      "bathrooms_text                   float64\n",
      "bedrooms                         float64\n",
      "beds                             float64\n",
      "has_availability                 float64\n",
      "review_scores_rating             float64\n",
      "review_scores_accuracy           float64\n",
      "review_scores_cleanliness        float64\n",
      "review_scores_checkin            float64\n",
      "review_scores_communication      float64\n",
      "review_scores_location           float64\n",
      "review_scores_value              float64\n",
      "instant_bookable                 float64\n",
      "dtype: object\n"
     ]
    }
   ],
   "source": [
    "print(dfc.dtypes)\n"
   ]
  },
  {
   "cell_type": "code",
   "execution_count": null,
   "metadata": {},
   "outputs": [],
   "source": [
    "import seaborn as sns\n",
    "\n",
    "# Select a subset of columns to use for the pairplot (e.g. numerical columns)\n",
    "cols_to_use = ['host_since', 'host_response_time', 'host_is_superhost', 'host_verifications_email', 'host_verifications_email']\n",
    "\n",
    "# Create a pairplot using Seaborn\n",
    "sns.pairplot(dfc[cols_to_use])"
   ]
  },
  {
   "cell_type": "code",
   "execution_count": null,
   "metadata": {},
   "outputs": [],
   "source": [
    "for col in dfc.columns:\n",
    "    print(f\"Column: {col}\")\n",
    "    print(dfc[col].sample(5))\n",
    "    print(\"--------------------\")"
   ]
  },
  {
   "cell_type": "code",
   "execution_count": 185,
   "metadata": {},
   "outputs": [],
   "source": [
    "# Numerical values\n",
    "#select the columns you want to copy\n",
    "columns_to_copy = ['host_response_rate', 'host_acceptance_rate', 'host_listings_count','host_total_listings_count','latitude','longitude','minimum_nights','maximum_nights','minimum_minimum_nights',\n",
    "    'maximum_minimum_nights','minimum_maximum_nights','maximum_maximum_nights','minimum_nights_avg_ntm','maximum_nights_avg_ntm','availability_30','availability_60','availability_90','availability_365',\n",
    "    'number_of_reviews','number_of_reviews_ltm','number_of_reviews_l30d','calculated_host_listings_count','calculated_host_listings_count_entire_homes','calculated_host_listings_count_private_rooms',\n",
    "    'calculated_host_listings_count_shared_rooms','reviews_per_month','price']\n",
    "\n",
    "# create a new dataframe using the selected columns\n",
    "dfn = df[columns_to_copy]\n"
   ]
  },
  {
   "cell_type": "code",
   "execution_count": 186,
   "metadata": {},
   "outputs": [
    {
     "data": {
      "text/html": [
       "<div>\n",
       "<style scoped>\n",
       "    .dataframe tbody tr th:only-of-type {\n",
       "        vertical-align: middle;\n",
       "    }\n",
       "\n",
       "    .dataframe tbody tr th {\n",
       "        vertical-align: top;\n",
       "    }\n",
       "\n",
       "    .dataframe thead th {\n",
       "        text-align: right;\n",
       "    }\n",
       "</style>\n",
       "<table border=\"1\" class=\"dataframe\">\n",
       "  <thead>\n",
       "    <tr style=\"text-align: right;\">\n",
       "      <th></th>\n",
       "      <th>host_response_rate</th>\n",
       "      <th>host_acceptance_rate</th>\n",
       "      <th>host_listings_count</th>\n",
       "      <th>host_total_listings_count</th>\n",
       "      <th>latitude</th>\n",
       "      <th>longitude</th>\n",
       "      <th>minimum_nights</th>\n",
       "      <th>maximum_nights</th>\n",
       "      <th>minimum_minimum_nights</th>\n",
       "      <th>maximum_minimum_nights</th>\n",
       "      <th>...</th>\n",
       "      <th>availability_365</th>\n",
       "      <th>number_of_reviews</th>\n",
       "      <th>number_of_reviews_ltm</th>\n",
       "      <th>number_of_reviews_l30d</th>\n",
       "      <th>calculated_host_listings_count</th>\n",
       "      <th>calculated_host_listings_count_entire_homes</th>\n",
       "      <th>calculated_host_listings_count_private_rooms</th>\n",
       "      <th>calculated_host_listings_count_shared_rooms</th>\n",
       "      <th>reviews_per_month</th>\n",
       "      <th>price</th>\n",
       "    </tr>\n",
       "  </thead>\n",
       "  <tbody>\n",
       "    <tr>\n",
       "      <th>0</th>\n",
       "      <td>0.007200</td>\n",
       "      <td>0.002200</td>\n",
       "      <td>6.0</td>\n",
       "      <td>9.0</td>\n",
       "      <td>40.753560</td>\n",
       "      <td>-73.985590</td>\n",
       "      <td>30.0</td>\n",
       "      <td>1125.0</td>\n",
       "      <td>30.0</td>\n",
       "      <td>30.0</td>\n",
       "      <td>...</td>\n",
       "      <td>365.0</td>\n",
       "      <td>49.0</td>\n",
       "      <td>1.0</td>\n",
       "      <td>0.0</td>\n",
       "      <td>3.0</td>\n",
       "      <td>3.0</td>\n",
       "      <td>0.0</td>\n",
       "      <td>0.0</td>\n",
       "      <td>0.310000</td>\n",
       "      <td>175.0</td>\n",
       "    </tr>\n",
       "    <tr>\n",
       "      <th>1</th>\n",
       "      <td>0.009412</td>\n",
       "      <td>0.008046</td>\n",
       "      <td>1.0</td>\n",
       "      <td>5.0</td>\n",
       "      <td>40.803800</td>\n",
       "      <td>-73.967510</td>\n",
       "      <td>2.0</td>\n",
       "      <td>14.0</td>\n",
       "      <td>2.0</td>\n",
       "      <td>2.0</td>\n",
       "      <td>...</td>\n",
       "      <td>0.0</td>\n",
       "      <td>118.0</td>\n",
       "      <td>0.0</td>\n",
       "      <td>0.0</td>\n",
       "      <td>1.0</td>\n",
       "      <td>0.0</td>\n",
       "      <td>1.0</td>\n",
       "      <td>0.0</td>\n",
       "      <td>0.730000</td>\n",
       "      <td>75.0</td>\n",
       "    </tr>\n",
       "    <tr>\n",
       "      <th>2</th>\n",
       "      <td>0.009412</td>\n",
       "      <td>0.005000</td>\n",
       "      <td>1.0</td>\n",
       "      <td>5.0</td>\n",
       "      <td>40.662650</td>\n",
       "      <td>-73.994540</td>\n",
       "      <td>21.0</td>\n",
       "      <td>1125.0</td>\n",
       "      <td>21.0</td>\n",
       "      <td>21.0</td>\n",
       "      <td>...</td>\n",
       "      <td>267.0</td>\n",
       "      <td>3.0</td>\n",
       "      <td>1.0</td>\n",
       "      <td>0.0</td>\n",
       "      <td>1.0</td>\n",
       "      <td>1.0</td>\n",
       "      <td>0.0</td>\n",
       "      <td>0.0</td>\n",
       "      <td>0.030000</td>\n",
       "      <td>275.0</td>\n",
       "    </tr>\n",
       "    <tr>\n",
       "      <th>4</th>\n",
       "      <td>0.010000</td>\n",
       "      <td>0.010000</td>\n",
       "      <td>1.0</td>\n",
       "      <td>1.0</td>\n",
       "      <td>40.709350</td>\n",
       "      <td>-73.953420</td>\n",
       "      <td>30.0</td>\n",
       "      <td>730.0</td>\n",
       "      <td>30.0</td>\n",
       "      <td>30.0</td>\n",
       "      <td>...</td>\n",
       "      <td>151.0</td>\n",
       "      <td>187.0</td>\n",
       "      <td>5.0</td>\n",
       "      <td>0.0</td>\n",
       "      <td>1.0</td>\n",
       "      <td>1.0</td>\n",
       "      <td>0.0</td>\n",
       "      <td>0.0</td>\n",
       "      <td>1.130000</td>\n",
       "      <td>68.0</td>\n",
       "    </tr>\n",
       "    <tr>\n",
       "      <th>5</th>\n",
       "      <td>0.009400</td>\n",
       "      <td>0.010000</td>\n",
       "      <td>1.0</td>\n",
       "      <td>1.0</td>\n",
       "      <td>40.764570</td>\n",
       "      <td>-73.983170</td>\n",
       "      <td>2.0</td>\n",
       "      <td>14.0</td>\n",
       "      <td>2.0</td>\n",
       "      <td>2.0</td>\n",
       "      <td>...</td>\n",
       "      <td>79.0</td>\n",
       "      <td>559.0</td>\n",
       "      <td>50.0</td>\n",
       "      <td>3.0</td>\n",
       "      <td>1.0</td>\n",
       "      <td>0.0</td>\n",
       "      <td>1.0</td>\n",
       "      <td>0.0</td>\n",
       "      <td>3.380000</td>\n",
       "      <td>68.0</td>\n",
       "    </tr>\n",
       "    <tr>\n",
       "      <th>...</th>\n",
       "      <td>...</td>\n",
       "      <td>...</td>\n",
       "      <td>...</td>\n",
       "      <td>...</td>\n",
       "      <td>...</td>\n",
       "      <td>...</td>\n",
       "      <td>...</td>\n",
       "      <td>...</td>\n",
       "      <td>...</td>\n",
       "      <td>...</td>\n",
       "      <td>...</td>\n",
       "      <td>...</td>\n",
       "      <td>...</td>\n",
       "      <td>...</td>\n",
       "      <td>...</td>\n",
       "      <td>...</td>\n",
       "      <td>...</td>\n",
       "      <td>...</td>\n",
       "      <td>...</td>\n",
       "      <td>...</td>\n",
       "      <td>...</td>\n",
       "    </tr>\n",
       "    <tr>\n",
       "      <th>25734</th>\n",
       "      <td>0.010000</td>\n",
       "      <td>0.010000</td>\n",
       "      <td>5.0</td>\n",
       "      <td>11.0</td>\n",
       "      <td>40.700115</td>\n",
       "      <td>-73.929857</td>\n",
       "      <td>1.0</td>\n",
       "      <td>365.0</td>\n",
       "      <td>1.0</td>\n",
       "      <td>1.0</td>\n",
       "      <td>...</td>\n",
       "      <td>335.0</td>\n",
       "      <td>0.0</td>\n",
       "      <td>0.0</td>\n",
       "      <td>0.0</td>\n",
       "      <td>5.0</td>\n",
       "      <td>2.0</td>\n",
       "      <td>3.0</td>\n",
       "      <td>0.0</td>\n",
       "      <td>1.204442</td>\n",
       "      <td>103.0</td>\n",
       "    </tr>\n",
       "    <tr>\n",
       "      <th>25735</th>\n",
       "      <td>0.010000</td>\n",
       "      <td>0.010000</td>\n",
       "      <td>5.0</td>\n",
       "      <td>5.0</td>\n",
       "      <td>40.692335</td>\n",
       "      <td>-73.763852</td>\n",
       "      <td>2.0</td>\n",
       "      <td>365.0</td>\n",
       "      <td>2.0</td>\n",
       "      <td>2.0</td>\n",
       "      <td>...</td>\n",
       "      <td>353.0</td>\n",
       "      <td>0.0</td>\n",
       "      <td>0.0</td>\n",
       "      <td>0.0</td>\n",
       "      <td>5.0</td>\n",
       "      <td>5.0</td>\n",
       "      <td>0.0</td>\n",
       "      <td>0.0</td>\n",
       "      <td>1.204442</td>\n",
       "      <td>163.0</td>\n",
       "    </tr>\n",
       "    <tr>\n",
       "      <th>25736</th>\n",
       "      <td>0.007600</td>\n",
       "      <td>0.004900</td>\n",
       "      <td>25.0</td>\n",
       "      <td>27.0</td>\n",
       "      <td>40.619338</td>\n",
       "      <td>-73.903809</td>\n",
       "      <td>1.0</td>\n",
       "      <td>365.0</td>\n",
       "      <td>1.0</td>\n",
       "      <td>1.0</td>\n",
       "      <td>...</td>\n",
       "      <td>365.0</td>\n",
       "      <td>0.0</td>\n",
       "      <td>0.0</td>\n",
       "      <td>0.0</td>\n",
       "      <td>14.0</td>\n",
       "      <td>14.0</td>\n",
       "      <td>0.0</td>\n",
       "      <td>0.0</td>\n",
       "      <td>1.204442</td>\n",
       "      <td>686.0</td>\n",
       "    </tr>\n",
       "    <tr>\n",
       "      <th>25737</th>\n",
       "      <td>0.010000</td>\n",
       "      <td>0.009700</td>\n",
       "      <td>10.0</td>\n",
       "      <td>12.0</td>\n",
       "      <td>40.739317</td>\n",
       "      <td>-73.908148</td>\n",
       "      <td>7.0</td>\n",
       "      <td>180.0</td>\n",
       "      <td>7.0</td>\n",
       "      <td>7.0</td>\n",
       "      <td>...</td>\n",
       "      <td>364.0</td>\n",
       "      <td>0.0</td>\n",
       "      <td>0.0</td>\n",
       "      <td>0.0</td>\n",
       "      <td>10.0</td>\n",
       "      <td>7.0</td>\n",
       "      <td>3.0</td>\n",
       "      <td>0.0</td>\n",
       "      <td>1.204442</td>\n",
       "      <td>140.0</td>\n",
       "    </tr>\n",
       "    <tr>\n",
       "      <th>25739</th>\n",
       "      <td>0.009800</td>\n",
       "      <td>0.008600</td>\n",
       "      <td>40.0</td>\n",
       "      <td>131.0</td>\n",
       "      <td>40.802590</td>\n",
       "      <td>-73.962380</td>\n",
       "      <td>2.0</td>\n",
       "      <td>30.0</td>\n",
       "      <td>2.0</td>\n",
       "      <td>2.0</td>\n",
       "      <td>...</td>\n",
       "      <td>20.0</td>\n",
       "      <td>0.0</td>\n",
       "      <td>0.0</td>\n",
       "      <td>0.0</td>\n",
       "      <td>37.0</td>\n",
       "      <td>2.0</td>\n",
       "      <td>35.0</td>\n",
       "      <td>0.0</td>\n",
       "      <td>1.204442</td>\n",
       "      <td>70.0</td>\n",
       "    </tr>\n",
       "  </tbody>\n",
       "</table>\n",
       "<p>25284 rows × 27 columns</p>\n",
       "</div>"
      ],
      "text/plain": [
       "       host_response_rate  host_acceptance_rate  host_listings_count  \\\n",
       "0                0.007200              0.002200                  6.0   \n",
       "1                0.009412              0.008046                  1.0   \n",
       "2                0.009412              0.005000                  1.0   \n",
       "4                0.010000              0.010000                  1.0   \n",
       "5                0.009400              0.010000                  1.0   \n",
       "...                   ...                   ...                  ...   \n",
       "25734            0.010000              0.010000                  5.0   \n",
       "25735            0.010000              0.010000                  5.0   \n",
       "25736            0.007600              0.004900                 25.0   \n",
       "25737            0.010000              0.009700                 10.0   \n",
       "25739            0.009800              0.008600                 40.0   \n",
       "\n",
       "       host_total_listings_count   latitude  longitude  minimum_nights  \\\n",
       "0                            9.0  40.753560 -73.985590            30.0   \n",
       "1                            5.0  40.803800 -73.967510             2.0   \n",
       "2                            5.0  40.662650 -73.994540            21.0   \n",
       "4                            1.0  40.709350 -73.953420            30.0   \n",
       "5                            1.0  40.764570 -73.983170             2.0   \n",
       "...                          ...        ...        ...             ...   \n",
       "25734                       11.0  40.700115 -73.929857             1.0   \n",
       "25735                        5.0  40.692335 -73.763852             2.0   \n",
       "25736                       27.0  40.619338 -73.903809             1.0   \n",
       "25737                       12.0  40.739317 -73.908148             7.0   \n",
       "25739                      131.0  40.802590 -73.962380             2.0   \n",
       "\n",
       "       maximum_nights  minimum_minimum_nights  maximum_minimum_nights  ...  \\\n",
       "0              1125.0                    30.0                    30.0  ...   \n",
       "1                14.0                     2.0                     2.0  ...   \n",
       "2              1125.0                    21.0                    21.0  ...   \n",
       "4               730.0                    30.0                    30.0  ...   \n",
       "5                14.0                     2.0                     2.0  ...   \n",
       "...               ...                     ...                     ...  ...   \n",
       "25734           365.0                     1.0                     1.0  ...   \n",
       "25735           365.0                     2.0                     2.0  ...   \n",
       "25736           365.0                     1.0                     1.0  ...   \n",
       "25737           180.0                     7.0                     7.0  ...   \n",
       "25739            30.0                     2.0                     2.0  ...   \n",
       "\n",
       "       availability_365  number_of_reviews  number_of_reviews_ltm  \\\n",
       "0                 365.0               49.0                    1.0   \n",
       "1                   0.0              118.0                    0.0   \n",
       "2                 267.0                3.0                    1.0   \n",
       "4                 151.0              187.0                    5.0   \n",
       "5                  79.0              559.0                   50.0   \n",
       "...                 ...                ...                    ...   \n",
       "25734             335.0                0.0                    0.0   \n",
       "25735             353.0                0.0                    0.0   \n",
       "25736             365.0                0.0                    0.0   \n",
       "25737             364.0                0.0                    0.0   \n",
       "25739              20.0                0.0                    0.0   \n",
       "\n",
       "       number_of_reviews_l30d  calculated_host_listings_count  \\\n",
       "0                         0.0                             3.0   \n",
       "1                         0.0                             1.0   \n",
       "2                         0.0                             1.0   \n",
       "4                         0.0                             1.0   \n",
       "5                         3.0                             1.0   \n",
       "...                       ...                             ...   \n",
       "25734                     0.0                             5.0   \n",
       "25735                     0.0                             5.0   \n",
       "25736                     0.0                            14.0   \n",
       "25737                     0.0                            10.0   \n",
       "25739                     0.0                            37.0   \n",
       "\n",
       "       calculated_host_listings_count_entire_homes  \\\n",
       "0                                              3.0   \n",
       "1                                              0.0   \n",
       "2                                              1.0   \n",
       "4                                              1.0   \n",
       "5                                              0.0   \n",
       "...                                            ...   \n",
       "25734                                          2.0   \n",
       "25735                                          5.0   \n",
       "25736                                         14.0   \n",
       "25737                                          7.0   \n",
       "25739                                          2.0   \n",
       "\n",
       "       calculated_host_listings_count_private_rooms  \\\n",
       "0                                               0.0   \n",
       "1                                               1.0   \n",
       "2                                               0.0   \n",
       "4                                               0.0   \n",
       "5                                               1.0   \n",
       "...                                             ...   \n",
       "25734                                           3.0   \n",
       "25735                                           0.0   \n",
       "25736                                           0.0   \n",
       "25737                                           3.0   \n",
       "25739                                          35.0   \n",
       "\n",
       "       calculated_host_listings_count_shared_rooms  reviews_per_month  price  \n",
       "0                                              0.0           0.310000  175.0  \n",
       "1                                              0.0           0.730000   75.0  \n",
       "2                                              0.0           0.030000  275.0  \n",
       "4                                              0.0           1.130000   68.0  \n",
       "5                                              0.0           3.380000   68.0  \n",
       "...                                            ...                ...    ...  \n",
       "25734                                          0.0           1.204442  103.0  \n",
       "25735                                          0.0           1.204442  163.0  \n",
       "25736                                          0.0           1.204442  686.0  \n",
       "25737                                          0.0           1.204442  140.0  \n",
       "25739                                          0.0           1.204442   70.0  \n",
       "\n",
       "[25284 rows x 27 columns]"
      ]
     },
     "execution_count": 186,
     "metadata": {},
     "output_type": "execute_result"
    }
   ],
   "source": [
    "dfn"
   ]
  },
  {
   "cell_type": "code",
   "execution_count": null,
   "metadata": {},
   "outputs": [],
   "source": [
    "for col in columns_to_copy:\n",
    "    print(f\"Column: {col}\")\n",
    "    print(df[col].sample(5))\n",
    "    print(\"--------------------\")"
   ]
  },
  {
   "cell_type": "markdown",
   "metadata": {
    "id": "Mn1BQSmKLdYT",
    "jp-MarkdownHeadingCollapsed": true,
    "tags": []
   },
   "source": [
    "# 5. Data Visualization \n",
    "\n"
   ]
  },
  {
   "cell_type": "code",
   "execution_count": null,
   "metadata": {
    "colab": {
     "base_uri": "https://localhost:8080/",
     "height": 826
    },
    "id": "os6tpjTpebE4",
    "outputId": "d9b36482-6a92-4a42-833d-e92d32523cff"
   },
   "outputs": [],
   "source": [
    "# Set the figure size for the plot\n",
    "plt.figure(figsize=(20,10))\n",
    "\n",
    "# Plot a heatmap of the correlations between columns in the dataframe\n",
    "sns.heatmap(df.corr(), annot=True, cmap='YlOrRd')\n",
    "\n",
    "# Add a title to the plot\n",
    "plt.title(\"Correlation of Features\")\n",
    "\n",
    "# Show the plot\n",
    "plt.show()\n"
   ]
  },
  {
   "cell_type": "code",
   "execution_count": null,
   "metadata": {
    "colab": {
     "base_uri": "https://localhost:8080/",
     "height": 899
    },
    "id": "-hcUh5cr4K0i",
    "outputId": "d0d7c43c-4632-45bf-b9de-a3123913afb7"
   },
   "outputs": [],
   "source": [
    "import pandas as pd\n",
    "import seaborn as sns\n",
    "import matplotlib.pyplot as plt\n",
    "\n",
    "# create a correlation matrix\n",
    "corr_matrix = dff.corr()\n",
    "\n",
    "# get the top 20 features that are most correlated with price\n",
    "num_top_features = 20\n",
    "top_features = corr_matrix.nlargest(num_top_features, 'price')['price'].index\n",
    "top_corr = corr_matrix.loc[top_features, top_features]\n",
    "\n",
    "# create the correlation plot\n",
    "plt.figure(figsize=(15, 10))\n",
    "sns.set(font_scale=1.25)\n",
    "sns.heatmap(top_corr, annot=True, cmap='YlGnBu', fmt='.2f', square=True)\n",
    "plt.show()\n"
   ]
  },
  {
   "cell_type": "code",
   "execution_count": null,
   "metadata": {
    "colab": {
     "base_uri": "https://localhost:8080/",
     "height": 714
    },
    "id": "HHJLFpEJm_hp",
    "outputId": "c93122fa-ae17-451d-8f9d-9b4ebe10fe0a"
   },
   "outputs": [],
   "source": [
    "import matplotlib.pyplot as plt\n",
    "import pandas as pd\n",
    "\n",
    "\n",
    "# Calculate the correlation between each feature and the target feature\n",
    "corr = dff.drop('price', axis=1).corrwith(dff.price)\n",
    "\n",
    "# Sort the correlations in descending order and take the top 20\n",
    "top_20_corr = corr.sort_values(ascending=False).head(20)\n",
    "\n",
    "# Plot a bar graph of the top 20 correlations\n",
    "plt.figure(figsize=(20, 8))\n",
    "top_20_corr.plot(kind='bar', grid=True, color='Orange')\n",
    "plt.title(\"Top 20 Correlations between Features and Target Variable\")\n",
    "\n",
    "# Show the plot\n",
    "plt.show()\n"
   ]
  },
  {
   "cell_type": "markdown",
   "metadata": {
    "id": "b_lF_KJw2EoY"
   },
   "source": [
    "The correlation map can change after cleaning data and encoding if there were changes in the data that affect the correlation between variables. For example, if there were missing values in the data that were replaced with a specific value, this could affect the correlation between variables. Similarly, if there were categorical variables that were encoded as numerical variables, this could also affect the correlation between variables. Therefore, it is important to check the correlation map after cleaning and encoding data to ensure that the results are reliable and accurate."
   ]
  },
  {
   "cell_type": "code",
   "execution_count": null,
   "metadata": {
    "colab": {
     "base_uri": "https://localhost:8080/",
     "height": 717
    },
    "id": "GN02Pknh2erY",
    "outputId": "00783fd9-c175-400d-967f-612a02808d38"
   },
   "outputs": [],
   "source": [
    "import matplotlib.pyplot as plt\n",
    "import pandas as pd\n",
    "\n",
    "\n",
    "# Calculate the correlation between each feature and the target feature\n",
    "corr = dff.drop('price', axis=1).corrwith(dff.price)\n",
    "\n",
    "# Sort the correlations in ascending order and take the bottom 20\n",
    "bottom_20_corr = corr.sort_values().head(20)\n",
    "\n",
    "# Plot a bar graph of the bottom 20 correlations\n",
    "plt.figure(figsize=(20, 8))\n",
    "bottom_20_corr.plot(kind='bar', grid=True, color='Orange')\n",
    "plt.title(\"Bottom 20 Correlations between Features and Target variable\")\n",
    "\n",
    "# Show the plot\n",
    "plt.show()\n",
    "\n"
   ]
  },
  {
   "cell_type": "code",
   "execution_count": null,
   "metadata": {
    "colab": {
     "base_uri": "https://localhost:8080/",
     "height": 641
    },
    "id": "kVCPvOml1CZ0",
    "outputId": "a976fffe-4a9f-40ef-f63d-71a3291d3bae"
   },
   "outputs": [],
   "source": [
    "import matplotlib.pyplot as plt\n",
    "import pandas as pd\n",
    "\n",
    "\n",
    "# Calculate the correlation between each feature and the target feature\n",
    "corr = dff.drop('availability_90', axis=1).corrwith(dff.availability_90)\n",
    "\n",
    "# Sort the correlations in ascending order and take the bottom 20\n",
    "bottom_20_corr = corr.sort_values().head(20)\n",
    "\n",
    "# Plot a bar graph of the bottom 20 correlations\n",
    "plt.figure(figsize=(20, 8))\n",
    "bottom_20_corr.plot(kind='bar', grid=True, color='Orange')\n",
    "plt.title(\"Bottom 20 Correlations between Features and Availability in the Next 90 Days\")\n",
    "\n",
    "# Show the plot\n",
    "plt.show()\n",
    "\n"
   ]
  },
  {
   "cell_type": "code",
   "execution_count": null,
   "metadata": {
    "colab": {
     "base_uri": "https://localhost:8080/",
     "height": 808
    },
    "id": "W1wXm2FSRXhP",
    "outputId": "94e54527-530f-4cd8-ee93-db8be0f4ad08"
   },
   "outputs": [],
   "source": [
    "import matplotlib.pyplot as plt\n",
    "import pandas as pd\n",
    "\n",
    "\n",
    "# Calculate the correlation between each feature and the target feature\n",
    "corr = df.drop('availability_90', axis=1).corrwith(df.availability_90)\n",
    "\n",
    "# Sort the correlations in ascending order and take the bottom 20\n",
    "bottom_20_corr = corr.sort_values().head(20)\n",
    "\n",
    "# Plot a bar graph of the bottom 20 correlations\n",
    "plt.figure(figsize=(20, 8))\n",
    "bottom_20_corr.plot(kind='bar', grid=True, color='Orange')\n",
    "plt.title(\"Bottom 20 Correlations between Features and Availability in the Next 90 Days\")\n",
    "\n",
    "# Show the plot\n",
    "plt.show()\n",
    "\n"
   ]
  },
  {
   "cell_type": "code",
   "execution_count": null,
   "metadata": {
    "colab": {
     "base_uri": "https://localhost:8080/",
     "height": 808
    },
    "id": "GGQpPpb5SInr",
    "outputId": "2a9343c7-985e-4b34-b5f2-94a9f967388d"
   },
   "outputs": [],
   "source": [
    "import matplotlib.pyplot as plt\n",
    "import pandas as pd\n",
    "\n",
    "# Calculate the correlation between each feature and the target feature\n",
    "corr = dff.drop('price', axis=1).corrwith(dff.price)\n",
    "\n",
    "# Plot a bar graph of the correlations\n",
    "plt.figure(figsize=(20, 8))\n",
    "corr.plot(kind='bar', grid=True, color='Orange')\n",
    "plt.title(\"Correlation between Features and Availability in the Next 90 Days\")\n",
    "\n",
    "# Show the plot\n",
    "plt.show()\n",
    "\n"
   ]
  },
  {
   "cell_type": "code",
   "execution_count": null,
   "metadata": {
    "colab": {
     "base_uri": "https://localhost:8080/"
    },
    "id": "c9yRH8qVV0Il",
    "outputId": "7d233c5d-7e0e-43f4-d904-2734e578b62e"
   },
   "outputs": [],
   "source": [
    "#df['price'] = df['price'].str.replace(',', '')\n",
    "#df['price'] = df['price'].str.replace('$', '')"
   ]
  },
  {
   "cell_type": "code",
   "execution_count": null,
   "metadata": {
    "colab": {
     "base_uri": "https://localhost:8080/",
     "height": 375
    },
    "id": "cyvuvZrdWgRv",
    "outputId": "b44e5adf-c3e9-44d1-daf8-9381d9df19ef"
   },
   "outputs": [],
   "source": [
    "import matplotlib.pyplot as plt\n",
    "import seaborn as sns\n",
    "\n",
    "# Set up the figure with three subplots\n",
    "fig, axes = plt.subplots(nrows=1, ncols=3, figsize=(16,5))\n",
    "\n",
    "# Plot the count of bedrooms on the first axis\n",
    "sns.histplot(data=dff, x='bedrooms', binwidth=1, kde=False, ax=axes[0], color='orange')\n",
    "axes[0].set_xlabel('Bedrooms')\n",
    "axes[0].set_ylabel('Count')\n",
    "axes[0].set_title('Distribution of Bedrooms')\n",
    "\n",
    "# Plot the count of beds on the second axis\n",
    "sns.histplot(data=dff, x='beds', binwidth=1, kde=False, ax=axes[1], color='blue')\n",
    "axes[1].set_xlabel('Beds')\n",
    "axes[1].set_ylabel('Count')\n",
    "axes[1].set_title('Distribution of Beds')\n",
    "\n",
    "# Plot the count of accommodates on the third axis\n",
    "sns.histplot(data=dff, x='accommodates', binwidth=1, kde=False, ax=axes[2], color='green')\n",
    "axes[2].set_xlabel('Accommodates')\n",
    "axes[2].set_ylabel('Count')\n",
    "axes[2].set_title('Distribution of Accommodates')\n",
    "\n",
    "# Add a title for the whole figure\n",
    "fig.suptitle('Bedrooms, Beds, and Accommodates Distribution', fontsize=16)\n",
    "\n",
    "# Adjust the spacing between subplots\n",
    "plt.subplots_adjust(wspace=0.3)\n",
    "\n",
    "# Show the figure\n",
    "plt.show()\n"
   ]
  },
  {
   "cell_type": "code",
   "execution_count": null,
   "metadata": {
    "colab": {
     "base_uri": "https://localhost:8080/",
     "height": 285
    },
    "id": "ZcguVt-OdJ_k",
    "outputId": "077f1f35-8eb8-4cea-f190-13193a0b34d6"
   },
   "outputs": [],
   "source": [
    "import pandas as pd\n",
    "import seaborn as sns\n",
    "import matplotlib.pyplot as plt\n",
    "\n",
    "# Filter the data to include only 1-2 bedroom listings\n",
    "df_bedrooms = df.loc[df['bedrooms'].isin([1, 2])]\n",
    "\n",
    "# Create a scatter plot of bedrooms vs accommodates\n",
    "sns.scatterplot(data=df_bedrooms, x='bedrooms', y='accommodates')\n",
    "\n",
    "# Set the x-axis and y-axis labels\n",
    "plt.xlabel('Bedrooms')\n",
    "plt.ylabel('Accommodates')\n",
    "\n",
    "# Add a horizontal line at y=3 to highlight the range of accommodates for 1-2 bedroom listings\n",
    "plt.axhline(y=3, color='r', linestyle='--')\n",
    "\n",
    "# Add a vertical line at x=2 to highlight the range of bedrooms for 1-2 bedroom listings\n",
    "plt.axvline(x=2, color='r', linestyle='--')\n",
    "\n",
    "# Show the plot\n",
    "plt.show()\n"
   ]
  },
  {
   "cell_type": "code",
   "execution_count": null,
   "metadata": {
    "id": "SNSPMcZ8Z4l1"
   },
   "outputs": [],
   "source": [
    "import folium\n",
    "import pandas as pd\n",
    "\n",
    "\n",
    "# Filter out rows with missing location information\n",
    "df = df[df['longitude'].notnull() & df['latitude'].notnull()]\n",
    "\n",
    "# Get the top 15 listings by review scores\n",
    "top_15 = df.nlargest(15, 'review_scores_rating')\n",
    "\n",
    "# Create a folium map centered on New York City\n",
    "map_nyc = folium.Map(location=[40.693943, -73.985880], zoom_start=11)\n",
    "\n",
    "# Add a marker for each of the top 15 listings\n",
    "for i, row in top_15.iterrows():\n",
    "    tooltip = f\"{row['name']} ({row['bedrooms']} bedrooms, {row['accommodates']} accommodates,{row['review_scores_rating']} rating , ${row['price']})\"\n",
    "    folium.Marker([row['latitude'], row['longitude']], tooltip=tooltip).add_to(map_nyc)\n",
    "\n",
    "# Display the map\n",
    "map_nyc\n",
    "map_nyc.save(\"top_15_listings_basedonrating.html\")\n",
    "\n"
   ]
  },
  {
   "cell_type": "code",
   "execution_count": null,
   "metadata": {
    "colab": {
     "base_uri": "https://localhost:8080/",
     "height": 604
    },
    "id": "ouX4mT6Y46qE",
    "outputId": "09a554ca-347a-486e-d2fd-2b5f8f7f93cd"
   },
   "outputs": [],
   "source": [
    "import pandas as pd\n",
    "import matplotlib.pyplot as plt\n",
    "\n",
    "# calculate correlation coefficients between price and other features\n",
    "correlations = dff.corr()['price'].sort_values(ascending=False)\n",
    "\n",
    "# select top 20 features\n",
    "top_20_features = correlations[1:21]  # exclude 'price' itself\n",
    "\n",
    "# plot bar graph\n",
    "plt.bar(top_20_features.index, top_20_features.values)\n",
    "plt.title(\"Top 20 Correlation Features with Price\")\n",
    "plt.xlabel(\"Features\")\n",
    "plt.ylabel(\"Correlation Coefficient\")\n",
    "plt.xticks(rotation=90)\n",
    "plt.show()\n"
   ]
  },
  {
   "cell_type": "code",
   "execution_count": null,
   "metadata": {
    "colab": {
     "base_uri": "https://localhost:8080/",
     "height": 916
    },
    "id": "_XyaFJIUSMzc",
    "outputId": "599aa019-fbf3-4d9f-ddd7-d12fe1e7f889"
   },
   "outputs": [],
   "source": [
    "import matplotlib.pyplot as plt\n",
    "import seaborn as sns\n",
    "import pandas as pd\n",
    "# Calculate the correlation matrix\n",
    "corr = dff.corr()\n",
    "\n",
    "# Sort the correlations in ascending order and take the bottom 20\n",
    "bottom_20_corr = corr['price'].sort_values().head(20)\n",
    "\n",
    "# Keep only the bottom 20 correlated features\n",
    "bottom_20_corr = corr[bottom_20_corr.index].loc[bottom_20_corr.index]\n",
    "\n",
    "# Plot a heatmap of the bottom 20 correlations\n",
    "plt.figure(figsize=(20, 10))\n",
    "sns.heatmap(bottom_20_corr, annot=True, cmap='coolwarm')\n",
    "plt.title(\"Heatmap of Bottom 20 Correlations between Features and Availability in the Next 90 Days\")\n",
    "\n",
    "# Show the plot\n",
    "plt.show()\n"
   ]
  },
  {
   "cell_type": "code",
   "execution_count": null,
   "metadata": {
    "colab": {
     "base_uri": "https://localhost:8080/",
     "height": 1000
    },
    "id": "ol4EObGS6PmZ",
    "outputId": "cb768b32-674d-400f-b34b-b6e24e70e0f4"
   },
   "outputs": [],
   "source": [
    "import seaborn as sns\n",
    "import matplotlib.pyplot as plt\n",
    "\n",
    "corr = dff.drop('price', axis=1).corr()\n",
    "top_corr_features = corr.index[:20]\n",
    "\n",
    "plt.figure(figsize=(20, 20))\n",
    "g = sns.heatmap(dff[top_corr_features].corr(), annot=True, cmap='RdYlGn')\n"
   ]
  },
  {
   "cell_type": "code",
   "execution_count": null,
   "metadata": {
    "colab": {
     "base_uri": "https://localhost:8080/",
     "height": 341
    },
    "id": "_5DxY-5--pPs",
    "outputId": "67ead6e4-8fea-45c9-f84e-953b6b0d0351"
   },
   "outputs": [],
   "source": [
    "#issueeeee\n",
    "import seaborn as sns\n",
    "import matplotlib.pyplot as plt\n",
    "\n",
    "sns.distplot(dff['review_scores_accuracy'])\n",
    "plt.show()"
   ]
  },
  {
   "cell_type": "code",
   "execution_count": null,
   "metadata": {
    "colab": {
     "base_uri": "https://localhost:8080/",
     "height": 341
    },
    "id": "jzSb2jtl_NuC",
    "outputId": "7ef16dde-8785-428e-d6bf-5aa8a0bbe568"
   },
   "outputs": [],
   "source": [
    "sns.distplot(df['review_scores_rating'], color='red')\n",
    "plt.show()\n"
   ]
  },
  {
   "cell_type": "code",
   "execution_count": null,
   "metadata": {
    "colab": {
     "base_uri": "https://localhost:8080/",
     "height": 341
    },
    "id": "gxYVlPIO__MM",
    "outputId": "ac6705b0-3dc2-4562-dcea-10a1e3d8d979"
   },
   "outputs": [],
   "source": [
    "sns.distplot(df['review_scores_rating'], kde=False)\n",
    "plt.show()\n"
   ]
  },
  {
   "cell_type": "code",
   "execution_count": null,
   "metadata": {
    "id": "QY0sX6oMHtSn"
   },
   "outputs": [],
   "source": [
    "import seaborn as sns\n",
    "\n",
    "sns.pairplot(df.iloc[:, :10])\n"
   ]
  },
  {
   "cell_type": "code",
   "execution_count": null,
   "metadata": {
    "colab": {
     "base_uri": "https://localhost:8080/",
     "height": 525
    },
    "id": "LxG9yvW4Cmwh",
    "outputId": "354707e5-09e9-49ef-9aac-cc8e74c416e7"
   },
   "outputs": [],
   "source": [
    "import seaborn as sns\n",
    "import matplotlib.pyplot as plt\n",
    "\n",
    "sns.set_theme(style=\"white\", color_codes=True)\n",
    "\n",
    "# Select the columns of interest\n",
    "data = dff[['latitude', 'longitude']]\n",
    "\n",
    "# Create the joint plot\n",
    "g = sns.jointplot(x=\"latitude\", y=\"longitude\", data=data, kind=\"reg\", height=7)\n",
    "\n",
    "# Set plot attributes\n",
    "g.ax_joint.set_xlabel(\"Beds\", fontweight='bold')\n",
    "g.ax_joint.set_ylabel(\"Bathrooms\", fontweight='bold')\n",
    "g.ax_marg_x.set_title('Beds vs Bathrooms', fontweight='bold')\n",
    "\n",
    "plt.show()\n"
   ]
  },
  {
   "cell_type": "code",
   "execution_count": null,
   "metadata": {
    "colab": {
     "base_uri": "https://localhost:8080/",
     "height": 1000
    },
    "id": "h3ZA7ZjGReLG",
    "outputId": "47918707-1764-4faa-894f-a1da2eb3944b"
   },
   "outputs": [],
   "source": [
    "# Visualizing the distribution for every \"feature\"\n",
    "df.hist(edgecolor=\"black\", linewidth=1.2, figsize=(30, 30));"
   ]
  },
  {
   "cell_type": "code",
   "execution_count": null,
   "metadata": {
    "colab": {
     "base_uri": "https://localhost:8080/",
     "height": 285
    },
    "id": "Bphf-xMEVR-l",
    "outputId": "2d29bae9-babc-48d3-e9bc-b3f309380550"
   },
   "outputs": [],
   "source": [
    "ax = sns.violinplot(x=\"neighbourhood_group_cleansed\", y=\"price\",\n",
    "                    data=dff[dff.price < 1000],\n",
    "                    scale=\"width\", palette=\"Set3\")"
   ]
  },
  {
   "cell_type": "code",
   "execution_count": null,
   "metadata": {
    "colab": {
     "base_uri": "https://localhost:8080/",
     "height": 438
    },
    "id": "pifXp8ggRzxj",
    "outputId": "2c40afda-edf5-40e9-e923-8e729953dcf9"
   },
   "outputs": [],
   "source": [
    "import matplotlib.pyplot as plt\n",
    "import seaborn as sns\n",
    "\n",
    "# Select the three availability columns\n",
    "availability_cols = ['availability_30', 'availability_90', 'availability_365']\n",
    "\n",
    "# Create subplots for each availability column\n",
    "fig, axs = plt.subplots(nrows=1, ncols=len(availability_cols), figsize=(15, 5))\n",
    "\n",
    "# Loop through each availability column and plot a boxplot with outliers\n",
    "for i, col in enumerate(availability_cols):\n",
    "    sns.boxplot(data=df, x='neighbourhood_group_cleansed', y=col, ax=axs[i], palette='plasma')\n",
    "    axs[i].set_title(col)\n",
    "    \n",
    "    # Rotate the x-axis labels by 90 degrees\n",
    "    axs[i].set_xticklabels(axs[i].get_xticklabels(), rotation=90)\n",
    "\n",
    "# Set the overall title for the figure\n",
    "plt.suptitle('Availability in Neighborhood Group in Months Quarters and Years', fontsize=16)\n",
    "\n",
    "# Display the figure\n",
    "plt.show()\n"
   ]
  },
  {
   "cell_type": "code",
   "execution_count": null,
   "metadata": {
    "colab": {
     "base_uri": "https://localhost:8080/",
     "height": 450
    },
    "id": "GvVsuGizQ7Ni",
    "outputId": "202c34a7-de60-4633-b94e-d984c541f85c"
   },
   "outputs": [],
   "source": [
    "plt.figure(figsize=(10,6))\n",
    "sns.scatterplot(df.longitude,df.latitude,hue=df.neighbourhood_group_cleansed)\n",
    "plt.ioff()"
   ]
  },
  {
   "cell_type": "code",
   "execution_count": null,
   "metadata": {
    "colab": {
     "base_uri": "https://localhost:8080/",
     "height": 611
    },
    "id": "SAi_vjYYPWrj",
    "outputId": "23fbbd41-8adf-4a9f-e07e-445e00268a74"
   },
   "outputs": [],
   "source": [
    "plt.figure(figsize=(10,10))\n",
    "ax = sns.boxplot(data=df, x='neighbourhood_group_cleansed', y='availability_365', palette='plasma', showfliers=True)\n"
   ]
  },
  {
   "cell_type": "code",
   "execution_count": null,
   "metadata": {
    "colab": {
     "base_uri": "https://localhost:8080/",
     "height": 364
    },
    "id": "Tja-q8VhDqA6",
    "outputId": "c057bce8-f118-4687-f183-5433212e1931"
   },
   "outputs": [],
   "source": [
    "import matplotlib.pyplot as plt\n",
    "\n",
    "# Group the data by neighbourhood_group_cleansed and room_type\n",
    "grouped = df.groupby(['neighbourhood_group_cleansed', 'room_type']).size().unstack()\n",
    "\n",
    "# Create a stacked bar chart\n",
    "grouped.plot(kind='bar', stacked=True)\n",
    "\n",
    "# Add labels and title\n",
    "plt.xlabel('Neighbourhood Group')\n",
    "plt.ylabel('Number of Listings')\n",
    "plt.title('Listings by Neighbourhood Group and Room Type')\n",
    "\n",
    "plt.show()\n"
   ]
  },
  {
   "cell_type": "code",
   "execution_count": null,
   "metadata": {
    "id": "z9Xa2FbHOn3O"
   },
   "outputs": [],
   "source": [
    "import pandas as pd\n",
    "import folium\n",
    "\n",
    "# Load your DataFrame into the \"df\" variable\n",
    "\n",
    "# Sort the DataFrame by the price column in descending order\n",
    "df = df.sort_values(\"price\", ascending=False)\n",
    "\n",
    "# Select the top 10 rows\n",
    "top_10 = df.head(10)\n",
    "\n",
    "# Create a map centered at the average latitude and longitude of the top 10 listings\n",
    "mean_latitude = top_10[\"latitude\"].mean()\n",
    "mean_longitude = top_10[\"longitude\"].mean()\n",
    "map_ = folium.Map(location=[mean_latitude, mean_longitude], zoom_start=12)\n",
    "\n",
    "# Add markers for the top 10 listings\n",
    "for i, row in top_10.iterrows():\n",
    "    folium.Marker(\n",
    "        location=[row[\"latitude\"], row[\"longitude\"]],\n",
    "        popup=row[\"name\"],\n",
    "        tooltip=f\"Price: ${row['price']}\",\n",
    "    ).add_to(map_)\n",
    "\n",
    "# Show the map\n",
    "#map_.save(\"top_10_listings.html\")\n",
    "display(map_)"
   ]
  },
  {
   "cell_type": "code",
   "execution_count": null,
   "metadata": {
    "colab": {
     "base_uri": "https://localhost:8080/",
     "height": 968
    },
    "id": "LqYoit1hOATp",
    "outputId": "5c79a335-1e92-4525-e00f-591891fbc903"
   },
   "outputs": [],
   "source": [
    "import pandas as pd\n",
    "import folium\n",
    "from IPython.display import display\n",
    "\n",
    "# Load your DataFrame into the \"df\" variable\n",
    "\n",
    "# Sort the DataFrame by the price column in descending order\n",
    "df = df.sort_values(\"price\", ascending=False)\n",
    "\n",
    "# Select the top 10 rows\n",
    "top_10 = df.head(10)\n",
    "\n",
    "# Create a map centered at the average latitude and longitude of the top 10 listings\n",
    "mean_latitude = top_10[\"latitude\"].mean()\n",
    "mean_longitude = top_10[\"longitude\"].mean()\n",
    "map_ = folium.Map(location=[mean_latitude, mean_longitude], zoom_start=12)\n",
    "\n",
    "# Add markers for the top 10 listings\n",
    "for i, row in top_10.iterrows():\n",
    "    folium.Marker(\n",
    "        location=[row[\"latitude\"], row[\"longitude\"]],\n",
    "        popup=row[\"name\"],\n",
    "        tooltip=f\"Price: ${row['price']}\",\n",
    "    ).add_to(map_)\n",
    "\n",
    "# Display the map\n",
    "display(map_)\n"
   ]
  },
  {
   "cell_type": "code",
   "execution_count": null,
   "metadata": {
    "colab": {
     "base_uri": "https://localhost:8080/",
     "height": 968
    },
    "id": "oMNY8ehUNsAC",
    "outputId": "163d7ee6-1fc8-424d-9dd4-203a3b17ec45"
   },
   "outputs": [],
   "source": [
    "import pandas as pd\n",
    "import folium\n",
    "from IPython.display import display\n",
    "\n",
    "# Load your DataFrame into the \"df\" variable\n",
    "\n",
    "# Remove any rows with NaN values in the latitude and longitude columns\n",
    "df = df.dropna(subset=[\"latitude\", \"longitude\"])\n",
    "\n",
    "# Create a map centered at the average latitude and longitude of the listings\n",
    "mean_latitude = df[\"latitude\"].mean()\n",
    "mean_longitude = df[\"longitude\"].mean()\n",
    "map_ = folium.Map(location=[mean_latitude, mean_longitude], zoom_start=12)\n",
    "\n",
    "# Sort the DataFrame by the price column\n",
    "df = df.sort_values(by=\"price\", ascending=False)\n",
    "\n",
    "# Take the top 10 costliest listings\n",
    "costliest_listings = df.head(10)\n",
    "\n",
    "# Add markers for the costliest listings\n",
    "for index, row in costliest_listings.iterrows():\n",
    "    folium.Marker(\n",
    "        location=[row[\"latitude\"], row[\"longitude\"]],\n",
    "        popup=f\"{row['price']}\",\n",
    "        icon=folium.Icon(color=\"red\")\n",
    "    ).add_to(map_)\n",
    "\n",
    "# Take the bottom 10 cheapest listings\n",
    "cheapest_listings = df.tail(10)\n",
    "\n",
    "# Add markers for the cheapest listings\n",
    "for index, row in cheapest_listings.iterrows():\n",
    "    folium.Marker(\n",
    "        location=[row[\"latitude\"], row[\"longitude\"]],\n",
    "        popup=f\"{row['price']}\",\n",
    "        icon=folium.Icon(color=\"blue\")\n",
    "    ).add_to(map_)\n",
    "\n",
    "# Display the map\n",
    "display(map_)\n"
   ]
  },
  {
   "cell_type": "code",
   "execution_count": null,
   "metadata": {
    "colab": {
     "base_uri": "https://localhost:8080/",
     "height": 968
    },
    "id": "MhrMaBY-M5xg",
    "outputId": "01896d11-f175-4178-b0bd-e0bc145427c5"
   },
   "outputs": [],
   "source": [
    "import pandas as pd\n",
    "import folium\n",
    "from IPython.display import display\n",
    "\n",
    "# Load your DataFrame into the \"df\" variable\n",
    "\n",
    "# Sort the DataFrame by the price column in descending order\n",
    "df = df.sort_values(\"price\", ascending=False)\n",
    "\n",
    "# Select the top 10 rows\n",
    "top_10 = df.head(10)\n",
    "\n",
    "# Create a map centered at the average latitude and longitude of the top 10 listings\n",
    "mean_latitude = top_10[\"latitude\"].mean()\n",
    "mean_longitude = top_10[\"longitude\"].mean()\n",
    "map_ = folium.Map(location=[mean_latitude, mean_longitude], zoom_start=12)\n",
    "\n",
    "# Add markers for the top 10 listings\n",
    "for i, row in top_10.iterrows():\n",
    "    folium.Marker(\n",
    "        location=[row[\"latitude\"], row[\"longitude\"]],\n",
    "        popup=row[\"name\"],\n",
    "        tooltip=f\"Price: ${row['price']}\",\n",
    "    ).add_to(map_)\n",
    "\n",
    "# Display the map\n",
    "display(map_)\n"
   ]
  },
  {
   "cell_type": "code",
   "execution_count": null,
   "metadata": {
    "id": "KmFNdM5MBUbN"
   },
   "outputs": [],
   "source": [
    "sns.pairplot(df)"
   ]
  },
  {
   "cell_type": "code",
   "execution_count": null,
   "metadata": {
    "colab": {
     "base_uri": "https://localhost:8080/",
     "height": 1000
    },
    "id": "7BviMT7tLOhi",
    "outputId": "f320babb-0de4-48ec-aa74-52718172799e"
   },
   "outputs": [],
   "source": [
    "df.shape"
   ]
  },
  {
   "cell_type": "markdown",
   "metadata": {
    "id": "aquCoZB_e0HT",
    "tags": []
   },
   "source": [
    "# 6.Statistical feature Selection"
   ]
  },
  {
   "cell_type": "code",
   "execution_count": 402,
   "metadata": {
    "colab": {
     "base_uri": "https://localhost:8080/",
     "height": 0
    },
    "id": "gUrBFr0Qe8PY",
    "outputId": "35af2596-d46e-4dde-e24b-6b83f9954ee6"
   },
   "outputs": [
    {
     "data": {
      "text/html": [
       "<div>\n",
       "<style scoped>\n",
       "    .dataframe tbody tr th:only-of-type {\n",
       "        vertical-align: middle;\n",
       "    }\n",
       "\n",
       "    .dataframe tbody tr th {\n",
       "        vertical-align: top;\n",
       "    }\n",
       "\n",
       "    .dataframe thead th {\n",
       "        text-align: right;\n",
       "    }\n",
       "</style>\n",
       "<table border=\"1\" class=\"dataframe\">\n",
       "  <thead>\n",
       "    <tr style=\"text-align: right;\">\n",
       "      <th></th>\n",
       "      <th>host_since</th>\n",
       "      <th>host_response_time</th>\n",
       "      <th>host_is_superhost</th>\n",
       "      <th>host_verifications_email</th>\n",
       "      <th>host_verifications_work_email</th>\n",
       "      <th>host_identity_verified</th>\n",
       "      <th>host_has_profile_pic</th>\n",
       "      <th>neighbourhood_group_cleansed</th>\n",
       "      <th>neighbourhood_cleansed</th>\n",
       "      <th>property_type</th>\n",
       "      <th>...</th>\n",
       "      <th>beds</th>\n",
       "      <th>has_availability</th>\n",
       "      <th>review_scores_rating</th>\n",
       "      <th>review_scores_accuracy</th>\n",
       "      <th>review_scores_cleanliness</th>\n",
       "      <th>review_scores_checkin</th>\n",
       "      <th>review_scores_communication</th>\n",
       "      <th>review_scores_location</th>\n",
       "      <th>review_scores_value</th>\n",
       "      <th>instant_bookable</th>\n",
       "    </tr>\n",
       "  </thead>\n",
       "  <tbody>\n",
       "    <tr>\n",
       "      <th>0</th>\n",
       "      <td>2008.0</td>\n",
       "      <td>1.0</td>\n",
       "      <td>0.0</td>\n",
       "      <td>1.0</td>\n",
       "      <td>1.0</td>\n",
       "      <td>1.0</td>\n",
       "      <td>1.0</td>\n",
       "      <td>2.0</td>\n",
       "      <td>124.0</td>\n",
       "      <td>13.0</td>\n",
       "      <td>...</td>\n",
       "      <td>1.0</td>\n",
       "      <td>1.0</td>\n",
       "      <td>4.680000</td>\n",
       "      <td>4.730000</td>\n",
       "      <td>4.630000</td>\n",
       "      <td>4.770000</td>\n",
       "      <td>4.800000</td>\n",
       "      <td>4.810000</td>\n",
       "      <td>4.400000</td>\n",
       "      <td>0.0</td>\n",
       "    </tr>\n",
       "    <tr>\n",
       "      <th>1</th>\n",
       "      <td>2009.0</td>\n",
       "      <td>0.0</td>\n",
       "      <td>0.0</td>\n",
       "      <td>1.0</td>\n",
       "      <td>0.0</td>\n",
       "      <td>1.0</td>\n",
       "      <td>1.0</td>\n",
       "      <td>2.0</td>\n",
       "      <td>196.0</td>\n",
       "      <td>34.0</td>\n",
       "      <td>...</td>\n",
       "      <td>1.0</td>\n",
       "      <td>1.0</td>\n",
       "      <td>4.910000</td>\n",
       "      <td>4.830000</td>\n",
       "      <td>4.820000</td>\n",
       "      <td>4.970000</td>\n",
       "      <td>4.950000</td>\n",
       "      <td>4.940000</td>\n",
       "      <td>4.920000</td>\n",
       "      <td>0.0</td>\n",
       "    </tr>\n",
       "    <tr>\n",
       "      <th>2</th>\n",
       "      <td>2009.0</td>\n",
       "      <td>0.0</td>\n",
       "      <td>0.0</td>\n",
       "      <td>1.0</td>\n",
       "      <td>0.0</td>\n",
       "      <td>1.0</td>\n",
       "      <td>1.0</td>\n",
       "      <td>1.0</td>\n",
       "      <td>184.0</td>\n",
       "      <td>13.0</td>\n",
       "      <td>...</td>\n",
       "      <td>2.0</td>\n",
       "      <td>1.0</td>\n",
       "      <td>5.000000</td>\n",
       "      <td>5.000000</td>\n",
       "      <td>5.000000</td>\n",
       "      <td>5.000000</td>\n",
       "      <td>5.000000</td>\n",
       "      <td>4.670000</td>\n",
       "      <td>5.000000</td>\n",
       "      <td>0.0</td>\n",
       "    </tr>\n",
       "    <tr>\n",
       "      <th>4</th>\n",
       "      <td>2009.0</td>\n",
       "      <td>3.0</td>\n",
       "      <td>0.0</td>\n",
       "      <td>1.0</td>\n",
       "      <td>0.0</td>\n",
       "      <td>1.0</td>\n",
       "      <td>1.0</td>\n",
       "      <td>1.0</td>\n",
       "      <td>208.0</td>\n",
       "      <td>13.0</td>\n",
       "      <td>...</td>\n",
       "      <td>1.0</td>\n",
       "      <td>1.0</td>\n",
       "      <td>4.570000</td>\n",
       "      <td>4.590000</td>\n",
       "      <td>4.860000</td>\n",
       "      <td>4.840000</td>\n",
       "      <td>4.800000</td>\n",
       "      <td>4.670000</td>\n",
       "      <td>4.560000</td>\n",
       "      <td>0.0</td>\n",
       "    </tr>\n",
       "    <tr>\n",
       "      <th>5</th>\n",
       "      <td>2009.0</td>\n",
       "      <td>2.0</td>\n",
       "      <td>0.0</td>\n",
       "      <td>1.0</td>\n",
       "      <td>0.0</td>\n",
       "      <td>0.0</td>\n",
       "      <td>1.0</td>\n",
       "      <td>2.0</td>\n",
       "      <td>124.0</td>\n",
       "      <td>34.0</td>\n",
       "      <td>...</td>\n",
       "      <td>1.0</td>\n",
       "      <td>1.0</td>\n",
       "      <td>4.230000</td>\n",
       "      <td>4.240000</td>\n",
       "      <td>3.750000</td>\n",
       "      <td>4.650000</td>\n",
       "      <td>4.450000</td>\n",
       "      <td>4.880000</td>\n",
       "      <td>4.390000</td>\n",
       "      <td>0.0</td>\n",
       "    </tr>\n",
       "    <tr>\n",
       "      <th>...</th>\n",
       "      <td>...</td>\n",
       "      <td>...</td>\n",
       "      <td>...</td>\n",
       "      <td>...</td>\n",
       "      <td>...</td>\n",
       "      <td>...</td>\n",
       "      <td>...</td>\n",
       "      <td>...</td>\n",
       "      <td>...</td>\n",
       "      <td>...</td>\n",
       "      <td>...</td>\n",
       "      <td>...</td>\n",
       "      <td>...</td>\n",
       "      <td>...</td>\n",
       "      <td>...</td>\n",
       "      <td>...</td>\n",
       "      <td>...</td>\n",
       "      <td>...</td>\n",
       "      <td>...</td>\n",
       "      <td>...</td>\n",
       "      <td>...</td>\n",
       "    </tr>\n",
       "    <tr>\n",
       "      <th>25734</th>\n",
       "      <td>2020.0</td>\n",
       "      <td>3.0</td>\n",
       "      <td>0.0</td>\n",
       "      <td>1.0</td>\n",
       "      <td>0.0</td>\n",
       "      <td>1.0</td>\n",
       "      <td>1.0</td>\n",
       "      <td>1.0</td>\n",
       "      <td>26.0</td>\n",
       "      <td>13.0</td>\n",
       "      <td>...</td>\n",
       "      <td>1.0</td>\n",
       "      <td>1.0</td>\n",
       "      <td>4.669564</td>\n",
       "      <td>4.779732</td>\n",
       "      <td>4.655536</td>\n",
       "      <td>4.840654</td>\n",
       "      <td>4.840705</td>\n",
       "      <td>4.766109</td>\n",
       "      <td>4.672977</td>\n",
       "      <td>1.0</td>\n",
       "    </tr>\n",
       "    <tr>\n",
       "      <th>25735</th>\n",
       "      <td>2015.0</td>\n",
       "      <td>3.0</td>\n",
       "      <td>0.0</td>\n",
       "      <td>0.0</td>\n",
       "      <td>0.0</td>\n",
       "      <td>0.0</td>\n",
       "      <td>1.0</td>\n",
       "      <td>3.0</td>\n",
       "      <td>179.0</td>\n",
       "      <td>13.0</td>\n",
       "      <td>...</td>\n",
       "      <td>3.0</td>\n",
       "      <td>1.0</td>\n",
       "      <td>4.669564</td>\n",
       "      <td>4.779732</td>\n",
       "      <td>4.655536</td>\n",
       "      <td>4.840654</td>\n",
       "      <td>4.840705</td>\n",
       "      <td>4.766109</td>\n",
       "      <td>4.672977</td>\n",
       "      <td>1.0</td>\n",
       "    </tr>\n",
       "    <tr>\n",
       "      <th>25736</th>\n",
       "      <td>2022.0</td>\n",
       "      <td>2.0</td>\n",
       "      <td>0.0</td>\n",
       "      <td>1.0</td>\n",
       "      <td>0.0</td>\n",
       "      <td>1.0</td>\n",
       "      <td>1.0</td>\n",
       "      <td>1.0</td>\n",
       "      <td>17.0</td>\n",
       "      <td>9.0</td>\n",
       "      <td>...</td>\n",
       "      <td>5.0</td>\n",
       "      <td>1.0</td>\n",
       "      <td>4.669564</td>\n",
       "      <td>4.779732</td>\n",
       "      <td>4.655536</td>\n",
       "      <td>4.840654</td>\n",
       "      <td>4.840705</td>\n",
       "      <td>4.766109</td>\n",
       "      <td>4.672977</td>\n",
       "      <td>1.0</td>\n",
       "    </tr>\n",
       "    <tr>\n",
       "      <th>25737</th>\n",
       "      <td>2021.0</td>\n",
       "      <td>3.0</td>\n",
       "      <td>0.0</td>\n",
       "      <td>1.0</td>\n",
       "      <td>0.0</td>\n",
       "      <td>1.0</td>\n",
       "      <td>1.0</td>\n",
       "      <td>3.0</td>\n",
       "      <td>120.0</td>\n",
       "      <td>34.0</td>\n",
       "      <td>...</td>\n",
       "      <td>1.0</td>\n",
       "      <td>1.0</td>\n",
       "      <td>4.669564</td>\n",
       "      <td>4.779732</td>\n",
       "      <td>4.655536</td>\n",
       "      <td>4.840654</td>\n",
       "      <td>4.840705</td>\n",
       "      <td>4.766109</td>\n",
       "      <td>4.672977</td>\n",
       "      <td>1.0</td>\n",
       "    </tr>\n",
       "    <tr>\n",
       "      <th>25739</th>\n",
       "      <td>2012.0</td>\n",
       "      <td>3.0</td>\n",
       "      <td>0.0</td>\n",
       "      <td>1.0</td>\n",
       "      <td>1.0</td>\n",
       "      <td>1.0</td>\n",
       "      <td>1.0</td>\n",
       "      <td>2.0</td>\n",
       "      <td>127.0</td>\n",
       "      <td>34.0</td>\n",
       "      <td>...</td>\n",
       "      <td>1.0</td>\n",
       "      <td>1.0</td>\n",
       "      <td>4.669564</td>\n",
       "      <td>4.779732</td>\n",
       "      <td>4.655536</td>\n",
       "      <td>4.840654</td>\n",
       "      <td>4.840705</td>\n",
       "      <td>4.766109</td>\n",
       "      <td>4.672977</td>\n",
       "      <td>1.0</td>\n",
       "    </tr>\n",
       "  </tbody>\n",
       "</table>\n",
       "<p>25284 rows × 24 columns</p>\n",
       "</div>"
      ],
      "text/plain": [
       "       host_since  host_response_time  host_is_superhost  \\\n",
       "0          2008.0                 1.0                0.0   \n",
       "1          2009.0                 0.0                0.0   \n",
       "2          2009.0                 0.0                0.0   \n",
       "4          2009.0                 3.0                0.0   \n",
       "5          2009.0                 2.0                0.0   \n",
       "...           ...                 ...                ...   \n",
       "25734      2020.0                 3.0                0.0   \n",
       "25735      2015.0                 3.0                0.0   \n",
       "25736      2022.0                 2.0                0.0   \n",
       "25737      2021.0                 3.0                0.0   \n",
       "25739      2012.0                 3.0                0.0   \n",
       "\n",
       "       host_verifications_email  host_verifications_work_email  \\\n",
       "0                           1.0                            1.0   \n",
       "1                           1.0                            0.0   \n",
       "2                           1.0                            0.0   \n",
       "4                           1.0                            0.0   \n",
       "5                           1.0                            0.0   \n",
       "...                         ...                            ...   \n",
       "25734                       1.0                            0.0   \n",
       "25735                       0.0                            0.0   \n",
       "25736                       1.0                            0.0   \n",
       "25737                       1.0                            0.0   \n",
       "25739                       1.0                            1.0   \n",
       "\n",
       "       host_identity_verified  host_has_profile_pic  \\\n",
       "0                         1.0                   1.0   \n",
       "1                         1.0                   1.0   \n",
       "2                         1.0                   1.0   \n",
       "4                         1.0                   1.0   \n",
       "5                         0.0                   1.0   \n",
       "...                       ...                   ...   \n",
       "25734                     1.0                   1.0   \n",
       "25735                     0.0                   1.0   \n",
       "25736                     1.0                   1.0   \n",
       "25737                     1.0                   1.0   \n",
       "25739                     1.0                   1.0   \n",
       "\n",
       "       neighbourhood_group_cleansed  neighbourhood_cleansed  property_type  \\\n",
       "0                               2.0                   124.0           13.0   \n",
       "1                               2.0                   196.0           34.0   \n",
       "2                               1.0                   184.0           13.0   \n",
       "4                               1.0                   208.0           13.0   \n",
       "5                               2.0                   124.0           34.0   \n",
       "...                             ...                     ...            ...   \n",
       "25734                           1.0                    26.0           13.0   \n",
       "25735                           3.0                   179.0           13.0   \n",
       "25736                           1.0                    17.0            9.0   \n",
       "25737                           3.0                   120.0           34.0   \n",
       "25739                           2.0                   127.0           34.0   \n",
       "\n",
       "       ...  beds  has_availability  review_scores_rating  \\\n",
       "0      ...   1.0               1.0              4.680000   \n",
       "1      ...   1.0               1.0              4.910000   \n",
       "2      ...   2.0               1.0              5.000000   \n",
       "4      ...   1.0               1.0              4.570000   \n",
       "5      ...   1.0               1.0              4.230000   \n",
       "...    ...   ...               ...                   ...   \n",
       "25734  ...   1.0               1.0              4.669564   \n",
       "25735  ...   3.0               1.0              4.669564   \n",
       "25736  ...   5.0               1.0              4.669564   \n",
       "25737  ...   1.0               1.0              4.669564   \n",
       "25739  ...   1.0               1.0              4.669564   \n",
       "\n",
       "       review_scores_accuracy  review_scores_cleanliness  \\\n",
       "0                    4.730000                   4.630000   \n",
       "1                    4.830000                   4.820000   \n",
       "2                    5.000000                   5.000000   \n",
       "4                    4.590000                   4.860000   \n",
       "5                    4.240000                   3.750000   \n",
       "...                       ...                        ...   \n",
       "25734                4.779732                   4.655536   \n",
       "25735                4.779732                   4.655536   \n",
       "25736                4.779732                   4.655536   \n",
       "25737                4.779732                   4.655536   \n",
       "25739                4.779732                   4.655536   \n",
       "\n",
       "       review_scores_checkin  review_scores_communication  \\\n",
       "0                   4.770000                     4.800000   \n",
       "1                   4.970000                     4.950000   \n",
       "2                   5.000000                     5.000000   \n",
       "4                   4.840000                     4.800000   \n",
       "5                   4.650000                     4.450000   \n",
       "...                      ...                          ...   \n",
       "25734               4.840654                     4.840705   \n",
       "25735               4.840654                     4.840705   \n",
       "25736               4.840654                     4.840705   \n",
       "25737               4.840654                     4.840705   \n",
       "25739               4.840654                     4.840705   \n",
       "\n",
       "       review_scores_location  review_scores_value  instant_bookable  \n",
       "0                    4.810000             4.400000               0.0  \n",
       "1                    4.940000             4.920000               0.0  \n",
       "2                    4.670000             5.000000               0.0  \n",
       "4                    4.670000             4.560000               0.0  \n",
       "5                    4.880000             4.390000               0.0  \n",
       "...                       ...                  ...               ...  \n",
       "25734                4.766109             4.672977               1.0  \n",
       "25735                4.766109             4.672977               1.0  \n",
       "25736                4.766109             4.672977               1.0  \n",
       "25737                4.766109             4.672977               1.0  \n",
       "25739                4.766109             4.672977               1.0  \n",
       "\n",
       "[25284 rows x 24 columns]"
      ]
     },
     "execution_count": 402,
     "metadata": {},
     "output_type": "execute_result"
    }
   ],
   "source": [
    "dfc"
   ]
  },
  {
   "cell_type": "code",
   "execution_count": 445,
   "metadata": {},
   "outputs": [
    {
     "name": "stdout",
     "output_type": "stream",
     "text": [
      "         host_since  host_response_time  host_is_superhost  \\\n",
      "count  25284.000000        25284.000000       25284.000000   \n",
      "mean    2015.172006            1.609199           0.232519   \n",
      "std        2.811716            1.332383           0.422446   \n",
      "min     2008.000000            0.000000           0.000000   \n",
      "25%     2013.000000            0.000000           0.000000   \n",
      "50%     2015.000000            2.000000           0.000000   \n",
      "75%     2017.000000            3.000000           0.000000   \n",
      "max     2022.000000            3.000000           1.000000   \n",
      "\n",
      "       host_verifications_email  host_verifications_work_email  \\\n",
      "count              25284.000000                   25284.000000   \n",
      "mean                   0.947912                       0.161881   \n",
      "std                    0.222209                       0.368349   \n",
      "min                    0.000000                       0.000000   \n",
      "25%                    1.000000                       0.000000   \n",
      "50%                    1.000000                       0.000000   \n",
      "75%                    1.000000                       0.000000   \n",
      "max                    1.000000                       1.000000   \n",
      "\n",
      "       host_identity_verified  host_has_profile_pic  \\\n",
      "count            25284.000000          25284.000000   \n",
      "mean                 0.883444              0.997073   \n",
      "std                  0.320897              0.054021   \n",
      "min                  0.000000              0.000000   \n",
      "25%                  1.000000              1.000000   \n",
      "50%                  1.000000              1.000000   \n",
      "75%                  1.000000              1.000000   \n",
      "max                  1.000000              1.000000   \n",
      "\n",
      "       neighbourhood_group_cleansed  neighbourhood_cleansed  property_type  \\\n",
      "count                  25284.000000            25284.000000   25284.000000   \n",
      "mean                       1.706613              105.792517      21.289907   \n",
      "std                        0.750368               66.132077      11.624293   \n",
      "min                        0.000000                0.000000       0.000000   \n",
      "25%                        1.000000               50.000000      13.000000   \n",
      "50%                        2.000000               93.000000      13.000000   \n",
      "75%                        2.000000              173.000000      34.000000   \n",
      "max                        4.000000              212.000000      55.000000   \n",
      "\n",
      "       ...          beds  has_availability  review_scores_rating  \\\n",
      "count  ...  25284.000000      25284.000000          25284.000000   \n",
      "mean   ...      1.594542          0.861493              4.669546   \n",
      "std    ...      1.046284          0.345438              0.593064   \n",
      "min    ...      1.000000          0.000000              0.000000   \n",
      "25%    ...      1.000000          1.000000              4.669564   \n",
      "50%    ...      1.000000          1.000000              4.750000   \n",
      "75%    ...      2.000000          1.000000              4.960000   \n",
      "max    ...     16.000000          1.000000              5.000000   \n",
      "\n",
      "       review_scores_accuracy  review_scores_cleanliness  \\\n",
      "count            25284.000000               25284.000000   \n",
      "mean                 4.779762                   4.655591   \n",
      "std                  0.352626                   0.430133   \n",
      "min                  0.000000                   0.000000   \n",
      "25%                  4.779732                   4.630000   \n",
      "50%                  4.830000                   4.680000   \n",
      "75%                  5.000000                   4.940000   \n",
      "max                  5.000000                   5.000000   \n",
      "\n",
      "       review_scores_checkin  review_scores_communication  \\\n",
      "count           25284.000000                 25284.000000   \n",
      "mean                4.840585                     4.840656   \n",
      "std                 0.305168                     0.324487   \n",
      "min                 0.000000                     0.000000   \n",
      "25%                 4.840654                     4.840705   \n",
      "50%                 4.890000                     4.910000   \n",
      "75%                 5.000000                     5.000000   \n",
      "max                 5.000000                     5.000000   \n",
      "\n",
      "       review_scores_location  review_scores_value  instant_bookable  \n",
      "count            25284.000000         25284.000000      25284.000000  \n",
      "mean                 4.766066             4.672977          0.171215  \n",
      "std                  0.310932             0.382976          0.376704  \n",
      "min                  0.000000             0.000000          0.000000  \n",
      "25%                  4.740000             4.650000          0.000000  \n",
      "50%                  4.780000             4.690000          0.000000  \n",
      "75%                  5.000000             4.890000          0.000000  \n",
      "max                  5.000000             5.000000          1.000000  \n",
      "\n",
      "[8 rows x 24 columns]\n"
     ]
    }
   ],
   "source": [
    "print(dfc.describe())"
   ]
  },
  {
   "cell_type": "code",
   "execution_count": 403,
   "metadata": {},
   "outputs": [
    {
     "name": "stdout",
     "output_type": "stream",
     "text": [
      "Significant columns:\n",
      "['host_since', 'host_response_time', 'host_verifications_email', 'host_has_profile_pic', 'neighbourhood_group_cleansed', 'neighbourhood_cleansed', 'property_type', 'room_type', 'accommodates', 'bathrooms_text', 'bedrooms', 'beds', 'has_availability']\n"
     ]
    }
   ],
   "source": [
    "import scipy.stats as stats\n",
    "\n",
    "# set the p-value threshold\n",
    "alpha = 0.05\n",
    "\n",
    "# create an empty list to store significant columns\n",
    "significant_cols = []\n",
    "\n",
    "# iterate over the columns in dfc and perform ANOVA test with 'price'\n",
    "for col in dfc.columns:\n",
    "    groups = []\n",
    "    for group in dfc[col].unique():\n",
    "        groups.append(df[dfc[col] == group]['price'])\n",
    "    f_val, p_val = stats.f_oneway(*groups)\n",
    "    if p_val < alpha:\n",
    "        significant_cols.append(col)\n",
    "\n",
    "# print the significant columns\n",
    "print(\"Significant columns:\")\n",
    "print(significant_cols)"
   ]
  },
  {
   "cell_type": "code",
   "execution_count": null,
   "metadata": {},
   "outputs": [],
   "source": [
    "sns.pairplot(dfc)"
   ]
  },
  {
   "cell_type": "code",
   "execution_count": 404,
   "metadata": {},
   "outputs": [
    {
     "name": "stdout",
     "output_type": "stream",
     "text": [
      "13\n"
     ]
    }
   ],
   "source": [
    "print(len(significant_cols))"
   ]
  },
  {
   "cell_type": "code",
   "execution_count": 221,
   "metadata": {
    "colab": {
     "base_uri": "https://localhost:8080/"
    },
    "id": "31O6AKHto0_-",
    "outputId": "7d0538d5-217c-4ada-e457-36e2c33d8a03"
   },
   "outputs": [
    {
     "data": {
      "text/plain": [
       "host_since                       float64\n",
       "host_response_time               float64\n",
       "host_is_superhost                float64\n",
       "host_verifications_email         float64\n",
       "host_verifications_work_email    float64\n",
       "host_identity_verified           float64\n",
       "host_has_profile_pic             float64\n",
       "neighbourhood_group_cleansed     float64\n",
       "neighbourhood_cleansed           float64\n",
       "property_type                    float64\n",
       "room_type                        float64\n",
       "accommodates                     float64\n",
       "bathrooms_text                   float64\n",
       "bedrooms                         float64\n",
       "beds                             float64\n",
       "has_availability                 float64\n",
       "review_scores_rating             float64\n",
       "review_scores_accuracy           float64\n",
       "review_scores_cleanliness        float64\n",
       "review_scores_checkin            float64\n",
       "review_scores_communication      float64\n",
       "review_scores_location           float64\n",
       "review_scores_value              float64\n",
       "instant_bookable                 float64\n",
       "dtype: object"
      ]
     },
     "execution_count": 221,
     "metadata": {},
     "output_type": "execute_result"
    }
   ],
   "source": [
    "dfc.dtypes"
   ]
  },
  {
   "cell_type": "code",
   "execution_count": 405,
   "metadata": {
    "id": "jjEqcA4M1tka"
   },
   "outputs": [],
   "source": [
    "df[\"price\"] = df[\"price\"].astype(float)\n"
   ]
  },
  {
   "cell_type": "code",
   "execution_count": 397,
   "metadata": {},
   "outputs": [
    {
     "data": {
      "text/plain": [
       "0        175.0\n",
       "1         75.0\n",
       "2        275.0\n",
       "4         68.0\n",
       "5         68.0\n",
       "         ...  \n",
       "25734    103.0\n",
       "25735    163.0\n",
       "25736    686.0\n",
       "25737    140.0\n",
       "25739     70.0\n",
       "Name: price, Length: 25284, dtype: float64"
      ]
     },
     "execution_count": 397,
     "metadata": {},
     "output_type": "execute_result"
    }
   ],
   "source": [
    "df[\"price\"]"
   ]
  },
  {
   "cell_type": "code",
   "execution_count": 406,
   "metadata": {
    "colab": {
     "base_uri": "https://localhost:8080/"
    },
    "id": "Zz0Skygz0tHf",
    "outputId": "d0ff644c-7635-42f0-b845-7030f709b2da"
   },
   "outputs": [
    {
     "name": "stdout",
     "output_type": "stream",
     "text": [
      "Index(['host_since', 'host_response_time', 'host_is_superhost',\n",
      "       'host_verifications_email', 'host_verifications_work_email',\n",
      "       'host_identity_verified', 'host_has_profile_pic',\n",
      "       'neighbourhood_group_cleansed', 'neighbourhood_cleansed',\n",
      "       'property_type', 'room_type', 'accommodates', 'bathrooms_text',\n",
      "       'bedrooms', 'beds', 'has_availability', 'review_scores_rating',\n",
      "       'review_scores_accuracy', 'review_scores_cleanliness',\n",
      "       'review_scores_checkin', 'review_scores_communication',\n",
      "       'review_scores_location', 'review_scores_value', 'instant_bookable'],\n",
      "      dtype='object')\n"
     ]
    }
   ],
   "source": [
    "print(dfc.columns)"
   ]
  },
  {
   "cell_type": "code",
   "execution_count": 407,
   "metadata": {
    "colab": {
     "base_uri": "https://localhost:8080/"
    },
    "id": "lNIsAltdmRHK",
    "outputId": "e8a81aa3-9b2b-4ea2-c242-2d8e04b07be9"
   },
   "outputs": [
    {
     "name": "stdout",
     "output_type": "stream",
     "text": [
      "Column: host_response_rate\n",
      "P-value: 0.16456534554550475\n",
      "--------------------\n",
      "Column: host_acceptance_rate\n",
      "P-value: 0.01692929638159525\n",
      "--------------------\n",
      "Column: host_listings_count\n",
      "P-value: 0.0013212118926123376\n",
      "--------------------\n",
      "Column: host_total_listings_count\n",
      "P-value: 0.0020067265509454285\n",
      "--------------------\n",
      "Column: latitude\n",
      "P-value: 0.4343927991997948\n",
      "--------------------\n",
      "Column: longitude\n",
      "P-value: 8.88060194568555e-14\n",
      "--------------------\n",
      "Column: minimum_nights\n",
      "P-value: 0.006269835423883442\n",
      "--------------------\n",
      "Column: maximum_nights\n",
      "P-value: 0.9347412505502956\n",
      "--------------------\n",
      "Column: minimum_minimum_nights\n",
      "P-value: 0.067950756945014\n",
      "--------------------\n",
      "Column: maximum_minimum_nights\n",
      "P-value: 0.22501127111008296\n",
      "--------------------\n",
      "Column: minimum_maximum_nights\n",
      "P-value: 2.0883630563738453e-09\n",
      "--------------------\n",
      "Column: maximum_maximum_nights\n",
      "P-value: 2.088308251023148e-09\n",
      "--------------------\n",
      "Column: minimum_nights_avg_ntm\n",
      "P-value: 0.25626718442024693\n",
      "--------------------\n",
      "Column: maximum_nights_avg_ntm\n",
      "P-value: 2.0883343195993296e-09\n",
      "--------------------\n",
      "Column: availability_30\n",
      "P-value: 4.1842094307630204e-07\n",
      "--------------------\n",
      "Column: availability_60\n",
      "P-value: 1.8949772148140705e-05\n",
      "--------------------\n",
      "Column: availability_90\n",
      "P-value: 2.126178670624066e-05\n",
      "--------------------\n",
      "Column: availability_365\n",
      "P-value: 0.006165627485362969\n",
      "--------------------\n",
      "Column: number_of_reviews\n",
      "P-value: 0.4880870937334765\n",
      "--------------------\n",
      "Column: number_of_reviews_ltm\n",
      "P-value: 0.5988513960152997\n",
      "--------------------\n",
      "Column: number_of_reviews_l30d\n",
      "P-value: 0.4967029463990557\n",
      "--------------------\n",
      "Column: calculated_host_listings_count\n",
      "P-value: 0.27019035152394316\n",
      "--------------------\n",
      "Column: calculated_host_listings_count_entire_homes\n",
      "P-value: 0.0007810487927880467\n",
      "--------------------\n",
      "Column: calculated_host_listings_count_private_rooms\n",
      "P-value: 0.0005476484716106694\n",
      "--------------------\n",
      "Column: calculated_host_listings_count_shared_rooms\n",
      "P-value: 0.1251646562728399\n",
      "--------------------\n",
      "Column: reviews_per_month\n",
      "P-value: 0.1301912266752539\n",
      "--------------------\n",
      "Column: price\n",
      "P-value: 0.0\n",
      "--------------------\n",
      "Significant columns:\n",
      "['host_acceptance_rate', 'host_listings_count', 'host_total_listings_count', 'longitude', 'minimum_nights', 'minimum_maximum_nights', 'maximum_maximum_nights', 'maximum_nights_avg_ntm', 'availability_30', 'availability_60', 'availability_90', 'availability_365', 'calculated_host_listings_count_entire_homes', 'calculated_host_listings_count_private_rooms', 'price']\n"
     ]
    }
   ],
   "source": [
    "import scipy.stats as stats\n",
    "from scipy.stats import pearsonr\n",
    "# Define significance level\n",
    "alpha = 0.05\n",
    "\n",
    "# Empty list to store significant columns\n",
    "significant_cols = []\n",
    "\n",
    "# Loop through columns in dfn and perform Pearson correlation test with 'price'\n",
    "significant_cols_n = []\n",
    "for col in dfn.columns:\n",
    "    corr, p_value = pearsonr(dfn[col], df['price'])\n",
    "    print(f\"Column: {col}\")\n",
    "    print(f\"P-value: {p_value}\")\n",
    "    if p_value < 0.05:\n",
    "        significant_cols_n.append(col)\n",
    "    print(\"--------------------\")\n",
    "\n",
    "# Print significant columns\n",
    "print(\"Significant columns:\")\n",
    "print(significant_cols_n)\n"
   ]
  },
  {
   "cell_type": "code",
   "execution_count": 408,
   "metadata": {
    "colab": {
     "base_uri": "https://localhost:8080/"
    },
    "id": "W5Wlkjeco81l",
    "outputId": "8610452b-a265-4253-cfe6-0cfa613d1b92"
   },
   "outputs": [
    {
     "name": "stdout",
     "output_type": "stream",
     "text": [
      "15\n"
     ]
    }
   ],
   "source": [
    "print(len(significant_cols_n))"
   ]
  },
  {
   "cell_type": "markdown",
   "metadata": {
    "id": "eYX7XF6c3pOJ"
   },
   "source": [
    "#Model"
   ]
  },
  {
   "cell_type": "code",
   "execution_count": 438,
   "metadata": {
    "id": "zH7G-HsX3CS3"
   },
   "outputs": [],
   "source": [
    "# Numerical values\n",
    "#select the columns you want to copy\n",
    "columns_to_copy1 =['host_acceptance_rate',\n",
    " 'host_listings_count',\n",
    " 'host_total_listings_count',\n",
    " 'longitude',\n",
    " 'minimum_nights',\n",
    " 'minimum_maximum_nights',\n",
    " 'maximum_maximum_nights',\n",
    " 'maximum_nights_avg_ntm',\n",
    " 'availability_30',\n",
    " 'availability_60',\n",
    " 'availability_90',\n",
    " 'availability_365',\n",
    " 'calculated_host_listings_count_entire_homes',\n",
    " 'calculated_host_listings_count_private_rooms','price']\n",
    "\n",
    "# create a new dataframe using the selected columns\n",
    "dfm = dfn[columns_to_copy1]"
   ]
  },
  {
   "cell_type": "code",
   "execution_count": 429,
   "metadata": {
    "colab": {
     "base_uri": "https://localhost:8080/",
     "height": 0
    },
    "id": "QR9nyC-J3r_V",
    "outputId": "bbd43c84-7e5e-4aa0-8533-d7e415bec308"
   },
   "outputs": [],
   "source": [
    "#empty dataframe \n",
    "dfm = pd.DataFrame()"
   ]
  },
  {
   "cell_type": "code",
   "execution_count": 430,
   "metadata": {},
   "outputs": [
    {
     "data": {
      "text/html": [
       "<div>\n",
       "<style scoped>\n",
       "    .dataframe tbody tr th:only-of-type {\n",
       "        vertical-align: middle;\n",
       "    }\n",
       "\n",
       "    .dataframe tbody tr th {\n",
       "        vertical-align: top;\n",
       "    }\n",
       "\n",
       "    .dataframe thead th {\n",
       "        text-align: right;\n",
       "    }\n",
       "</style>\n",
       "<table border=\"1\" class=\"dataframe\">\n",
       "  <thead>\n",
       "    <tr style=\"text-align: right;\">\n",
       "      <th></th>\n",
       "    </tr>\n",
       "  </thead>\n",
       "  <tbody>\n",
       "  </tbody>\n",
       "</table>\n",
       "</div>"
      ],
      "text/plain": [
       "Empty DataFrame\n",
       "Columns: []\n",
       "Index: []"
      ]
     },
     "execution_count": 430,
     "metadata": {},
     "output_type": "execute_result"
    }
   ],
   "source": [
    "dfm"
   ]
  },
  {
   "cell_type": "code",
   "execution_count": 308,
   "metadata": {
    "id": "yW9mQRpo3N8n"
   },
   "outputs": [],
   "source": [
    "columns_to_copy2 =   ['host_since']\n",
    " # create a new dataframe using the selected columns\n"
   ]
  },
  {
   "cell_type": "code",
   "execution_count": 439,
   "metadata": {},
   "outputs": [],
   "source": [
    "columns_to_copy2 =   ['host_since', 'host_response_time', 'host_verifications_email', \n",
    "                     'host_has_profile_pic', 'neighbourhood_group_cleansed', 'neighbourhood_cleansed', \n",
    "                     'property_type', 'room_type', 'accommodates', 'bathrooms_text', 'bedrooms', 'beds', 'has_availability']\n",
    " # create a new dataframe using the selected columns"
   ]
  },
  {
   "cell_type": "code",
   "execution_count": 436,
   "metadata": {},
   "outputs": [],
   "source": [
    "dfm = dfc[columns_to_copy2]"
   ]
  },
  {
   "cell_type": "code",
   "execution_count": 415,
   "metadata": {
    "colab": {
     "base_uri": "https://localhost:8080/"
    },
    "id": "Gwu6a2Qm5WvU",
    "outputId": "a5fc41c3-66ca-4f64-9e83-2533d7f1483c"
   },
   "outputs": [
    {
     "data": {
      "text/plain": [
       "Index(['host_since', 'host_response_time', 'host_verifications_email',\n",
       "       'host_has_profile_pic', 'neighbourhood_group_cleansed',\n",
       "       'neighbourhood_cleansed', 'property_type', 'room_type', 'accommodates',\n",
       "       'bathrooms_text', 'bedrooms', 'beds', 'has_availability'],\n",
       "      dtype='object')"
      ]
     },
     "execution_count": 415,
     "metadata": {},
     "output_type": "execute_result"
    }
   ],
   "source": [
    "dfm.columns"
   ]
  },
  {
   "cell_type": "code",
   "execution_count": 440,
   "metadata": {
    "id": "D3iAvc494if5"
   },
   "outputs": [],
   "source": [
    "dfm= dfm.join(dfc[columns_to_copy2])"
   ]
  },
  {
   "cell_type": "code",
   "execution_count": 426,
   "metadata": {
    "id": "K4oYNJPr3jQS"
   },
   "outputs": [
    {
     "ename": "KeyError",
     "evalue": "\"None of [Index(['price'], dtype='object')] are in the [columns]\"",
     "output_type": "error",
     "traceback": [
      "\u001b[1;31m---------------------------------------------------------------------------\u001b[0m",
      "\u001b[1;31mKeyError\u001b[0m                                  Traceback (most recent call last)",
      "\u001b[1;32m~\\AppData\\Local\\Temp\\ipykernel_29088\\193056999.py\u001b[0m in \u001b[0;36m<module>\u001b[1;34m\u001b[0m\n\u001b[0;32m      2\u001b[0m \u001b[1;33m\u001b[0m\u001b[0m\n\u001b[0;32m      3\u001b[0m \u001b[1;31m# use concat to add the columns to the beginning of merged_df\u001b[0m\u001b[1;33m\u001b[0m\u001b[1;33m\u001b[0m\u001b[0m\n\u001b[1;32m----> 4\u001b[1;33m \u001b[0mdfm\u001b[0m\u001b[1;33m=\u001b[0m \u001b[0mpd\u001b[0m\u001b[1;33m.\u001b[0m\u001b[0mconcat\u001b[0m\u001b[1;33m(\u001b[0m\u001b[1;33m[\u001b[0m\u001b[0mdfc\u001b[0m\u001b[1;33m[\u001b[0m\u001b[0mcols_to_add\u001b[0m\u001b[1;33m]\u001b[0m\u001b[1;33m,\u001b[0m \u001b[0mdfm\u001b[0m\u001b[1;33m]\u001b[0m\u001b[1;33m,\u001b[0m \u001b[0maxis\u001b[0m\u001b[1;33m=\u001b[0m\u001b[1;36m1\u001b[0m\u001b[1;33m)\u001b[0m\u001b[1;33m\u001b[0m\u001b[1;33m\u001b[0m\u001b[0m\n\u001b[0m",
      "\u001b[1;32m~\\anaconda3\\lib\\site-packages\\pandas\\core\\frame.py\u001b[0m in \u001b[0;36m__getitem__\u001b[1;34m(self, key)\u001b[0m\n\u001b[0;32m   3509\u001b[0m             \u001b[1;32mif\u001b[0m \u001b[0mis_iterator\u001b[0m\u001b[1;33m(\u001b[0m\u001b[0mkey\u001b[0m\u001b[1;33m)\u001b[0m\u001b[1;33m:\u001b[0m\u001b[1;33m\u001b[0m\u001b[1;33m\u001b[0m\u001b[0m\n\u001b[0;32m   3510\u001b[0m                 \u001b[0mkey\u001b[0m \u001b[1;33m=\u001b[0m \u001b[0mlist\u001b[0m\u001b[1;33m(\u001b[0m\u001b[0mkey\u001b[0m\u001b[1;33m)\u001b[0m\u001b[1;33m\u001b[0m\u001b[1;33m\u001b[0m\u001b[0m\n\u001b[1;32m-> 3511\u001b[1;33m             \u001b[0mindexer\u001b[0m \u001b[1;33m=\u001b[0m \u001b[0mself\u001b[0m\u001b[1;33m.\u001b[0m\u001b[0mcolumns\u001b[0m\u001b[1;33m.\u001b[0m\u001b[0m_get_indexer_strict\u001b[0m\u001b[1;33m(\u001b[0m\u001b[0mkey\u001b[0m\u001b[1;33m,\u001b[0m \u001b[1;34m\"columns\"\u001b[0m\u001b[1;33m)\u001b[0m\u001b[1;33m[\u001b[0m\u001b[1;36m1\u001b[0m\u001b[1;33m]\u001b[0m\u001b[1;33m\u001b[0m\u001b[1;33m\u001b[0m\u001b[0m\n\u001b[0m\u001b[0;32m   3512\u001b[0m \u001b[1;33m\u001b[0m\u001b[0m\n\u001b[0;32m   3513\u001b[0m         \u001b[1;31m# take() does not accept boolean indexers\u001b[0m\u001b[1;33m\u001b[0m\u001b[1;33m\u001b[0m\u001b[0m\n",
      "\u001b[1;32m~\\anaconda3\\lib\\site-packages\\pandas\\core\\indexes\\base.py\u001b[0m in \u001b[0;36m_get_indexer_strict\u001b[1;34m(self, key, axis_name)\u001b[0m\n\u001b[0;32m   5794\u001b[0m             \u001b[0mkeyarr\u001b[0m\u001b[1;33m,\u001b[0m \u001b[0mindexer\u001b[0m\u001b[1;33m,\u001b[0m \u001b[0mnew_indexer\u001b[0m \u001b[1;33m=\u001b[0m \u001b[0mself\u001b[0m\u001b[1;33m.\u001b[0m\u001b[0m_reindex_non_unique\u001b[0m\u001b[1;33m(\u001b[0m\u001b[0mkeyarr\u001b[0m\u001b[1;33m)\u001b[0m\u001b[1;33m\u001b[0m\u001b[1;33m\u001b[0m\u001b[0m\n\u001b[0;32m   5795\u001b[0m \u001b[1;33m\u001b[0m\u001b[0m\n\u001b[1;32m-> 5796\u001b[1;33m         \u001b[0mself\u001b[0m\u001b[1;33m.\u001b[0m\u001b[0m_raise_if_missing\u001b[0m\u001b[1;33m(\u001b[0m\u001b[0mkeyarr\u001b[0m\u001b[1;33m,\u001b[0m \u001b[0mindexer\u001b[0m\u001b[1;33m,\u001b[0m \u001b[0maxis_name\u001b[0m\u001b[1;33m)\u001b[0m\u001b[1;33m\u001b[0m\u001b[1;33m\u001b[0m\u001b[0m\n\u001b[0m\u001b[0;32m   5797\u001b[0m \u001b[1;33m\u001b[0m\u001b[0m\n\u001b[0;32m   5798\u001b[0m         \u001b[0mkeyarr\u001b[0m \u001b[1;33m=\u001b[0m \u001b[0mself\u001b[0m\u001b[1;33m.\u001b[0m\u001b[0mtake\u001b[0m\u001b[1;33m(\u001b[0m\u001b[0mindexer\u001b[0m\u001b[1;33m)\u001b[0m\u001b[1;33m\u001b[0m\u001b[1;33m\u001b[0m\u001b[0m\n",
      "\u001b[1;32m~\\anaconda3\\lib\\site-packages\\pandas\\core\\indexes\\base.py\u001b[0m in \u001b[0;36m_raise_if_missing\u001b[1;34m(self, key, indexer, axis_name)\u001b[0m\n\u001b[0;32m   5854\u001b[0m                 \u001b[1;32mif\u001b[0m \u001b[0muse_interval_msg\u001b[0m\u001b[1;33m:\u001b[0m\u001b[1;33m\u001b[0m\u001b[1;33m\u001b[0m\u001b[0m\n\u001b[0;32m   5855\u001b[0m                     \u001b[0mkey\u001b[0m \u001b[1;33m=\u001b[0m \u001b[0mlist\u001b[0m\u001b[1;33m(\u001b[0m\u001b[0mkey\u001b[0m\u001b[1;33m)\u001b[0m\u001b[1;33m\u001b[0m\u001b[1;33m\u001b[0m\u001b[0m\n\u001b[1;32m-> 5856\u001b[1;33m                 \u001b[1;32mraise\u001b[0m \u001b[0mKeyError\u001b[0m\u001b[1;33m(\u001b[0m\u001b[1;34mf\"None of [{key}] are in the [{axis_name}]\"\u001b[0m\u001b[1;33m)\u001b[0m\u001b[1;33m\u001b[0m\u001b[1;33m\u001b[0m\u001b[0m\n\u001b[0m\u001b[0;32m   5857\u001b[0m \u001b[1;33m\u001b[0m\u001b[0m\n\u001b[0;32m   5858\u001b[0m             \u001b[0mnot_found\u001b[0m \u001b[1;33m=\u001b[0m \u001b[0mlist\u001b[0m\u001b[1;33m(\u001b[0m\u001b[0mensure_index\u001b[0m\u001b[1;33m(\u001b[0m\u001b[0mkey\u001b[0m\u001b[1;33m)\u001b[0m\u001b[1;33m[\u001b[0m\u001b[0mmissing_mask\u001b[0m\u001b[1;33m.\u001b[0m\u001b[0mnonzero\u001b[0m\u001b[1;33m(\u001b[0m\u001b[1;33m)\u001b[0m\u001b[1;33m[\u001b[0m\u001b[1;36m0\u001b[0m\u001b[1;33m]\u001b[0m\u001b[1;33m]\u001b[0m\u001b[1;33m.\u001b[0m\u001b[0munique\u001b[0m\u001b[1;33m(\u001b[0m\u001b[1;33m)\u001b[0m\u001b[1;33m)\u001b[0m\u001b[1;33m\u001b[0m\u001b[1;33m\u001b[0m\u001b[0m\n",
      "\u001b[1;31mKeyError\u001b[0m: \"None of [Index(['price'], dtype='object')] are in the [columns]\""
     ]
    }
   ],
   "source": [
    "cols_to_add = ['price']\n",
    "\n",
    "# use concat to add the columns to the beginning of merged_df\n",
    "dfm= pd.concat([dfc[cols_to_add], dfm], axis=1)"
   ]
  },
  {
   "cell_type": "code",
   "execution_count": 441,
   "metadata": {
    "colab": {
     "base_uri": "https://localhost:8080/"
    },
    "id": "6fjuYL0l7Mrl",
    "outputId": "94b11b0d-1c9f-4f4f-de27-d30158276d93"
   },
   "outputs": [
    {
     "data": {
      "text/plain": [
       "(25284, 28)"
      ]
     },
     "execution_count": 441,
     "metadata": {},
     "output_type": "execute_result"
    }
   ],
   "source": [
    "dfm.shape"
   ]
  },
  {
   "cell_type": "code",
   "execution_count": 324,
   "metadata": {},
   "outputs": [
    {
     "data": {
      "text/plain": [
       "array([1., 0.])"
      ]
     },
     "execution_count": 324,
     "metadata": {},
     "output_type": "execute_result"
    }
   ],
   "source": [
    "dfm['has_availability'].unique()"
   ]
  },
  {
   "cell_type": "code",
   "execution_count": 339,
   "metadata": {},
   "outputs": [
    {
     "name": "stdout",
     "output_type": "stream",
     "text": [
      "Test set RMSE: 264.6511548032903\n"
     ]
    }
   ],
   "source": [
    "import pandas as pd\n",
    "from sklearn.linear_model import LinearRegression\n",
    "from sklearn.model_selection import train_test_split\n",
    "\n",
    "\n",
    "# Compute the correlation matrix\n",
    "corr_matrix = dfm.corr()\n",
    "\n",
    "# Identify the input features with the highest correlation coefficients with the target variable\n",
    "corr_features = corr_matrix['price'].abs().sort_values(ascending=False)\n",
    "\n",
    "# Remove the input features that have low correlation coefficients with the target variable\n",
    "corr_threshold = 0.1\n",
    "selected_features = corr_features[corr_features >= corr_threshold].index\n",
    "dfm_selected = dfm[selected_features]\n",
    "\n",
    "# Split the dataset into training and testing sets\n",
    "X_train, X_test, y_train, y_test = train_test_split(dfm_selected.drop('price', axis=1), dfm_selected['price'], test_size=0.3, random_state=42)\n",
    "\n",
    "# Train a linear regression model using the selected features\n",
    "lr_model = LinearRegression()\n",
    "lr_model.fit(X_train, y_train)\n",
    "\n",
    "# Evaluate the model on the testing set\n",
    "rmse = mean_squared_error(y_test, lr_model.predict(X_test), squared=False)\n",
    "print(\"Test set RMSE:\", rmse)\n"
   ]
  },
  {
   "cell_type": "code",
   "execution_count": 342,
   "metadata": {},
   "outputs": [
    {
     "name": "stdout",
     "output_type": "stream",
     "text": [
      "       price  predicted_price\n",
      "0      175.0       156.759680\n",
      "1       75.0        61.833248\n",
      "2      275.0       263.908868\n",
      "4       68.0       283.715079\n",
      "5       68.0       115.355961\n",
      "...      ...              ...\n",
      "25734  103.0       197.947463\n",
      "25735  163.0       363.081168\n",
      "25736  686.0       891.366256\n",
      "25737  140.0       206.265789\n",
      "25739   70.0       280.569201\n",
      "\n",
      "[25284 rows x 2 columns]\n"
     ]
    }
   ],
   "source": [
    "import pandas as pd\n",
    "from sklearn.linear_model import LinearRegression\n",
    "from sklearn.model_selection import train_test_split\n",
    "\n",
    "# Split the dataset into training and testing sets\n",
    "X_train, X_test, y_train, y_test = train_test_split(dfm.drop('price', axis=1), dfm['price'], test_size=0.3, random_state=52)\n",
    "\n",
    "# Train a linear regression model\n",
    "lr_model = LinearRegression()\n",
    "lr_model.fit(X_train, y_train)\n",
    "\n",
    "# Predict the prices for the test set\n",
    "y_pred = lr_model.predict(X_test)\n",
    "\n",
    "# Add the predicted prices to the DataFrame\n",
    "dfm['predicted_price'] = lr_model.predict(dfm.drop('price', axis=1))\n",
    "\n",
    "# Select only the predicted and original prices and print the results\n",
    "print(dfm.loc[:, ['price', 'predicted_price']])\n"
   ]
  },
  {
   "cell_type": "code",
   "execution_count": 327,
   "metadata": {
    "colab": {
     "base_uri": "https://localhost:8080/"
    },
    "id": "E-XkE_jXUWJm",
    "outputId": "e4d0e6e3-376b-4e35-ce89-72f181df8bb5"
   },
   "outputs": [],
   "source": [
    "from sklearn.linear_model import LogisticRegression\n",
    "from sklearn.linear_model import LinearRegression\n",
    "from sklearn.model_selection import train_test_split\n",
    "from sklearn.metrics import classification_report\n",
    "from sklearn.metrics import confusion_matrix\n",
    "from sklearn.metrics import r2_score"
   ]
  },
  {
   "cell_type": "code",
   "execution_count": 328,
   "metadata": {},
   "outputs": [
    {
     "name": "stdout",
     "output_type": "stream",
     "text": [
      "price                                           0\n",
      "host_acceptance_rate                            0\n",
      "host_listings_count                             0\n",
      "host_total_listings_count                       0\n",
      "longitude                                       0\n",
      "minimum_nights                                  0\n",
      "minimum_maximum_nights                          0\n",
      "maximum_maximum_nights                          0\n",
      "maximum_nights_avg_ntm                          0\n",
      "availability_30                                 0\n",
      "availability_60                                 0\n",
      "availability_90                                 0\n",
      "availability_365                                0\n",
      "calculated_host_listings_count_entire_homes     0\n",
      "calculated_host_listings_count_private_rooms    0\n",
      "host_since                                      0\n",
      "host_response_time                              0\n",
      "host_verifications_email                        0\n",
      "host_has_profile_pic                            0\n",
      "neighbourhood_group_cleansed                    0\n",
      "neighbourhood_cleansed                          0\n",
      "property_type                                   0\n",
      "room_type                                       0\n",
      "accommodates                                    0\n",
      "bathrooms_text                                  0\n",
      "bedrooms                                        0\n",
      "beds                                            0\n",
      "has_availability                                0\n",
      "predicted_price                                 0\n",
      "dtype: int64\n"
     ]
    }
   ],
   "source": [
    "# Find the sum of missing values for each feature\n",
    "missing_values=dfm.isnull().sum()\n",
    "# Set the maximum number of columns to be displayed\n",
    "pd.options.display.max_rows=100\n",
    "# Print the number of missing values for each feature\n",
    "print(missing_values)\n"
   ]
  },
  {
   "cell_type": "code",
   "execution_count": 329,
   "metadata": {},
   "outputs": [
    {
     "data": {
      "text/plain": [
       "(25284, 29)"
      ]
     },
     "execution_count": 329,
     "metadata": {},
     "output_type": "execute_result"
    }
   ],
   "source": [
    "dfm.shape"
   ]
  },
  {
   "cell_type": "code",
   "execution_count": null,
   "metadata": {},
   "outputs": [],
   "source": [
    "def model_predict(X_train, y_train, x_test, y_test, clf):\n",
    "    \n",
    "    model = clf.fit(X_train, y_train)\n",
    "    y_pred = model.predict(x_test)\n",
    "    rmse ------\n",
    "    mse -------\n",
    "    mae --------\n",
    "    \n",
    "    \n",
    "     return rmse mse, mae\n",
    "    \n",
    "    "
   ]
  },
  {
   "cell_type": "code",
   "execution_count": 442,
   "metadata": {},
   "outputs": [],
   "source": [
    "from sklearn.model_selection import train_test_split\n",
    "\n",
    "# Split dataset into training and testing sets\n",
    "X_train, X_test, y_train, y_test = train_test_split(dfm.drop('price', axis=1), dfm['price'], test_size=0.3, random_state=42)\n"
   ]
  },
  {
   "cell_type": "code",
   "execution_count": 331,
   "metadata": {},
   "outputs": [
    {
     "data": {
      "text/plain": [
       "193.11046664909043"
      ]
     },
     "execution_count": 331,
     "metadata": {},
     "output_type": "execute_result"
    }
   ],
   "source": [
    "y_test.mean()"
   ]
  },
  {
   "cell_type": "code",
   "execution_count": 332,
   "metadata": {},
   "outputs": [
    {
     "data": {
      "text/plain": [
       "205.06763170384434"
      ]
     },
     "execution_count": 332,
     "metadata": {},
     "output_type": "execute_result"
    }
   ],
   "source": [
    "df['price'].mean()"
   ]
  },
  {
   "cell_type": "code",
   "execution_count": 257,
   "metadata": {},
   "outputs": [],
   "source": [
    "lr_model = LinearRegression()\n",
    "ridge_model = Ridge()\n",
    "lasso_model = Lasso()\n",
    "dt_model = DecisionTreeRegressor()\n",
    "xgb_model = XGBRegressor()\n",
    "gb_model = GradientBoostingRegressor()\n",
    "rf_model = RandomForestRegressor()"
   ]
  },
  {
   "cell_type": "code",
   "execution_count": 443,
   "metadata": {},
   "outputs": [
    {
     "name": "stdout",
     "output_type": "stream",
     "text": [
      "0.16974236578032464\n",
      "0.017857145558002774\n"
     ]
    },
    {
     "name": "stderr",
     "output_type": "stream",
     "text": [
      "C:\\Users\\16174\\anaconda3\\lib\\site-packages\\sklearn\\linear_model\\_ridge.py:157: LinAlgWarning: Ill-conditioned matrix (rcond=7.6554e-21): result may not be accurate.\n",
      "  return linalg.solve(A, Xy, sym_pos=True, overwrite_a=True).T\n"
     ]
    }
   ],
   "source": [
    "lr=Ridge()\n",
    "lr.fit(X_train,y_train)\n",
    "print(lr.score(X_test,y_test))\n",
    "print(lr.score(X_train,y_train))"
   ]
  },
  {
   "cell_type": "markdown",
   "metadata": {
    "tags": []
   },
   "source": [
    "## ML models   "
   ]
  },
  {
   "cell_type": "code",
   "execution_count": 314,
   "metadata": {},
   "outputs": [],
   "source": [
    "from sklearn.metrics import mean_squared_error, mean_absolute_error\n",
    "import numpy as np\n",
    "\n",
    "def model_predict(X_train, y_train, X_test, y_test, clf):\n",
    "    \"\"\"\n",
    "    Train a model on the training data and make predictions on the test data.\n",
    "    \n",
    "    Args:\n",
    "    X_train (numpy.ndarray): Training features\n",
    "    y_train (numpy.ndarray): Training target\n",
    "    X_test (numpy.ndarray): Testing features\n",
    "    y_test (numpy.ndarray): Testing target\n",
    "    clf (sklearn estimator object): Classifier object to use for training and testing\n",
    "    \n",
    "    Returns:\n",
    "    rmse (float): Root Mean Squared Error score\n",
    "    mse (float): Mean Squared Error score\n",
    "    mae (float): Mean Absolute Error score\n",
    "    \"\"\"\n",
    "    # Fit the model on the training data\n",
    "    clf.fit(X_train, y_train)\n",
    "    \n",
    "    # Make predictions on the test data\n",
    "    y_pred = clf.predict(X_test)\n",
    "    \n",
    "    # Calculate RMSE, MSE, and MAE scores\n",
    "    rmse = np.sqrt(mean_squared_error(y_test, y_pred))\n",
    "    mse = mean_squared_error(y_test, y_pred)\n",
    "    mae = mean_absolute_error(y_test, y_pred)\n",
    "    \n",
    "    \n",
    "    # Return scores\n",
    "    return rmse, mse, mae\n"
   ]
  },
  {
   "cell_type": "code",
   "execution_count": 79,
   "metadata": {},
   "outputs": [
    {
     "name": "stdout",
     "output_type": "stream",
     "text": [
      "Linear Regression Model - RMSE: 265.40717325220925, MSE: 70440.96761372822, MAE: 103.57132437364032\n",
      "Ridge Model - RMSE: 265.34149156176113, MSE: 70406.10714422016, MAE: 103.39342580974696\n"
     ]
    },
    {
     "name": "stderr",
     "output_type": "stream",
     "text": [
      "C:\\Users\\16174\\anaconda3\\lib\\site-packages\\sklearn\\linear_model\\_ridge.py:157: LinAlgWarning: Ill-conditioned matrix (rcond=7.6554e-21): result may not be accurate.\n",
      "  return linalg.solve(A, Xy, sym_pos=True, overwrite_a=True).T\n",
      "C:\\Users\\16174\\anaconda3\\lib\\site-packages\\sklearn\\linear_model\\_coordinate_descent.py:647: ConvergenceWarning: Objective did not converge. You might want to increase the number of iterations, check the scale of the features or consider increasing regularisation. Duality gap: 1.023e+10, tolerance: 2.094e+06\n",
      "  model = cd_fast.enet_coordinate_descent(\n"
     ]
    },
    {
     "name": "stdout",
     "output_type": "stream",
     "text": [
      "Lasso Model - RMSE: 264.65509189687407, MSE: 70042.31766694286, MAE: 102.31239392637117\n",
      "Decision Tree Regressor Model - RMSE: 1148.2737251243348, MSE: 1318532.5478109163, MAE: 108.20925608577204\n",
      "XGBoost Regressor Model - RMSE: 728.989955795122, MSE: 531426.3556501738, MAE: 97.7554969016768\n"
     ]
    },
    {
     "ename": "KeyboardInterrupt",
     "evalue": "",
     "output_type": "error",
     "traceback": [
      "\u001b[1;31m---------------------------------------------------------------------------\u001b[0m",
      "\u001b[1;31mKeyboardInterrupt\u001b[0m                         Traceback (most recent call last)",
      "\u001b[1;32m~\\AppData\\Local\\Temp\\ipykernel_29088\\3559123433.py\u001b[0m in \u001b[0;36m<module>\u001b[1;34m\u001b[0m\n\u001b[0;32m     33\u001b[0m \u001b[1;33m\u001b[0m\u001b[0m\n\u001b[0;32m     34\u001b[0m \u001b[1;31m# Make predictions using Gradient Boosting Regressor model\u001b[0m\u001b[1;33m\u001b[0m\u001b[1;33m\u001b[0m\u001b[0m\n\u001b[1;32m---> 35\u001b[1;33m \u001b[0mrmse\u001b[0m\u001b[1;33m,\u001b[0m \u001b[0mmse\u001b[0m\u001b[1;33m,\u001b[0m \u001b[0mmae\u001b[0m \u001b[1;33m=\u001b[0m \u001b[0mmodel_predict\u001b[0m\u001b[1;33m(\u001b[0m\u001b[0mX_train\u001b[0m\u001b[1;33m,\u001b[0m \u001b[0my_train\u001b[0m\u001b[1;33m,\u001b[0m \u001b[0mX_test\u001b[0m\u001b[1;33m,\u001b[0m \u001b[0my_test\u001b[0m\u001b[1;33m,\u001b[0m \u001b[0mgb_model\u001b[0m\u001b[1;33m)\u001b[0m\u001b[1;33m\u001b[0m\u001b[1;33m\u001b[0m\u001b[0m\n\u001b[0m\u001b[0;32m     36\u001b[0m \u001b[0mprint\u001b[0m\u001b[1;33m(\u001b[0m\u001b[1;34mf\"Gradient Boosting Regressor Model - RMSE: {rmse}, MSE: {mse}, MAE: {mae}\"\u001b[0m\u001b[1;33m)\u001b[0m\u001b[1;33m\u001b[0m\u001b[1;33m\u001b[0m\u001b[0m\n\u001b[0;32m     37\u001b[0m \u001b[1;33m\u001b[0m\u001b[0m\n",
      "\u001b[1;32m~\\AppData\\Local\\Temp\\ipykernel_29088\\64347729.py\u001b[0m in \u001b[0;36mmodel_predict\u001b[1;34m(X_train, y_train, X_test, y_test, clf)\u001b[0m\n\u001b[0;32m     19\u001b[0m     \"\"\"\n\u001b[0;32m     20\u001b[0m     \u001b[1;31m# Fit the model on the training data\u001b[0m\u001b[1;33m\u001b[0m\u001b[1;33m\u001b[0m\u001b[0m\n\u001b[1;32m---> 21\u001b[1;33m     \u001b[0mclf\u001b[0m\u001b[1;33m.\u001b[0m\u001b[0mfit\u001b[0m\u001b[1;33m(\u001b[0m\u001b[0mX_train\u001b[0m\u001b[1;33m,\u001b[0m \u001b[0my_train\u001b[0m\u001b[1;33m)\u001b[0m\u001b[1;33m\u001b[0m\u001b[1;33m\u001b[0m\u001b[0m\n\u001b[0m\u001b[0;32m     22\u001b[0m \u001b[1;33m\u001b[0m\u001b[0m\n\u001b[0;32m     23\u001b[0m     \u001b[1;31m# Make predictions on the test data\u001b[0m\u001b[1;33m\u001b[0m\u001b[1;33m\u001b[0m\u001b[0m\n",
      "\u001b[1;32m~\\anaconda3\\lib\\site-packages\\sklearn\\ensemble\\_gb.py\u001b[0m in \u001b[0;36mfit\u001b[1;34m(self, X, y, sample_weight, monitor)\u001b[0m\n\u001b[0;32m    584\u001b[0m \u001b[1;33m\u001b[0m\u001b[0m\n\u001b[0;32m    585\u001b[0m         \u001b[1;31m# fit the boosting stages\u001b[0m\u001b[1;33m\u001b[0m\u001b[1;33m\u001b[0m\u001b[0m\n\u001b[1;32m--> 586\u001b[1;33m         n_stages = self._fit_stages(\n\u001b[0m\u001b[0;32m    587\u001b[0m             \u001b[0mX\u001b[0m\u001b[1;33m,\u001b[0m\u001b[1;33m\u001b[0m\u001b[1;33m\u001b[0m\u001b[0m\n\u001b[0;32m    588\u001b[0m             \u001b[0my\u001b[0m\u001b[1;33m,\u001b[0m\u001b[1;33m\u001b[0m\u001b[1;33m\u001b[0m\u001b[0m\n",
      "\u001b[1;32m~\\anaconda3\\lib\\site-packages\\sklearn\\ensemble\\_gb.py\u001b[0m in \u001b[0;36m_fit_stages\u001b[1;34m(self, X, y, raw_predictions, sample_weight, random_state, X_val, y_val, sample_weight_val, begin_at_stage, monitor)\u001b[0m\n\u001b[0;32m    661\u001b[0m \u001b[1;33m\u001b[0m\u001b[0m\n\u001b[0;32m    662\u001b[0m             \u001b[1;31m# fit next stage of trees\u001b[0m\u001b[1;33m\u001b[0m\u001b[1;33m\u001b[0m\u001b[0m\n\u001b[1;32m--> 663\u001b[1;33m             raw_predictions = self._fit_stage(\n\u001b[0m\u001b[0;32m    664\u001b[0m                 \u001b[0mi\u001b[0m\u001b[1;33m,\u001b[0m\u001b[1;33m\u001b[0m\u001b[1;33m\u001b[0m\u001b[0m\n\u001b[0;32m    665\u001b[0m                 \u001b[0mX\u001b[0m\u001b[1;33m,\u001b[0m\u001b[1;33m\u001b[0m\u001b[1;33m\u001b[0m\u001b[0m\n",
      "\u001b[1;32m~\\anaconda3\\lib\\site-packages\\sklearn\\ensemble\\_gb.py\u001b[0m in \u001b[0;36m_fit_stage\u001b[1;34m(self, i, X, y, raw_predictions, sample_weight, sample_mask, random_state, X_csc, X_csr)\u001b[0m\n\u001b[0;32m    244\u001b[0m \u001b[1;33m\u001b[0m\u001b[0m\n\u001b[0;32m    245\u001b[0m             \u001b[0mX\u001b[0m \u001b[1;33m=\u001b[0m \u001b[0mX_csr\u001b[0m \u001b[1;32mif\u001b[0m \u001b[0mX_csr\u001b[0m \u001b[1;32mis\u001b[0m \u001b[1;32mnot\u001b[0m \u001b[1;32mNone\u001b[0m \u001b[1;32melse\u001b[0m \u001b[0mX\u001b[0m\u001b[1;33m\u001b[0m\u001b[1;33m\u001b[0m\u001b[0m\n\u001b[1;32m--> 246\u001b[1;33m             \u001b[0mtree\u001b[0m\u001b[1;33m.\u001b[0m\u001b[0mfit\u001b[0m\u001b[1;33m(\u001b[0m\u001b[0mX\u001b[0m\u001b[1;33m,\u001b[0m \u001b[0mresidual\u001b[0m\u001b[1;33m,\u001b[0m \u001b[0msample_weight\u001b[0m\u001b[1;33m=\u001b[0m\u001b[0msample_weight\u001b[0m\u001b[1;33m,\u001b[0m \u001b[0mcheck_input\u001b[0m\u001b[1;33m=\u001b[0m\u001b[1;32mFalse\u001b[0m\u001b[1;33m)\u001b[0m\u001b[1;33m\u001b[0m\u001b[1;33m\u001b[0m\u001b[0m\n\u001b[0m\u001b[0;32m    247\u001b[0m \u001b[1;33m\u001b[0m\u001b[0m\n\u001b[0;32m    248\u001b[0m             \u001b[1;31m# update tree leaves\u001b[0m\u001b[1;33m\u001b[0m\u001b[1;33m\u001b[0m\u001b[0m\n",
      "\u001b[1;32m~\\anaconda3\\lib\\site-packages\\sklearn\\tree\\_classes.py\u001b[0m in \u001b[0;36mfit\u001b[1;34m(self, X, y, sample_weight, check_input, X_idx_sorted)\u001b[0m\n\u001b[0;32m   1313\u001b[0m         \"\"\"\n\u001b[0;32m   1314\u001b[0m \u001b[1;33m\u001b[0m\u001b[0m\n\u001b[1;32m-> 1315\u001b[1;33m         super().fit(\n\u001b[0m\u001b[0;32m   1316\u001b[0m             \u001b[0mX\u001b[0m\u001b[1;33m,\u001b[0m\u001b[1;33m\u001b[0m\u001b[1;33m\u001b[0m\u001b[0m\n\u001b[0;32m   1317\u001b[0m             \u001b[0my\u001b[0m\u001b[1;33m,\u001b[0m\u001b[1;33m\u001b[0m\u001b[1;33m\u001b[0m\u001b[0m\n",
      "\u001b[1;32m~\\anaconda3\\lib\\site-packages\\sklearn\\tree\\_classes.py\u001b[0m in \u001b[0;36mfit\u001b[1;34m(self, X, y, sample_weight, check_input, X_idx_sorted)\u001b[0m\n\u001b[0;32m    418\u001b[0m             )\n\u001b[0;32m    419\u001b[0m \u001b[1;33m\u001b[0m\u001b[0m\n\u001b[1;32m--> 420\u001b[1;33m         \u001b[0mbuilder\u001b[0m\u001b[1;33m.\u001b[0m\u001b[0mbuild\u001b[0m\u001b[1;33m(\u001b[0m\u001b[0mself\u001b[0m\u001b[1;33m.\u001b[0m\u001b[0mtree_\u001b[0m\u001b[1;33m,\u001b[0m \u001b[0mX\u001b[0m\u001b[1;33m,\u001b[0m \u001b[0my\u001b[0m\u001b[1;33m,\u001b[0m \u001b[0msample_weight\u001b[0m\u001b[1;33m)\u001b[0m\u001b[1;33m\u001b[0m\u001b[1;33m\u001b[0m\u001b[0m\n\u001b[0m\u001b[0;32m    421\u001b[0m \u001b[1;33m\u001b[0m\u001b[0m\n\u001b[0;32m    422\u001b[0m         \u001b[1;32mif\u001b[0m \u001b[0mself\u001b[0m\u001b[1;33m.\u001b[0m\u001b[0mn_outputs_\u001b[0m \u001b[1;33m==\u001b[0m \u001b[1;36m1\u001b[0m \u001b[1;32mand\u001b[0m \u001b[0mis_classifier\u001b[0m\u001b[1;33m(\u001b[0m\u001b[0mself\u001b[0m\u001b[1;33m)\u001b[0m\u001b[1;33m:\u001b[0m\u001b[1;33m\u001b[0m\u001b[1;33m\u001b[0m\u001b[0m\n",
      "\u001b[1;31mKeyboardInterrupt\u001b[0m: "
     ]
    }
   ],
   "source": [
    "from sklearn.linear_model import LinearRegression, Lasso\n",
    "from sklearn.ensemble import RandomForestRegressor\n",
    "from sklearn.metrics import mean_squared_error, mean_absolute_error\n",
    "\n",
    "# Initialize a Linear Regression model\n",
    "lr_model = LinearRegression()\n",
    "ridge_model = Ridge()\n",
    "lasso_model = Lasso()\n",
    "dt_model = DecisionTreeRegressor()\n",
    "xgb_model = XGBRegressor()\n",
    "gb_model = GradientBoostingRegressor()\n",
    "rf_model = RandomForestRegressor()\n",
    "\n",
    "# Make predictions using Linear Regression model\n",
    "rmse, mse, mae = model_predict(X_train, y_train, X_test, y_test, lr_model)\n",
    "print(f\"Linear Regression Model - RMSE: {rmse}, MSE: {mse}, MAE: {mae}\")\n",
    "\n",
    "# Make predictions using Ridge model\n",
    "rmse, mse, mae = model_predict(X_train, y_train, X_test, y_test, ridge_model)\n",
    "print(f\"Ridge Model - RMSE: {rmse}, MSE: {mse}, MAE: {mae}\")\n",
    "\n",
    "# Make predictions using Lasso model\n",
    "rmse, mse, mae = model_predict(X_train, y_train, X_test, y_test, lasso_model)\n",
    "print(f\"Lasso Model - RMSE: {rmse}, MSE: {mse}, MAE: {mae}\")\n",
    "\n",
    "# Make predictions using Decision Tree Regressor model\n",
    "rmse, mse, mae = model_predict(X_train, y_train, X_test, y_test, dt_model)\n",
    "print(f\"Decision Tree Regressor Model - RMSE: {rmse}, MSE: {mse}, MAE: {mae}\")\n",
    "\n",
    "# Make predictions using XGBoost Regressor model\n",
    "rmse, mse, mae = model_predict(X_train, y_train, X_test, y_test, xgb_model)\n",
    "print(f\"XGBoost Regressor Model - RMSE: {rmse}, MSE: {mse}, MAE: {mae}\")\n",
    "\n",
    "# Make predictions using Gradient Boosting Regressor model\n",
    "rmse, mse, mae = model_predict(X_train, y_train, X_test, y_test, gb_model)\n",
    "print(f\"Gradient Boosting Regressor Model - RMSE: {rmse}, MSE: {mse}, MAE: {mae}\")\n",
    "\n",
    "# Make predictions using Random Forest Regressor model\n",
    "rmse, mse, mae = model_predict(X_train, y_train, X_test, y_test, rf_model)\n",
    "print(f\"Random Forest Regressor Model - RMSE: {rmse}, MSE: {mse}, MAE: {mae}\")\n"
   ]
  },
  {
   "cell_type": "code",
   "execution_count": 62,
   "metadata": {},
   "outputs": [
    {
     "name": "stdout",
     "output_type": "stream",
     "text": [
      "Linear Regression Model - RMSE: 265.40717325220925, MSE: 70440.96761372822, MAE: 103.57132437364032\n",
      "Ridge Model - RMSE: 265.34149156176113, MSE: 70406.10714422016, MAE: 103.39342580974696\n"
     ]
    },
    {
     "name": "stderr",
     "output_type": "stream",
     "text": [
      "C:\\Users\\16174\\anaconda3\\lib\\site-packages\\sklearn\\linear_model\\_ridge.py:157: LinAlgWarning: Ill-conditioned matrix (rcond=7.6554e-21): result may not be accurate.\n",
      "  return linalg.solve(A, Xy, sym_pos=True, overwrite_a=True).T\n",
      "C:\\Users\\16174\\anaconda3\\lib\\site-packages\\sklearn\\linear_model\\_coordinate_descent.py:647: ConvergenceWarning: Objective did not converge. You might want to increase the number of iterations, check the scale of the features or consider increasing regularisation. Duality gap: 1.023e+10, tolerance: 2.094e+06\n",
      "  model = cd_fast.enet_coordinate_descent(\n"
     ]
    },
    {
     "name": "stdout",
     "output_type": "stream",
     "text": [
      "Lasso Model - RMSE: 264.65509189687407, MSE: 70042.31766694286, MAE: 102.31239392637117\n",
      "Decision Tree Regressor Model - RMSE: 1151.0516055417768, MSE: 1324919.798620302, MAE: 108.07142323578522\n",
      "XGBoost Regressor Model - RMSE: 728.989955795122, MSE: 531426.3556501738, MAE: 97.7554969016768\n",
      "Gradient Boosting Regressor Model - RMSE: 428.98900379427465, MSE: 184031.5653764042, MAE: 93.42800838443766\n",
      "Random Forest Regressor Model - RMSE: 557.0097030744369, MSE: 310259.80931907234, MAE: 91.86516190353349\n"
     ]
    }
   ],
   "source": [
    "from sklearn.linear_model import LinearRegression, Lasso\n",
    "from sklearn.ensemble import RandomForestRegressor\n",
    "from sklearn.metrics import mean_squared_error, mean_absolute_error\n",
    "from sklearn.model_selection import GridSearchCV\n",
    "from sklearn.linear_model import LinearRegression, Lasso, Ridge\n",
    "from sklearn.tree import DecisionTreeRegressor\n",
    "from xgboost import XGBRegressor\n",
    "from sklearn.ensemble import GradientBoostingRegressor, RandomForestRegressor\n",
    "from sklearn.metrics import mean_squared_error, mean_absolute_error\n",
    "\n",
    "# Initialize a Linear Regression model\n",
    "lr_model = LinearRegression()\n",
    "ridge_model = Ridge()\n",
    "lasso_model = Lasso()\n",
    "dt_model = DecisionTreeRegressor()\n",
    "xgb_model = XGBRegressor()\n",
    "gb_model = GradientBoostingRegressor()\n",
    "rf_model = RandomForestRegressor()\n",
    "\n",
    "# Make predictions using Linear Regression model\n",
    "rmse, mse, mae = model_predict(X_train, y_train, X_test, y_test, lr_model)\n",
    "print(f\"Linear Regression Model - RMSE: {rmse}, MSE: {mse}, MAE: {mae}\")\n",
    "\n",
    "# Make predictions using Ridge model\n",
    "rmse, mse, mae = model_predict(X_train, y_train, X_test, y_test, ridge_model)\n",
    "print(f\"Ridge Model - RMSE: {rmse}, MSE: {mse}, MAE: {mae}\")\n",
    "\n",
    "# Make predictions using Lasso model\n",
    "rmse, mse, mae = model_predict(X_train, y_train, X_test, y_test, lasso_model)\n",
    "print(f\"Lasso Model - RMSE: {rmse}, MSE: {mse}, MAE: {mae}\")\n",
    "\n",
    "# Make predictions using Decision Tree Regressor model\n",
    "rmse, mse, mae = model_predict(X_train, y_train, X_test, y_test, dt_model)\n",
    "print(f\"Decision Tree Regressor Model - RMSE: {rmse}, MSE: {mse}, MAE: {mae}\")\n",
    "\n",
    "# Make predictions using XGBoost Regressor model\n",
    "rmse, mse, mae = model_predict(X_train, y_train, X_test, y_test, xgb_model)\n",
    "print(f\"XGBoost Regressor Model - RMSE: {rmse}, MSE: {mse}, MAE: {mae}\")\n",
    "\n",
    "# Make predictions using Gradient Boosting Regressor model\n",
    "rmse, mse, mae = model_predict(X_train, y_train, X_test, y_test, gb_model)\n",
    "print(f\"Gradient Boosting Regressor Model - RMSE: {rmse}, MSE: {mse}, MAE: {mae}\")\n",
    "\n",
    "# Make predictions using Random Forest Regressor model\n",
    "rmse, mse, mae = model_predict(X_train, y_train, X_test, y_test, rf_model)\n",
    "print(f\"Random Forest Regressor Model - RMSE: {rmse}, MSE: {mse}, MAE: {mae}\")\n"
   ]
  },
  {
   "cell_type": "code",
   "execution_count": 71,
   "metadata": {},
   "outputs": [
    {
     "name": "stdout",
     "output_type": "stream",
     "text": [
      "LinearRegression:\n",
      "Optimal hyperparameters: {}\n",
      "Mean R-squared score: 0.11244621200205873\n",
      "\n"
     ]
    },
    {
     "name": "stderr",
     "output_type": "stream",
     "text": [
      "C:\\Users\\16174\\anaconda3\\lib\\site-packages\\sklearn\\linear_model\\_ridge.py:157: LinAlgWarning: Ill-conditioned matrix (rcond=4.82081e-22): result may not be accurate.\n",
      "  return linalg.solve(A, Xy, sym_pos=True, overwrite_a=True).T\n",
      "C:\\Users\\16174\\anaconda3\\lib\\site-packages\\sklearn\\linear_model\\_ridge.py:157: LinAlgWarning: Ill-conditioned matrix (rcond=6.02916e-22): result may not be accurate.\n",
      "  return linalg.solve(A, Xy, sym_pos=True, overwrite_a=True).T\n",
      "C:\\Users\\16174\\anaconda3\\lib\\site-packages\\sklearn\\linear_model\\_ridge.py:157: LinAlgWarning: Ill-conditioned matrix (rcond=5.36509e-22): result may not be accurate.\n",
      "  return linalg.solve(A, Xy, sym_pos=True, overwrite_a=True).T\n",
      "C:\\Users\\16174\\anaconda3\\lib\\site-packages\\sklearn\\linear_model\\_ridge.py:157: LinAlgWarning: Ill-conditioned matrix (rcond=5.31881e-22): result may not be accurate.\n",
      "  return linalg.solve(A, Xy, sym_pos=True, overwrite_a=True).T\n",
      "C:\\Users\\16174\\anaconda3\\lib\\site-packages\\sklearn\\linear_model\\_ridge.py:157: LinAlgWarning: Ill-conditioned matrix (rcond=5.38766e-22): result may not be accurate.\n",
      "  return linalg.solve(A, Xy, sym_pos=True, overwrite_a=True).T\n",
      "C:\\Users\\16174\\anaconda3\\lib\\site-packages\\sklearn\\linear_model\\_ridge.py:157: LinAlgWarning: Ill-conditioned matrix (rcond=4.86845e-22): result may not be accurate.\n",
      "  return linalg.solve(A, Xy, sym_pos=True, overwrite_a=True).T\n",
      "C:\\Users\\16174\\anaconda3\\lib\\site-packages\\sklearn\\linear_model\\_ridge.py:157: LinAlgWarning: Ill-conditioned matrix (rcond=5.97401e-22): result may not be accurate.\n",
      "  return linalg.solve(A, Xy, sym_pos=True, overwrite_a=True).T\n",
      "C:\\Users\\16174\\anaconda3\\lib\\site-packages\\sklearn\\linear_model\\_ridge.py:157: LinAlgWarning: Ill-conditioned matrix (rcond=4.88315e-22): result may not be accurate.\n",
      "  return linalg.solve(A, Xy, sym_pos=True, overwrite_a=True).T\n",
      "C:\\Users\\16174\\anaconda3\\lib\\site-packages\\sklearn\\linear_model\\_ridge.py:157: LinAlgWarning: Ill-conditioned matrix (rcond=6.07039e-22): result may not be accurate.\n",
      "  return linalg.solve(A, Xy, sym_pos=True, overwrite_a=True).T\n",
      "C:\\Users\\16174\\anaconda3\\lib\\site-packages\\sklearn\\linear_model\\_ridge.py:157: LinAlgWarning: Ill-conditioned matrix (rcond=5.40913e-22): result may not be accurate.\n",
      "  return linalg.solve(A, Xy, sym_pos=True, overwrite_a=True).T\n",
      "C:\\Users\\16174\\anaconda3\\lib\\site-packages\\sklearn\\linear_model\\_ridge.py:157: LinAlgWarning: Ill-conditioned matrix (rcond=1.12993e-21): result may not be accurate.\n",
      "  return linalg.solve(A, Xy, sym_pos=True, overwrite_a=True).T\n",
      "C:\\Users\\16174\\anaconda3\\lib\\site-packages\\sklearn\\linear_model\\_ridge.py:157: LinAlgWarning: Ill-conditioned matrix (rcond=1.41255e-21): result may not be accurate.\n",
      "  return linalg.solve(A, Xy, sym_pos=True, overwrite_a=True).T\n",
      "C:\\Users\\16174\\anaconda3\\lib\\site-packages\\sklearn\\linear_model\\_ridge.py:157: LinAlgWarning: Ill-conditioned matrix (rcond=1.25627e-21): result may not be accurate.\n",
      "  return linalg.solve(A, Xy, sym_pos=True, overwrite_a=True).T\n",
      "C:\\Users\\16174\\anaconda3\\lib\\site-packages\\sklearn\\linear_model\\_ridge.py:157: LinAlgWarning: Ill-conditioned matrix (rcond=1.2517e-21): result may not be accurate.\n",
      "  return linalg.solve(A, Xy, sym_pos=True, overwrite_a=True).T\n",
      "C:\\Users\\16174\\anaconda3\\lib\\site-packages\\sklearn\\linear_model\\_ridge.py:157: LinAlgWarning: Ill-conditioned matrix (rcond=1.25849e-21): result may not be accurate.\n",
      "  return linalg.solve(A, Xy, sym_pos=True, overwrite_a=True).T\n",
      "C:\\Users\\16174\\anaconda3\\lib\\site-packages\\sklearn\\linear_model\\_ridge.py:157: LinAlgWarning: Ill-conditioned matrix (rcond=1.13473e-21): result may not be accurate.\n",
      "  return linalg.solve(A, Xy, sym_pos=True, overwrite_a=True).T\n",
      "C:\\Users\\16174\\anaconda3\\lib\\site-packages\\sklearn\\linear_model\\_ridge.py:157: LinAlgWarning: Ill-conditioned matrix (rcond=1.40714e-21): result may not be accurate.\n",
      "  return linalg.solve(A, Xy, sym_pos=True, overwrite_a=True).T\n",
      "C:\\Users\\16174\\anaconda3\\lib\\site-packages\\sklearn\\linear_model\\_ridge.py:157: LinAlgWarning: Ill-conditioned matrix (rcond=1.13606e-21): result may not be accurate.\n",
      "  return linalg.solve(A, Xy, sym_pos=True, overwrite_a=True).T\n",
      "C:\\Users\\16174\\anaconda3\\lib\\site-packages\\sklearn\\linear_model\\_ridge.py:157: LinAlgWarning: Ill-conditioned matrix (rcond=1.41668e-21): result may not be accurate.\n",
      "  return linalg.solve(A, Xy, sym_pos=True, overwrite_a=True).T\n",
      "C:\\Users\\16174\\anaconda3\\lib\\site-packages\\sklearn\\linear_model\\_ridge.py:157: LinAlgWarning: Ill-conditioned matrix (rcond=1.2606e-21): result may not be accurate.\n",
      "  return linalg.solve(A, Xy, sym_pos=True, overwrite_a=True).T\n",
      "C:\\Users\\16174\\anaconda3\\lib\\site-packages\\sklearn\\linear_model\\_ridge.py:157: LinAlgWarning: Ill-conditioned matrix (rcond=7.6089e-21): result may not be accurate.\n",
      "  return linalg.solve(A, Xy, sym_pos=True, overwrite_a=True).T\n",
      "C:\\Users\\16174\\anaconda3\\lib\\site-packages\\sklearn\\linear_model\\_ridge.py:157: LinAlgWarning: Ill-conditioned matrix (rcond=9.50949e-21): result may not be accurate.\n",
      "  return linalg.solve(A, Xy, sym_pos=True, overwrite_a=True).T\n",
      "C:\\Users\\16174\\anaconda3\\lib\\site-packages\\sklearn\\linear_model\\_ridge.py:157: LinAlgWarning: Ill-conditioned matrix (rcond=8.45439e-21): result may not be accurate.\n",
      "  return linalg.solve(A, Xy, sym_pos=True, overwrite_a=True).T\n",
      "C:\\Users\\16174\\anaconda3\\lib\\site-packages\\sklearn\\linear_model\\_ridge.py:157: LinAlgWarning: Ill-conditioned matrix (rcond=8.45039e-21): result may not be accurate.\n",
      "  return linalg.solve(A, Xy, sym_pos=True, overwrite_a=True).T\n",
      "C:\\Users\\16174\\anaconda3\\lib\\site-packages\\sklearn\\linear_model\\_ridge.py:157: LinAlgWarning: Ill-conditioned matrix (rcond=8.45621e-21): result may not be accurate.\n",
      "  return linalg.solve(A, Xy, sym_pos=True, overwrite_a=True).T\n",
      "C:\\Users\\16174\\anaconda3\\lib\\site-packages\\sklearn\\linear_model\\_ridge.py:157: LinAlgWarning: Ill-conditioned matrix (rcond=7.61406e-21): result may not be accurate.\n",
      "  return linalg.solve(A, Xy, sym_pos=True, overwrite_a=True).T\n",
      "C:\\Users\\16174\\anaconda3\\lib\\site-packages\\sklearn\\linear_model\\_ridge.py:157: LinAlgWarning: Ill-conditioned matrix (rcond=9.50501e-21): result may not be accurate.\n",
      "  return linalg.solve(A, Xy, sym_pos=True, overwrite_a=True).T\n",
      "C:\\Users\\16174\\anaconda3\\lib\\site-packages\\sklearn\\linear_model\\_ridge.py:157: LinAlgWarning: Ill-conditioned matrix (rcond=7.61401e-21): result may not be accurate.\n",
      "  return linalg.solve(A, Xy, sym_pos=True, overwrite_a=True).T\n",
      "C:\\Users\\16174\\anaconda3\\lib\\site-packages\\sklearn\\linear_model\\_ridge.py:157: LinAlgWarning: Ill-conditioned matrix (rcond=9.51363e-21): result may not be accurate.\n",
      "  return linalg.solve(A, Xy, sym_pos=True, overwrite_a=True).T\n",
      "C:\\Users\\16174\\anaconda3\\lib\\site-packages\\sklearn\\linear_model\\_ridge.py:157: LinAlgWarning: Ill-conditioned matrix (rcond=8.45795e-21): result may not be accurate.\n",
      "  return linalg.solve(A, Xy, sym_pos=True, overwrite_a=True).T\n",
      "C:\\Users\\16174\\anaconda3\\lib\\site-packages\\sklearn\\linear_model\\_ridge.py:157: LinAlgWarning: Ill-conditioned matrix (rcond=7.24331e-20): result may not be accurate.\n",
      "  return linalg.solve(A, Xy, sym_pos=True, overwrite_a=True).T\n",
      "C:\\Users\\16174\\anaconda3\\lib\\site-packages\\sklearn\\linear_model\\_ridge.py:157: LinAlgWarning: Ill-conditioned matrix (rcond=9.05232e-20): result may not be accurate.\n",
      "  return linalg.solve(A, Xy, sym_pos=True, overwrite_a=True).T\n",
      "C:\\Users\\16174\\anaconda3\\lib\\site-packages\\sklearn\\linear_model\\_ridge.py:157: LinAlgWarning: Ill-conditioned matrix (rcond=8.0475e-20): result may not be accurate.\n",
      "  return linalg.solve(A, Xy, sym_pos=True, overwrite_a=True).T\n",
      "C:\\Users\\16174\\anaconda3\\lib\\site-packages\\sklearn\\linear_model\\_ridge.py:157: LinAlgWarning: Ill-conditioned matrix (rcond=8.0475e-20): result may not be accurate.\n",
      "  return linalg.solve(A, Xy, sym_pos=True, overwrite_a=True).T\n",
      "C:\\Users\\16174\\anaconda3\\lib\\site-packages\\sklearn\\linear_model\\_ridge.py:157: LinAlgWarning: Ill-conditioned matrix (rcond=8.04736e-20): result may not be accurate.\n",
      "  return linalg.solve(A, Xy, sym_pos=True, overwrite_a=True).T\n",
      "C:\\Users\\16174\\anaconda3\\lib\\site-packages\\sklearn\\linear_model\\_ridge.py:157: LinAlgWarning: Ill-conditioned matrix (rcond=7.24408e-20): result may not be accurate.\n",
      "  return linalg.solve(A, Xy, sym_pos=True, overwrite_a=True).T\n",
      "C:\\Users\\16174\\anaconda3\\lib\\site-packages\\sklearn\\linear_model\\_ridge.py:157: LinAlgWarning: Ill-conditioned matrix (rcond=9.05256e-20): result may not be accurate.\n",
      "  return linalg.solve(A, Xy, sym_pos=True, overwrite_a=True).T\n",
      "C:\\Users\\16174\\anaconda3\\lib\\site-packages\\sklearn\\linear_model\\_ridge.py:157: LinAlgWarning: Ill-conditioned matrix (rcond=7.24297e-20): result may not be accurate.\n",
      "  return linalg.solve(A, Xy, sym_pos=True, overwrite_a=True).T\n",
      "C:\\Users\\16174\\anaconda3\\lib\\site-packages\\sklearn\\linear_model\\_ridge.py:157: LinAlgWarning: Ill-conditioned matrix (rcond=9.05272e-20): result may not be accurate.\n",
      "  return linalg.solve(A, Xy, sym_pos=True, overwrite_a=True).T\n",
      "C:\\Users\\16174\\anaconda3\\lib\\site-packages\\sklearn\\linear_model\\_ridge.py:157: LinAlgWarning: Ill-conditioned matrix (rcond=8.04712e-20): result may not be accurate.\n",
      "  return linalg.solve(A, Xy, sym_pos=True, overwrite_a=True).T\n",
      "C:\\Users\\16174\\anaconda3\\lib\\site-packages\\sklearn\\linear_model\\_ridge.py:157: LinAlgWarning: Ill-conditioned matrix (rcond=7.21635e-19): result may not be accurate.\n",
      "  return linalg.solve(A, Xy, sym_pos=True, overwrite_a=True).T\n",
      "C:\\Users\\16174\\anaconda3\\lib\\site-packages\\sklearn\\linear_model\\_ridge.py:157: LinAlgWarning: Ill-conditioned matrix (rcond=9.01899e-19): result may not be accurate.\n",
      "  return linalg.solve(A, Xy, sym_pos=True, overwrite_a=True).T\n",
      "C:\\Users\\16174\\anaconda3\\lib\\site-packages\\sklearn\\linear_model\\_ridge.py:157: LinAlgWarning: Ill-conditioned matrix (rcond=8.01775e-19): result may not be accurate.\n",
      "  return linalg.solve(A, Xy, sym_pos=True, overwrite_a=True).T\n",
      "C:\\Users\\16174\\anaconda3\\lib\\site-packages\\sklearn\\linear_model\\_ridge.py:157: LinAlgWarning: Ill-conditioned matrix (rcond=8.01776e-19): result may not be accurate.\n",
      "  return linalg.solve(A, Xy, sym_pos=True, overwrite_a=True).T\n",
      "C:\\Users\\16174\\anaconda3\\lib\\site-packages\\sklearn\\linear_model\\_ridge.py:157: LinAlgWarning: Ill-conditioned matrix (rcond=8.01748e-19): result may not be accurate.\n",
      "  return linalg.solve(A, Xy, sym_pos=True, overwrite_a=True).T\n",
      "C:\\Users\\16174\\anaconda3\\lib\\site-packages\\sklearn\\linear_model\\_ridge.py:157: LinAlgWarning: Ill-conditioned matrix (rcond=7.21633e-19): result may not be accurate.\n",
      "  return linalg.solve(A, Xy, sym_pos=True, overwrite_a=True).T\n",
      "C:\\Users\\16174\\anaconda3\\lib\\site-packages\\sklearn\\linear_model\\_ridge.py:157: LinAlgWarning: Ill-conditioned matrix (rcond=9.01922e-19): result may not be accurate.\n",
      "  return linalg.solve(A, Xy, sym_pos=True, overwrite_a=True).T\n",
      "C:\\Users\\16174\\anaconda3\\lib\\site-packages\\sklearn\\linear_model\\_ridge.py:157: LinAlgWarning: Ill-conditioned matrix (rcond=7.21591e-19): result may not be accurate.\n",
      "  return linalg.solve(A, Xy, sym_pos=True, overwrite_a=True).T\n",
      "C:\\Users\\16174\\anaconda3\\lib\\site-packages\\sklearn\\linear_model\\_ridge.py:157: LinAlgWarning: Ill-conditioned matrix (rcond=9.01885e-19): result may not be accurate.\n",
      "  return linalg.solve(A, Xy, sym_pos=True, overwrite_a=True).T\n",
      "C:\\Users\\16174\\anaconda3\\lib\\site-packages\\sklearn\\linear_model\\_ridge.py:157: LinAlgWarning: Ill-conditioned matrix (rcond=8.01717e-19): result may not be accurate.\n",
      "  return linalg.solve(A, Xy, sym_pos=True, overwrite_a=True).T\n",
      "C:\\Users\\16174\\anaconda3\\lib\\site-packages\\sklearn\\linear_model\\_ridge.py:157: LinAlgWarning: Ill-conditioned matrix (rcond=7.24694e-20): result may not be accurate.\n",
      "  return linalg.solve(A, Xy, sym_pos=True, overwrite_a=True).T\n",
      "C:\\Users\\16174\\anaconda3\\lib\\site-packages\\sklearn\\linear_model\\_ridge.py:157: LinAlgWarning: Ill-conditioned matrix (rcond=7.24331e-20): result may not be accurate.\n",
      "  return linalg.solve(A, Xy, sym_pos=True, overwrite_a=True).T\n",
      "C:\\Users\\16174\\anaconda3\\lib\\site-packages\\sklearn\\linear_model\\_ridge.py:157: LinAlgWarning: Ill-conditioned matrix (rcond=9.05232e-20): result may not be accurate.\n",
      "  return linalg.solve(A, Xy, sym_pos=True, overwrite_a=True).T\n",
      "C:\\Users\\16174\\anaconda3\\lib\\site-packages\\sklearn\\linear_model\\_ridge.py:157: LinAlgWarning: Ill-conditioned matrix (rcond=8.0475e-20): result may not be accurate.\n",
      "  return linalg.solve(A, Xy, sym_pos=True, overwrite_a=True).T\n",
      "C:\\Users\\16174\\anaconda3\\lib\\site-packages\\sklearn\\linear_model\\_ridge.py:157: LinAlgWarning: Ill-conditioned matrix (rcond=8.0475e-20): result may not be accurate.\n",
      "  return linalg.solve(A, Xy, sym_pos=True, overwrite_a=True).T\n",
      "C:\\Users\\16174\\anaconda3\\lib\\site-packages\\sklearn\\linear_model\\_ridge.py:157: LinAlgWarning: Ill-conditioned matrix (rcond=8.04736e-20): result may not be accurate.\n",
      "  return linalg.solve(A, Xy, sym_pos=True, overwrite_a=True).T\n",
      "C:\\Users\\16174\\anaconda3\\lib\\site-packages\\sklearn\\linear_model\\_ridge.py:157: LinAlgWarning: Ill-conditioned matrix (rcond=7.24408e-20): result may not be accurate.\n",
      "  return linalg.solve(A, Xy, sym_pos=True, overwrite_a=True).T\n",
      "C:\\Users\\16174\\anaconda3\\lib\\site-packages\\sklearn\\linear_model\\_ridge.py:157: LinAlgWarning: Ill-conditioned matrix (rcond=9.05256e-20): result may not be accurate.\n",
      "  return linalg.solve(A, Xy, sym_pos=True, overwrite_a=True).T\n"
     ]
    },
    {
     "name": "stdout",
     "output_type": "stream",
     "text": [
      "Ridge:\n",
      "Optimal hyperparameters: {'alpha': 10}\n"
     ]
    },
    {
     "name": "stderr",
     "output_type": "stream",
     "text": [
      "C:\\Users\\16174\\anaconda3\\lib\\site-packages\\sklearn\\linear_model\\_ridge.py:157: LinAlgWarning: Ill-conditioned matrix (rcond=7.24297e-20): result may not be accurate.\n",
      "  return linalg.solve(A, Xy, sym_pos=True, overwrite_a=True).T\n",
      "C:\\Users\\16174\\anaconda3\\lib\\site-packages\\sklearn\\linear_model\\_ridge.py:157: LinAlgWarning: Ill-conditioned matrix (rcond=9.05272e-20): result may not be accurate.\n",
      "  return linalg.solve(A, Xy, sym_pos=True, overwrite_a=True).T\n",
      "C:\\Users\\16174\\anaconda3\\lib\\site-packages\\sklearn\\linear_model\\_ridge.py:157: LinAlgWarning: Ill-conditioned matrix (rcond=8.04712e-20): result may not be accurate.\n",
      "  return linalg.solve(A, Xy, sym_pos=True, overwrite_a=True).T\n"
     ]
    },
    {
     "name": "stdout",
     "output_type": "stream",
     "text": [
      "Mean R-squared score: 0.11394343887190142\n",
      "\n"
     ]
    },
    {
     "name": "stderr",
     "output_type": "stream",
     "text": [
      "C:\\Users\\16174\\anaconda3\\lib\\site-packages\\sklearn\\linear_model\\_coordinate_descent.py:647: ConvergenceWarning: Objective did not converge. You might want to increase the number of iterations, check the scale of the features or consider increasing regularisation. Duality gap: 8.084e+09, tolerance: 1.651e+06\n",
      "  model = cd_fast.enet_coordinate_descent(\n",
      "C:\\Users\\16174\\anaconda3\\lib\\site-packages\\sklearn\\linear_model\\_coordinate_descent.py:647: ConvergenceWarning: Objective did not converge. You might want to increase the number of iterations, check the scale of the features or consider increasing regularisation. Duality gap: 1.014e+10, tolerance: 2.062e+06\n",
      "  model = cd_fast.enet_coordinate_descent(\n",
      "C:\\Users\\16174\\anaconda3\\lib\\site-packages\\sklearn\\linear_model\\_coordinate_descent.py:647: ConvergenceWarning: Objective did not converge. You might want to increase the number of iterations, check the scale of the features or consider increasing regularisation. Duality gap: 1.016e+10, tolerance: 2.067e+06\n",
      "  model = cd_fast.enet_coordinate_descent(\n",
      "C:\\Users\\16174\\anaconda3\\lib\\site-packages\\sklearn\\linear_model\\_coordinate_descent.py:647: ConvergenceWarning: Objective did not converge. You might want to increase the number of iterations, check the scale of the features or consider increasing regularisation. Duality gap: 5.742e+09, tolerance: 1.183e+06\n",
      "  model = cd_fast.enet_coordinate_descent(\n",
      "C:\\Users\\16174\\anaconda3\\lib\\site-packages\\sklearn\\linear_model\\_coordinate_descent.py:647: ConvergenceWarning: Objective did not converge. You might want to increase the number of iterations, check the scale of the features or consider increasing regularisation. Duality gap: 1.023e+10, tolerance: 2.079e+06\n",
      "  model = cd_fast.enet_coordinate_descent(\n",
      "C:\\Users\\16174\\anaconda3\\lib\\site-packages\\sklearn\\linear_model\\_coordinate_descent.py:647: ConvergenceWarning: Objective did not converge. You might want to increase the number of iterations, check the scale of the features or consider increasing regularisation. Duality gap: 1.024e+10, tolerance: 2.083e+06\n",
      "  model = cd_fast.enet_coordinate_descent(\n",
      "C:\\Users\\16174\\anaconda3\\lib\\site-packages\\sklearn\\linear_model\\_coordinate_descent.py:647: ConvergenceWarning: Objective did not converge. You might want to increase the number of iterations, check the scale of the features or consider increasing regularisation. Duality gap: 7.442e+09, tolerance: 1.523e+06\n",
      "  model = cd_fast.enet_coordinate_descent(\n",
      "C:\\Users\\16174\\anaconda3\\lib\\site-packages\\sklearn\\linear_model\\_coordinate_descent.py:647: ConvergenceWarning: Objective did not converge. You might want to increase the number of iterations, check the scale of the features or consider increasing regularisation. Duality gap: 1.019e+10, tolerance: 2.074e+06\n",
      "  model = cd_fast.enet_coordinate_descent(\n",
      "C:\\Users\\16174\\anaconda3\\lib\\site-packages\\sklearn\\linear_model\\_coordinate_descent.py:647: ConvergenceWarning: Objective did not converge. You might want to increase the number of iterations, check the scale of the features or consider increasing regularisation. Duality gap: 1.019e+10, tolerance: 2.072e+06\n",
      "  model = cd_fast.enet_coordinate_descent(\n",
      "C:\\Users\\16174\\anaconda3\\lib\\site-packages\\sklearn\\linear_model\\_coordinate_descent.py:647: ConvergenceWarning: Objective did not converge. You might want to increase the number of iterations, check the scale of the features or consider increasing regularisation. Duality gap: 1.008e+10, tolerance: 2.049e+06\n",
      "  model = cd_fast.enet_coordinate_descent(\n",
      "C:\\Users\\16174\\anaconda3\\lib\\site-packages\\sklearn\\linear_model\\_coordinate_descent.py:647: ConvergenceWarning: Objective did not converge. You might want to increase the number of iterations, check the scale of the features or consider increasing regularisation. Duality gap: 8.080e+09, tolerance: 1.651e+06\n",
      "  model = cd_fast.enet_coordinate_descent(\n",
      "C:\\Users\\16174\\anaconda3\\lib\\site-packages\\sklearn\\linear_model\\_coordinate_descent.py:647: ConvergenceWarning: Objective did not converge. You might want to increase the number of iterations, check the scale of the features or consider increasing regularisation. Duality gap: 1.013e+10, tolerance: 2.062e+06\n",
      "  model = cd_fast.enet_coordinate_descent(\n",
      "C:\\Users\\16174\\anaconda3\\lib\\site-packages\\sklearn\\linear_model\\_coordinate_descent.py:647: ConvergenceWarning: Objective did not converge. You might want to increase the number of iterations, check the scale of the features or consider increasing regularisation. Duality gap: 1.016e+10, tolerance: 2.067e+06\n",
      "  model = cd_fast.enet_coordinate_descent(\n",
      "C:\\Users\\16174\\anaconda3\\lib\\site-packages\\sklearn\\linear_model\\_coordinate_descent.py:647: ConvergenceWarning: Objective did not converge. You might want to increase the number of iterations, check the scale of the features or consider increasing regularisation. Duality gap: 5.741e+09, tolerance: 1.183e+06\n",
      "  model = cd_fast.enet_coordinate_descent(\n",
      "C:\\Users\\16174\\anaconda3\\lib\\site-packages\\sklearn\\linear_model\\_coordinate_descent.py:647: ConvergenceWarning: Objective did not converge. You might want to increase the number of iterations, check the scale of the features or consider increasing regularisation. Duality gap: 1.023e+10, tolerance: 2.079e+06\n",
      "  model = cd_fast.enet_coordinate_descent(\n",
      "C:\\Users\\16174\\anaconda3\\lib\\site-packages\\sklearn\\linear_model\\_coordinate_descent.py:647: ConvergenceWarning: Objective did not converge. You might want to increase the number of iterations, check the scale of the features or consider increasing regularisation. Duality gap: 1.023e+10, tolerance: 2.083e+06\n",
      "  model = cd_fast.enet_coordinate_descent(\n",
      "C:\\Users\\16174\\anaconda3\\lib\\site-packages\\sklearn\\linear_model\\_coordinate_descent.py:647: ConvergenceWarning: Objective did not converge. You might want to increase the number of iterations, check the scale of the features or consider increasing regularisation. Duality gap: 7.441e+09, tolerance: 1.523e+06\n",
      "  model = cd_fast.enet_coordinate_descent(\n",
      "C:\\Users\\16174\\anaconda3\\lib\\site-packages\\sklearn\\linear_model\\_coordinate_descent.py:647: ConvergenceWarning: Objective did not converge. You might want to increase the number of iterations, check the scale of the features or consider increasing regularisation. Duality gap: 1.018e+10, tolerance: 2.074e+06\n",
      "  model = cd_fast.enet_coordinate_descent(\n",
      "C:\\Users\\16174\\anaconda3\\lib\\site-packages\\sklearn\\linear_model\\_coordinate_descent.py:647: ConvergenceWarning: Objective did not converge. You might want to increase the number of iterations, check the scale of the features or consider increasing regularisation. Duality gap: 1.019e+10, tolerance: 2.072e+06\n",
      "  model = cd_fast.enet_coordinate_descent(\n",
      "C:\\Users\\16174\\anaconda3\\lib\\site-packages\\sklearn\\linear_model\\_coordinate_descent.py:647: ConvergenceWarning: Objective did not converge. You might want to increase the number of iterations, check the scale of the features or consider increasing regularisation. Duality gap: 1.007e+10, tolerance: 2.049e+06\n",
      "  model = cd_fast.enet_coordinate_descent(\n",
      "C:\\Users\\16174\\anaconda3\\lib\\site-packages\\sklearn\\linear_model\\_coordinate_descent.py:647: ConvergenceWarning: Objective did not converge. You might want to increase the number of iterations, check the scale of the features or consider increasing regularisation. Duality gap: 8.049e+09, tolerance: 1.651e+06\n",
      "  model = cd_fast.enet_coordinate_descent(\n",
      "C:\\Users\\16174\\anaconda3\\lib\\site-packages\\sklearn\\linear_model\\_coordinate_descent.py:647: ConvergenceWarning: Objective did not converge. You might want to increase the number of iterations, check the scale of the features or consider increasing regularisation. Duality gap: 1.009e+10, tolerance: 2.062e+06\n",
      "  model = cd_fast.enet_coordinate_descent(\n",
      "C:\\Users\\16174\\anaconda3\\lib\\site-packages\\sklearn\\linear_model\\_coordinate_descent.py:647: ConvergenceWarning: Objective did not converge. You might want to increase the number of iterations, check the scale of the features or consider increasing regularisation. Duality gap: 1.011e+10, tolerance: 2.067e+06\n",
      "  model = cd_fast.enet_coordinate_descent(\n",
      "C:\\Users\\16174\\anaconda3\\lib\\site-packages\\sklearn\\linear_model\\_coordinate_descent.py:647: ConvergenceWarning: Objective did not converge. You might want to increase the number of iterations, check the scale of the features or consider increasing regularisation. Duality gap: 5.727e+09, tolerance: 1.183e+06\n",
      "  model = cd_fast.enet_coordinate_descent(\n",
      "C:\\Users\\16174\\anaconda3\\lib\\site-packages\\sklearn\\linear_model\\_coordinate_descent.py:647: ConvergenceWarning: Objective did not converge. You might want to increase the number of iterations, check the scale of the features or consider increasing regularisation. Duality gap: 1.018e+10, tolerance: 2.079e+06\n",
      "  model = cd_fast.enet_coordinate_descent(\n",
      "C:\\Users\\16174\\anaconda3\\lib\\site-packages\\sklearn\\linear_model\\_coordinate_descent.py:647: ConvergenceWarning: Objective did not converge. You might want to increase the number of iterations, check the scale of the features or consider increasing regularisation. Duality gap: 1.019e+10, tolerance: 2.083e+06\n",
      "  model = cd_fast.enet_coordinate_descent(\n",
      "C:\\Users\\16174\\anaconda3\\lib\\site-packages\\sklearn\\linear_model\\_coordinate_descent.py:647: ConvergenceWarning: Objective did not converge. You might want to increase the number of iterations, check the scale of the features or consider increasing regularisation. Duality gap: 7.425e+09, tolerance: 1.523e+06\n",
      "  model = cd_fast.enet_coordinate_descent(\n",
      "C:\\Users\\16174\\anaconda3\\lib\\site-packages\\sklearn\\linear_model\\_coordinate_descent.py:647: ConvergenceWarning: Objective did not converge. You might want to increase the number of iterations, check the scale of the features or consider increasing regularisation. Duality gap: 1.012e+10, tolerance: 2.074e+06\n",
      "  model = cd_fast.enet_coordinate_descent(\n",
      "C:\\Users\\16174\\anaconda3\\lib\\site-packages\\sklearn\\linear_model\\_coordinate_descent.py:647: ConvergenceWarning: Objective did not converge. You might want to increase the number of iterations, check the scale of the features or consider increasing regularisation. Duality gap: 1.014e+10, tolerance: 2.072e+06\n",
      "  model = cd_fast.enet_coordinate_descent(\n",
      "C:\\Users\\16174\\anaconda3\\lib\\site-packages\\sklearn\\linear_model\\_coordinate_descent.py:647: ConvergenceWarning: Objective did not converge. You might want to increase the number of iterations, check the scale of the features or consider increasing regularisation. Duality gap: 1.002e+10, tolerance: 2.049e+06\n",
      "  model = cd_fast.enet_coordinate_descent(\n",
      "C:\\Users\\16174\\anaconda3\\lib\\site-packages\\sklearn\\linear_model\\_coordinate_descent.py:647: ConvergenceWarning: Objective did not converge. You might want to increase the number of iterations, check the scale of the features or consider increasing regularisation. Duality gap: 7.828e+09, tolerance: 1.651e+06\n",
      "  model = cd_fast.enet_coordinate_descent(\n",
      "C:\\Users\\16174\\anaconda3\\lib\\site-packages\\sklearn\\linear_model\\_coordinate_descent.py:647: ConvergenceWarning: Objective did not converge. You might want to increase the number of iterations, check the scale of the features or consider increasing regularisation. Duality gap: 9.791e+09, tolerance: 2.062e+06\n",
      "  model = cd_fast.enet_coordinate_descent(\n",
      "C:\\Users\\16174\\anaconda3\\lib\\site-packages\\sklearn\\linear_model\\_coordinate_descent.py:647: ConvergenceWarning: Objective did not converge. You might want to increase the number of iterations, check the scale of the features or consider increasing regularisation. Duality gap: 9.806e+09, tolerance: 2.067e+06\n",
      "  model = cd_fast.enet_coordinate_descent(\n",
      "C:\\Users\\16174\\anaconda3\\lib\\site-packages\\sklearn\\linear_model\\_coordinate_descent.py:647: ConvergenceWarning: Objective did not converge. You might want to increase the number of iterations, check the scale of the features or consider increasing regularisation. Duality gap: 5.575e+09, tolerance: 1.183e+06\n",
      "  model = cd_fast.enet_coordinate_descent(\n",
      "C:\\Users\\16174\\anaconda3\\lib\\site-packages\\sklearn\\linear_model\\_coordinate_descent.py:647: ConvergenceWarning: Objective did not converge. You might want to increase the number of iterations, check the scale of the features or consider increasing regularisation. Duality gap: 9.862e+09, tolerance: 2.079e+06\n",
      "  model = cd_fast.enet_coordinate_descent(\n",
      "C:\\Users\\16174\\anaconda3\\lib\\site-packages\\sklearn\\linear_model\\_coordinate_descent.py:647: ConvergenceWarning: Objective did not converge. You might want to increase the number of iterations, check the scale of the features or consider increasing regularisation. Duality gap: 9.869e+09, tolerance: 2.083e+06\n",
      "  model = cd_fast.enet_coordinate_descent(\n",
      "C:\\Users\\16174\\anaconda3\\lib\\site-packages\\sklearn\\linear_model\\_coordinate_descent.py:647: ConvergenceWarning: Objective did not converge. You might want to increase the number of iterations, check the scale of the features or consider increasing regularisation. Duality gap: 7.232e+09, tolerance: 1.523e+06\n",
      "  model = cd_fast.enet_coordinate_descent(\n",
      "C:\\Users\\16174\\anaconda3\\lib\\site-packages\\sklearn\\linear_model\\_coordinate_descent.py:647: ConvergenceWarning: Objective did not converge. You might want to increase the number of iterations, check the scale of the features or consider increasing regularisation. Duality gap: 9.725e+09, tolerance: 2.074e+06\n",
      "  model = cd_fast.enet_coordinate_descent(\n",
      "C:\\Users\\16174\\anaconda3\\lib\\site-packages\\sklearn\\linear_model\\_coordinate_descent.py:647: ConvergenceWarning: Objective did not converge. You might want to increase the number of iterations, check the scale of the features or consider increasing regularisation. Duality gap: 9.835e+09, tolerance: 2.072e+06\n",
      "  model = cd_fast.enet_coordinate_descent(\n",
      "C:\\Users\\16174\\anaconda3\\lib\\site-packages\\sklearn\\linear_model\\_coordinate_descent.py:647: ConvergenceWarning: Objective did not converge. You might want to increase the number of iterations, check the scale of the features or consider increasing regularisation. Duality gap: 9.695e+09, tolerance: 2.049e+06\n",
      "  model = cd_fast.enet_coordinate_descent(\n",
      "C:\\Users\\16174\\anaconda3\\lib\\site-packages\\sklearn\\linear_model\\_coordinate_descent.py:647: ConvergenceWarning: Objective did not converge. You might want to increase the number of iterations, check the scale of the features or consider increasing regularisation. Duality gap: 5.496e+09, tolerance: 1.651e+06\n",
      "  model = cd_fast.enet_coordinate_descent(\n",
      "C:\\Users\\16174\\anaconda3\\lib\\site-packages\\sklearn\\linear_model\\_coordinate_descent.py:647: ConvergenceWarning: Objective did not converge. You might want to increase the number of iterations, check the scale of the features or consider increasing regularisation. Duality gap: 7.304e+09, tolerance: 2.062e+06\n",
      "  model = cd_fast.enet_coordinate_descent(\n",
      "C:\\Users\\16174\\anaconda3\\lib\\site-packages\\sklearn\\linear_model\\_coordinate_descent.py:647: ConvergenceWarning: Objective did not converge. You might want to increase the number of iterations, check the scale of the features or consider increasing regularisation. Duality gap: 7.382e+09, tolerance: 2.067e+06\n",
      "  model = cd_fast.enet_coordinate_descent(\n",
      "C:\\Users\\16174\\anaconda3\\lib\\site-packages\\sklearn\\linear_model\\_coordinate_descent.py:647: ConvergenceWarning: Objective did not converge. You might want to increase the number of iterations, check the scale of the features or consider increasing regularisation. Duality gap: 4.287e+09, tolerance: 1.183e+06\n",
      "  model = cd_fast.enet_coordinate_descent(\n",
      "C:\\Users\\16174\\anaconda3\\lib\\site-packages\\sklearn\\linear_model\\_coordinate_descent.py:647: ConvergenceWarning: Objective did not converge. You might want to increase the number of iterations, check the scale of the features or consider increasing regularisation. Duality gap: 7.209e+09, tolerance: 2.079e+06\n",
      "  model = cd_fast.enet_coordinate_descent(\n",
      "C:\\Users\\16174\\anaconda3\\lib\\site-packages\\sklearn\\linear_model\\_coordinate_descent.py:647: ConvergenceWarning: Objective did not converge. You might want to increase the number of iterations, check the scale of the features or consider increasing regularisation. Duality gap: 7.270e+09, tolerance: 2.083e+06\n",
      "  model = cd_fast.enet_coordinate_descent(\n",
      "C:\\Users\\16174\\anaconda3\\lib\\site-packages\\sklearn\\linear_model\\_coordinate_descent.py:647: ConvergenceWarning: Objective did not converge. You might want to increase the number of iterations, check the scale of the features or consider increasing regularisation. Duality gap: 5.407e+09, tolerance: 1.523e+06\n",
      "  model = cd_fast.enet_coordinate_descent(\n",
      "C:\\Users\\16174\\anaconda3\\lib\\site-packages\\sklearn\\linear_model\\_coordinate_descent.py:647: ConvergenceWarning: Objective did not converge. You might want to increase the number of iterations, check the scale of the features or consider increasing regularisation. Duality gap: 6.400e+09, tolerance: 2.074e+06\n",
      "  model = cd_fast.enet_coordinate_descent(\n",
      "C:\\Users\\16174\\anaconda3\\lib\\site-packages\\sklearn\\linear_model\\_coordinate_descent.py:647: ConvergenceWarning: Objective did not converge. You might want to increase the number of iterations, check the scale of the features or consider increasing regularisation. Duality gap: 7.312e+09, tolerance: 2.072e+06\n",
      "  model = cd_fast.enet_coordinate_descent(\n",
      "C:\\Users\\16174\\anaconda3\\lib\\site-packages\\sklearn\\linear_model\\_coordinate_descent.py:647: ConvergenceWarning: Objective did not converge. You might want to increase the number of iterations, check the scale of the features or consider increasing regularisation. Duality gap: 7.195e+09, tolerance: 2.049e+06\n",
      "  model = cd_fast.enet_coordinate_descent(\n",
      "C:\\Users\\16174\\anaconda3\\lib\\site-packages\\sklearn\\linear_model\\_coordinate_descent.py:647: ConvergenceWarning: Objective did not converge. You might want to increase the number of iterations, check the scale of the features or consider increasing regularisation. Duality gap: 1.023e+10, tolerance: 2.094e+06\n",
      "  model = cd_fast.enet_coordinate_descent(\n"
     ]
    },
    {
     "name": "stdout",
     "output_type": "stream",
     "text": [
      "Lasso:\n",
      "Optimal hyperparameters: {'alpha': 1}\n"
     ]
    },
    {
     "name": "stderr",
     "output_type": "stream",
     "text": [
      "C:\\Users\\16174\\anaconda3\\lib\\site-packages\\sklearn\\linear_model\\_coordinate_descent.py:647: ConvergenceWarning: Objective did not converge. You might want to increase the number of iterations, check the scale of the features or consider increasing regularisation. Duality gap: 8.049e+09, tolerance: 1.651e+06\n",
      "  model = cd_fast.enet_coordinate_descent(\n",
      "C:\\Users\\16174\\anaconda3\\lib\\site-packages\\sklearn\\linear_model\\_coordinate_descent.py:647: ConvergenceWarning: Objective did not converge. You might want to increase the number of iterations, check the scale of the features or consider increasing regularisation. Duality gap: 1.009e+10, tolerance: 2.062e+06\n",
      "  model = cd_fast.enet_coordinate_descent(\n",
      "C:\\Users\\16174\\anaconda3\\lib\\site-packages\\sklearn\\linear_model\\_coordinate_descent.py:647: ConvergenceWarning: Objective did not converge. You might want to increase the number of iterations, check the scale of the features or consider increasing regularisation. Duality gap: 1.011e+10, tolerance: 2.067e+06\n",
      "  model = cd_fast.enet_coordinate_descent(\n",
      "C:\\Users\\16174\\anaconda3\\lib\\site-packages\\sklearn\\linear_model\\_coordinate_descent.py:647: ConvergenceWarning: Objective did not converge. You might want to increase the number of iterations, check the scale of the features or consider increasing regularisation. Duality gap: 5.727e+09, tolerance: 1.183e+06\n",
      "  model = cd_fast.enet_coordinate_descent(\n",
      "C:\\Users\\16174\\anaconda3\\lib\\site-packages\\sklearn\\linear_model\\_coordinate_descent.py:647: ConvergenceWarning: Objective did not converge. You might want to increase the number of iterations, check the scale of the features or consider increasing regularisation. Duality gap: 1.018e+10, tolerance: 2.079e+06\n",
      "  model = cd_fast.enet_coordinate_descent(\n",
      "C:\\Users\\16174\\anaconda3\\lib\\site-packages\\sklearn\\linear_model\\_coordinate_descent.py:647: ConvergenceWarning: Objective did not converge. You might want to increase the number of iterations, check the scale of the features or consider increasing regularisation. Duality gap: 1.019e+10, tolerance: 2.083e+06\n",
      "  model = cd_fast.enet_coordinate_descent(\n",
      "C:\\Users\\16174\\anaconda3\\lib\\site-packages\\sklearn\\linear_model\\_coordinate_descent.py:647: ConvergenceWarning: Objective did not converge. You might want to increase the number of iterations, check the scale of the features or consider increasing regularisation. Duality gap: 7.425e+09, tolerance: 1.523e+06\n",
      "  model = cd_fast.enet_coordinate_descent(\n",
      "C:\\Users\\16174\\anaconda3\\lib\\site-packages\\sklearn\\linear_model\\_coordinate_descent.py:647: ConvergenceWarning: Objective did not converge. You might want to increase the number of iterations, check the scale of the features or consider increasing regularisation. Duality gap: 1.012e+10, tolerance: 2.074e+06\n",
      "  model = cd_fast.enet_coordinate_descent(\n",
      "C:\\Users\\16174\\anaconda3\\lib\\site-packages\\sklearn\\linear_model\\_coordinate_descent.py:647: ConvergenceWarning: Objective did not converge. You might want to increase the number of iterations, check the scale of the features or consider increasing regularisation. Duality gap: 1.014e+10, tolerance: 2.072e+06\n",
      "  model = cd_fast.enet_coordinate_descent(\n",
      "C:\\Users\\16174\\anaconda3\\lib\\site-packages\\sklearn\\linear_model\\_coordinate_descent.py:647: ConvergenceWarning: Objective did not converge. You might want to increase the number of iterations, check the scale of the features or consider increasing regularisation. Duality gap: 1.002e+10, tolerance: 2.049e+06\n",
      "  model = cd_fast.enet_coordinate_descent(\n"
     ]
    },
    {
     "name": "stdout",
     "output_type": "stream",
     "text": [
      "Mean R-squared score: 0.11420125455692207\n",
      "\n",
      "DecisionTreeRegressor:\n",
      "Optimal hyperparameters: {'max_depth': 3}\n",
      "Mean R-squared score: 0.08801458522002642\n",
      "\n"
     ]
    }
   ],
   "source": [
    "from sklearn.model_selection import GridSearchCV, cross_val_score\n",
    "from sklearn.linear_model import LinearRegression, Ridge, Lasso\n",
    "from sklearn.tree import DecisionTreeRegressor\n",
    "\n",
    "# Define models and parameter grids for hyperparameter tuning\n",
    "models = [\n",
    "    LinearRegression(),\n",
    "    Ridge(),\n",
    "    Lasso(),\n",
    "    DecisionTreeRegressor()\n",
    "]\n",
    "\n",
    "param_grids = [\n",
    "    {},  # No hyperparameters to tune for LinearRegression\n",
    "    {'alpha': [0.01, 0.1, 1, 10, 100]},\n",
    "    {'alpha': [0.01, 0.1, 1, 10, 100]},\n",
    "    {'max_depth': [1, 3, 5, 7, 9]}\n",
    "]\n",
    "\n",
    "# Perform hyperparameter tuning and evaluate each model using 10-fold cross-validation\n",
    "for i, model in enumerate(models):\n",
    "    # Define parameter grid for hyperparameter tuning\n",
    "    param_grid = param_grids[i]\n",
    "    \n",
    "    # Perform grid search using cross-validation\n",
    "    grid_search = GridSearchCV(model, param_grid=param_grid, cv=10, scoring='r2')\n",
    "    grid_search.fit(X_train, y_train)\n",
    "    \n",
    "    # Print optimal hyperparameters and R-squared score\n",
    "    print(f\"{type(model).__name__}:\")\n",
    "    print(\"Optimal hyperparameters:\", grid_search.best_params_)\n",
    "    scores = cross_val_score(grid_search.best_estimator_, X_train, y_train, cv=10, scoring='r2')\n",
    "    print(\"Mean R-squared score:\", scores.mean())\n",
    "    print()\n"
   ]
  },
  {
   "cell_type": "code",
   "execution_count": 63,
   "metadata": {},
   "outputs": [
    {
     "name": "stdout",
     "output_type": "stream",
     "text": [
      "Best parameters for LinearRegression: {}\n",
      "LinearRegression - RMSE: 265.40717325220925, MAE: 103.57132437364032\n",
      "\n"
     ]
    },
    {
     "name": "stderr",
     "output_type": "stream",
     "text": [
      "C:\\Users\\16174\\anaconda3\\lib\\site-packages\\sklearn\\linear_model\\_ridge.py:157: LinAlgWarning: Ill-conditioned matrix (rcond=5.43726e-22): result may not be accurate.\n",
      "  return linalg.solve(A, Xy, sym_pos=True, overwrite_a=True).T\n",
      "C:\\Users\\16174\\anaconda3\\lib\\site-packages\\sklearn\\linear_model\\_ridge.py:157: LinAlgWarning: Ill-conditioned matrix (rcond=5.40173e-22): result may not be accurate.\n",
      "  return linalg.solve(A, Xy, sym_pos=True, overwrite_a=True).T\n",
      "C:\\Users\\16174\\anaconda3\\lib\\site-packages\\sklearn\\linear_model\\_ridge.py:157: LinAlgWarning: Ill-conditioned matrix (rcond=4.91419e-22): result may not be accurate.\n",
      "  return linalg.solve(A, Xy, sym_pos=True, overwrite_a=True).T\n",
      "C:\\Users\\16174\\anaconda3\\lib\\site-packages\\sklearn\\linear_model\\_ridge.py:157: LinAlgWarning: Ill-conditioned matrix (rcond=5.46072e-22): result may not be accurate.\n",
      "  return linalg.solve(A, Xy, sym_pos=True, overwrite_a=True).T\n",
      "C:\\Users\\16174\\anaconda3\\lib\\site-packages\\sklearn\\linear_model\\_ridge.py:157: LinAlgWarning: Ill-conditioned matrix (rcond=6.32839e-22): result may not be accurate.\n",
      "  return linalg.solve(A, Xy, sym_pos=True, overwrite_a=True).T\n",
      "C:\\Users\\16174\\anaconda3\\lib\\site-packages\\sklearn\\linear_model\\_ridge.py:157: LinAlgWarning: Ill-conditioned matrix (rcond=1.35346e-21): result may not be accurate.\n",
      "  return linalg.solve(A, Xy, sym_pos=True, overwrite_a=True).T\n",
      "C:\\Users\\16174\\anaconda3\\lib\\site-packages\\sklearn\\linear_model\\_ridge.py:157: LinAlgWarning: Ill-conditioned matrix (rcond=1.34999e-21): result may not be accurate.\n",
      "  return linalg.solve(A, Xy, sym_pos=True, overwrite_a=True).T\n",
      "C:\\Users\\16174\\anaconda3\\lib\\site-packages\\sklearn\\linear_model\\_ridge.py:157: LinAlgWarning: Ill-conditioned matrix (rcond=1.2113e-21): result may not be accurate.\n",
      "  return linalg.solve(A, Xy, sym_pos=True, overwrite_a=True).T\n",
      "C:\\Users\\16174\\anaconda3\\lib\\site-packages\\sklearn\\linear_model\\_ridge.py:157: LinAlgWarning: Ill-conditioned matrix (rcond=1.35577e-21): result may not be accurate.\n",
      "  return linalg.solve(A, Xy, sym_pos=True, overwrite_a=True).T\n",
      "C:\\Users\\16174\\anaconda3\\lib\\site-packages\\sklearn\\linear_model\\_ridge.py:157: LinAlgWarning: Ill-conditioned matrix (rcond=1.55803e-21): result may not be accurate.\n",
      "  return linalg.solve(A, Xy, sym_pos=True, overwrite_a=True).T\n",
      "C:\\Users\\16174\\anaconda3\\lib\\site-packages\\sklearn\\linear_model\\_ridge.py:157: LinAlgWarning: Ill-conditioned matrix (rcond=9.45142e-21): result may not be accurate.\n",
      "  return linalg.solve(A, Xy, sym_pos=True, overwrite_a=True).T\n",
      "C:\\Users\\16174\\anaconda3\\lib\\site-packages\\sklearn\\linear_model\\_ridge.py:157: LinAlgWarning: Ill-conditioned matrix (rcond=9.44875e-21): result may not be accurate.\n",
      "  return linalg.solve(A, Xy, sym_pos=True, overwrite_a=True).T\n",
      "C:\\Users\\16174\\anaconda3\\lib\\site-packages\\sklearn\\linear_model\\_ridge.py:157: LinAlgWarning: Ill-conditioned matrix (rcond=8.41061e-21): result may not be accurate.\n",
      "  return linalg.solve(A, Xy, sym_pos=True, overwrite_a=True).T\n",
      "C:\\Users\\16174\\anaconda3\\lib\\site-packages\\sklearn\\linear_model\\_ridge.py:157: LinAlgWarning: Ill-conditioned matrix (rcond=9.45342e-21): result may not be accurate.\n",
      "  return linalg.solve(A, Xy, sym_pos=True, overwrite_a=True).T\n",
      "C:\\Users\\16174\\anaconda3\\lib\\site-packages\\sklearn\\linear_model\\_ridge.py:157: LinAlgWarning: Ill-conditioned matrix (rcond=1.08107e-20): result may not be accurate.\n",
      "  return linalg.solve(A, Xy, sym_pos=True, overwrite_a=True).T\n",
      "C:\\Users\\16174\\anaconda3\\lib\\site-packages\\sklearn\\linear_model\\_ridge.py:157: LinAlgWarning: Ill-conditioned matrix (rcond=9.04789e-20): result may not be accurate.\n",
      "  return linalg.solve(A, Xy, sym_pos=True, overwrite_a=True).T\n",
      "C:\\Users\\16174\\anaconda3\\lib\\site-packages\\sklearn\\linear_model\\_ridge.py:157: LinAlgWarning: Ill-conditioned matrix (rcond=9.04834e-20): result may not be accurate.\n",
      "  return linalg.solve(A, Xy, sym_pos=True, overwrite_a=True).T\n",
      "C:\\Users\\16174\\anaconda3\\lib\\site-packages\\sklearn\\linear_model\\_ridge.py:157: LinAlgWarning: Ill-conditioned matrix (rcond=8.0445e-20): result may not be accurate.\n",
      "  return linalg.solve(A, Xy, sym_pos=True, overwrite_a=True).T\n",
      "C:\\Users\\16174\\anaconda3\\lib\\site-packages\\sklearn\\linear_model\\_ridge.py:157: LinAlgWarning: Ill-conditioned matrix (rcond=9.0477e-20): result may not be accurate.\n",
      "  return linalg.solve(A, Xy, sym_pos=True, overwrite_a=True).T\n",
      "C:\\Users\\16174\\anaconda3\\lib\\site-packages\\sklearn\\linear_model\\_ridge.py:157: LinAlgWarning: Ill-conditioned matrix (rcond=1.03394e-19): result may not be accurate.\n",
      "  return linalg.solve(A, Xy, sym_pos=True, overwrite_a=True).T\n",
      "C:\\Users\\16174\\anaconda3\\lib\\site-packages\\sklearn\\linear_model\\_ridge.py:157: LinAlgWarning: Ill-conditioned matrix (rcond=9.01983e-19): result may not be accurate.\n",
      "  return linalg.solve(A, Xy, sym_pos=True, overwrite_a=True).T\n",
      "C:\\Users\\16174\\anaconda3\\lib\\site-packages\\sklearn\\linear_model\\_ridge.py:157: LinAlgWarning: Ill-conditioned matrix (rcond=9.0204e-19): result may not be accurate.\n",
      "  return linalg.solve(A, Xy, sym_pos=True, overwrite_a=True).T\n",
      "C:\\Users\\16174\\anaconda3\\lib\\site-packages\\sklearn\\linear_model\\_ridge.py:157: LinAlgWarning: Ill-conditioned matrix (rcond=8.01824e-19): result may not be accurate.\n",
      "  return linalg.solve(A, Xy, sym_pos=True, overwrite_a=True).T\n",
      "C:\\Users\\16174\\anaconda3\\lib\\site-packages\\sklearn\\linear_model\\_ridge.py:157: LinAlgWarning: Ill-conditioned matrix (rcond=9.01946e-19): result may not be accurate.\n",
      "  return linalg.solve(A, Xy, sym_pos=True, overwrite_a=True).T\n",
      "C:\\Users\\16174\\anaconda3\\lib\\site-packages\\sklearn\\linear_model\\_ridge.py:157: LinAlgWarning: Ill-conditioned matrix (rcond=1.03067e-18): result may not be accurate.\n",
      "  return linalg.solve(A, Xy, sym_pos=True, overwrite_a=True).T\n",
      "C:\\Users\\16174\\anaconda3\\lib\\site-packages\\sklearn\\linear_model\\_ridge.py:157: LinAlgWarning: Ill-conditioned matrix (rcond=7.24694e-20): result may not be accurate.\n",
      "  return linalg.solve(A, Xy, sym_pos=True, overwrite_a=True).T\n"
     ]
    },
    {
     "name": "stdout",
     "output_type": "stream",
     "text": [
      "Best parameters for Ridge: {'alpha': 10}\n",
      "Ridge - RMSE: 265.0618458913349, MAE: 102.77532016402692\n",
      "\n"
     ]
    },
    {
     "name": "stderr",
     "output_type": "stream",
     "text": [
      "C:\\Users\\16174\\anaconda3\\lib\\site-packages\\sklearn\\linear_model\\_coordinate_descent.py:647: ConvergenceWarning: Objective did not converge. You might want to increase the number of iterations, check the scale of the features or consider increasing regularisation. Duality gap: 7.941e+09, tolerance: 1.619e+06\n",
      "  model = cd_fast.enet_coordinate_descent(\n",
      "C:\\Users\\16174\\anaconda3\\lib\\site-packages\\sklearn\\linear_model\\_coordinate_descent.py:647: ConvergenceWarning: Objective did not converge. You might want to increase the number of iterations, check the scale of the features or consider increasing regularisation. Duality gap: 5.622e+09, tolerance: 1.156e+06\n",
      "  model = cd_fast.enet_coordinate_descent(\n",
      "C:\\Users\\16174\\anaconda3\\lib\\site-packages\\sklearn\\linear_model\\_coordinate_descent.py:647: ConvergenceWarning: Objective did not converge. You might want to increase the number of iterations, check the scale of the features or consider increasing regularisation. Duality gap: 1.019e+10, tolerance: 2.068e+06\n",
      "  model = cd_fast.enet_coordinate_descent(\n",
      "C:\\Users\\16174\\anaconda3\\lib\\site-packages\\sklearn\\linear_model\\_coordinate_descent.py:647: ConvergenceWarning: Objective did not converge. You might want to increase the number of iterations, check the scale of the features or consider increasing regularisation. Duality gap: 7.354e+09, tolerance: 1.503e+06\n",
      "  model = cd_fast.enet_coordinate_descent(\n",
      "C:\\Users\\16174\\anaconda3\\lib\\site-packages\\sklearn\\linear_model\\_coordinate_descent.py:647: ConvergenceWarning: Objective did not converge. You might want to increase the number of iterations, check the scale of the features or consider increasing regularisation. Duality gap: 9.988e+09, tolerance: 2.027e+06\n",
      "  model = cd_fast.enet_coordinate_descent(\n",
      "C:\\Users\\16174\\anaconda3\\lib\\site-packages\\sklearn\\linear_model\\_coordinate_descent.py:647: ConvergenceWarning: Objective did not converge. You might want to increase the number of iterations, check the scale of the features or consider increasing regularisation. Duality gap: 7.938e+09, tolerance: 1.619e+06\n",
      "  model = cd_fast.enet_coordinate_descent(\n",
      "C:\\Users\\16174\\anaconda3\\lib\\site-packages\\sklearn\\linear_model\\_coordinate_descent.py:647: ConvergenceWarning: Objective did not converge. You might want to increase the number of iterations, check the scale of the features or consider increasing regularisation. Duality gap: 5.621e+09, tolerance: 1.156e+06\n",
      "  model = cd_fast.enet_coordinate_descent(\n",
      "C:\\Users\\16174\\anaconda3\\lib\\site-packages\\sklearn\\linear_model\\_coordinate_descent.py:647: ConvergenceWarning: Objective did not converge. You might want to increase the number of iterations, check the scale of the features or consider increasing regularisation. Duality gap: 1.018e+10, tolerance: 2.068e+06\n",
      "  model = cd_fast.enet_coordinate_descent(\n",
      "C:\\Users\\16174\\anaconda3\\lib\\site-packages\\sklearn\\linear_model\\_coordinate_descent.py:647: ConvergenceWarning: Objective did not converge. You might want to increase the number of iterations, check the scale of the features or consider increasing regularisation. Duality gap: 7.351e+09, tolerance: 1.503e+06\n",
      "  model = cd_fast.enet_coordinate_descent(\n",
      "C:\\Users\\16174\\anaconda3\\lib\\site-packages\\sklearn\\linear_model\\_coordinate_descent.py:647: ConvergenceWarning: Objective did not converge. You might want to increase the number of iterations, check the scale of the features or consider increasing regularisation. Duality gap: 9.982e+09, tolerance: 2.027e+06\n",
      "  model = cd_fast.enet_coordinate_descent(\n",
      "C:\\Users\\16174\\anaconda3\\lib\\site-packages\\sklearn\\linear_model\\_coordinate_descent.py:647: ConvergenceWarning: Objective did not converge. You might want to increase the number of iterations, check the scale of the features or consider increasing regularisation. Duality gap: 7.910e+09, tolerance: 1.619e+06\n",
      "  model = cd_fast.enet_coordinate_descent(\n",
      "C:\\Users\\16174\\anaconda3\\lib\\site-packages\\sklearn\\linear_model\\_coordinate_descent.py:647: ConvergenceWarning: Objective did not converge. You might want to increase the number of iterations, check the scale of the features or consider increasing regularisation. Duality gap: 5.609e+09, tolerance: 1.156e+06\n",
      "  model = cd_fast.enet_coordinate_descent(\n",
      "C:\\Users\\16174\\anaconda3\\lib\\site-packages\\sklearn\\linear_model\\_coordinate_descent.py:647: ConvergenceWarning: Objective did not converge. You might want to increase the number of iterations, check the scale of the features or consider increasing regularisation. Duality gap: 1.014e+10, tolerance: 2.068e+06\n",
      "  model = cd_fast.enet_coordinate_descent(\n",
      "C:\\Users\\16174\\anaconda3\\lib\\site-packages\\sklearn\\linear_model\\_coordinate_descent.py:647: ConvergenceWarning: Objective did not converge. You might want to increase the number of iterations, check the scale of the features or consider increasing regularisation. Duality gap: 7.327e+09, tolerance: 1.503e+06\n",
      "  model = cd_fast.enet_coordinate_descent(\n",
      "C:\\Users\\16174\\anaconda3\\lib\\site-packages\\sklearn\\linear_model\\_coordinate_descent.py:647: ConvergenceWarning: Objective did not converge. You might want to increase the number of iterations, check the scale of the features or consider increasing regularisation. Duality gap: 9.932e+09, tolerance: 2.027e+06\n",
      "  model = cd_fast.enet_coordinate_descent(\n",
      "C:\\Users\\16174\\anaconda3\\lib\\site-packages\\sklearn\\linear_model\\_coordinate_descent.py:647: ConvergenceWarning: Objective did not converge. You might want to increase the number of iterations, check the scale of the features or consider increasing regularisation. Duality gap: 7.698e+09, tolerance: 1.619e+06\n",
      "  model = cd_fast.enet_coordinate_descent(\n",
      "C:\\Users\\16174\\anaconda3\\lib\\site-packages\\sklearn\\linear_model\\_coordinate_descent.py:647: ConvergenceWarning: Objective did not converge. You might want to increase the number of iterations, check the scale of the features or consider increasing regularisation. Duality gap: 5.473e+09, tolerance: 1.156e+06\n",
      "  model = cd_fast.enet_coordinate_descent(\n",
      "C:\\Users\\16174\\anaconda3\\lib\\site-packages\\sklearn\\linear_model\\_coordinate_descent.py:647: ConvergenceWarning: Objective did not converge. You might want to increase the number of iterations, check the scale of the features or consider increasing regularisation. Duality gap: 9.808e+09, tolerance: 2.068e+06\n",
      "  model = cd_fast.enet_coordinate_descent(\n",
      "C:\\Users\\16174\\anaconda3\\lib\\site-packages\\sklearn\\linear_model\\_coordinate_descent.py:647: ConvergenceWarning: Objective did not converge. You might want to increase the number of iterations, check the scale of the features or consider increasing regularisation. Duality gap: 7.085e+09, tolerance: 1.503e+06\n",
      "  model = cd_fast.enet_coordinate_descent(\n",
      "C:\\Users\\16174\\anaconda3\\lib\\site-packages\\sklearn\\linear_model\\_coordinate_descent.py:647: ConvergenceWarning: Objective did not converge. You might want to increase the number of iterations, check the scale of the features or consider increasing regularisation. Duality gap: 9.608e+09, tolerance: 2.027e+06\n",
      "  model = cd_fast.enet_coordinate_descent(\n",
      "C:\\Users\\16174\\anaconda3\\lib\\site-packages\\sklearn\\linear_model\\_coordinate_descent.py:647: ConvergenceWarning: Objective did not converge. You might want to increase the number of iterations, check the scale of the features or consider increasing regularisation. Duality gap: 5.537e+09, tolerance: 1.619e+06\n",
      "  model = cd_fast.enet_coordinate_descent(\n",
      "C:\\Users\\16174\\anaconda3\\lib\\site-packages\\sklearn\\linear_model\\_coordinate_descent.py:647: ConvergenceWarning: Objective did not converge. You might want to increase the number of iterations, check the scale of the features or consider increasing regularisation. Duality gap: 4.314e+09, tolerance: 1.156e+06\n",
      "  model = cd_fast.enet_coordinate_descent(\n",
      "C:\\Users\\16174\\anaconda3\\lib\\site-packages\\sklearn\\linear_model\\_coordinate_descent.py:647: ConvergenceWarning: Objective did not converge. You might want to increase the number of iterations, check the scale of the features or consider increasing regularisation. Duality gap: 7.200e+09, tolerance: 2.068e+06\n",
      "  model = cd_fast.enet_coordinate_descent(\n",
      "C:\\Users\\16174\\anaconda3\\lib\\site-packages\\sklearn\\linear_model\\_coordinate_descent.py:647: ConvergenceWarning: Objective did not converge. You might want to increase the number of iterations, check the scale of the features or consider increasing regularisation. Duality gap: 4.756e+09, tolerance: 1.503e+06\n",
      "  model = cd_fast.enet_coordinate_descent(\n",
      "C:\\Users\\16174\\anaconda3\\lib\\site-packages\\sklearn\\linear_model\\_coordinate_descent.py:647: ConvergenceWarning: Objective did not converge. You might want to increase the number of iterations, check the scale of the features or consider increasing regularisation. Duality gap: 7.242e+09, tolerance: 2.027e+06\n",
      "  model = cd_fast.enet_coordinate_descent(\n",
      "C:\\Users\\16174\\anaconda3\\lib\\site-packages\\sklearn\\linear_model\\_coordinate_descent.py:647: ConvergenceWarning: Objective did not converge. You might want to increase the number of iterations, check the scale of the features or consider increasing regularisation. Duality gap: 1.023e+10, tolerance: 2.094e+06\n",
      "  model = cd_fast.enet_coordinate_descent(\n"
     ]
    },
    {
     "name": "stdout",
     "output_type": "stream",
     "text": [
      "Best parameters for Lasso: {'alpha': 1}\n",
      "Lasso - RMSE: 264.65509189687407, MAE: 102.31239392637117\n",
      "\n",
      "Best parameters for DecisionTreeRegressor: {'max_depth': 3}\n",
      "DecisionTreeRegressor - RMSE: 271.90680223126606, MAE: 112.53507476901432\n",
      "\n"
     ]
    },
    {
     "ename": "KeyboardInterrupt",
     "evalue": "",
     "output_type": "error",
     "traceback": [
      "\u001b[1;31m---------------------------------------------------------------------------\u001b[0m",
      "\u001b[1;31mKeyboardInterrupt\u001b[0m                         Traceback (most recent call last)",
      "\u001b[1;32m~\\AppData\\Local\\Temp\\ipykernel_29088\\3138561860.py\u001b[0m in \u001b[0;36m<module>\u001b[1;34m\u001b[0m\n\u001b[0;32m     38\u001b[0m \u001b[1;32mfor\u001b[0m \u001b[0mi\u001b[0m\u001b[1;33m,\u001b[0m \u001b[0mmodel\u001b[0m \u001b[1;32min\u001b[0m \u001b[0menumerate\u001b[0m\u001b[1;33m(\u001b[0m\u001b[0mmodels\u001b[0m\u001b[1;33m)\u001b[0m\u001b[1;33m:\u001b[0m\u001b[1;33m\u001b[0m\u001b[1;33m\u001b[0m\u001b[0m\n\u001b[0;32m     39\u001b[0m     \u001b[0mgrid_search\u001b[0m \u001b[1;33m=\u001b[0m \u001b[0mGridSearchCV\u001b[0m\u001b[1;33m(\u001b[0m\u001b[0mmodel\u001b[0m\u001b[1;33m,\u001b[0m \u001b[0mparam_grid\u001b[0m\u001b[1;33m[\u001b[0m\u001b[0mi\u001b[0m\u001b[1;33m]\u001b[0m\u001b[1;33m,\u001b[0m \u001b[0mcv\u001b[0m\u001b[1;33m=\u001b[0m\u001b[1;36m5\u001b[0m\u001b[1;33m,\u001b[0m \u001b[0mscoring\u001b[0m\u001b[1;33m=\u001b[0m\u001b[1;34m\"neg_mean_squared_error\"\u001b[0m\u001b[1;33m)\u001b[0m\u001b[1;33m\u001b[0m\u001b[1;33m\u001b[0m\u001b[0m\n\u001b[1;32m---> 40\u001b[1;33m     \u001b[0mgrid_search\u001b[0m\u001b[1;33m.\u001b[0m\u001b[0mfit\u001b[0m\u001b[1;33m(\u001b[0m\u001b[0mX_train\u001b[0m\u001b[1;33m,\u001b[0m \u001b[0my_train\u001b[0m\u001b[1;33m)\u001b[0m\u001b[1;33m\u001b[0m\u001b[1;33m\u001b[0m\u001b[0m\n\u001b[0m\u001b[0;32m     41\u001b[0m     \u001b[0mbest_params\u001b[0m \u001b[1;33m=\u001b[0m \u001b[0mgrid_search\u001b[0m\u001b[1;33m.\u001b[0m\u001b[0mbest_params_\u001b[0m\u001b[1;33m\u001b[0m\u001b[1;33m\u001b[0m\u001b[0m\n\u001b[0;32m     42\u001b[0m     \u001b[0mprint\u001b[0m\u001b[1;33m(\u001b[0m\u001b[1;34mf\"Best parameters for {type(model).__name__}: {best_params}\"\u001b[0m\u001b[1;33m)\u001b[0m\u001b[1;33m\u001b[0m\u001b[1;33m\u001b[0m\u001b[0m\n",
      "\u001b[1;32m~\\anaconda3\\lib\\site-packages\\sklearn\\model_selection\\_search.py\u001b[0m in \u001b[0;36mfit\u001b[1;34m(self, X, y, groups, **fit_params)\u001b[0m\n\u001b[0;32m    889\u001b[0m                 \u001b[1;32mreturn\u001b[0m \u001b[0mresults\u001b[0m\u001b[1;33m\u001b[0m\u001b[1;33m\u001b[0m\u001b[0m\n\u001b[0;32m    890\u001b[0m \u001b[1;33m\u001b[0m\u001b[0m\n\u001b[1;32m--> 891\u001b[1;33m             \u001b[0mself\u001b[0m\u001b[1;33m.\u001b[0m\u001b[0m_run_search\u001b[0m\u001b[1;33m(\u001b[0m\u001b[0mevaluate_candidates\u001b[0m\u001b[1;33m)\u001b[0m\u001b[1;33m\u001b[0m\u001b[1;33m\u001b[0m\u001b[0m\n\u001b[0m\u001b[0;32m    892\u001b[0m \u001b[1;33m\u001b[0m\u001b[0m\n\u001b[0;32m    893\u001b[0m             \u001b[1;31m# multimetric is determined here because in the case of a callable\u001b[0m\u001b[1;33m\u001b[0m\u001b[1;33m\u001b[0m\u001b[0m\n",
      "\u001b[1;32m~\\anaconda3\\lib\\site-packages\\sklearn\\model_selection\\_search.py\u001b[0m in \u001b[0;36m_run_search\u001b[1;34m(self, evaluate_candidates)\u001b[0m\n\u001b[0;32m   1390\u001b[0m     \u001b[1;32mdef\u001b[0m \u001b[0m_run_search\u001b[0m\u001b[1;33m(\u001b[0m\u001b[0mself\u001b[0m\u001b[1;33m,\u001b[0m \u001b[0mevaluate_candidates\u001b[0m\u001b[1;33m)\u001b[0m\u001b[1;33m:\u001b[0m\u001b[1;33m\u001b[0m\u001b[1;33m\u001b[0m\u001b[0m\n\u001b[0;32m   1391\u001b[0m         \u001b[1;34m\"\"\"Search all candidates in param_grid\"\"\"\u001b[0m\u001b[1;33m\u001b[0m\u001b[1;33m\u001b[0m\u001b[0m\n\u001b[1;32m-> 1392\u001b[1;33m         \u001b[0mevaluate_candidates\u001b[0m\u001b[1;33m(\u001b[0m\u001b[0mParameterGrid\u001b[0m\u001b[1;33m(\u001b[0m\u001b[0mself\u001b[0m\u001b[1;33m.\u001b[0m\u001b[0mparam_grid\u001b[0m\u001b[1;33m)\u001b[0m\u001b[1;33m)\u001b[0m\u001b[1;33m\u001b[0m\u001b[1;33m\u001b[0m\u001b[0m\n\u001b[0m\u001b[0;32m   1393\u001b[0m \u001b[1;33m\u001b[0m\u001b[0m\n\u001b[0;32m   1394\u001b[0m \u001b[1;33m\u001b[0m\u001b[0m\n",
      "\u001b[1;32m~\\anaconda3\\lib\\site-packages\\sklearn\\model_selection\\_search.py\u001b[0m in \u001b[0;36mevaluate_candidates\u001b[1;34m(candidate_params, cv, more_results)\u001b[0m\n\u001b[0;32m    836\u001b[0m                     )\n\u001b[0;32m    837\u001b[0m \u001b[1;33m\u001b[0m\u001b[0m\n\u001b[1;32m--> 838\u001b[1;33m                 out = parallel(\n\u001b[0m\u001b[0;32m    839\u001b[0m                     delayed(_fit_and_score)(\n\u001b[0;32m    840\u001b[0m                         \u001b[0mclone\u001b[0m\u001b[1;33m(\u001b[0m\u001b[0mbase_estimator\u001b[0m\u001b[1;33m)\u001b[0m\u001b[1;33m,\u001b[0m\u001b[1;33m\u001b[0m\u001b[1;33m\u001b[0m\u001b[0m\n",
      "\u001b[1;32m~\\anaconda3\\lib\\site-packages\\joblib\\parallel.py\u001b[0m in \u001b[0;36m__call__\u001b[1;34m(self, iterable)\u001b[0m\n\u001b[0;32m   1044\u001b[0m                 \u001b[0mself\u001b[0m\u001b[1;33m.\u001b[0m\u001b[0m_iterating\u001b[0m \u001b[1;33m=\u001b[0m \u001b[0mself\u001b[0m\u001b[1;33m.\u001b[0m\u001b[0m_original_iterator\u001b[0m \u001b[1;32mis\u001b[0m \u001b[1;32mnot\u001b[0m \u001b[1;32mNone\u001b[0m\u001b[1;33m\u001b[0m\u001b[1;33m\u001b[0m\u001b[0m\n\u001b[0;32m   1045\u001b[0m \u001b[1;33m\u001b[0m\u001b[0m\n\u001b[1;32m-> 1046\u001b[1;33m             \u001b[1;32mwhile\u001b[0m \u001b[0mself\u001b[0m\u001b[1;33m.\u001b[0m\u001b[0mdispatch_one_batch\u001b[0m\u001b[1;33m(\u001b[0m\u001b[0miterator\u001b[0m\u001b[1;33m)\u001b[0m\u001b[1;33m:\u001b[0m\u001b[1;33m\u001b[0m\u001b[1;33m\u001b[0m\u001b[0m\n\u001b[0m\u001b[0;32m   1047\u001b[0m                 \u001b[1;32mpass\u001b[0m\u001b[1;33m\u001b[0m\u001b[1;33m\u001b[0m\u001b[0m\n\u001b[0;32m   1048\u001b[0m \u001b[1;33m\u001b[0m\u001b[0m\n",
      "\u001b[1;32m~\\anaconda3\\lib\\site-packages\\joblib\\parallel.py\u001b[0m in \u001b[0;36mdispatch_one_batch\u001b[1;34m(self, iterator)\u001b[0m\n\u001b[0;32m    859\u001b[0m                 \u001b[1;32mreturn\u001b[0m \u001b[1;32mFalse\u001b[0m\u001b[1;33m\u001b[0m\u001b[1;33m\u001b[0m\u001b[0m\n\u001b[0;32m    860\u001b[0m             \u001b[1;32melse\u001b[0m\u001b[1;33m:\u001b[0m\u001b[1;33m\u001b[0m\u001b[1;33m\u001b[0m\u001b[0m\n\u001b[1;32m--> 861\u001b[1;33m                 \u001b[0mself\u001b[0m\u001b[1;33m.\u001b[0m\u001b[0m_dispatch\u001b[0m\u001b[1;33m(\u001b[0m\u001b[0mtasks\u001b[0m\u001b[1;33m)\u001b[0m\u001b[1;33m\u001b[0m\u001b[1;33m\u001b[0m\u001b[0m\n\u001b[0m\u001b[0;32m    862\u001b[0m                 \u001b[1;32mreturn\u001b[0m \u001b[1;32mTrue\u001b[0m\u001b[1;33m\u001b[0m\u001b[1;33m\u001b[0m\u001b[0m\n\u001b[0;32m    863\u001b[0m \u001b[1;33m\u001b[0m\u001b[0m\n",
      "\u001b[1;32m~\\anaconda3\\lib\\site-packages\\joblib\\parallel.py\u001b[0m in \u001b[0;36m_dispatch\u001b[1;34m(self, batch)\u001b[0m\n\u001b[0;32m    777\u001b[0m         \u001b[1;32mwith\u001b[0m \u001b[0mself\u001b[0m\u001b[1;33m.\u001b[0m\u001b[0m_lock\u001b[0m\u001b[1;33m:\u001b[0m\u001b[1;33m\u001b[0m\u001b[1;33m\u001b[0m\u001b[0m\n\u001b[0;32m    778\u001b[0m             \u001b[0mjob_idx\u001b[0m \u001b[1;33m=\u001b[0m \u001b[0mlen\u001b[0m\u001b[1;33m(\u001b[0m\u001b[0mself\u001b[0m\u001b[1;33m.\u001b[0m\u001b[0m_jobs\u001b[0m\u001b[1;33m)\u001b[0m\u001b[1;33m\u001b[0m\u001b[1;33m\u001b[0m\u001b[0m\n\u001b[1;32m--> 779\u001b[1;33m             \u001b[0mjob\u001b[0m \u001b[1;33m=\u001b[0m \u001b[0mself\u001b[0m\u001b[1;33m.\u001b[0m\u001b[0m_backend\u001b[0m\u001b[1;33m.\u001b[0m\u001b[0mapply_async\u001b[0m\u001b[1;33m(\u001b[0m\u001b[0mbatch\u001b[0m\u001b[1;33m,\u001b[0m \u001b[0mcallback\u001b[0m\u001b[1;33m=\u001b[0m\u001b[0mcb\u001b[0m\u001b[1;33m)\u001b[0m\u001b[1;33m\u001b[0m\u001b[1;33m\u001b[0m\u001b[0m\n\u001b[0m\u001b[0;32m    780\u001b[0m             \u001b[1;31m# A job can complete so quickly than its callback is\u001b[0m\u001b[1;33m\u001b[0m\u001b[1;33m\u001b[0m\u001b[0m\n\u001b[0;32m    781\u001b[0m             \u001b[1;31m# called before we get here, causing self._jobs to\u001b[0m\u001b[1;33m\u001b[0m\u001b[1;33m\u001b[0m\u001b[0m\n",
      "\u001b[1;32m~\\anaconda3\\lib\\site-packages\\joblib\\_parallel_backends.py\u001b[0m in \u001b[0;36mapply_async\u001b[1;34m(self, func, callback)\u001b[0m\n\u001b[0;32m    206\u001b[0m     \u001b[1;32mdef\u001b[0m \u001b[0mapply_async\u001b[0m\u001b[1;33m(\u001b[0m\u001b[0mself\u001b[0m\u001b[1;33m,\u001b[0m \u001b[0mfunc\u001b[0m\u001b[1;33m,\u001b[0m \u001b[0mcallback\u001b[0m\u001b[1;33m=\u001b[0m\u001b[1;32mNone\u001b[0m\u001b[1;33m)\u001b[0m\u001b[1;33m:\u001b[0m\u001b[1;33m\u001b[0m\u001b[1;33m\u001b[0m\u001b[0m\n\u001b[0;32m    207\u001b[0m         \u001b[1;34m\"\"\"Schedule a func to be run\"\"\"\u001b[0m\u001b[1;33m\u001b[0m\u001b[1;33m\u001b[0m\u001b[0m\n\u001b[1;32m--> 208\u001b[1;33m         \u001b[0mresult\u001b[0m \u001b[1;33m=\u001b[0m \u001b[0mImmediateResult\u001b[0m\u001b[1;33m(\u001b[0m\u001b[0mfunc\u001b[0m\u001b[1;33m)\u001b[0m\u001b[1;33m\u001b[0m\u001b[1;33m\u001b[0m\u001b[0m\n\u001b[0m\u001b[0;32m    209\u001b[0m         \u001b[1;32mif\u001b[0m \u001b[0mcallback\u001b[0m\u001b[1;33m:\u001b[0m\u001b[1;33m\u001b[0m\u001b[1;33m\u001b[0m\u001b[0m\n\u001b[0;32m    210\u001b[0m             \u001b[0mcallback\u001b[0m\u001b[1;33m(\u001b[0m\u001b[0mresult\u001b[0m\u001b[1;33m)\u001b[0m\u001b[1;33m\u001b[0m\u001b[1;33m\u001b[0m\u001b[0m\n",
      "\u001b[1;32m~\\anaconda3\\lib\\site-packages\\joblib\\_parallel_backends.py\u001b[0m in \u001b[0;36m__init__\u001b[1;34m(self, batch)\u001b[0m\n\u001b[0;32m    570\u001b[0m         \u001b[1;31m# Don't delay the application, to avoid keeping the input\u001b[0m\u001b[1;33m\u001b[0m\u001b[1;33m\u001b[0m\u001b[0m\n\u001b[0;32m    571\u001b[0m         \u001b[1;31m# arguments in memory\u001b[0m\u001b[1;33m\u001b[0m\u001b[1;33m\u001b[0m\u001b[0m\n\u001b[1;32m--> 572\u001b[1;33m         \u001b[0mself\u001b[0m\u001b[1;33m.\u001b[0m\u001b[0mresults\u001b[0m \u001b[1;33m=\u001b[0m \u001b[0mbatch\u001b[0m\u001b[1;33m(\u001b[0m\u001b[1;33m)\u001b[0m\u001b[1;33m\u001b[0m\u001b[1;33m\u001b[0m\u001b[0m\n\u001b[0m\u001b[0;32m    573\u001b[0m \u001b[1;33m\u001b[0m\u001b[0m\n\u001b[0;32m    574\u001b[0m     \u001b[1;32mdef\u001b[0m \u001b[0mget\u001b[0m\u001b[1;33m(\u001b[0m\u001b[0mself\u001b[0m\u001b[1;33m)\u001b[0m\u001b[1;33m:\u001b[0m\u001b[1;33m\u001b[0m\u001b[1;33m\u001b[0m\u001b[0m\n",
      "\u001b[1;32m~\\anaconda3\\lib\\site-packages\\joblib\\parallel.py\u001b[0m in \u001b[0;36m__call__\u001b[1;34m(self)\u001b[0m\n\u001b[0;32m    260\u001b[0m         \u001b[1;31m# change the default number of processes to -1\u001b[0m\u001b[1;33m\u001b[0m\u001b[1;33m\u001b[0m\u001b[0m\n\u001b[0;32m    261\u001b[0m         \u001b[1;32mwith\u001b[0m \u001b[0mparallel_backend\u001b[0m\u001b[1;33m(\u001b[0m\u001b[0mself\u001b[0m\u001b[1;33m.\u001b[0m\u001b[0m_backend\u001b[0m\u001b[1;33m,\u001b[0m \u001b[0mn_jobs\u001b[0m\u001b[1;33m=\u001b[0m\u001b[0mself\u001b[0m\u001b[1;33m.\u001b[0m\u001b[0m_n_jobs\u001b[0m\u001b[1;33m)\u001b[0m\u001b[1;33m:\u001b[0m\u001b[1;33m\u001b[0m\u001b[1;33m\u001b[0m\u001b[0m\n\u001b[1;32m--> 262\u001b[1;33m             return [func(*args, **kwargs)\n\u001b[0m\u001b[0;32m    263\u001b[0m                     for func, args, kwargs in self.items]\n\u001b[0;32m    264\u001b[0m \u001b[1;33m\u001b[0m\u001b[0m\n",
      "\u001b[1;32m~\\anaconda3\\lib\\site-packages\\joblib\\parallel.py\u001b[0m in \u001b[0;36m<listcomp>\u001b[1;34m(.0)\u001b[0m\n\u001b[0;32m    260\u001b[0m         \u001b[1;31m# change the default number of processes to -1\u001b[0m\u001b[1;33m\u001b[0m\u001b[1;33m\u001b[0m\u001b[0m\n\u001b[0;32m    261\u001b[0m         \u001b[1;32mwith\u001b[0m \u001b[0mparallel_backend\u001b[0m\u001b[1;33m(\u001b[0m\u001b[0mself\u001b[0m\u001b[1;33m.\u001b[0m\u001b[0m_backend\u001b[0m\u001b[1;33m,\u001b[0m \u001b[0mn_jobs\u001b[0m\u001b[1;33m=\u001b[0m\u001b[0mself\u001b[0m\u001b[1;33m.\u001b[0m\u001b[0m_n_jobs\u001b[0m\u001b[1;33m)\u001b[0m\u001b[1;33m:\u001b[0m\u001b[1;33m\u001b[0m\u001b[1;33m\u001b[0m\u001b[0m\n\u001b[1;32m--> 262\u001b[1;33m             return [func(*args, **kwargs)\n\u001b[0m\u001b[0;32m    263\u001b[0m                     for func, args, kwargs in self.items]\n\u001b[0;32m    264\u001b[0m \u001b[1;33m\u001b[0m\u001b[0m\n",
      "\u001b[1;32m~\\anaconda3\\lib\\site-packages\\sklearn\\utils\\fixes.py\u001b[0m in \u001b[0;36m__call__\u001b[1;34m(self, *args, **kwargs)\u001b[0m\n\u001b[0;32m    214\u001b[0m     \u001b[1;32mdef\u001b[0m \u001b[0m__call__\u001b[0m\u001b[1;33m(\u001b[0m\u001b[0mself\u001b[0m\u001b[1;33m,\u001b[0m \u001b[1;33m*\u001b[0m\u001b[0margs\u001b[0m\u001b[1;33m,\u001b[0m \u001b[1;33m**\u001b[0m\u001b[0mkwargs\u001b[0m\u001b[1;33m)\u001b[0m\u001b[1;33m:\u001b[0m\u001b[1;33m\u001b[0m\u001b[1;33m\u001b[0m\u001b[0m\n\u001b[0;32m    215\u001b[0m         \u001b[1;32mwith\u001b[0m \u001b[0mconfig_context\u001b[0m\u001b[1;33m(\u001b[0m\u001b[1;33m**\u001b[0m\u001b[0mself\u001b[0m\u001b[1;33m.\u001b[0m\u001b[0mconfig\u001b[0m\u001b[1;33m)\u001b[0m\u001b[1;33m:\u001b[0m\u001b[1;33m\u001b[0m\u001b[1;33m\u001b[0m\u001b[0m\n\u001b[1;32m--> 216\u001b[1;33m             \u001b[1;32mreturn\u001b[0m \u001b[0mself\u001b[0m\u001b[1;33m.\u001b[0m\u001b[0mfunction\u001b[0m\u001b[1;33m(\u001b[0m\u001b[1;33m*\u001b[0m\u001b[0margs\u001b[0m\u001b[1;33m,\u001b[0m \u001b[1;33m**\u001b[0m\u001b[0mkwargs\u001b[0m\u001b[1;33m)\u001b[0m\u001b[1;33m\u001b[0m\u001b[1;33m\u001b[0m\u001b[0m\n\u001b[0m\u001b[0;32m    217\u001b[0m \u001b[1;33m\u001b[0m\u001b[0m\n\u001b[0;32m    218\u001b[0m \u001b[1;33m\u001b[0m\u001b[0m\n",
      "\u001b[1;32m~\\anaconda3\\lib\\site-packages\\sklearn\\model_selection\\_validation.py\u001b[0m in \u001b[0;36m_fit_and_score\u001b[1;34m(estimator, X, y, scorer, train, test, verbose, parameters, fit_params, return_train_score, return_parameters, return_n_test_samples, return_times, return_estimator, split_progress, candidate_progress, error_score)\u001b[0m\n\u001b[0;32m    678\u001b[0m             \u001b[0mestimator\u001b[0m\u001b[1;33m.\u001b[0m\u001b[0mfit\u001b[0m\u001b[1;33m(\u001b[0m\u001b[0mX_train\u001b[0m\u001b[1;33m,\u001b[0m \u001b[1;33m**\u001b[0m\u001b[0mfit_params\u001b[0m\u001b[1;33m)\u001b[0m\u001b[1;33m\u001b[0m\u001b[1;33m\u001b[0m\u001b[0m\n\u001b[0;32m    679\u001b[0m         \u001b[1;32melse\u001b[0m\u001b[1;33m:\u001b[0m\u001b[1;33m\u001b[0m\u001b[1;33m\u001b[0m\u001b[0m\n\u001b[1;32m--> 680\u001b[1;33m             \u001b[0mestimator\u001b[0m\u001b[1;33m.\u001b[0m\u001b[0mfit\u001b[0m\u001b[1;33m(\u001b[0m\u001b[0mX_train\u001b[0m\u001b[1;33m,\u001b[0m \u001b[0my_train\u001b[0m\u001b[1;33m,\u001b[0m \u001b[1;33m**\u001b[0m\u001b[0mfit_params\u001b[0m\u001b[1;33m)\u001b[0m\u001b[1;33m\u001b[0m\u001b[1;33m\u001b[0m\u001b[0m\n\u001b[0m\u001b[0;32m    681\u001b[0m \u001b[1;33m\u001b[0m\u001b[0m\n\u001b[0;32m    682\u001b[0m     \u001b[1;32mexcept\u001b[0m \u001b[0mException\u001b[0m\u001b[1;33m:\u001b[0m\u001b[1;33m\u001b[0m\u001b[1;33m\u001b[0m\u001b[0m\n",
      "\u001b[1;32m~\\anaconda3\\lib\\site-packages\\xgboost\\core.py\u001b[0m in \u001b[0;36minner_f\u001b[1;34m(*args, **kwargs)\u001b[0m\n\u001b[0;32m    618\u001b[0m             \u001b[1;32mfor\u001b[0m \u001b[0mk\u001b[0m\u001b[1;33m,\u001b[0m \u001b[0marg\u001b[0m \u001b[1;32min\u001b[0m \u001b[0mzip\u001b[0m\u001b[1;33m(\u001b[0m\u001b[0msig\u001b[0m\u001b[1;33m.\u001b[0m\u001b[0mparameters\u001b[0m\u001b[1;33m,\u001b[0m \u001b[0margs\u001b[0m\u001b[1;33m)\u001b[0m\u001b[1;33m:\u001b[0m\u001b[1;33m\u001b[0m\u001b[1;33m\u001b[0m\u001b[0m\n\u001b[0;32m    619\u001b[0m                 \u001b[0mkwargs\u001b[0m\u001b[1;33m[\u001b[0m\u001b[0mk\u001b[0m\u001b[1;33m]\u001b[0m \u001b[1;33m=\u001b[0m \u001b[0marg\u001b[0m\u001b[1;33m\u001b[0m\u001b[1;33m\u001b[0m\u001b[0m\n\u001b[1;32m--> 620\u001b[1;33m             \u001b[1;32mreturn\u001b[0m \u001b[0mfunc\u001b[0m\u001b[1;33m(\u001b[0m\u001b[1;33m**\u001b[0m\u001b[0mkwargs\u001b[0m\u001b[1;33m)\u001b[0m\u001b[1;33m\u001b[0m\u001b[1;33m\u001b[0m\u001b[0m\n\u001b[0m\u001b[0;32m    621\u001b[0m \u001b[1;33m\u001b[0m\u001b[0m\n\u001b[0;32m    622\u001b[0m         \u001b[1;32mreturn\u001b[0m \u001b[0minner_f\u001b[0m\u001b[1;33m\u001b[0m\u001b[1;33m\u001b[0m\u001b[0m\n",
      "\u001b[1;32m~\\anaconda3\\lib\\site-packages\\xgboost\\sklearn.py\u001b[0m in \u001b[0;36mfit\u001b[1;34m(self, X, y, sample_weight, base_margin, eval_set, eval_metric, early_stopping_rounds, verbose, xgb_model, sample_weight_eval_set, base_margin_eval_set, feature_weights, callbacks)\u001b[0m\n\u001b[0;32m   1023\u001b[0m                 \u001b[0mxgb_model\u001b[0m\u001b[1;33m,\u001b[0m \u001b[0meval_metric\u001b[0m\u001b[1;33m,\u001b[0m \u001b[0mparams\u001b[0m\u001b[1;33m,\u001b[0m \u001b[0mearly_stopping_rounds\u001b[0m\u001b[1;33m,\u001b[0m \u001b[0mcallbacks\u001b[0m\u001b[1;33m\u001b[0m\u001b[1;33m\u001b[0m\u001b[0m\n\u001b[0;32m   1024\u001b[0m             )\n\u001b[1;32m-> 1025\u001b[1;33m             self._Booster = train(\n\u001b[0m\u001b[0;32m   1026\u001b[0m                 \u001b[0mparams\u001b[0m\u001b[1;33m,\u001b[0m\u001b[1;33m\u001b[0m\u001b[1;33m\u001b[0m\u001b[0m\n\u001b[0;32m   1027\u001b[0m                 \u001b[0mtrain_dmatrix\u001b[0m\u001b[1;33m,\u001b[0m\u001b[1;33m\u001b[0m\u001b[1;33m\u001b[0m\u001b[0m\n",
      "\u001b[1;32m~\\anaconda3\\lib\\site-packages\\xgboost\\core.py\u001b[0m in \u001b[0;36minner_f\u001b[1;34m(*args, **kwargs)\u001b[0m\n\u001b[0;32m    618\u001b[0m             \u001b[1;32mfor\u001b[0m \u001b[0mk\u001b[0m\u001b[1;33m,\u001b[0m \u001b[0marg\u001b[0m \u001b[1;32min\u001b[0m \u001b[0mzip\u001b[0m\u001b[1;33m(\u001b[0m\u001b[0msig\u001b[0m\u001b[1;33m.\u001b[0m\u001b[0mparameters\u001b[0m\u001b[1;33m,\u001b[0m \u001b[0margs\u001b[0m\u001b[1;33m)\u001b[0m\u001b[1;33m:\u001b[0m\u001b[1;33m\u001b[0m\u001b[1;33m\u001b[0m\u001b[0m\n\u001b[0;32m    619\u001b[0m                 \u001b[0mkwargs\u001b[0m\u001b[1;33m[\u001b[0m\u001b[0mk\u001b[0m\u001b[1;33m]\u001b[0m \u001b[1;33m=\u001b[0m \u001b[0marg\u001b[0m\u001b[1;33m\u001b[0m\u001b[1;33m\u001b[0m\u001b[0m\n\u001b[1;32m--> 620\u001b[1;33m             \u001b[1;32mreturn\u001b[0m \u001b[0mfunc\u001b[0m\u001b[1;33m(\u001b[0m\u001b[1;33m**\u001b[0m\u001b[0mkwargs\u001b[0m\u001b[1;33m)\u001b[0m\u001b[1;33m\u001b[0m\u001b[1;33m\u001b[0m\u001b[0m\n\u001b[0m\u001b[0;32m    621\u001b[0m \u001b[1;33m\u001b[0m\u001b[0m\n\u001b[0;32m    622\u001b[0m         \u001b[1;32mreturn\u001b[0m \u001b[0minner_f\u001b[0m\u001b[1;33m\u001b[0m\u001b[1;33m\u001b[0m\u001b[0m\n",
      "\u001b[1;32m~\\anaconda3\\lib\\site-packages\\xgboost\\training.py\u001b[0m in \u001b[0;36mtrain\u001b[1;34m(params, dtrain, num_boost_round, evals, obj, feval, maximize, early_stopping_rounds, evals_result, verbose_eval, xgb_model, callbacks, custom_metric)\u001b[0m\n\u001b[0;32m    183\u001b[0m         \u001b[1;32mif\u001b[0m \u001b[0mcb_container\u001b[0m\u001b[1;33m.\u001b[0m\u001b[0mbefore_iteration\u001b[0m\u001b[1;33m(\u001b[0m\u001b[0mbst\u001b[0m\u001b[1;33m,\u001b[0m \u001b[0mi\u001b[0m\u001b[1;33m,\u001b[0m \u001b[0mdtrain\u001b[0m\u001b[1;33m,\u001b[0m \u001b[0mevals\u001b[0m\u001b[1;33m)\u001b[0m\u001b[1;33m:\u001b[0m\u001b[1;33m\u001b[0m\u001b[1;33m\u001b[0m\u001b[0m\n\u001b[0;32m    184\u001b[0m             \u001b[1;32mbreak\u001b[0m\u001b[1;33m\u001b[0m\u001b[1;33m\u001b[0m\u001b[0m\n\u001b[1;32m--> 185\u001b[1;33m         \u001b[0mbst\u001b[0m\u001b[1;33m.\u001b[0m\u001b[0mupdate\u001b[0m\u001b[1;33m(\u001b[0m\u001b[0mdtrain\u001b[0m\u001b[1;33m,\u001b[0m \u001b[0mi\u001b[0m\u001b[1;33m,\u001b[0m \u001b[0mobj\u001b[0m\u001b[1;33m)\u001b[0m\u001b[1;33m\u001b[0m\u001b[1;33m\u001b[0m\u001b[0m\n\u001b[0m\u001b[0;32m    186\u001b[0m         \u001b[1;32mif\u001b[0m \u001b[0mcb_container\u001b[0m\u001b[1;33m.\u001b[0m\u001b[0mafter_iteration\u001b[0m\u001b[1;33m(\u001b[0m\u001b[0mbst\u001b[0m\u001b[1;33m,\u001b[0m \u001b[0mi\u001b[0m\u001b[1;33m,\u001b[0m \u001b[0mdtrain\u001b[0m\u001b[1;33m,\u001b[0m \u001b[0mevals\u001b[0m\u001b[1;33m)\u001b[0m\u001b[1;33m:\u001b[0m\u001b[1;33m\u001b[0m\u001b[1;33m\u001b[0m\u001b[0m\n\u001b[0;32m    187\u001b[0m             \u001b[1;32mbreak\u001b[0m\u001b[1;33m\u001b[0m\u001b[1;33m\u001b[0m\u001b[0m\n",
      "\u001b[1;32m~\\anaconda3\\lib\\site-packages\\xgboost\\core.py\u001b[0m in \u001b[0;36mupdate\u001b[1;34m(self, dtrain, iteration, fobj)\u001b[0m\n\u001b[0;32m   1916\u001b[0m \u001b[1;33m\u001b[0m\u001b[0m\n\u001b[0;32m   1917\u001b[0m         \u001b[1;32mif\u001b[0m \u001b[0mfobj\u001b[0m \u001b[1;32mis\u001b[0m \u001b[1;32mNone\u001b[0m\u001b[1;33m:\u001b[0m\u001b[1;33m\u001b[0m\u001b[1;33m\u001b[0m\u001b[0m\n\u001b[1;32m-> 1918\u001b[1;33m             _check_call(_LIB.XGBoosterUpdateOneIter(self.handle,\n\u001b[0m\u001b[0;32m   1919\u001b[0m                                                     \u001b[0mctypes\u001b[0m\u001b[1;33m.\u001b[0m\u001b[0mc_int\u001b[0m\u001b[1;33m(\u001b[0m\u001b[0miteration\u001b[0m\u001b[1;33m)\u001b[0m\u001b[1;33m,\u001b[0m\u001b[1;33m\u001b[0m\u001b[1;33m\u001b[0m\u001b[0m\n\u001b[0;32m   1920\u001b[0m                                                     dtrain.handle))\n",
      "\u001b[1;31mKeyboardInterrupt\u001b[0m: "
     ]
    }
   ],
   "source": [
    "# Define hyperparameters to search for each model\n",
    "lr_params = {}\n",
    "ridge_params = {\"alpha\": [0.01, 0.1, 1, 10, 100]}\n",
    "lasso_params = {\"alpha\": [0.01, 0.1, 1, 10, 100]}\n",
    "dt_params = {\"max_depth\": [3, 5, 7, 10, None]}\n",
    "xgb_params = {\n",
    "    \"learning_rate\": [0.01, 0.1, 0.5],\n",
    "    \"max_depth\": [3, 5, 7, 10],\n",
    "    \"n_estimators\": [50, 100, 200]\n",
    "}\n",
    "gb_params = {\n",
    "    \"learning_rate\": [0.01, 0.1, 0.5],\n",
    "    \"max_depth\": [3, 5, 7, 10],\n",
    "    \"n_estimators\": [50, 100, 200]\n",
    "}\n",
    "rf_params = {\n",
    "    \"max_depth\": [3, 5, 7, 10, None],\n",
    "    \"n_estimators\": [50, 100, 200],\n",
    "    \"max_features\": [\"auto\", \"sqrt\", \"log2\"]\n",
    "}\n",
    "\n",
    "# Define models to search for hyperparameters\n",
    "lr_model = LinearRegression()\n",
    "ridge_model = Ridge()\n",
    "lasso_model = Lasso()\n",
    "dt_model = DecisionTreeRegressor()\n",
    "xgb_model = XGBRegressor()\n",
    "gb_model = GradientBoostingRegressor()\n",
    "rf_model = RandomForestRegressor()\n",
    "\n",
    "# Define parameter grid for each model\n",
    "param_grid = [lr_params, ridge_params, lasso_params, dt_params, xgb_params, gb_params, rf_params]\n",
    "\n",
    "# Define models to search for hyperparameters\n",
    "models = [lr_model, ridge_model, lasso_model, dt_model, xgb_model, gb_model, rf_model]\n",
    "\n",
    "# Iterate over each model and search for best hyperparameters using GridSearchCV\n",
    "for i, model in enumerate(models):\n",
    "    grid_search = GridSearchCV(model, param_grid[i], cv=5, scoring=\"neg_mean_squared_error\")\n",
    "    grid_search.fit(X_train, y_train)\n",
    "    best_params = grid_search.best_params_\n",
    "    print(f\"Best parameters for {type(model).__name__}: {best_params}\")\n",
    "    \n",
    "    # Evaluate model with optimal hyperparameters on test set\n",
    "    y_pred = grid_search.predict(X_test)\n",
    "    rmse = mean_squared_error(y_test, y_pred, squared=False)\n",
    "    mae = mean_absolute_error(y_test, y_pred)\n",
    "    print(f\"{type(model).__name__} - RMSE: {rmse}, MAE: {mae}\\n\")\n"
   ]
  },
  {
   "cell_type": "code",
   "execution_count": 368,
   "metadata": {},
   "outputs": [
    {
     "name": "stdout",
     "output_type": "stream",
     "text": [
      "price                                           1.000000\n",
      "accommodates                                    0.108616\n",
      "bedrooms                                        0.089864\n",
      "bathrooms_text                                  0.088100\n",
      "beds                                            0.085552\n",
      "host_id                                         0.038205\n",
      "maximum_maximum_nights                          0.037664\n",
      "maximum_nights_avg_ntm                          0.037664\n",
      "minimum_maximum_nights                          0.037664\n",
      "host_since                                      0.033124\n",
      "availability_30                                 0.031818\n",
      "availability_60                                 0.026894\n",
      "availability_90                                 0.026732\n",
      "calculated_host_listings_count_entire_homes     0.021126\n",
      "host_listings_count                             0.020195\n",
      "host_total_listings_count                       0.019427\n",
      "availability_365                                0.017224\n",
      "host_acceptance_rate                            0.015019\n",
      "review_scores_location                          0.014178\n",
      "review_scores_cleanliness                       0.013095\n",
      "reviews_per_month                               0.009518\n",
      "maximum_minimum_nights                          0.007631\n",
      "minimum_nights_avg_ntm                          0.007140\n",
      "calculated_host_listings_count                  0.006935\n",
      "review_scores_rating                            0.006595\n",
      "host_verifications_work_email                   0.006428\n",
      "latitude                                        0.004916\n",
      "number_of_reviews_ltm                           0.003308\n",
      "host_verifications_phone                       -0.000188\n",
      "maximum_nights                                 -0.000515\n",
      "review_scores_accuracy                         -0.002290\n",
      "review_scores_checkin                          -0.002843\n",
      "review_scores_communication                    -0.003722\n",
      "number_of_reviews_l30d                         -0.004275\n",
      "number_of_reviews                              -0.004361\n",
      "review_scores_value                            -0.004618\n",
      "host_response_rate                             -0.008741\n",
      "calculated_host_listings_count_shared_rooms    -0.009644\n",
      "minimum_minimum_nights                         -0.011480\n",
      "minimum_nights                                 -0.017189\n",
      "host_verifications_email                       -0.020004\n",
      "calculated_host_listings_count_private_rooms   -0.021735\n",
      "longitude                                      -0.046870\n",
      "Name: price, dtype: float64\n"
     ]
    }
   ],
   "source": [
    "corr_matrix = df.corr()['price'].sort_values(ascending=False)\n",
    "print(corr_matrix)\n"
   ]
  },
  {
   "cell_type": "code",
   "execution_count": null,
   "metadata": {},
   "outputs": [],
   "source": [
    "lr_model = LinearRegression()\n",
    "ridge_model = Ridge()\n",
    "lasso_model = Lasso()\n",
    "dt_model = DecisionTreeRegressor()\n",
    "xgb_model = XGBRegressor()\n",
    "gb_model = GradientBoostingRegressor()\n",
    "rf_model = RandomForestRegressor()\n"
   ]
  },
  {
   "cell_type": "code",
   "execution_count": 85,
   "metadata": {},
   "outputs": [
    {
     "data": {
      "text/plain": [
       "0.17387319317089567"
      ]
     },
     "execution_count": 369,
     "metadata": {},
     "output_type": "execute_result"
    }
   ],
   "source": [
    "lr=LinearRegression()\n",
    "lr.fit(X_train,y_train)\n",
    "lr.score(X_train,y_)\n",
    "lr.score(X_test,y_test)"
   ]
  },
  {
   "cell_type": "code",
   "execution_count": null,
   "metadata": {},
   "outputs": [],
   "source": [
    ", X_test, y_train, y_test"
   ]
  },
  {
   "cell_type": "code",
   "execution_count": 338,
   "metadata": {},
   "outputs": [
    {
     "ename": "KeyboardInterrupt",
     "evalue": "",
     "output_type": "error",
     "traceback": [
      "\u001b[1;31m---------------------------------------------------------------------------\u001b[0m",
      "\u001b[1;31mKeyboardInterrupt\u001b[0m                         Traceback (most recent call last)",
      "\u001b[1;32m~\\AppData\\Local\\Temp\\ipykernel_29816\\1668568713.py\u001b[0m in \u001b[0;36m<module>\u001b[1;34m\u001b[0m\n\u001b[0;32m     18\u001b[0m \u001b[1;31m# Perform grid search using cross-validation\u001b[0m\u001b[1;33m\u001b[0m\u001b[1;33m\u001b[0m\u001b[0m\n\u001b[0;32m     19\u001b[0m \u001b[0mgrid_search\u001b[0m \u001b[1;33m=\u001b[0m \u001b[0mGridSearchCV\u001b[0m\u001b[1;33m(\u001b[0m\u001b[0mrf_model\u001b[0m\u001b[1;33m,\u001b[0m \u001b[0mparam_grid\u001b[0m\u001b[1;33m=\u001b[0m\u001b[0mparam_grid\u001b[0m\u001b[1;33m,\u001b[0m \u001b[0mcv\u001b[0m\u001b[1;33m=\u001b[0m\u001b[1;36m5\u001b[0m\u001b[1;33m,\u001b[0m \u001b[0mscoring\u001b[0m\u001b[1;33m=\u001b[0m\u001b[1;34m\"neg_mean_squared_error\"\u001b[0m\u001b[1;33m)\u001b[0m\u001b[1;33m\u001b[0m\u001b[1;33m\u001b[0m\u001b[0m\n\u001b[1;32m---> 20\u001b[1;33m \u001b[0mgrid_search\u001b[0m\u001b[1;33m.\u001b[0m\u001b[0mfit\u001b[0m\u001b[1;33m(\u001b[0m\u001b[0mX_train\u001b[0m\u001b[1;33m,\u001b[0m \u001b[0my_train\u001b[0m\u001b[1;33m)\u001b[0m\u001b[1;33m\u001b[0m\u001b[1;33m\u001b[0m\u001b[0m\n\u001b[0m\u001b[0;32m     21\u001b[0m \u001b[1;33m\u001b[0m\u001b[0m\n\u001b[0;32m     22\u001b[0m \u001b[1;31m# Print optimal hyperparameters\u001b[0m\u001b[1;33m\u001b[0m\u001b[1;33m\u001b[0m\u001b[0m\n",
      "\u001b[1;32m~\\anaconda3\\lib\\site-packages\\sklearn\\model_selection\\_search.py\u001b[0m in \u001b[0;36mfit\u001b[1;34m(self, X, y, groups, **fit_params)\u001b[0m\n\u001b[0;32m    889\u001b[0m                 \u001b[1;32mreturn\u001b[0m \u001b[0mresults\u001b[0m\u001b[1;33m\u001b[0m\u001b[1;33m\u001b[0m\u001b[0m\n\u001b[0;32m    890\u001b[0m \u001b[1;33m\u001b[0m\u001b[0m\n\u001b[1;32m--> 891\u001b[1;33m             \u001b[0mself\u001b[0m\u001b[1;33m.\u001b[0m\u001b[0m_run_search\u001b[0m\u001b[1;33m(\u001b[0m\u001b[0mevaluate_candidates\u001b[0m\u001b[1;33m)\u001b[0m\u001b[1;33m\u001b[0m\u001b[1;33m\u001b[0m\u001b[0m\n\u001b[0m\u001b[0;32m    892\u001b[0m \u001b[1;33m\u001b[0m\u001b[0m\n\u001b[0;32m    893\u001b[0m             \u001b[1;31m# multimetric is determined here because in the case of a callable\u001b[0m\u001b[1;33m\u001b[0m\u001b[1;33m\u001b[0m\u001b[0m\n",
      "\u001b[1;32m~\\anaconda3\\lib\\site-packages\\sklearn\\model_selection\\_search.py\u001b[0m in \u001b[0;36m_run_search\u001b[1;34m(self, evaluate_candidates)\u001b[0m\n\u001b[0;32m   1390\u001b[0m     \u001b[1;32mdef\u001b[0m \u001b[0m_run_search\u001b[0m\u001b[1;33m(\u001b[0m\u001b[0mself\u001b[0m\u001b[1;33m,\u001b[0m \u001b[0mevaluate_candidates\u001b[0m\u001b[1;33m)\u001b[0m\u001b[1;33m:\u001b[0m\u001b[1;33m\u001b[0m\u001b[1;33m\u001b[0m\u001b[0m\n\u001b[0;32m   1391\u001b[0m         \u001b[1;34m\"\"\"Search all candidates in param_grid\"\"\"\u001b[0m\u001b[1;33m\u001b[0m\u001b[1;33m\u001b[0m\u001b[0m\n\u001b[1;32m-> 1392\u001b[1;33m         \u001b[0mevaluate_candidates\u001b[0m\u001b[1;33m(\u001b[0m\u001b[0mParameterGrid\u001b[0m\u001b[1;33m(\u001b[0m\u001b[0mself\u001b[0m\u001b[1;33m.\u001b[0m\u001b[0mparam_grid\u001b[0m\u001b[1;33m)\u001b[0m\u001b[1;33m)\u001b[0m\u001b[1;33m\u001b[0m\u001b[1;33m\u001b[0m\u001b[0m\n\u001b[0m\u001b[0;32m   1393\u001b[0m \u001b[1;33m\u001b[0m\u001b[0m\n\u001b[0;32m   1394\u001b[0m \u001b[1;33m\u001b[0m\u001b[0m\n",
      "\u001b[1;32m~\\anaconda3\\lib\\site-packages\\sklearn\\model_selection\\_search.py\u001b[0m in \u001b[0;36mevaluate_candidates\u001b[1;34m(candidate_params, cv, more_results)\u001b[0m\n\u001b[0;32m    836\u001b[0m                     )\n\u001b[0;32m    837\u001b[0m \u001b[1;33m\u001b[0m\u001b[0m\n\u001b[1;32m--> 838\u001b[1;33m                 out = parallel(\n\u001b[0m\u001b[0;32m    839\u001b[0m                     delayed(_fit_and_score)(\n\u001b[0;32m    840\u001b[0m                         \u001b[0mclone\u001b[0m\u001b[1;33m(\u001b[0m\u001b[0mbase_estimator\u001b[0m\u001b[1;33m)\u001b[0m\u001b[1;33m,\u001b[0m\u001b[1;33m\u001b[0m\u001b[1;33m\u001b[0m\u001b[0m\n",
      "\u001b[1;32m~\\anaconda3\\lib\\site-packages\\joblib\\parallel.py\u001b[0m in \u001b[0;36m__call__\u001b[1;34m(self, iterable)\u001b[0m\n\u001b[0;32m   1044\u001b[0m                 \u001b[0mself\u001b[0m\u001b[1;33m.\u001b[0m\u001b[0m_iterating\u001b[0m \u001b[1;33m=\u001b[0m \u001b[0mself\u001b[0m\u001b[1;33m.\u001b[0m\u001b[0m_original_iterator\u001b[0m \u001b[1;32mis\u001b[0m \u001b[1;32mnot\u001b[0m \u001b[1;32mNone\u001b[0m\u001b[1;33m\u001b[0m\u001b[1;33m\u001b[0m\u001b[0m\n\u001b[0;32m   1045\u001b[0m \u001b[1;33m\u001b[0m\u001b[0m\n\u001b[1;32m-> 1046\u001b[1;33m             \u001b[1;32mwhile\u001b[0m \u001b[0mself\u001b[0m\u001b[1;33m.\u001b[0m\u001b[0mdispatch_one_batch\u001b[0m\u001b[1;33m(\u001b[0m\u001b[0miterator\u001b[0m\u001b[1;33m)\u001b[0m\u001b[1;33m:\u001b[0m\u001b[1;33m\u001b[0m\u001b[1;33m\u001b[0m\u001b[0m\n\u001b[0m\u001b[0;32m   1047\u001b[0m                 \u001b[1;32mpass\u001b[0m\u001b[1;33m\u001b[0m\u001b[1;33m\u001b[0m\u001b[0m\n\u001b[0;32m   1048\u001b[0m \u001b[1;33m\u001b[0m\u001b[0m\n",
      "\u001b[1;32m~\\anaconda3\\lib\\site-packages\\joblib\\parallel.py\u001b[0m in \u001b[0;36mdispatch_one_batch\u001b[1;34m(self, iterator)\u001b[0m\n\u001b[0;32m    859\u001b[0m                 \u001b[1;32mreturn\u001b[0m \u001b[1;32mFalse\u001b[0m\u001b[1;33m\u001b[0m\u001b[1;33m\u001b[0m\u001b[0m\n\u001b[0;32m    860\u001b[0m             \u001b[1;32melse\u001b[0m\u001b[1;33m:\u001b[0m\u001b[1;33m\u001b[0m\u001b[1;33m\u001b[0m\u001b[0m\n\u001b[1;32m--> 861\u001b[1;33m                 \u001b[0mself\u001b[0m\u001b[1;33m.\u001b[0m\u001b[0m_dispatch\u001b[0m\u001b[1;33m(\u001b[0m\u001b[0mtasks\u001b[0m\u001b[1;33m)\u001b[0m\u001b[1;33m\u001b[0m\u001b[1;33m\u001b[0m\u001b[0m\n\u001b[0m\u001b[0;32m    862\u001b[0m                 \u001b[1;32mreturn\u001b[0m \u001b[1;32mTrue\u001b[0m\u001b[1;33m\u001b[0m\u001b[1;33m\u001b[0m\u001b[0m\n\u001b[0;32m    863\u001b[0m \u001b[1;33m\u001b[0m\u001b[0m\n",
      "\u001b[1;32m~\\anaconda3\\lib\\site-packages\\joblib\\parallel.py\u001b[0m in \u001b[0;36m_dispatch\u001b[1;34m(self, batch)\u001b[0m\n\u001b[0;32m    777\u001b[0m         \u001b[1;32mwith\u001b[0m \u001b[0mself\u001b[0m\u001b[1;33m.\u001b[0m\u001b[0m_lock\u001b[0m\u001b[1;33m:\u001b[0m\u001b[1;33m\u001b[0m\u001b[1;33m\u001b[0m\u001b[0m\n\u001b[0;32m    778\u001b[0m             \u001b[0mjob_idx\u001b[0m \u001b[1;33m=\u001b[0m \u001b[0mlen\u001b[0m\u001b[1;33m(\u001b[0m\u001b[0mself\u001b[0m\u001b[1;33m.\u001b[0m\u001b[0m_jobs\u001b[0m\u001b[1;33m)\u001b[0m\u001b[1;33m\u001b[0m\u001b[1;33m\u001b[0m\u001b[0m\n\u001b[1;32m--> 779\u001b[1;33m             \u001b[0mjob\u001b[0m \u001b[1;33m=\u001b[0m \u001b[0mself\u001b[0m\u001b[1;33m.\u001b[0m\u001b[0m_backend\u001b[0m\u001b[1;33m.\u001b[0m\u001b[0mapply_async\u001b[0m\u001b[1;33m(\u001b[0m\u001b[0mbatch\u001b[0m\u001b[1;33m,\u001b[0m \u001b[0mcallback\u001b[0m\u001b[1;33m=\u001b[0m\u001b[0mcb\u001b[0m\u001b[1;33m)\u001b[0m\u001b[1;33m\u001b[0m\u001b[1;33m\u001b[0m\u001b[0m\n\u001b[0m\u001b[0;32m    780\u001b[0m             \u001b[1;31m# A job can complete so quickly than its callback is\u001b[0m\u001b[1;33m\u001b[0m\u001b[1;33m\u001b[0m\u001b[0m\n\u001b[0;32m    781\u001b[0m             \u001b[1;31m# called before we get here, causing self._jobs to\u001b[0m\u001b[1;33m\u001b[0m\u001b[1;33m\u001b[0m\u001b[0m\n",
      "\u001b[1;32m~\\anaconda3\\lib\\site-packages\\joblib\\_parallel_backends.py\u001b[0m in \u001b[0;36mapply_async\u001b[1;34m(self, func, callback)\u001b[0m\n\u001b[0;32m    206\u001b[0m     \u001b[1;32mdef\u001b[0m \u001b[0mapply_async\u001b[0m\u001b[1;33m(\u001b[0m\u001b[0mself\u001b[0m\u001b[1;33m,\u001b[0m \u001b[0mfunc\u001b[0m\u001b[1;33m,\u001b[0m \u001b[0mcallback\u001b[0m\u001b[1;33m=\u001b[0m\u001b[1;32mNone\u001b[0m\u001b[1;33m)\u001b[0m\u001b[1;33m:\u001b[0m\u001b[1;33m\u001b[0m\u001b[1;33m\u001b[0m\u001b[0m\n\u001b[0;32m    207\u001b[0m         \u001b[1;34m\"\"\"Schedule a func to be run\"\"\"\u001b[0m\u001b[1;33m\u001b[0m\u001b[1;33m\u001b[0m\u001b[0m\n\u001b[1;32m--> 208\u001b[1;33m         \u001b[0mresult\u001b[0m \u001b[1;33m=\u001b[0m \u001b[0mImmediateResult\u001b[0m\u001b[1;33m(\u001b[0m\u001b[0mfunc\u001b[0m\u001b[1;33m)\u001b[0m\u001b[1;33m\u001b[0m\u001b[1;33m\u001b[0m\u001b[0m\n\u001b[0m\u001b[0;32m    209\u001b[0m         \u001b[1;32mif\u001b[0m \u001b[0mcallback\u001b[0m\u001b[1;33m:\u001b[0m\u001b[1;33m\u001b[0m\u001b[1;33m\u001b[0m\u001b[0m\n\u001b[0;32m    210\u001b[0m             \u001b[0mcallback\u001b[0m\u001b[1;33m(\u001b[0m\u001b[0mresult\u001b[0m\u001b[1;33m)\u001b[0m\u001b[1;33m\u001b[0m\u001b[1;33m\u001b[0m\u001b[0m\n",
      "\u001b[1;32m~\\anaconda3\\lib\\site-packages\\joblib\\_parallel_backends.py\u001b[0m in \u001b[0;36m__init__\u001b[1;34m(self, batch)\u001b[0m\n\u001b[0;32m    570\u001b[0m         \u001b[1;31m# Don't delay the application, to avoid keeping the input\u001b[0m\u001b[1;33m\u001b[0m\u001b[1;33m\u001b[0m\u001b[0m\n\u001b[0;32m    571\u001b[0m         \u001b[1;31m# arguments in memory\u001b[0m\u001b[1;33m\u001b[0m\u001b[1;33m\u001b[0m\u001b[0m\n\u001b[1;32m--> 572\u001b[1;33m         \u001b[0mself\u001b[0m\u001b[1;33m.\u001b[0m\u001b[0mresults\u001b[0m \u001b[1;33m=\u001b[0m \u001b[0mbatch\u001b[0m\u001b[1;33m(\u001b[0m\u001b[1;33m)\u001b[0m\u001b[1;33m\u001b[0m\u001b[1;33m\u001b[0m\u001b[0m\n\u001b[0m\u001b[0;32m    573\u001b[0m \u001b[1;33m\u001b[0m\u001b[0m\n\u001b[0;32m    574\u001b[0m     \u001b[1;32mdef\u001b[0m \u001b[0mget\u001b[0m\u001b[1;33m(\u001b[0m\u001b[0mself\u001b[0m\u001b[1;33m)\u001b[0m\u001b[1;33m:\u001b[0m\u001b[1;33m\u001b[0m\u001b[1;33m\u001b[0m\u001b[0m\n",
      "\u001b[1;32m~\\anaconda3\\lib\\site-packages\\joblib\\parallel.py\u001b[0m in \u001b[0;36m__call__\u001b[1;34m(self)\u001b[0m\n\u001b[0;32m    260\u001b[0m         \u001b[1;31m# change the default number of processes to -1\u001b[0m\u001b[1;33m\u001b[0m\u001b[1;33m\u001b[0m\u001b[0m\n\u001b[0;32m    261\u001b[0m         \u001b[1;32mwith\u001b[0m \u001b[0mparallel_backend\u001b[0m\u001b[1;33m(\u001b[0m\u001b[0mself\u001b[0m\u001b[1;33m.\u001b[0m\u001b[0m_backend\u001b[0m\u001b[1;33m,\u001b[0m \u001b[0mn_jobs\u001b[0m\u001b[1;33m=\u001b[0m\u001b[0mself\u001b[0m\u001b[1;33m.\u001b[0m\u001b[0m_n_jobs\u001b[0m\u001b[1;33m)\u001b[0m\u001b[1;33m:\u001b[0m\u001b[1;33m\u001b[0m\u001b[1;33m\u001b[0m\u001b[0m\n\u001b[1;32m--> 262\u001b[1;33m             return [func(*args, **kwargs)\n\u001b[0m\u001b[0;32m    263\u001b[0m                     for func, args, kwargs in self.items]\n\u001b[0;32m    264\u001b[0m \u001b[1;33m\u001b[0m\u001b[0m\n",
      "\u001b[1;32m~\\anaconda3\\lib\\site-packages\\joblib\\parallel.py\u001b[0m in \u001b[0;36m<listcomp>\u001b[1;34m(.0)\u001b[0m\n\u001b[0;32m    260\u001b[0m         \u001b[1;31m# change the default number of processes to -1\u001b[0m\u001b[1;33m\u001b[0m\u001b[1;33m\u001b[0m\u001b[0m\n\u001b[0;32m    261\u001b[0m         \u001b[1;32mwith\u001b[0m \u001b[0mparallel_backend\u001b[0m\u001b[1;33m(\u001b[0m\u001b[0mself\u001b[0m\u001b[1;33m.\u001b[0m\u001b[0m_backend\u001b[0m\u001b[1;33m,\u001b[0m \u001b[0mn_jobs\u001b[0m\u001b[1;33m=\u001b[0m\u001b[0mself\u001b[0m\u001b[1;33m.\u001b[0m\u001b[0m_n_jobs\u001b[0m\u001b[1;33m)\u001b[0m\u001b[1;33m:\u001b[0m\u001b[1;33m\u001b[0m\u001b[1;33m\u001b[0m\u001b[0m\n\u001b[1;32m--> 262\u001b[1;33m             return [func(*args, **kwargs)\n\u001b[0m\u001b[0;32m    263\u001b[0m                     for func, args, kwargs in self.items]\n\u001b[0;32m    264\u001b[0m \u001b[1;33m\u001b[0m\u001b[0m\n",
      "\u001b[1;32m~\\anaconda3\\lib\\site-packages\\sklearn\\utils\\fixes.py\u001b[0m in \u001b[0;36m__call__\u001b[1;34m(self, *args, **kwargs)\u001b[0m\n\u001b[0;32m    214\u001b[0m     \u001b[1;32mdef\u001b[0m \u001b[0m__call__\u001b[0m\u001b[1;33m(\u001b[0m\u001b[0mself\u001b[0m\u001b[1;33m,\u001b[0m \u001b[1;33m*\u001b[0m\u001b[0margs\u001b[0m\u001b[1;33m,\u001b[0m \u001b[1;33m**\u001b[0m\u001b[0mkwargs\u001b[0m\u001b[1;33m)\u001b[0m\u001b[1;33m:\u001b[0m\u001b[1;33m\u001b[0m\u001b[1;33m\u001b[0m\u001b[0m\n\u001b[0;32m    215\u001b[0m         \u001b[1;32mwith\u001b[0m \u001b[0mconfig_context\u001b[0m\u001b[1;33m(\u001b[0m\u001b[1;33m**\u001b[0m\u001b[0mself\u001b[0m\u001b[1;33m.\u001b[0m\u001b[0mconfig\u001b[0m\u001b[1;33m)\u001b[0m\u001b[1;33m:\u001b[0m\u001b[1;33m\u001b[0m\u001b[1;33m\u001b[0m\u001b[0m\n\u001b[1;32m--> 216\u001b[1;33m             \u001b[1;32mreturn\u001b[0m \u001b[0mself\u001b[0m\u001b[1;33m.\u001b[0m\u001b[0mfunction\u001b[0m\u001b[1;33m(\u001b[0m\u001b[1;33m*\u001b[0m\u001b[0margs\u001b[0m\u001b[1;33m,\u001b[0m \u001b[1;33m**\u001b[0m\u001b[0mkwargs\u001b[0m\u001b[1;33m)\u001b[0m\u001b[1;33m\u001b[0m\u001b[1;33m\u001b[0m\u001b[0m\n\u001b[0m\u001b[0;32m    217\u001b[0m \u001b[1;33m\u001b[0m\u001b[0m\n\u001b[0;32m    218\u001b[0m \u001b[1;33m\u001b[0m\u001b[0m\n",
      "\u001b[1;32m~\\anaconda3\\lib\\site-packages\\sklearn\\model_selection\\_validation.py\u001b[0m in \u001b[0;36m_fit_and_score\u001b[1;34m(estimator, X, y, scorer, train, test, verbose, parameters, fit_params, return_train_score, return_parameters, return_n_test_samples, return_times, return_estimator, split_progress, candidate_progress, error_score)\u001b[0m\n\u001b[0;32m    678\u001b[0m             \u001b[0mestimator\u001b[0m\u001b[1;33m.\u001b[0m\u001b[0mfit\u001b[0m\u001b[1;33m(\u001b[0m\u001b[0mX_train\u001b[0m\u001b[1;33m,\u001b[0m \u001b[1;33m**\u001b[0m\u001b[0mfit_params\u001b[0m\u001b[1;33m)\u001b[0m\u001b[1;33m\u001b[0m\u001b[1;33m\u001b[0m\u001b[0m\n\u001b[0;32m    679\u001b[0m         \u001b[1;32melse\u001b[0m\u001b[1;33m:\u001b[0m\u001b[1;33m\u001b[0m\u001b[1;33m\u001b[0m\u001b[0m\n\u001b[1;32m--> 680\u001b[1;33m             \u001b[0mestimator\u001b[0m\u001b[1;33m.\u001b[0m\u001b[0mfit\u001b[0m\u001b[1;33m(\u001b[0m\u001b[0mX_train\u001b[0m\u001b[1;33m,\u001b[0m \u001b[0my_train\u001b[0m\u001b[1;33m,\u001b[0m \u001b[1;33m**\u001b[0m\u001b[0mfit_params\u001b[0m\u001b[1;33m)\u001b[0m\u001b[1;33m\u001b[0m\u001b[1;33m\u001b[0m\u001b[0m\n\u001b[0m\u001b[0;32m    681\u001b[0m \u001b[1;33m\u001b[0m\u001b[0m\n\u001b[0;32m    682\u001b[0m     \u001b[1;32mexcept\u001b[0m \u001b[0mException\u001b[0m\u001b[1;33m:\u001b[0m\u001b[1;33m\u001b[0m\u001b[1;33m\u001b[0m\u001b[0m\n",
      "\u001b[1;32m~\\anaconda3\\lib\\site-packages\\sklearn\\ensemble\\_forest.py\u001b[0m in \u001b[0;36mfit\u001b[1;34m(self, X, y, sample_weight)\u001b[0m\n\u001b[0;32m    437\u001b[0m                 \u001b[0mrandom_state\u001b[0m\u001b[1;33m.\u001b[0m\u001b[0mrandint\u001b[0m\u001b[1;33m(\u001b[0m\u001b[0mMAX_INT\u001b[0m\u001b[1;33m,\u001b[0m \u001b[0msize\u001b[0m\u001b[1;33m=\u001b[0m\u001b[0mlen\u001b[0m\u001b[1;33m(\u001b[0m\u001b[0mself\u001b[0m\u001b[1;33m.\u001b[0m\u001b[0mestimators_\u001b[0m\u001b[1;33m)\u001b[0m\u001b[1;33m)\u001b[0m\u001b[1;33m\u001b[0m\u001b[1;33m\u001b[0m\u001b[0m\n\u001b[0;32m    438\u001b[0m \u001b[1;33m\u001b[0m\u001b[0m\n\u001b[1;32m--> 439\u001b[1;33m             trees = [\n\u001b[0m\u001b[0;32m    440\u001b[0m                 \u001b[0mself\u001b[0m\u001b[1;33m.\u001b[0m\u001b[0m_make_estimator\u001b[0m\u001b[1;33m(\u001b[0m\u001b[0mappend\u001b[0m\u001b[1;33m=\u001b[0m\u001b[1;32mFalse\u001b[0m\u001b[1;33m,\u001b[0m \u001b[0mrandom_state\u001b[0m\u001b[1;33m=\u001b[0m\u001b[0mrandom_state\u001b[0m\u001b[1;33m)\u001b[0m\u001b[1;33m\u001b[0m\u001b[1;33m\u001b[0m\u001b[0m\n\u001b[0;32m    441\u001b[0m                 \u001b[1;32mfor\u001b[0m \u001b[0mi\u001b[0m \u001b[1;32min\u001b[0m \u001b[0mrange\u001b[0m\u001b[1;33m(\u001b[0m\u001b[0mn_more_estimators\u001b[0m\u001b[1;33m)\u001b[0m\u001b[1;33m\u001b[0m\u001b[1;33m\u001b[0m\u001b[0m\n",
      "\u001b[1;32m~\\anaconda3\\lib\\site-packages\\sklearn\\ensemble\\_forest.py\u001b[0m in \u001b[0;36m<listcomp>\u001b[1;34m(.0)\u001b[0m\n\u001b[0;32m    438\u001b[0m \u001b[1;33m\u001b[0m\u001b[0m\n\u001b[0;32m    439\u001b[0m             trees = [\n\u001b[1;32m--> 440\u001b[1;33m                 \u001b[0mself\u001b[0m\u001b[1;33m.\u001b[0m\u001b[0m_make_estimator\u001b[0m\u001b[1;33m(\u001b[0m\u001b[0mappend\u001b[0m\u001b[1;33m=\u001b[0m\u001b[1;32mFalse\u001b[0m\u001b[1;33m,\u001b[0m \u001b[0mrandom_state\u001b[0m\u001b[1;33m=\u001b[0m\u001b[0mrandom_state\u001b[0m\u001b[1;33m)\u001b[0m\u001b[1;33m\u001b[0m\u001b[1;33m\u001b[0m\u001b[0m\n\u001b[0m\u001b[0;32m    441\u001b[0m                 \u001b[1;32mfor\u001b[0m \u001b[0mi\u001b[0m \u001b[1;32min\u001b[0m \u001b[0mrange\u001b[0m\u001b[1;33m(\u001b[0m\u001b[0mn_more_estimators\u001b[0m\u001b[1;33m)\u001b[0m\u001b[1;33m\u001b[0m\u001b[1;33m\u001b[0m\u001b[0m\n\u001b[0;32m    442\u001b[0m             ]\n",
      "\u001b[1;32m~\\anaconda3\\lib\\site-packages\\sklearn\\ensemble\\_base.py\u001b[0m in \u001b[0;36m_make_estimator\u001b[1;34m(self, append, random_state)\u001b[0m\n\u001b[0;32m    156\u001b[0m         \u001b[0msub\u001b[0m\u001b[1;33m-\u001b[0m\u001b[0mestimators\u001b[0m\u001b[1;33m.\u001b[0m\u001b[1;33m\u001b[0m\u001b[1;33m\u001b[0m\u001b[0m\n\u001b[0;32m    157\u001b[0m         \"\"\"\n\u001b[1;32m--> 158\u001b[1;33m         \u001b[0mestimator\u001b[0m \u001b[1;33m=\u001b[0m \u001b[0mclone\u001b[0m\u001b[1;33m(\u001b[0m\u001b[0mself\u001b[0m\u001b[1;33m.\u001b[0m\u001b[0mbase_estimator_\u001b[0m\u001b[1;33m)\u001b[0m\u001b[1;33m\u001b[0m\u001b[1;33m\u001b[0m\u001b[0m\n\u001b[0m\u001b[0;32m    159\u001b[0m         \u001b[0mestimator\u001b[0m\u001b[1;33m.\u001b[0m\u001b[0mset_params\u001b[0m\u001b[1;33m(\u001b[0m\u001b[1;33m**\u001b[0m\u001b[1;33m{\u001b[0m\u001b[0mp\u001b[0m\u001b[1;33m:\u001b[0m \u001b[0mgetattr\u001b[0m\u001b[1;33m(\u001b[0m\u001b[0mself\u001b[0m\u001b[1;33m,\u001b[0m \u001b[0mp\u001b[0m\u001b[1;33m)\u001b[0m \u001b[1;32mfor\u001b[0m \u001b[0mp\u001b[0m \u001b[1;32min\u001b[0m \u001b[0mself\u001b[0m\u001b[1;33m.\u001b[0m\u001b[0mestimator_params\u001b[0m\u001b[1;33m}\u001b[0m\u001b[1;33m)\u001b[0m\u001b[1;33m\u001b[0m\u001b[1;33m\u001b[0m\u001b[0m\n\u001b[0;32m    160\u001b[0m \u001b[1;33m\u001b[0m\u001b[0m\n",
      "\u001b[1;32m~\\anaconda3\\lib\\site-packages\\sklearn\\base.py\u001b[0m in \u001b[0;36mclone\u001b[1;34m(estimator, safe)\u001b[0m\n\u001b[0;32m     84\u001b[0m     \u001b[0mnew_object_params\u001b[0m \u001b[1;33m=\u001b[0m \u001b[0mestimator\u001b[0m\u001b[1;33m.\u001b[0m\u001b[0mget_params\u001b[0m\u001b[1;33m(\u001b[0m\u001b[0mdeep\u001b[0m\u001b[1;33m=\u001b[0m\u001b[1;32mFalse\u001b[0m\u001b[1;33m)\u001b[0m\u001b[1;33m\u001b[0m\u001b[1;33m\u001b[0m\u001b[0m\n\u001b[0;32m     85\u001b[0m     \u001b[1;32mfor\u001b[0m \u001b[0mname\u001b[0m\u001b[1;33m,\u001b[0m \u001b[0mparam\u001b[0m \u001b[1;32min\u001b[0m \u001b[0mnew_object_params\u001b[0m\u001b[1;33m.\u001b[0m\u001b[0mitems\u001b[0m\u001b[1;33m(\u001b[0m\u001b[1;33m)\u001b[0m\u001b[1;33m:\u001b[0m\u001b[1;33m\u001b[0m\u001b[1;33m\u001b[0m\u001b[0m\n\u001b[1;32m---> 86\u001b[1;33m         \u001b[0mnew_object_params\u001b[0m\u001b[1;33m[\u001b[0m\u001b[0mname\u001b[0m\u001b[1;33m]\u001b[0m \u001b[1;33m=\u001b[0m \u001b[0mclone\u001b[0m\u001b[1;33m(\u001b[0m\u001b[0mparam\u001b[0m\u001b[1;33m,\u001b[0m \u001b[0msafe\u001b[0m\u001b[1;33m=\u001b[0m\u001b[1;32mFalse\u001b[0m\u001b[1;33m)\u001b[0m\u001b[1;33m\u001b[0m\u001b[1;33m\u001b[0m\u001b[0m\n\u001b[0m\u001b[0;32m     87\u001b[0m     \u001b[0mnew_object\u001b[0m \u001b[1;33m=\u001b[0m \u001b[0mklass\u001b[0m\u001b[1;33m(\u001b[0m\u001b[1;33m**\u001b[0m\u001b[0mnew_object_params\u001b[0m\u001b[1;33m)\u001b[0m\u001b[1;33m\u001b[0m\u001b[1;33m\u001b[0m\u001b[0m\n\u001b[0;32m     88\u001b[0m     \u001b[0mparams_set\u001b[0m \u001b[1;33m=\u001b[0m \u001b[0mnew_object\u001b[0m\u001b[1;33m.\u001b[0m\u001b[0mget_params\u001b[0m\u001b[1;33m(\u001b[0m\u001b[0mdeep\u001b[0m\u001b[1;33m=\u001b[0m\u001b[1;32mFalse\u001b[0m\u001b[1;33m)\u001b[0m\u001b[1;33m\u001b[0m\u001b[1;33m\u001b[0m\u001b[0m\n",
      "\u001b[1;32m~\\anaconda3\\lib\\site-packages\\sklearn\\base.py\u001b[0m in \u001b[0;36mclone\u001b[1;34m(estimator, safe)\u001b[0m\n\u001b[0;32m     65\u001b[0m     \u001b[1;32melif\u001b[0m \u001b[1;32mnot\u001b[0m \u001b[0mhasattr\u001b[0m\u001b[1;33m(\u001b[0m\u001b[0mestimator\u001b[0m\u001b[1;33m,\u001b[0m \u001b[1;34m\"get_params\"\u001b[0m\u001b[1;33m)\u001b[0m \u001b[1;32mor\u001b[0m \u001b[0misinstance\u001b[0m\u001b[1;33m(\u001b[0m\u001b[0mestimator\u001b[0m\u001b[1;33m,\u001b[0m \u001b[0mtype\u001b[0m\u001b[1;33m)\u001b[0m\u001b[1;33m:\u001b[0m\u001b[1;33m\u001b[0m\u001b[1;33m\u001b[0m\u001b[0m\n\u001b[0;32m     66\u001b[0m         \u001b[1;32mif\u001b[0m \u001b[1;32mnot\u001b[0m \u001b[0msafe\u001b[0m\u001b[1;33m:\u001b[0m\u001b[1;33m\u001b[0m\u001b[1;33m\u001b[0m\u001b[0m\n\u001b[1;32m---> 67\u001b[1;33m             \u001b[1;32mreturn\u001b[0m \u001b[0mcopy\u001b[0m\u001b[1;33m.\u001b[0m\u001b[0mdeepcopy\u001b[0m\u001b[1;33m(\u001b[0m\u001b[0mestimator\u001b[0m\u001b[1;33m)\u001b[0m\u001b[1;33m\u001b[0m\u001b[1;33m\u001b[0m\u001b[0m\n\u001b[0m\u001b[0;32m     68\u001b[0m         \u001b[1;32melse\u001b[0m\u001b[1;33m:\u001b[0m\u001b[1;33m\u001b[0m\u001b[1;33m\u001b[0m\u001b[0m\n\u001b[0;32m     69\u001b[0m             \u001b[1;32mif\u001b[0m \u001b[0misinstance\u001b[0m\u001b[1;33m(\u001b[0m\u001b[0mestimator\u001b[0m\u001b[1;33m,\u001b[0m \u001b[0mtype\u001b[0m\u001b[1;33m)\u001b[0m\u001b[1;33m:\u001b[0m\u001b[1;33m\u001b[0m\u001b[1;33m\u001b[0m\u001b[0m\n",
      "\u001b[1;32m~\\anaconda3\\lib\\copy.py\u001b[0m in \u001b[0;36mdeepcopy\u001b[1;34m(x, memo, _nil)\u001b[0m\n\u001b[0;32m    135\u001b[0m         \u001b[0mmemo\u001b[0m \u001b[1;33m=\u001b[0m \u001b[1;33m{\u001b[0m\u001b[1;33m}\u001b[0m\u001b[1;33m\u001b[0m\u001b[1;33m\u001b[0m\u001b[0m\n\u001b[0;32m    136\u001b[0m \u001b[1;33m\u001b[0m\u001b[0m\n\u001b[1;32m--> 137\u001b[1;33m     \u001b[0md\u001b[0m \u001b[1;33m=\u001b[0m \u001b[0mid\u001b[0m\u001b[1;33m(\u001b[0m\u001b[0mx\u001b[0m\u001b[1;33m)\u001b[0m\u001b[1;33m\u001b[0m\u001b[1;33m\u001b[0m\u001b[0m\n\u001b[0m\u001b[0;32m    138\u001b[0m     \u001b[0my\u001b[0m \u001b[1;33m=\u001b[0m \u001b[0mmemo\u001b[0m\u001b[1;33m.\u001b[0m\u001b[0mget\u001b[0m\u001b[1;33m(\u001b[0m\u001b[0md\u001b[0m\u001b[1;33m,\u001b[0m \u001b[0m_nil\u001b[0m\u001b[1;33m)\u001b[0m\u001b[1;33m\u001b[0m\u001b[1;33m\u001b[0m\u001b[0m\n\u001b[0;32m    139\u001b[0m     \u001b[1;32mif\u001b[0m \u001b[0my\u001b[0m \u001b[1;32mis\u001b[0m \u001b[1;32mnot\u001b[0m \u001b[0m_nil\u001b[0m\u001b[1;33m:\u001b[0m\u001b[1;33m\u001b[0m\u001b[1;33m\u001b[0m\u001b[0m\n",
      "\u001b[1;31mKeyboardInterrupt\u001b[0m: "
     ]
    }
   ],
   "source": [
    "from sklearn.model_selection import GridSearchCV\n",
    "from sklearn.ensemble import RandomForestRegressor\n",
    "from sklearn.metrics import mean_squared_error, mean_absolute_error\n",
    "\n",
    "# Define hyperparameters to search for RandomForestRegressor model\n",
    "rf_params = {\n",
    "    \"max_depth\": [3, 5, 7, 10, None],\n",
    "    \"n_estimators\": [50, 100, 200],\n",
    "    \"max_features\": [\"auto\", \"sqrt\", \"log2\"]\n",
    "}\n",
    "\n",
    "# Define the RandomForestRegressor model\n",
    "rf_model = RandomForestRegressor()\n",
    "\n",
    "# Define the parameter grid for the model\n",
    "param_grid = rf_params\n",
    "\n",
    "# Perform grid search using cross-validation\n",
    "grid_search = GridSearchCV(rf_model, param_grid=param_grid, cv=5, scoring=\"neg_mean_squared_error\")\n",
    "grid_search.fit(X_train, y_train)\n",
    "\n",
    "# Print optimal hyperparameters\n",
    "best_params = grid_search.best_params_\n",
    "print(f\"Best parameters for RandomForestRegressor: {best_params}\")\n",
    "\n",
    "# Evaluate model with optimal hyperparameters on test set\n",
    "y_pred = grid_search.predict(X_test)\n",
    "rmse = mean_squared_error(y_test, y_pred, squared=False)\n",
    "mae = mean_absolute_error(y_test, y_pred)\n",
    "print(f\"RandomForestRegressor - RMSE: {rmse}, MAE: {mae}\")\n"
   ]
  },
  {
   "cell_type": "code",
   "execution_count": 327,
   "metadata": {},
   "outputs": [
    {
     "name": "stderr",
     "output_type": "stream",
     "text": [
      "C:\\Users\\16174\\anaconda3\\lib\\site-packages\\sklearn\\linear_model\\_ridge.py:157: LinAlgWarning: Ill-conditioned matrix (rcond=5.28827e-22): result may not be accurate.\n",
      "  return linalg.solve(A, Xy, sym_pos=True, overwrite_a=True).T\n",
      "C:\\Users\\16174\\anaconda3\\lib\\site-packages\\sklearn\\linear_model\\_ridge.py:157: LinAlgWarning: Ill-conditioned matrix (rcond=5.25137e-22): result may not be accurate.\n",
      "  return linalg.solve(A, Xy, sym_pos=True, overwrite_a=True).T\n",
      "C:\\Users\\16174\\anaconda3\\lib\\site-packages\\sklearn\\linear_model\\_ridge.py:157: LinAlgWarning: Ill-conditioned matrix (rcond=4.7817e-22): result may not be accurate.\n",
      "  return linalg.solve(A, Xy, sym_pos=True, overwrite_a=True).T\n",
      "C:\\Users\\16174\\anaconda3\\lib\\site-packages\\sklearn\\linear_model\\_ridge.py:157: LinAlgWarning: Ill-conditioned matrix (rcond=5.31115e-22): result may not be accurate.\n",
      "  return linalg.solve(A, Xy, sym_pos=True, overwrite_a=True).T\n",
      "C:\\Users\\16174\\anaconda3\\lib\\site-packages\\sklearn\\linear_model\\_ridge.py:157: LinAlgWarning: Ill-conditioned matrix (rcond=6.16114e-22): result may not be accurate.\n",
      "  return linalg.solve(A, Xy, sym_pos=True, overwrite_a=True).T\n",
      "C:\\Users\\16174\\anaconda3\\lib\\site-packages\\sklearn\\linear_model\\_ridge.py:157: LinAlgWarning: Ill-conditioned matrix (rcond=1.33764e-21): result may not be accurate.\n",
      "  return linalg.solve(A, Xy, sym_pos=True, overwrite_a=True).T\n",
      "C:\\Users\\16174\\anaconda3\\lib\\site-packages\\sklearn\\linear_model\\_ridge.py:157: LinAlgWarning: Ill-conditioned matrix (rcond=1.33387e-21): result may not be accurate.\n",
      "  return linalg.solve(A, Xy, sym_pos=True, overwrite_a=True).T\n",
      "C:\\Users\\16174\\anaconda3\\lib\\site-packages\\sklearn\\linear_model\\_ridge.py:157: LinAlgWarning: Ill-conditioned matrix (rcond=1.1971e-21): result may not be accurate.\n",
      "  return linalg.solve(A, Xy, sym_pos=True, overwrite_a=True).T\n",
      "C:\\Users\\16174\\anaconda3\\lib\\site-packages\\sklearn\\linear_model\\_ridge.py:157: LinAlgWarning: Ill-conditioned matrix (rcond=1.33982e-21): result may not be accurate.\n",
      "  return linalg.solve(A, Xy, sym_pos=True, overwrite_a=True).T\n",
      "C:\\Users\\16174\\anaconda3\\lib\\site-packages\\sklearn\\linear_model\\_ridge.py:157: LinAlgWarning: Ill-conditioned matrix (rcond=1.54024e-21): result may not be accurate.\n",
      "  return linalg.solve(A, Xy, sym_pos=True, overwrite_a=True).T\n",
      "C:\\Users\\16174\\anaconda3\\lib\\site-packages\\sklearn\\linear_model\\_ridge.py:157: LinAlgWarning: Ill-conditioned matrix (rcond=9.42635e-21): result may not be accurate.\n",
      "  return linalg.solve(A, Xy, sym_pos=True, overwrite_a=True).T\n",
      "C:\\Users\\16174\\anaconda3\\lib\\site-packages\\sklearn\\linear_model\\_ridge.py:157: LinAlgWarning: Ill-conditioned matrix (rcond=9.42184e-21): result may not be accurate.\n",
      "  return linalg.solve(A, Xy, sym_pos=True, overwrite_a=True).T\n",
      "C:\\Users\\16174\\anaconda3\\lib\\site-packages\\sklearn\\linear_model\\_ridge.py:157: LinAlgWarning: Ill-conditioned matrix (rcond=8.3869e-21): result may not be accurate.\n",
      "  return linalg.solve(A, Xy, sym_pos=True, overwrite_a=True).T\n",
      "C:\\Users\\16174\\anaconda3\\lib\\site-packages\\sklearn\\linear_model\\_ridge.py:157: LinAlgWarning: Ill-conditioned matrix (rcond=9.42752e-21): result may not be accurate.\n",
      "  return linalg.solve(A, Xy, sym_pos=True, overwrite_a=True).T\n",
      "C:\\Users\\16174\\anaconda3\\lib\\site-packages\\sklearn\\linear_model\\_ridge.py:157: LinAlgWarning: Ill-conditioned matrix (rcond=1.07823e-20): result may not be accurate.\n",
      "  return linalg.solve(A, Xy, sym_pos=True, overwrite_a=True).T\n",
      "C:\\Users\\16174\\anaconda3\\lib\\site-packages\\sklearn\\linear_model\\_ridge.py:157: LinAlgWarning: Ill-conditioned matrix (rcond=9.03617e-20): result may not be accurate.\n",
      "  return linalg.solve(A, Xy, sym_pos=True, overwrite_a=True).T\n",
      "C:\\Users\\16174\\anaconda3\\lib\\site-packages\\sklearn\\linear_model\\_ridge.py:157: LinAlgWarning: Ill-conditioned matrix (rcond=9.03504e-20): result may not be accurate.\n",
      "  return linalg.solve(A, Xy, sym_pos=True, overwrite_a=True).T\n",
      "C:\\Users\\16174\\anaconda3\\lib\\site-packages\\sklearn\\linear_model\\_ridge.py:157: LinAlgWarning: Ill-conditioned matrix (rcond=8.03259e-20): result may not be accurate.\n",
      "  return linalg.solve(A, Xy, sym_pos=True, overwrite_a=True).T\n",
      "C:\\Users\\16174\\anaconda3\\lib\\site-packages\\sklearn\\linear_model\\_ridge.py:157: LinAlgWarning: Ill-conditioned matrix (rcond=9.03532e-20): result may not be accurate.\n",
      "  return linalg.solve(A, Xy, sym_pos=True, overwrite_a=True).T\n",
      "C:\\Users\\16174\\anaconda3\\lib\\site-packages\\sklearn\\linear_model\\_ridge.py:157: LinAlgWarning: Ill-conditioned matrix (rcond=1.03262e-19): result may not be accurate.\n",
      "  return linalg.solve(A, Xy, sym_pos=True, overwrite_a=True).T\n"
     ]
    },
    {
     "name": "stdout",
     "output_type": "stream",
     "text": [
      "Optimal hyperparameters: {'alpha': 1}\n",
      "Test set RMSE: 264.06997768668555\n"
     ]
    },
    {
     "name": "stderr",
     "output_type": "stream",
     "text": [
      "C:\\Users\\16174\\anaconda3\\lib\\site-packages\\sklearn\\linear_model\\_ridge.py:157: LinAlgWarning: Ill-conditioned matrix (rcond=9.00974e-19): result may not be accurate.\n",
      "  return linalg.solve(A, Xy, sym_pos=True, overwrite_a=True).T\n",
      "C:\\Users\\16174\\anaconda3\\lib\\site-packages\\sklearn\\linear_model\\_ridge.py:157: LinAlgWarning: Ill-conditioned matrix (rcond=9.00926e-19): result may not be accurate.\n",
      "  return linalg.solve(A, Xy, sym_pos=True, overwrite_a=True).T\n",
      "C:\\Users\\16174\\anaconda3\\lib\\site-packages\\sklearn\\linear_model\\_ridge.py:157: LinAlgWarning: Ill-conditioned matrix (rcond=8.00791e-19): result may not be accurate.\n",
      "  return linalg.solve(A, Xy, sym_pos=True, overwrite_a=True).T\n",
      "C:\\Users\\16174\\anaconda3\\lib\\site-packages\\sklearn\\linear_model\\_ridge.py:157: LinAlgWarning: Ill-conditioned matrix (rcond=9.00886e-19): result may not be accurate.\n",
      "  return linalg.solve(A, Xy, sym_pos=True, overwrite_a=True).T\n",
      "C:\\Users\\16174\\anaconda3\\lib\\site-packages\\sklearn\\linear_model\\_ridge.py:157: LinAlgWarning: Ill-conditioned matrix (rcond=1.02959e-18): result may not be accurate.\n",
      "  return linalg.solve(A, Xy, sym_pos=True, overwrite_a=True).T\n",
      "C:\\Users\\16174\\anaconda3\\lib\\site-packages\\sklearn\\linear_model\\_ridge.py:157: LinAlgWarning: Ill-conditioned matrix (rcond=7.63228e-21): result may not be accurate.\n",
      "  return linalg.solve(A, Xy, sym_pos=True, overwrite_a=True).T\n"
     ]
    }
   ],
   "source": [
    "from sklearn.linear_model import Ridge\n",
    "from sklearn.datasets import load_boston\n",
    "from sklearn.model_selection import GridSearchCV, train_test_split\n",
    "from sklearn.metrics import mean_squared_error\n",
    "\n",
    "# Initialize Ridge regression model\n",
    "ridge_model = Ridge()\n",
    "\n",
    "# Set up grid of hyperparameters to search over\n",
    "param_grid = {\n",
    "    \"alpha\": [0.01, 0.1, 1, 10, 100]\n",
    "}\n",
    "\n",
    "# Perform grid search using cross-validation\n",
    "grid_search = GridSearchCV(ridge_model, param_grid=param_grid, cv=5, scoring='neg_mean_squared_error')\n",
    "grid_search.fit(X_train, y_train)\n",
    "\n",
    "# Print optimal hyperparameters\n",
    "print(\"Optimal hyperparameters:\", grid_search.best_params_)\n",
    "\n",
    "# Evaluate model with optimal hyperparameters on test set\n",
    "y_pred = grid_search.predict(X_test)\n",
    "rmse = mean_squared_error(y_test, y_pred, squared=False)\n",
    "print(\"Test set RMSE:\", rmse)\n"
   ]
  },
  {
   "cell_type": "markdown",
   "metadata": {},
   "source": [
    "That's correct. In contrast to Ridge regression, linear regression does not have a hyperparameter for regularization like alpha. Regularization is used in Ridge regression to prevent overfitting by shrinking the coefficients towards zero, but in linear regression, the coefficients are estimated using the ordinary least squares (OLS) method without any regularization.\n",
    "\n",
    "Therefore, when tuning hyperparameters for a linear regression model, there is no need to search over a range of alpha values like in Ridge regression. Instead, you may choose to tune other hyperparameters that are specific to linear regression, such as whether or not to normalize the input features, or to use an intercept in the model.\n",
    "\n",
    "Here is an example of how to tune the normalize hyperparameter for a linear regression model:"
   ]
  },
  {
   "cell_type": "code",
   "execution_count": 328,
   "metadata": {},
   "outputs": [
    {
     "name": "stderr",
     "output_type": "stream",
     "text": [
      "C:\\Users\\16174\\anaconda3\\lib\\site-packages\\sklearn\\linear_model\\_base.py:141: FutureWarning: 'normalize' was deprecated in version 1.0 and will be removed in 1.2.\n",
      "If you wish to scale the data, use Pipeline with a StandardScaler in a preprocessing stage. To reproduce the previous behavior:\n",
      "\n",
      "from sklearn.pipeline import make_pipeline\n",
      "\n",
      "model = make_pipeline(StandardScaler(with_mean=False), LinearRegression())\n",
      "\n",
      "If you wish to pass a sample_weight parameter, you need to pass it as a fit parameter to each step of the pipeline as follows:\n",
      "\n",
      "kwargs = {s[0] + '__sample_weight': sample_weight for s in model.steps}\n",
      "model.fit(X, y, **kwargs)\n",
      "\n",
      "\n",
      "  warnings.warn(\n",
      "C:\\Users\\16174\\anaconda3\\lib\\site-packages\\sklearn\\linear_model\\_base.py:141: FutureWarning: 'normalize' was deprecated in version 1.0 and will be removed in 1.2.\n",
      "If you wish to scale the data, use Pipeline with a StandardScaler in a preprocessing stage. To reproduce the previous behavior:\n",
      "\n",
      "from sklearn.pipeline import make_pipeline\n",
      "\n",
      "model = make_pipeline(StandardScaler(with_mean=False), LinearRegression())\n",
      "\n",
      "If you wish to pass a sample_weight parameter, you need to pass it as a fit parameter to each step of the pipeline as follows:\n",
      "\n",
      "kwargs = {s[0] + '__sample_weight': sample_weight for s in model.steps}\n",
      "model.fit(X, y, **kwargs)\n",
      "\n",
      "\n",
      "  warnings.warn(\n",
      "C:\\Users\\16174\\anaconda3\\lib\\site-packages\\sklearn\\linear_model\\_base.py:141: FutureWarning: 'normalize' was deprecated in version 1.0 and will be removed in 1.2.\n",
      "If you wish to scale the data, use Pipeline with a StandardScaler in a preprocessing stage. To reproduce the previous behavior:\n",
      "\n",
      "from sklearn.pipeline import make_pipeline\n",
      "\n",
      "model = make_pipeline(StandardScaler(with_mean=False), LinearRegression())\n",
      "\n",
      "If you wish to pass a sample_weight parameter, you need to pass it as a fit parameter to each step of the pipeline as follows:\n",
      "\n",
      "kwargs = {s[0] + '__sample_weight': sample_weight for s in model.steps}\n",
      "model.fit(X, y, **kwargs)\n",
      "\n",
      "\n",
      "  warnings.warn(\n",
      "C:\\Users\\16174\\anaconda3\\lib\\site-packages\\sklearn\\linear_model\\_base.py:141: FutureWarning: 'normalize' was deprecated in version 1.0 and will be removed in 1.2.\n",
      "If you wish to scale the data, use Pipeline with a StandardScaler in a preprocessing stage. To reproduce the previous behavior:\n",
      "\n",
      "from sklearn.pipeline import make_pipeline\n",
      "\n",
      "model = make_pipeline(StandardScaler(with_mean=False), LinearRegression())\n",
      "\n",
      "If you wish to pass a sample_weight parameter, you need to pass it as a fit parameter to each step of the pipeline as follows:\n",
      "\n",
      "kwargs = {s[0] + '__sample_weight': sample_weight for s in model.steps}\n",
      "model.fit(X, y, **kwargs)\n",
      "\n",
      "\n",
      "  warnings.warn(\n",
      "C:\\Users\\16174\\anaconda3\\lib\\site-packages\\sklearn\\linear_model\\_base.py:141: FutureWarning: 'normalize' was deprecated in version 1.0 and will be removed in 1.2.\n",
      "If you wish to scale the data, use Pipeline with a StandardScaler in a preprocessing stage. To reproduce the previous behavior:\n",
      "\n",
      "from sklearn.pipeline import make_pipeline\n",
      "\n",
      "model = make_pipeline(StandardScaler(with_mean=False), LinearRegression())\n",
      "\n",
      "If you wish to pass a sample_weight parameter, you need to pass it as a fit parameter to each step of the pipeline as follows:\n",
      "\n",
      "kwargs = {s[0] + '__sample_weight': sample_weight for s in model.steps}\n",
      "model.fit(X, y, **kwargs)\n",
      "\n",
      "\n",
      "  warnings.warn(\n",
      "C:\\Users\\16174\\anaconda3\\lib\\site-packages\\sklearn\\linear_model\\_base.py:148: FutureWarning: 'normalize' was deprecated in version 1.0 and will be removed in 1.2. Please leave the normalize parameter to its default value to silence this warning. The default behavior of this estimator is to not do any normalization. If normalization is needed please use sklearn.preprocessing.StandardScaler instead.\n",
      "  warnings.warn(\n",
      "C:\\Users\\16174\\anaconda3\\lib\\site-packages\\sklearn\\linear_model\\_base.py:148: FutureWarning: 'normalize' was deprecated in version 1.0 and will be removed in 1.2. Please leave the normalize parameter to its default value to silence this warning. The default behavior of this estimator is to not do any normalization. If normalization is needed please use sklearn.preprocessing.StandardScaler instead.\n",
      "  warnings.warn(\n",
      "C:\\Users\\16174\\anaconda3\\lib\\site-packages\\sklearn\\linear_model\\_base.py:148: FutureWarning: 'normalize' was deprecated in version 1.0 and will be removed in 1.2. Please leave the normalize parameter to its default value to silence this warning. The default behavior of this estimator is to not do any normalization. If normalization is needed please use sklearn.preprocessing.StandardScaler instead.\n",
      "  warnings.warn(\n",
      "C:\\Users\\16174\\anaconda3\\lib\\site-packages\\sklearn\\linear_model\\_base.py:148: FutureWarning: 'normalize' was deprecated in version 1.0 and will be removed in 1.2. Please leave the normalize parameter to its default value to silence this warning. The default behavior of this estimator is to not do any normalization. If normalization is needed please use sklearn.preprocessing.StandardScaler instead.\n",
      "  warnings.warn(\n",
      "C:\\Users\\16174\\anaconda3\\lib\\site-packages\\sklearn\\linear_model\\_base.py:148: FutureWarning: 'normalize' was deprecated in version 1.0 and will be removed in 1.2. Please leave the normalize parameter to its default value to silence this warning. The default behavior of this estimator is to not do any normalization. If normalization is needed please use sklearn.preprocessing.StandardScaler instead.\n",
      "  warnings.warn(\n",
      "C:\\Users\\16174\\anaconda3\\lib\\site-packages\\sklearn\\linear_model\\_base.py:148: FutureWarning: 'normalize' was deprecated in version 1.0 and will be removed in 1.2. Please leave the normalize parameter to its default value to silence this warning. The default behavior of this estimator is to not do any normalization. If normalization is needed please use sklearn.preprocessing.StandardScaler instead.\n",
      "  warnings.warn(\n"
     ]
    },
    {
     "name": "stdout",
     "output_type": "stream",
     "text": [
      "Optimal hyperparameters: {'normalize': False}\n",
      "Test set RMSE: 264.0811148395667\n"
     ]
    }
   ],
   "source": [
    "from sklearn.linear_model import LinearRegression\n",
    "from sklearn.datasets import load_boston\n",
    "from sklearn.model_selection import GridSearchCV, train_test_split\n",
    "from sklearn.metrics import mean_squared_error\n",
    "\n",
    "# Initialize linear regression model\n",
    "linreg_model = LinearRegression()\n",
    "\n",
    "# Set up grid of hyperparameters to search over\n",
    "param_grid = {\n",
    "    \"normalize\": [True, False]\n",
    "}\n",
    "\n",
    "# Perform grid search using cross-validation\n",
    "grid_search = GridSearchCV(linreg_model, param_grid=param_grid, cv=5, scoring='neg_mean_squared_error')\n",
    "grid_search.fit(X_train, y_train)\n",
    "\n",
    "# Print optimal hyperparameters\n",
    "print(\"Optimal hyperparameters:\", grid_search.best_params_)\n",
    "\n",
    "# Evaluate model with optimal hyperparameters on test set\n",
    "y_pred = grid_search.predict(X_test)\n",
    "rmse = mean_squared_error(y_test, y_pred, squared=False)\n",
    "print(\"Test set RMSE:\", rmse)\n"
   ]
  },
  {
   "cell_type": "code",
   "execution_count": 330,
   "metadata": {},
   "outputs": [
    {
     "name": "stdout",
     "output_type": "stream",
     "text": [
      "Optimal hyperparameters: {'max_depth': 10, 'max_leaf_nodes': 50, 'min_samples_leaf': 10}\n",
      "Test set RMSE: 257.41018806339633\n"
     ]
    }
   ],
   "source": [
    "from sklearn.tree import DecisionTreeRegressor\n",
    "from sklearn.datasets import load_boston\n",
    "from sklearn.model_selection import GridSearchCV, train_test_split\n",
    "from sklearn.metrics import mean_squared_error\n",
    "\n",
    "# Initialize decision tree regression model\n",
    "tree_model = DecisionTreeRegressor(random_state=42)\n",
    "\n",
    "# Set up grid of hyperparameters to search over\n",
    "param_grid = {\n",
    "    \"max_depth\": [3, 5, 7, 10],\n",
    "    \"min_samples_leaf\": [1, 2, 5, 10],\n",
    "    \"max_leaf_nodes\": [5, 10, 20, 50]\n",
    "}\n",
    "\n",
    "# Perform grid search using cross-validation\n",
    "grid_search = GridSearchCV(tree_model, param_grid=param_grid, cv=5, scoring='neg_mean_squared_error')\n",
    "grid_search.fit(X_train, y_train)\n",
    "\n",
    "# Print optimal hyperparameters\n",
    "print(\"Optimal hyperparameters:\", grid_search.best_params_)\n",
    "\n",
    "# Evaluate model with optimal hyperparameters on test set\n",
    "y_pred = grid_search.predict(X_test)\n",
    "rmse = mean_squared_error(y_test, y_pred, squared=False)\n",
    "print(\"Test set RMSE:\", rmse)\n"
   ]
  },
  {
   "cell_type": "code",
   "execution_count": null,
   "metadata": {},
   "outputs": [],
   "source": []
  },
  {
   "cell_type": "code",
   "execution_count": null,
   "metadata": {},
   "outputs": [],
   "source": []
  },
  {
   "cell_type": "code",
   "execution_count": null,
   "metadata": {},
   "outputs": [],
   "source": []
  },
  {
   "cell_type": "code",
   "execution_count": null,
   "metadata": {},
   "outputs": [],
   "source": []
  },
  {
   "cell_type": "code",
   "execution_count": null,
   "metadata": {},
   "outputs": [],
   "source": []
  },
  {
   "cell_type": "code",
   "execution_count": null,
   "metadata": {},
   "outputs": [],
   "source": []
  },
  {
   "cell_type": "markdown",
   "metadata": {
    "id": "6I9-T9lPXuA5"
   },
   "source": [
    "#ML models "
   ]
  },
  {
   "cell_type": "code",
   "execution_count": 280,
   "metadata": {
    "id": "X0Kp5ucQXxFa"
   },
   "outputs": [],
   "source": [
    "from sklearn.model_selection import train_test_split\n",
    "\n",
    "# Split dataset into training and testing sets\n",
    "X_train, X_test, y_train, y_test = train_test_split(dfm.drop('price', axis=1), dfm['price'], test_size=0.3, random_state=42)"
   ]
  },
  {
   "cell_type": "code",
   "execution_count": 240,
   "metadata": {},
   "outputs": [
    {
     "name": "stdout",
     "output_type": "stream",
     "text": [
      "Requirement already satisfied: xgboost in c:\\users\\16174\\anaconda3\\lib\\site-packages (1.7.4)\n",
      "Requirement already satisfied: scipy in c:\\users\\16174\\anaconda3\\lib\\site-packages (from xgboost) (1.9.1)\n",
      "Requirement already satisfied: numpy in c:\\users\\16174\\anaconda3\\lib\\site-packages (from xgboost) (1.21.5)\n"
     ]
    }
   ],
   "source": [
    "!pip3 install xgboost"
   ]
  },
  {
   "cell_type": "code",
   "execution_count": 241,
   "metadata": {
    "colab": {
     "base_uri": "https://localhost:8080/"
    },
    "id": "V6qR_VxDaH7M",
    "outputId": "59716b23-b00d-4ba1-f925-fada72c4c306"
   },
   "outputs": [
    {
     "data": {
      "text/plain": [
       "382.13494700205666"
      ]
     },
     "execution_count": 241,
     "metadata": {},
     "output_type": "execute_result"
    }
   ],
   "source": [
    "avg_price = dfm['price'].mean()\n",
    "avg_price"
   ]
  },
  {
   "cell_type": "code",
   "execution_count": 281,
   "metadata": {
    "colab": {
     "base_uri": "https://localhost:8080/"
    },
    "id": "Ns5e1o_WMC1i",
    "outputId": "d86ebb42-7b2e-4e51-b081-9f51407be04f"
   },
   "outputs": [
    {
     "name": "stdout",
     "output_type": "stream",
     "text": [
      "(17698, 34)\n",
      "(7586, 34)\n"
     ]
    }
   ],
   "source": [
    "print(X_train.shape)\n",
    "print(X_test.shape)"
   ]
  },
  {
   "cell_type": "code",
   "execution_count": 243,
   "metadata": {},
   "outputs": [
    {
     "data": {
      "text/plain": [
       "price                                           0\n",
       "host_acceptance_rate                            0\n",
       "host_listings_count                             0\n",
       "host_total_listings_count                       0\n",
       "longitude                                       0\n",
       "minimum_nights                                  0\n",
       "minimum_maximum_nights                          0\n",
       "maximum_maximum_nights                          0\n",
       "maximum_nights_avg_ntm                          0\n",
       "availability_30                                 0\n",
       "availability_60                                 0\n",
       "availability_90                                 0\n",
       "availability_365                                0\n",
       "calculated_host_listings_count_entire_homes     0\n",
       "calculated_host_listings_count_private_rooms    0\n",
       "host_since                                      0\n",
       "host_response_time                              0\n",
       "host_identity_verified                          0\n",
       "host_has_profile_pic                            0\n",
       "neighbourhood_group_cleansed                    0\n",
       "neighbourhood_cleansed                          0\n",
       "property_type                                   0\n",
       "room_type                                       0\n",
       "accommodates                                    0\n",
       "bathrooms_text                                  0\n",
       "bedrooms                                        0\n",
       "beds                                            0\n",
       "has_availability                                0\n",
       "review_scores_rating                            0\n",
       "review_scores_accuracy                          0\n",
       "review_scores_cleanliness                       0\n",
       "review_scores_checkin                           0\n",
       "review_scores_communication                     0\n",
       "review_scores_location                          0\n",
       "instant_bookable                                0\n",
       "dtype: int64"
      ]
     },
     "execution_count": 243,
     "metadata": {},
     "output_type": "execute_result"
    }
   ],
   "source": [
    "# Find the sum of missing values for each feature\n",
    "dfm.isnull().sum()\n"
   ]
  },
  {
   "cell_type": "code",
   "execution_count": 244,
   "metadata": {},
   "outputs": [
    {
     "ename": "NameError",
     "evalue": "name 'model' is not defined",
     "output_type": "error",
     "traceback": [
      "\u001b[1;31m---------------------------------------------------------------------------\u001b[0m",
      "\u001b[1;31mNameError\u001b[0m                                 Traceback (most recent call last)",
      "\u001b[1;32m~\\AppData\\Local\\Temp\\ipykernel_29816\\2155965525.py\u001b[0m in \u001b[0;36m<module>\u001b[1;34m\u001b[0m\n\u001b[0;32m      5\u001b[0m \u001b[1;33m\u001b[0m\u001b[0m\n\u001b[0;32m      6\u001b[0m \u001b[1;31m# Make predictions on the test set\u001b[0m\u001b[1;33m\u001b[0m\u001b[1;33m\u001b[0m\u001b[0m\n\u001b[1;32m----> 7\u001b[1;33m \u001b[0my_pred\u001b[0m \u001b[1;33m=\u001b[0m \u001b[0mmodel\u001b[0m\u001b[1;33m.\u001b[0m\u001b[0mpredict\u001b[0m\u001b[1;33m(\u001b[0m\u001b[0mX_test\u001b[0m\u001b[1;33m)\u001b[0m\u001b[1;33m\u001b[0m\u001b[1;33m\u001b[0m\u001b[0m\n\u001b[0m\u001b[0;32m      8\u001b[0m \u001b[1;33m\u001b[0m\u001b[0m\n\u001b[0;32m      9\u001b[0m \u001b[1;31m# Calculate RMSE\u001b[0m\u001b[1;33m\u001b[0m\u001b[1;33m\u001b[0m\u001b[0m\n",
      "\u001b[1;31mNameError\u001b[0m: name 'model' is not defined"
     ]
    }
   ],
   "source": [
    "from sklearn.metrics import mean_squared_error\n",
    "\n",
    "# Train the model\n",
    "# ...\n",
    "\n",
    "# Make predictions on the test set\n",
    "y_pred = model.predict(X_test)\n",
    "\n",
    "# Calculate RMSE\n",
    "rmse = mean_squared_error(y_test, y_pred, squared=False)\n",
    "print(\"RMSE: \", rmse)\n",
    "\n",
    "# Compare actual and predicted prices\n",
    "df_sample = X_test.copy()\n",
    "df_sample['price'] = y_test\n",
    "df_sample['predicted_price'] = y_pred\n",
    "print(df_sample.head())"
   ]
  },
  {
   "cell_type": "code",
   "execution_count": 246,
   "metadata": {},
   "outputs": [
    {
     "name": "stdout",
     "output_type": "stream",
     "text": [
      "RMSE:  262.45646293354156\n"
     ]
    }
   ],
   "source": [
    "import pandas as pd\n",
    "from sklearn.linear_model import LinearRegression\n",
    "from sklearn.model_selection import train_test_split\n",
    "from sklearn.metrics import mean_squared_error\n",
    "\n",
    "\n",
    "#Extract the features and target variable\n",
    "X = dfm.drop('price', axis=1)\n",
    "y = dfm['price']\n",
    "\n",
    "\n",
    "#Split the data into training and testing sets\n",
    "X_train, X_test, y_train, y_test = train_test_split(X, y, test_size=0.2, random_state=42)\n",
    "\n",
    "#Train the Linear Regression model\n",
    "lr = LinearRegression()\n",
    "lr.fit(X_train, y_train)\n",
    "\n",
    "#Make predictions on the test set\n",
    "y_pred = lr.predict(X_test)\n",
    "\n",
    "#Calculate the root mean squared error (RMSE) of the predictions\n",
    "rmse = mean_squared_error(y_test, y_pred, squared=False)\n",
    "print(\"RMSE: \", rmse)"
   ]
  },
  {
   "cell_type": "code",
   "execution_count": 247,
   "metadata": {},
   "outputs": [
    {
     "name": "stdout",
     "output_type": "stream",
     "text": [
      "R2 score train: 0.1633434379547668\n",
      "R2 score test: 0.16812522110643635\n"
     ]
    }
   ],
   "source": [
    "from sklearn.metrics import r2_score\n",
    "\n",
    "# Calculate R2 score for training set predictions\n",
    "train_r2 = r2_score(y_train, lr.predict(X_train))\n",
    "\n",
    "# Calculate R2 score for test set predictions\n",
    "test_r2 = r2_score(y_test, y_pred)\n",
    "\n",
    "print(\"R2 score train:\", train_r2)\n",
    "print(\"R2 score test:\", test_r2)\n"
   ]
  },
  {
   "cell_type": "markdown",
   "metadata": {},
   "source": [
    "The R2 score of 0.0184 for the training set\n",
    "and 0.1368 for the test set indicates that the model is \n",
    "not very good at explaining the variability in the target variable\n",
    "using the features in the dataset. In other words, only a small portion\n",
    "of the variability in the target variable is explained by the model. \n",
    "This suggests that the model may be underfitting the data and \n",
    "more complex models or additional features may be needed to improve the model's performance./*"
   ]
  },
  {
   "cell_type": "markdown",
   "metadata": {},
   "source": [
    "#Ridge "
   ]
  },
  {
   "cell_type": "code",
   "execution_count": 249,
   "metadata": {},
   "outputs": [
    {
     "name": "stdout",
     "output_type": "stream",
     "text": [
      "RMSE:  262.484394351407\n",
      "R2 score:  0.16794815037863164\n"
     ]
    }
   ],
   "source": [
    "from sklearn.linear_model import Ridge\n",
    "from sklearn.model_selection import train_test_split\n",
    "from sklearn.metrics import mean_squared_error, r2_score\n",
    "from sklearn.preprocessing import StandardScaler\n",
    "\n",
    "# Scale the data\n",
    "scaler = StandardScaler()\n",
    "X_train_scaled = scaler.fit_transform(X_train)\n",
    "X_test_scaled = scaler.transform(X_test)\n",
    "\n",
    "# Train the Ridge regression model\n",
    "ridge = Ridge(alpha=1)\n",
    "ridge.fit(X_train_scaled, y_train)\n",
    "\n",
    "# Make predictions on the test set\n",
    "y_pred = ridge.predict(X_test_scaled)\n",
    "\n",
    "# Calculate the root mean squared error (RMSE) and R2 score of the predictions\n",
    "rmse = mean_squared_error(y_test, y_pred, squared=False)\n",
    "r2 = r2_score(y_test, y_pred)\n",
    "\n",
    "print(\"RMSE: \", rmse)\n",
    "print(\"R2 score: \", r2)\n"
   ]
  },
  {
   "cell_type": "code",
   "execution_count": 250,
   "metadata": {},
   "outputs": [
    {
     "data": {
      "image/png": "[encoded data removed]",
      "text/plain": [
       "<Figure size 700x700 with 1 Axes>"
      ]
     },
     "metadata": {},
     "output_type": "display_data"
    }
   ],
   "source": [
    "from sklearn import preprocessing\n",
    "from sklearn.ensemble import ExtraTreesClassifier\n",
    "lab_enc = preprocessing.LabelEncoder()\n",
    "\n",
    "feature_model = ExtraTreesClassifier(n_estimators=50)\n",
    "feature_model.fit(X_train,lab_enc.fit_transform(y_train))\n",
    "\n",
    "plt.figure(figsize=(7,7))\n",
    "feat_importances = pd.Series(feature_model.feature_importances_, index=dfm.iloc[:,:-1].columns)\n",
    "feat_importances.nlargest(10).plot(kind='barh')\n",
    "plt.show()"
   ]
  },
  {
   "cell_type": "code",
   "execution_count": 251,
   "metadata": {},
   "outputs": [
    {
     "data": {
      "image/png": "[encoded data removed]",
      "text/plain": [
       "<Figure size 640x480 with 1 Axes>"
      ]
     },
     "metadata": {},
     "output_type": "display_data"
    }
   ],
   "source": [
    "from sklearn.ensemble import ExtraTreesRegressor\n",
    "\n",
    "# Encode categorical variables\n",
    "dfm_encoded = pd.get_dummies(dfm)\n",
    "\n",
    "# Split the data into training and testing sets\n",
    "X_train, X_test, y_train, y_test = train_test_split(dfm_encoded.drop('price', axis=1), dfm_encoded['price'], test_size=0.2, random_state=42)\n",
    "\n",
    "# Train the ExtraTreesRegressor model\n",
    "etr = ExtraTreesRegressor(n_estimators=50, random_state=42)\n",
    "etr.fit(X_train, y_train)\n",
    "\n",
    "# Visualize the feature importances\n",
    "importances = pd.Series(etr.feature_importances_, index=X_train.columns)\n",
    "importances.nlargest(10).plot(kind='barh')\n",
    "plt.show()\n"
   ]
  },
  {
   "cell_type": "code",
   "execution_count": 252,
   "metadata": {},
   "outputs": [],
   "source": [
    "def ridge_reg(input_x, input_y, cv=5):\n",
    "    ## Defining parameters\n",
    "    model_Ridge= Ridge()\n",
    "\n",
    "    # prepare a range of alpha values to test\n",
    "    alphas = np.array([1,0.1,0.01,0.001,0.0001,0])\n",
    "    normalizes= ([True,False])\n",
    "\n",
    "    ## Building Grid Search algorithm with cross-validation and Mean Squared Error score.\n",
    "\n",
    "    grid_search_Ridge = GridSearchCV(estimator=model_Ridge,  \n",
    "                         param_grid=(dict(alpha=alphas, normalize= normalizes)),\n",
    "                         scoring='neg_mean_squared_error',\n",
    "                         cv=cv,\n",
    "                         n_jobs=-1)\n",
    "\n",
    "    ## Lastly, finding the best parameters.\n",
    "\n",
    "    grid_search_Ridge.fit(input_x, input_y)\n",
    "    best_parameters_Ridge = grid_search_Ridge.best_params_  \n",
    "    best_score_Ridge = grid_search_Ridge.best_score_ \n",
    "    print(best_parameters_Ridge)\n",
    "    print(best_score_Ridge)\n",
    "    \n",
    "#ridge_reg(nyc_model_x, nyc_model_y)"
   ]
  },
  {
   "cell_type": "code",
   "execution_count": 253,
   "metadata": {},
   "outputs": [],
   "source": [
    "from scipy.stats import norm\n",
    "from scipy import stats\n",
    "from sklearn import preprocessing\n",
    "from sklearn.preprocessing import LabelEncoder\n",
    "from sklearn.preprocessing import StandardScaler\n",
    "\n",
    "from sklearn.model_selection import train_test_split\n",
    "from sklearn.model_selection import KFold\n",
    "from sklearn.model_selection import GridSearchCV\n",
    "from sklearn.ensemble import ExtraTreesClassifier\n",
    "\n",
    "from sklearn.linear_model import LinearRegression\n",
    "from sklearn.preprocessing import PolynomialFeatures\n",
    "from sklearn.linear_model import Ridge\n",
    "from sklearn.linear_model import Lasso\n",
    "from sklearn.linear_model import ElasticNet\n",
    "\n",
    "from sklearn import metrics\n",
    "from sklearn.metrics import mean_squared_error\n",
    "from sklearn.metrics import mean_absolute_error\n",
    "from math import sqrt\n",
    "from sklearn.metrics import r2_score"
   ]
  },
  {
   "cell_type": "code",
   "execution_count": 254,
   "metadata": {},
   "outputs": [],
   "source": [
    "#get correlations of each features in dataset\n",
    "corrmat = dfm.corr()\n",
    "top_corr_features = corrmat.index\n",
    "plt.figure(figsize=(20,20))\n",
    "#plot heat map\n",
    "g=sns.heatmap(dfm[top_corr_features].corr(),annot=True,cmap=\"RdYlGn\")"
   ]
  },
  {
   "cell_type": "markdown",
   "metadata": {},
   "source": [
    "#Linear Regression: Linear regression is used when the relationship between the independent and dependent variables is linear. It is one of the most basic and widely used regression models.\n",
    "\n",
    "Polynomial Regression: Polynomial regression is used when the relationship between the independent and dependent variables is nonlinear. It is a type of regression model that fits a polynomial equation to the data.\n",
    "\n",
    "Ridge Regression: Ridge regression is used when there is a multicollinearity problem in the data. It adds a penalty term to the linear regression equation to overcome the problem of multicollinearity.\n",
    "\n",
    "Lasso Regression: Lasso regression is also used when there is a multicollinearity problem in the data. It adds a penalty term to the linear regression equation, but it is more effective in reducing the number of features in the model.\n",
    "\n",
    "Elastic Net Regression: Elastic net regression is used when there are a large number of features in the model and some of them are correlated. It is a combination of ridge and lasso regression.\n",
    "\n",
    "Logistic Regression: Logistic regression is used when the dependent variable is categorical. It is commonly used in classification problems.\n",
    "\n",
    "Poisson Regression: Poisson regression is used when the dependent variable is count data. It is commonly used in medical and social sciences.\n",
    "\n",
    "Cox Regression: Cox regression is used when the dependent variable is survival data. It is commonly used in medical research."
   ]
  },
  {
   "cell_type": "code",
   "execution_count": 256,
   "metadata": {
    "scrolled": true
   },
   "outputs": [
    {
     "name": "stderr",
     "output_type": "stream",
     "text": [
      "C:\\Users\\16174\\anaconda3\\lib\\site-packages\\sklearn\\linear_model\\_coordinate_descent.py:647: ConvergenceWarning: Objective did not converge. You might want to increase the number of iterations, check the scale of the features or consider increasing regularisation. Duality gap: 7.121e+08, tolerance: 1.704e+05\n",
      "  model = cd_fast.enet_coordinate_descent(\n",
      "C:\\Users\\16174\\anaconda3\\lib\\site-packages\\sklearn\\linear_model\\_ridge.py:157: LinAlgWarning: Ill-conditioned matrix (rcond=7.69273e-21): result may not be accurate.\n",
      "  return linalg.solve(A, Xy, sym_pos=True, overwrite_a=True).T\n"
     ]
    },
    {
     "ename": "KeyboardInterrupt",
     "evalue": "",
     "output_type": "error",
     "traceback": [
      "\u001b[1;31m---------------------------------------------------------------------------\u001b[0m",
      "\u001b[1;31mKeyboardInterrupt\u001b[0m                         Traceback (most recent call last)",
      "\u001b[1;32m~\\AppData\\Local\\Temp\\ipykernel_29816\\1057971723.py\u001b[0m in \u001b[0;36m<module>\u001b[1;34m\u001b[0m\n\u001b[0;32m     35\u001b[0m     \u001b[1;31m# Calculate the evaluation metrics\u001b[0m\u001b[1;33m\u001b[0m\u001b[1;33m\u001b[0m\u001b[0m\n\u001b[0;32m     36\u001b[0m     \u001b[0mr2\u001b[0m \u001b[1;33m=\u001b[0m \u001b[0mr2_score\u001b[0m\u001b[1;33m(\u001b[0m\u001b[0my_test\u001b[0m\u001b[1;33m,\u001b[0m \u001b[0my_pred\u001b[0m\u001b[1;33m)\u001b[0m\u001b[1;33m\u001b[0m\u001b[1;33m\u001b[0m\u001b[0m\n\u001b[1;32m---> 37\u001b[1;33m     \u001b[0mtrain_score\u001b[0m \u001b[1;33m=\u001b[0m \u001b[0mmodel\u001b[0m\u001b[1;33m.\u001b[0m\u001b[0mscore\u001b[0m\u001b[1;33m(\u001b[0m\u001b[0mX_train\u001b[0m\u001b[1;33m,\u001b[0m \u001b[0my_train\u001b[0m\u001b[1;33m)\u001b[0m\u001b[1;33m\u001b[0m\u001b[1;33m\u001b[0m\u001b[0m\n\u001b[0m\u001b[0;32m     38\u001b[0m     \u001b[0mtest_score\u001b[0m \u001b[1;33m=\u001b[0m \u001b[0mmodel\u001b[0m\u001b[1;33m.\u001b[0m\u001b[0mscore\u001b[0m\u001b[1;33m(\u001b[0m\u001b[0mX_test\u001b[0m\u001b[1;33m,\u001b[0m \u001b[0my_test\u001b[0m\u001b[1;33m)\u001b[0m\u001b[1;33m\u001b[0m\u001b[1;33m\u001b[0m\u001b[0m\n\u001b[0;32m     39\u001b[0m     \u001b[0mrmse\u001b[0m \u001b[1;33m=\u001b[0m \u001b[0mnp\u001b[0m\u001b[1;33m.\u001b[0m\u001b[0msqrt\u001b[0m\u001b[1;33m(\u001b[0m\u001b[0mmean_squared_error\u001b[0m\u001b[1;33m(\u001b[0m\u001b[0my_test\u001b[0m\u001b[1;33m,\u001b[0m \u001b[0my_pred\u001b[0m\u001b[1;33m)\u001b[0m\u001b[1;33m)\u001b[0m\u001b[1;33m\u001b[0m\u001b[1;33m\u001b[0m\u001b[0m\n",
      "\u001b[1;32m~\\anaconda3\\lib\\site-packages\\sklearn\\base.py\u001b[0m in \u001b[0;36mscore\u001b[1;34m(self, X, y, sample_weight)\u001b[0m\n\u001b[0;32m    703\u001b[0m         \u001b[1;32mfrom\u001b[0m \u001b[1;33m.\u001b[0m\u001b[0mmetrics\u001b[0m \u001b[1;32mimport\u001b[0m \u001b[0mr2_score\u001b[0m\u001b[1;33m\u001b[0m\u001b[1;33m\u001b[0m\u001b[0m\n\u001b[0;32m    704\u001b[0m \u001b[1;33m\u001b[0m\u001b[0m\n\u001b[1;32m--> 705\u001b[1;33m         \u001b[0my_pred\u001b[0m \u001b[1;33m=\u001b[0m \u001b[0mself\u001b[0m\u001b[1;33m.\u001b[0m\u001b[0mpredict\u001b[0m\u001b[1;33m(\u001b[0m\u001b[0mX\u001b[0m\u001b[1;33m)\u001b[0m\u001b[1;33m\u001b[0m\u001b[1;33m\u001b[0m\u001b[0m\n\u001b[0m\u001b[0;32m    706\u001b[0m         \u001b[1;32mreturn\u001b[0m \u001b[0mr2_score\u001b[0m\u001b[1;33m(\u001b[0m\u001b[0my\u001b[0m\u001b[1;33m,\u001b[0m \u001b[0my_pred\u001b[0m\u001b[1;33m,\u001b[0m \u001b[0msample_weight\u001b[0m\u001b[1;33m=\u001b[0m\u001b[0msample_weight\u001b[0m\u001b[1;33m)\u001b[0m\u001b[1;33m\u001b[0m\u001b[1;33m\u001b[0m\u001b[0m\n\u001b[0;32m    707\u001b[0m \u001b[1;33m\u001b[0m\u001b[0m\n",
      "\u001b[1;32m~\\anaconda3\\lib\\site-packages\\sklearn\\svm\\_base.py\u001b[0m in \u001b[0;36mpredict\u001b[1;34m(self, X)\u001b[0m\n\u001b[0;32m    414\u001b[0m         \u001b[0mX\u001b[0m \u001b[1;33m=\u001b[0m \u001b[0mself\u001b[0m\u001b[1;33m.\u001b[0m\u001b[0m_validate_for_predict\u001b[0m\u001b[1;33m(\u001b[0m\u001b[0mX\u001b[0m\u001b[1;33m)\u001b[0m\u001b[1;33m\u001b[0m\u001b[1;33m\u001b[0m\u001b[0m\n\u001b[0;32m    415\u001b[0m         \u001b[0mpredict\u001b[0m \u001b[1;33m=\u001b[0m \u001b[0mself\u001b[0m\u001b[1;33m.\u001b[0m\u001b[0m_sparse_predict\u001b[0m \u001b[1;32mif\u001b[0m \u001b[0mself\u001b[0m\u001b[1;33m.\u001b[0m\u001b[0m_sparse\u001b[0m \u001b[1;32melse\u001b[0m \u001b[0mself\u001b[0m\u001b[1;33m.\u001b[0m\u001b[0m_dense_predict\u001b[0m\u001b[1;33m\u001b[0m\u001b[1;33m\u001b[0m\u001b[0m\n\u001b[1;32m--> 416\u001b[1;33m         \u001b[1;32mreturn\u001b[0m \u001b[0mpredict\u001b[0m\u001b[1;33m(\u001b[0m\u001b[0mX\u001b[0m\u001b[1;33m)\u001b[0m\u001b[1;33m\u001b[0m\u001b[1;33m\u001b[0m\u001b[0m\n\u001b[0m\u001b[0;32m    417\u001b[0m \u001b[1;33m\u001b[0m\u001b[0m\n\u001b[0;32m    418\u001b[0m     \u001b[1;32mdef\u001b[0m \u001b[0m_dense_predict\u001b[0m\u001b[1;33m(\u001b[0m\u001b[0mself\u001b[0m\u001b[1;33m,\u001b[0m \u001b[0mX\u001b[0m\u001b[1;33m)\u001b[0m\u001b[1;33m:\u001b[0m\u001b[1;33m\u001b[0m\u001b[1;33m\u001b[0m\u001b[0m\n",
      "\u001b[1;32m~\\anaconda3\\lib\\site-packages\\sklearn\\svm\\_base.py\u001b[0m in \u001b[0;36m_dense_predict\u001b[1;34m(self, X)\u001b[0m\n\u001b[0;32m    433\u001b[0m         \u001b[0msvm_type\u001b[0m \u001b[1;33m=\u001b[0m \u001b[0mLIBSVM_IMPL\u001b[0m\u001b[1;33m.\u001b[0m\u001b[0mindex\u001b[0m\u001b[1;33m(\u001b[0m\u001b[0mself\u001b[0m\u001b[1;33m.\u001b[0m\u001b[0m_impl\u001b[0m\u001b[1;33m)\u001b[0m\u001b[1;33m\u001b[0m\u001b[1;33m\u001b[0m\u001b[0m\n\u001b[0;32m    434\u001b[0m \u001b[1;33m\u001b[0m\u001b[0m\n\u001b[1;32m--> 435\u001b[1;33m         return libsvm.predict(\n\u001b[0m\u001b[0;32m    436\u001b[0m             \u001b[0mX\u001b[0m\u001b[1;33m,\u001b[0m\u001b[1;33m\u001b[0m\u001b[1;33m\u001b[0m\u001b[0m\n\u001b[0;32m    437\u001b[0m             \u001b[0mself\u001b[0m\u001b[1;33m.\u001b[0m\u001b[0msupport_\u001b[0m\u001b[1;33m,\u001b[0m\u001b[1;33m\u001b[0m\u001b[1;33m\u001b[0m\u001b[0m\n",
      "\u001b[1;31mKeyboardInterrupt\u001b[0m: "
     ]
    }
   ],
   "source": [
    "import pandas as pd\n",
    "import numpy as np\n",
    "from sklearn.model_selection import train_test_split, cross_val_score\n",
    "from sklearn.linear_model import LinearRegression, Lasso, Ridge\n",
    "from sklearn.svm import SVR\n",
    "from sklearn.tree import DecisionTreeRegressor\n",
    "from sklearn.ensemble import RandomForestRegressor\n",
    "from sklearn.metrics import r2_score, mean_squared_error, mean_absolute_error\n",
    "import xgboost as xgb\n",
    "\n",
    "# Split the dataset into training and testing sets\n",
    "X = dfm.drop('price', axis=1)\n",
    "y = dfm['price']\n",
    "X_train, X_test, y_train, y_test = train_test_split(X, y, test_size=0.2, random_state=42)\n",
    "\n",
    "# Define the regression models to evaluate\n",
    "reg_models = [LinearRegression(), Lasso(), Ridge(), SVR(), RandomForestRegressor(), DecisionTreeRegressor(), xgb.XGBRegressor()]\n",
    "\n",
    "# Initialize the lists to store the evaluation metrics\n",
    "r2_scores = []\n",
    "train_scores = []\n",
    "test_scores = []\n",
    "rmse_scores = []\n",
    "mae_scores = []\n",
    "mse_scores = []\n",
    "\n",
    "# Evaluate the performance of each regression model\n",
    "for model in reg_models:\n",
    "    # Train the model\n",
    "    model.fit(X_train, y_train)\n",
    "    \n",
    "    # Make predictions on the test set\n",
    "    y_pred = model.predict(X_test)\n",
    "    \n",
    "    # Calculate the evaluation metrics\n",
    "    r2 = r2_score(y_test, y_pred)\n",
    "    train_score = model.score(X_train, y_train)\n",
    "    test_score = model.score(X_test, y_test)\n",
    "    rmse = np.sqrt(mean_squared_error(y_test, y_pred))\n",
    "    mae = mean_absolute_error(y_test, y_pred)\n",
    "    mse = mean_squared_error(y_test, y_pred)\n",
    "    \n",
    "    # Append the evaluation metrics to the lists\n",
    "    r2_scores.append(r2)\n",
    "    train_scores.append(train_score)\n",
    "    test_scores.append(test_score)\n",
    "    rmse_scores.append(rmse)\n",
    "    mae_scores.append(mae)\n",
    "    mse_scores.append(mse)\n",
    "\n",
    "# Print the evaluation metrics for each model\n",
    "for i in range(len(reg_models)):\n",
    "    print(f'{reg_models[i].__class__.__name__}:\\nR2 score: {r2_scores[i]:.3f}\\nTrain score: {train_scores[i]:.3f}\\nTest score: {test_scores[i]:.3f}\\nRMSE: {rmse_scores[i]:.3f}\\nMAE: {mae_scores[i]:.3f}\\nMSE: {mse_scores[i]:.3f}\\n')"
   ]
  },
  {
   "cell_type": "code",
   "execution_count": 257,
   "metadata": {},
   "outputs": [
    {
     "data": {
      "text/html": [
       "<div>\n",
       "<style scoped>\n",
       "    .dataframe tbody tr th:only-of-type {\n",
       "        vertical-align: middle;\n",
       "    }\n",
       "\n",
       "    .dataframe tbody tr th {\n",
       "        vertical-align: top;\n",
       "    }\n",
       "\n",
       "    .dataframe thead th {\n",
       "        text-align: right;\n",
       "    }\n",
       "</style>\n",
       "<table border=\"1\" class=\"dataframe\">\n",
       "  <thead>\n",
       "    <tr style=\"text-align: right;\">\n",
       "      <th></th>\n",
       "      <th>Actual Price</th>\n",
       "      <th>Predicted Price</th>\n",
       "    </tr>\n",
       "  </thead>\n",
       "  <tbody>\n",
       "    <tr>\n",
       "      <th>12273</th>\n",
       "      <td>29</td>\n",
       "      <td>293.875972</td>\n",
       "    </tr>\n",
       "    <tr>\n",
       "      <th>25615</th>\n",
       "      <td>79</td>\n",
       "      <td>383.832684</td>\n",
       "    </tr>\n",
       "    <tr>\n",
       "      <th>7518</th>\n",
       "      <td>682</td>\n",
       "      <td>519.570829</td>\n",
       "    </tr>\n",
       "    <tr>\n",
       "      <th>2377</th>\n",
       "      <td>1</td>\n",
       "      <td>528.829598</td>\n",
       "    </tr>\n",
       "    <tr>\n",
       "      <th>21525</th>\n",
       "      <td>235</td>\n",
       "      <td>309.042902</td>\n",
       "    </tr>\n",
       "  </tbody>\n",
       "</table>\n",
       "</div>"
      ],
      "text/plain": [
       "       Actual Price  Predicted Price\n",
       "12273            29       293.875972\n",
       "25615            79       383.832684\n",
       "7518            682       519.570829\n",
       "2377              1       528.829598\n",
       "21525           235       309.042902"
      ]
     },
     "execution_count": 257,
     "metadata": {},
     "output_type": "execute_result"
    }
   ],
   "source": [
    "from sklearn.linear_model import LinearRegression\n",
    "\n",
    "# Define features and target variables\n",
    "X = dfm.drop('price', axis=1)\n",
    "y = dfm['price']\n",
    "\n",
    "# Split the data into train and test sets\n",
    "X_train, X_test, y_train, y_test = train_test_split(X, y, test_size=0.2, random_state=42)\n",
    "\n",
    "# Fit the Linear Regression model\n",
    "lr = LinearRegression()\n",
    "lr.fit(X_train, y_train)\n",
    "\n",
    "# Predict on the test set\n",
    "y_pred = lr.predict(X_test)\n",
    "\n",
    "# Create a dataframe to compare predicted and actual values\n",
    "lr_results = pd.DataFrame({'Actual Price': y_test, 'Predicted Price': y_pred})\n",
    "\n",
    "# Display the dataframe\n",
    "lr_results.head()\n"
   ]
  },
  {
   "cell_type": "code",
   "execution_count": 258,
   "metadata": {},
   "outputs": [
    {
     "name": "stderr",
     "output_type": "stream",
     "text": [
      "C:\\Users\\16174\\anaconda3\\lib\\site-packages\\sklearn\\linear_model\\_coordinate_descent.py:647: ConvergenceWarning: Objective did not converge. You might want to increase the number of iterations, check the scale of the features or consider increasing regularisation. Duality gap: 7.133e+08, tolerance: 1.704e+05\n",
      "  model = cd_fast.enet_coordinate_descent(\n",
      "C:\\Users\\16174\\anaconda3\\lib\\site-packages\\sklearn\\linear_model\\_ridge.py:157: LinAlgWarning: Ill-conditioned matrix (rcond=7.2405e-20): result may not be accurate.\n",
      "  return linalg.solve(A, Xy, sym_pos=True, overwrite_a=True).T\n"
     ]
    },
    {
     "data": {
      "text/html": [
       "<div>\n",
       "<style scoped>\n",
       "    .dataframe tbody tr th:only-of-type {\n",
       "        vertical-align: middle;\n",
       "    }\n",
       "\n",
       "    .dataframe tbody tr th {\n",
       "        vertical-align: top;\n",
       "    }\n",
       "\n",
       "    .dataframe thead th {\n",
       "        text-align: right;\n",
       "    }\n",
       "</style>\n",
       "<table border=\"1\" class=\"dataframe\">\n",
       "  <thead>\n",
       "    <tr style=\"text-align: right;\">\n",
       "      <th></th>\n",
       "      <th>Actual Price</th>\n",
       "      <th>Linear Regression</th>\n",
       "      <th>Lasso</th>\n",
       "      <th>Ridge</th>\n",
       "    </tr>\n",
       "  </thead>\n",
       "  <tbody>\n",
       "    <tr>\n",
       "      <th>12273</th>\n",
       "      <td>29.0</td>\n",
       "      <td>293.875972</td>\n",
       "      <td>NaN</td>\n",
       "      <td>NaN</td>\n",
       "    </tr>\n",
       "    <tr>\n",
       "      <th>25615</th>\n",
       "      <td>79.0</td>\n",
       "      <td>383.832684</td>\n",
       "      <td>NaN</td>\n",
       "      <td>NaN</td>\n",
       "    </tr>\n",
       "    <tr>\n",
       "      <th>7518</th>\n",
       "      <td>682.0</td>\n",
       "      <td>519.570829</td>\n",
       "      <td>NaN</td>\n",
       "      <td>NaN</td>\n",
       "    </tr>\n",
       "    <tr>\n",
       "      <th>2377</th>\n",
       "      <td>1.0</td>\n",
       "      <td>528.829598</td>\n",
       "      <td>284.09556</td>\n",
       "      <td>286.492251</td>\n",
       "    </tr>\n",
       "    <tr>\n",
       "      <th>21525</th>\n",
       "      <td>235.0</td>\n",
       "      <td>309.042902</td>\n",
       "      <td>NaN</td>\n",
       "      <td>NaN</td>\n",
       "    </tr>\n",
       "  </tbody>\n",
       "</table>\n",
       "</div>"
      ],
      "text/plain": [
       "       Actual Price  Linear Regression      Lasso       Ridge\n",
       "12273          29.0         293.875972        NaN         NaN\n",
       "25615          79.0         383.832684        NaN         NaN\n",
       "7518          682.0         519.570829        NaN         NaN\n",
       "2377            1.0         528.829598  284.09556  286.492251\n",
       "21525         235.0         309.042902        NaN         NaN"
      ]
     },
     "execution_count": 258,
     "metadata": {},
     "output_type": "execute_result"
    }
   ],
   "source": [
    "from sklearn.linear_model import LinearRegression, Lasso, Ridge\n",
    "from sklearn.model_selection import train_test_split\n",
    "from sklearn.metrics import r2_score, mean_squared_error, mean_absolute_error\n",
    "\n",
    "# Define features and target variables\n",
    "X = dfm.drop('price', axis=1)\n",
    "y = dfm['price']\n",
    "\n",
    "# Split the data into train and test sets\n",
    "X_train, X_test, y_train, y_test = train_test_split(X, y, test_size=0.2, random_state=42)\n",
    "\n",
    "# Fit the Linear Regression model\n",
    "lr = LinearRegression()\n",
    "lr.fit(X_train, y_train)\n",
    "\n",
    "# Fit the Lasso model\n",
    "lasso = Lasso(alpha=0.01)\n",
    "lasso.fit(X_train, y_train)\n",
    "\n",
    "# Fit the Ridge model\n",
    "ridge = Ridge(alpha=10.0)\n",
    "ridge.fit(X_train, y_train)\n",
    "\n",
    "# Predict on the test set\n",
    "lr_pred = lr.predict(X_test)\n",
    "lasso_pred = lasso.predict(X_test)\n",
    "ridge_pred = ridge.predict(X_test)\n",
    "\n",
    "# Calculate r2_scores\n",
    "r2_scores = [r2_score(y_test, lr_pred), r2_score(y_test, lasso_pred), r2_score(y_test, ridge_pred)]\n",
    "\n",
    "# Calculate train_scores\n",
    "train_scores = [lr.score(X_train, y_train), lasso.score(X_train, y_train), ridge.score(X_train, y_train)]\n",
    "\n",
    "# Calculate test_scores\n",
    "test_scores = [lr.score(X_test, y_test), lasso.score(X_test, y_test), ridge.score(X_test, y_test)]\n",
    "\n",
    "# Calculate rmse_scores\n",
    "rmse_scores = [mean_squared_error(y_test, lr_pred, squared=False), mean_squared_error(y_test, lasso_pred, squared=False), mean_squared_error(y_test, ridge_pred, squared=False)]\n",
    "\n",
    "# Calculate mae_scores\n",
    "mae_scores = [mean_absolute_error(y_test, lr_pred), mean_absolute_error(y_test, lasso_pred), mean_absolute_error(y_test, ridge_pred)]\n",
    "\n",
    "# Calculate mse_scores\n",
    "mse_scores = [mean_squared_error(y_test, lr_pred), mean_squared_error(y_test, lasso_pred), mean_squared_error(y_test, ridge_pred)]\n",
    "\n",
    "# Create dataframes to compare predicted and actual values\n",
    "lr_results = pd.DataFrame({'Actual Price': y_test, 'Linear Regression': lr_pred})\n",
    "lasso_results = pd.DataFrame({'Lasso': lasso_pred})\n",
    "ridge_results = pd.DataFrame({'Ridge': ridge_pred})\n",
    "\n",
    "# Combine the dataframes\n",
    "results = pd.concat([lr_results, lasso_results, ridge_results], axis=1)\n",
    "\n",
    "# Display the dataframe\n",
    "results.head(5)\n"
   ]
  },
  {
   "cell_type": "code",
   "execution_count": 259,
   "metadata": {
    "scrolled": true
   },
   "outputs": [
    {
     "name": "stdout",
     "output_type": "stream",
     "text": [
      "      Actual Price  Linear Regression       Lasso       Ridge\n",
      "2377           1.0         528.829598  284.095560  286.492251\n",
      "544          475.0         340.468891  289.009165  289.001437\n",
      "328          107.0         308.648731  273.434542  272.814926\n",
      "317           86.0         476.292269  322.442939  321.603888\n",
      "1128         874.0         487.706349  282.704538  285.450923\n"
     ]
    },
    {
     "data": {
      "text/html": [
       "<div>\n",
       "<style scoped>\n",
       "    .dataframe tbody tr th:only-of-type {\n",
       "        vertical-align: middle;\n",
       "    }\n",
       "\n",
       "    .dataframe tbody tr th {\n",
       "        vertical-align: top;\n",
       "    }\n",
       "\n",
       "    .dataframe thead th {\n",
       "        text-align: right;\n",
       "    }\n",
       "</style>\n",
       "<table border=\"1\" class=\"dataframe\">\n",
       "  <thead>\n",
       "    <tr style=\"text-align: right;\">\n",
       "      <th></th>\n",
       "      <th>Actual Price</th>\n",
       "      <th>Linear Regression</th>\n",
       "      <th>Lasso</th>\n",
       "      <th>Ridge</th>\n",
       "    </tr>\n",
       "  </thead>\n",
       "  <tbody>\n",
       "    <tr>\n",
       "      <th>2377</th>\n",
       "      <td>1.0</td>\n",
       "      <td>528.829598</td>\n",
       "      <td>284.095560</td>\n",
       "      <td>286.492251</td>\n",
       "    </tr>\n",
       "    <tr>\n",
       "      <th>544</th>\n",
       "      <td>475.0</td>\n",
       "      <td>340.468891</td>\n",
       "      <td>289.009165</td>\n",
       "      <td>289.001437</td>\n",
       "    </tr>\n",
       "    <tr>\n",
       "      <th>328</th>\n",
       "      <td>107.0</td>\n",
       "      <td>308.648731</td>\n",
       "      <td>273.434542</td>\n",
       "      <td>272.814926</td>\n",
       "    </tr>\n",
       "    <tr>\n",
       "      <th>317</th>\n",
       "      <td>86.0</td>\n",
       "      <td>476.292269</td>\n",
       "      <td>322.442939</td>\n",
       "      <td>321.603888</td>\n",
       "    </tr>\n",
       "    <tr>\n",
       "      <th>1128</th>\n",
       "      <td>874.0</td>\n",
       "      <td>487.706349</td>\n",
       "      <td>282.704538</td>\n",
       "      <td>285.450923</td>\n",
       "    </tr>\n",
       "    <tr>\n",
       "      <th>...</th>\n",
       "      <td>...</td>\n",
       "      <td>...</td>\n",
       "      <td>...</td>\n",
       "      <td>...</td>\n",
       "    </tr>\n",
       "    <tr>\n",
       "      <th>1371</th>\n",
       "      <td>484.0</td>\n",
       "      <td>314.941077</td>\n",
       "      <td>588.546884</td>\n",
       "      <td>588.584952</td>\n",
       "    </tr>\n",
       "    <tr>\n",
       "      <th>3128</th>\n",
       "      <td>743.0</td>\n",
       "      <td>257.727946</td>\n",
       "      <td>297.236834</td>\n",
       "      <td>297.824136</td>\n",
       "    </tr>\n",
       "    <tr>\n",
       "      <th>60</th>\n",
       "      <td>820.0</td>\n",
       "      <td>503.780893</td>\n",
       "      <td>612.945148</td>\n",
       "      <td>610.169585</td>\n",
       "    </tr>\n",
       "    <tr>\n",
       "      <th>1178</th>\n",
       "      <td>150.0</td>\n",
       "      <td>297.447683</td>\n",
       "      <td>339.167166</td>\n",
       "      <td>339.104399</td>\n",
       "    </tr>\n",
       "    <tr>\n",
       "      <th>2477</th>\n",
       "      <td>820.0</td>\n",
       "      <td>334.603497</td>\n",
       "      <td>307.637531</td>\n",
       "      <td>307.845172</td>\n",
       "    </tr>\n",
       "  </tbody>\n",
       "</table>\n",
       "<p>1023 rows × 4 columns</p>\n",
       "</div>"
      ],
      "text/plain": [
       "      Actual Price  Linear Regression       Lasso       Ridge\n",
       "2377           1.0         528.829598  284.095560  286.492251\n",
       "544          475.0         340.468891  289.009165  289.001437\n",
       "328          107.0         308.648731  273.434542  272.814926\n",
       "317           86.0         476.292269  322.442939  321.603888\n",
       "1128         874.0         487.706349  282.704538  285.450923\n",
       "...            ...                ...         ...         ...\n",
       "1371         484.0         314.941077  588.546884  588.584952\n",
       "3128         743.0         257.727946  297.236834  297.824136\n",
       "60           820.0         503.780893  612.945148  610.169585\n",
       "1178         150.0         297.447683  339.167166  339.104399\n",
       "2477         820.0         334.603497  307.637531  307.845172\n",
       "\n",
       "[1023 rows x 4 columns]"
      ]
     },
     "execution_count": 259,
     "metadata": {},
     "output_type": "execute_result"
    }
   ],
   "source": [
    "# Assuming 'results' is the name of your dataframe\n",
    "clean_results = results.dropna()\n",
    "print(clean_results.head(5))\n",
    "clean_results"
   ]
  },
  {
   "cell_type": "code",
   "execution_count": 261,
   "metadata": {},
   "outputs": [
    {
     "name": "stderr",
     "output_type": "stream",
     "text": [
      "C:\\Users\\16174\\anaconda3\\lib\\site-packages\\sklearn\\linear_model\\_coordinate_descent.py:647: ConvergenceWarning: Objective did not converge. You might want to increase the number of iterations, check the scale of the features or consider increasing regularisation. Duality gap: 7.139e+08, tolerance: 1.704e+05\n",
      "  model = cd_fast.enet_coordinate_descent(\n",
      "C:\\Users\\16174\\anaconda3\\lib\\site-packages\\sklearn\\linear_model\\_ridge.py:157: LinAlgWarning: Ill-conditioned matrix (rcond=1.22471e-21): result may not be accurate.\n",
      "  return linalg.solve(A, Xy, sym_pos=True, overwrite_a=True).T\n"
     ]
    }
   ],
   "source": [
    "from sklearn.linear_model import Lasso, Ridge\n",
    "\n",
    "# Lasso regression\n",
    "lasso = Lasso(alpha=0.1)\n",
    "lasso.fit(X_train, y_train)\n",
    "y_pred_lasso = lasso.predict(X_test)\n",
    "\n",
    "# Ridge regression\n",
    "ridge = Ridge(alpha=0.1)\n",
    "ridge.fit(X_train, y_train)\n",
    "y_pred_ridge = ridge.predict(X_test)\n",
    "\n",
    "# Create dataframes to compare predicted and actual values\n",
    "lasso_results = pd.DataFrame({'Actual Price': y_test, 'Predicted Price (Lasso)': y_pred_lasso})\n",
    "ridge_results = pd.DataFrame({'Actual Price': y_test, 'Predicted Price (Ridge)': y_pred_ridge})\n"
   ]
  },
  {
   "cell_type": "code",
   "execution_count": 262,
   "metadata": {},
   "outputs": [
    {
     "name": "stdout",
     "output_type": "stream",
     "text": [
      "Linear Regression:\n",
      "R^2 Score: 0.1681\n",
      "Train Score: 0.1633\n",
      "Test Score: 0.1681\n",
      "RMSE: 262.46\n",
      "MAE: 213.60\n",
      "MSE: 68883.39\n",
      "\n",
      "Lasso Regression:\n",
      "R^2 Score: 0.1678\n",
      "Train Score: 0.1629\n",
      "Test Score: 0.1678\n",
      "RMSE: 262.51\n",
      "MAE: 213.68\n",
      "MSE: 68910.10\n",
      "\n",
      "Ridge Regression:\n",
      "R^2 Score: 0.1682\n",
      "Train Score: 0.1633\n",
      "Test Score: 0.1682\n",
      "RMSE: 262.44\n",
      "MAE: 213.60\n",
      "MSE: 68877.30\n"
     ]
    },
    {
     "name": "stderr",
     "output_type": "stream",
     "text": [
      "C:\\Users\\16174\\anaconda3\\lib\\site-packages\\sklearn\\linear_model\\_coordinate_descent.py:647: ConvergenceWarning: Objective did not converge. You might want to increase the number of iterations, check the scale of the features or consider increasing regularisation. Duality gap: 7.139e+08, tolerance: 1.704e+05\n",
      "  model = cd_fast.enet_coordinate_descent(\n",
      "C:\\Users\\16174\\anaconda3\\lib\\site-packages\\sklearn\\linear_model\\_ridge.py:157: LinAlgWarning: Ill-conditioned matrix (rcond=7.69273e-21): result may not be accurate.\n",
      "  return linalg.solve(A, Xy, sym_pos=True, overwrite_a=True).T\n"
     ]
    }
   ],
   "source": [
    "from sklearn.linear_model import LinearRegression, Lasso, Ridge\n",
    "from sklearn.metrics import r2_score, mean_squared_error, mean_absolute_error\n",
    "from sklearn.model_selection import train_test_split\n",
    "import numpy as np\n",
    "\n",
    "# Split the data into training and testing sets\n",
    "X_train, X_test, y_train, y_test = train_test_split(dfm.drop(columns=['price']), dfm['price'], test_size=0.2, random_state=42)\n",
    "\n",
    "# Linear Regression\n",
    "lr = LinearRegression()\n",
    "lr.fit(X_train, y_train)\n",
    "lr_pred = lr.predict(X_test)\n",
    "lr_r2 = r2_score(y_test, lr_pred)\n",
    "lr_train_score = lr.score(X_train, y_train)\n",
    "lr_test_score = lr.score(X_test, y_test)\n",
    "lr_rmse = np.sqrt(mean_squared_error(y_test, lr_pred))\n",
    "lr_mae = mean_absolute_error(y_test, lr_pred)\n",
    "lr_mse = mean_squared_error(y_test, lr_pred)\n",
    "\n",
    "# Lasso Regression\n",
    "lasso = Lasso(alpha=0.1)\n",
    "lasso.fit(X_train, y_train)\n",
    "lasso_pred = lasso.predict(X_test)\n",
    "lasso_r2 = r2_score(y_test, lasso_pred)\n",
    "lasso_train_score = lasso.score(X_train, y_train)\n",
    "lasso_test_score = lasso.score(X_test, y_test)\n",
    "lasso_rmse = np.sqrt(mean_squared_error(y_test, lasso_pred))\n",
    "lasso_mae = mean_absolute_error(y_test, lasso_pred)\n",
    "lasso_mse = mean_squared_error(y_test, lasso_pred)\n",
    "\n",
    "# Ridge Regression\n",
    "ridge = Ridge(alpha=1.0)\n",
    "ridge.fit(X_train, y_train)\n",
    "ridge_pred = ridge.predict(X_test)\n",
    "ridge_r2 = r2_score(y_test, ridge_pred)\n",
    "ridge_train_score = ridge.score(X_train, y_train)\n",
    "ridge_test_score = ridge.score(X_test, y_test)\n",
    "ridge_rmse = np.sqrt(mean_squared_error(y_test, ridge_pred))\n",
    "ridge_mae = mean_absolute_error(y_test, ridge_pred)\n",
    "ridge_mse = mean_squared_error(y_test, ridge_pred)\n",
    "\n",
    "# Print the evaluation metrics for each model\n",
    "print(\"Linear Regression:\")\n",
    "print(\"R^2 Score: {:.4f}\".format(lr_r2))\n",
    "print(\"Train Score: {:.4f}\".format(lr_train_score))\n",
    "print(\"Test Score: {:.4f}\".format(lr_test_score))\n",
    "print(\"RMSE: {:.2f}\".format(lr_rmse))\n",
    "print(\"MAE: {:.2f}\".format(lr_mae))\n",
    "print(\"MSE: {:.2f}\".format(lr_mse))\n",
    "\n",
    "print(\"\\nLasso Regression:\")\n",
    "print(\"R^2 Score: {:.4f}\".format(lasso_r2))\n",
    "print(\"Train Score: {:.4f}\".format(lasso_train_score))\n",
    "print(\"Test Score: {:.4f}\".format(lasso_test_score))\n",
    "print(\"RMSE: {:.2f}\".format(lasso_rmse))\n",
    "print(\"MAE: {:.2f}\".format(lasso_mae))\n",
    "print(\"MSE: {:.2f}\".format(lasso_mse))\n",
    "\n",
    "print(\"\\nRidge Regression:\")\n",
    "print(\"R^2 Score: {:.4f}\".format(ridge_r2))\n",
    "print(\"Train Score: {:.4f}\".format(ridge_train_score))\n",
    "print(\"Test Score: {:.4f}\".format(ridge_test_score))\n",
    "print(\"RMSE: {:.2f}\".format(ridge_rmse))\n",
    "print(\"MAE: {:.2f}\".format(ridge_mae))\n",
    "print(\"MSE: {:.2f}\".format(ridge_mse))\n",
    "\n"
   ]
  },
  {
   "cell_type": "code",
   "execution_count": null,
   "metadata": {},
   "outputs": [],
   "source": [
    "import matplotlib.pyplot as plt\n",
    "\n",
    "fig, ax = plt.subplots(figsize=(10, 8))\n",
    "\n",
    "ax.scatter(y_test, lr_pred, color='blue', label='Linear Regression')\n",
    "ax.scatter(y_test, lasso_pred, color='green', label='Lasso')\n",
    "ax.scatter(y_test, ridge_pred, color='red', label='Ridge')\n",
    "ax.plot(y_test, y_test, color='black', label='Actual')\n",
    "\n",
    "ax.set_xlabel('Actual Price')\n",
    "ax.set_ylabel('Predicted Price')\n",
    "ax.set_title('Comparison of Predicted and Actual Prices')\n",
    "ax.legend()\n",
    "plt.show()\n"
   ]
  },
  {
   "cell_type": "code",
   "execution_count": 264,
   "metadata": {},
   "outputs": [
    {
     "ename": "KeyError",
     "evalue": "\"['lr_pred', 'lasso_pred', 'ridge_pred'] not in index\"",
     "output_type": "error",
     "traceback": [
      "\u001b[1;31m---------------------------------------------------------------------------\u001b[0m",
      "\u001b[1;31mKeyError\u001b[0m                                  Traceback (most recent call last)",
      "\u001b[1;32m~\\AppData\\Local\\Temp\\ipykernel_29816\\4211212065.py\u001b[0m in \u001b[0;36m<module>\u001b[1;34m\u001b[0m\n\u001b[0;32m      7\u001b[0m \u001b[1;33m\u001b[0m\u001b[0m\n\u001b[0;32m      8\u001b[0m \u001b[1;31m# select only the necessary columns\u001b[0m\u001b[1;33m\u001b[0m\u001b[1;33m\u001b[0m\u001b[0m\n\u001b[1;32m----> 9\u001b[1;33m \u001b[0mdff\u001b[0m \u001b[1;33m=\u001b[0m \u001b[0mdfm\u001b[0m\u001b[1;33m[\u001b[0m\u001b[1;33m[\u001b[0m\u001b[1;34m'price'\u001b[0m\u001b[1;33m,\u001b[0m \u001b[1;34m'lr_pred'\u001b[0m\u001b[1;33m,\u001b[0m \u001b[1;34m'lasso_pred'\u001b[0m\u001b[1;33m,\u001b[0m \u001b[1;34m'ridge_pred'\u001b[0m\u001b[1;33m]\u001b[0m\u001b[1;33m]\u001b[0m\u001b[1;33m\u001b[0m\u001b[1;33m\u001b[0m\u001b[0m\n\u001b[0m\u001b[0;32m     10\u001b[0m \u001b[1;33m\u001b[0m\u001b[0m\n\u001b[0;32m     11\u001b[0m \u001b[1;31m# create a new dataframe with the desired format\u001b[0m\u001b[1;33m\u001b[0m\u001b[1;33m\u001b[0m\u001b[0m\n",
      "\u001b[1;32m~\\anaconda3\\lib\\site-packages\\pandas\\core\\frame.py\u001b[0m in \u001b[0;36m__getitem__\u001b[1;34m(self, key)\u001b[0m\n\u001b[0;32m   3509\u001b[0m             \u001b[1;32mif\u001b[0m \u001b[0mis_iterator\u001b[0m\u001b[1;33m(\u001b[0m\u001b[0mkey\u001b[0m\u001b[1;33m)\u001b[0m\u001b[1;33m:\u001b[0m\u001b[1;33m\u001b[0m\u001b[1;33m\u001b[0m\u001b[0m\n\u001b[0;32m   3510\u001b[0m                 \u001b[0mkey\u001b[0m \u001b[1;33m=\u001b[0m \u001b[0mlist\u001b[0m\u001b[1;33m(\u001b[0m\u001b[0mkey\u001b[0m\u001b[1;33m)\u001b[0m\u001b[1;33m\u001b[0m\u001b[1;33m\u001b[0m\u001b[0m\n\u001b[1;32m-> 3511\u001b[1;33m             \u001b[0mindexer\u001b[0m \u001b[1;33m=\u001b[0m \u001b[0mself\u001b[0m\u001b[1;33m.\u001b[0m\u001b[0mcolumns\u001b[0m\u001b[1;33m.\u001b[0m\u001b[0m_get_indexer_strict\u001b[0m\u001b[1;33m(\u001b[0m\u001b[0mkey\u001b[0m\u001b[1;33m,\u001b[0m \u001b[1;34m\"columns\"\u001b[0m\u001b[1;33m)\u001b[0m\u001b[1;33m[\u001b[0m\u001b[1;36m1\u001b[0m\u001b[1;33m]\u001b[0m\u001b[1;33m\u001b[0m\u001b[1;33m\u001b[0m\u001b[0m\n\u001b[0m\u001b[0;32m   3512\u001b[0m \u001b[1;33m\u001b[0m\u001b[0m\n\u001b[0;32m   3513\u001b[0m         \u001b[1;31m# take() does not accept boolean indexers\u001b[0m\u001b[1;33m\u001b[0m\u001b[1;33m\u001b[0m\u001b[0m\n",
      "\u001b[1;32m~\\anaconda3\\lib\\site-packages\\pandas\\core\\indexes\\base.py\u001b[0m in \u001b[0;36m_get_indexer_strict\u001b[1;34m(self, key, axis_name)\u001b[0m\n\u001b[0;32m   5794\u001b[0m             \u001b[0mkeyarr\u001b[0m\u001b[1;33m,\u001b[0m \u001b[0mindexer\u001b[0m\u001b[1;33m,\u001b[0m \u001b[0mnew_indexer\u001b[0m \u001b[1;33m=\u001b[0m \u001b[0mself\u001b[0m\u001b[1;33m.\u001b[0m\u001b[0m_reindex_non_unique\u001b[0m\u001b[1;33m(\u001b[0m\u001b[0mkeyarr\u001b[0m\u001b[1;33m)\u001b[0m\u001b[1;33m\u001b[0m\u001b[1;33m\u001b[0m\u001b[0m\n\u001b[0;32m   5795\u001b[0m \u001b[1;33m\u001b[0m\u001b[0m\n\u001b[1;32m-> 5796\u001b[1;33m         \u001b[0mself\u001b[0m\u001b[1;33m.\u001b[0m\u001b[0m_raise_if_missing\u001b[0m\u001b[1;33m(\u001b[0m\u001b[0mkeyarr\u001b[0m\u001b[1;33m,\u001b[0m \u001b[0mindexer\u001b[0m\u001b[1;33m,\u001b[0m \u001b[0maxis_name\u001b[0m\u001b[1;33m)\u001b[0m\u001b[1;33m\u001b[0m\u001b[1;33m\u001b[0m\u001b[0m\n\u001b[0m\u001b[0;32m   5797\u001b[0m \u001b[1;33m\u001b[0m\u001b[0m\n\u001b[0;32m   5798\u001b[0m         \u001b[0mkeyarr\u001b[0m \u001b[1;33m=\u001b[0m \u001b[0mself\u001b[0m\u001b[1;33m.\u001b[0m\u001b[0mtake\u001b[0m\u001b[1;33m(\u001b[0m\u001b[0mindexer\u001b[0m\u001b[1;33m)\u001b[0m\u001b[1;33m\u001b[0m\u001b[1;33m\u001b[0m\u001b[0m\n",
      "\u001b[1;32m~\\anaconda3\\lib\\site-packages\\pandas\\core\\indexes\\base.py\u001b[0m in \u001b[0;36m_raise_if_missing\u001b[1;34m(self, key, indexer, axis_name)\u001b[0m\n\u001b[0;32m   5857\u001b[0m \u001b[1;33m\u001b[0m\u001b[0m\n\u001b[0;32m   5858\u001b[0m             \u001b[0mnot_found\u001b[0m \u001b[1;33m=\u001b[0m \u001b[0mlist\u001b[0m\u001b[1;33m(\u001b[0m\u001b[0mensure_index\u001b[0m\u001b[1;33m(\u001b[0m\u001b[0mkey\u001b[0m\u001b[1;33m)\u001b[0m\u001b[1;33m[\u001b[0m\u001b[0mmissing_mask\u001b[0m\u001b[1;33m.\u001b[0m\u001b[0mnonzero\u001b[0m\u001b[1;33m(\u001b[0m\u001b[1;33m)\u001b[0m\u001b[1;33m[\u001b[0m\u001b[1;36m0\u001b[0m\u001b[1;33m]\u001b[0m\u001b[1;33m]\u001b[0m\u001b[1;33m.\u001b[0m\u001b[0munique\u001b[0m\u001b[1;33m(\u001b[0m\u001b[1;33m)\u001b[0m\u001b[1;33m)\u001b[0m\u001b[1;33m\u001b[0m\u001b[1;33m\u001b[0m\u001b[0m\n\u001b[1;32m-> 5859\u001b[1;33m             \u001b[1;32mraise\u001b[0m \u001b[0mKeyError\u001b[0m\u001b[1;33m(\u001b[0m\u001b[1;34mf\"{not_found} not in index\"\u001b[0m\u001b[1;33m)\u001b[0m\u001b[1;33m\u001b[0m\u001b[1;33m\u001b[0m\u001b[0m\n\u001b[0m\u001b[0;32m   5860\u001b[0m \u001b[1;33m\u001b[0m\u001b[0m\n\u001b[0;32m   5861\u001b[0m     \u001b[1;33m@\u001b[0m\u001b[0moverload\u001b[0m\u001b[1;33m\u001b[0m\u001b[1;33m\u001b[0m\u001b[0m\n",
      "\u001b[1;31mKeyError\u001b[0m: \"['lr_pred', 'lasso_pred', 'ridge_pred'] not in index\""
     ]
    }
   ],
   "source": [
    "import pandas as pd\n",
    "import numpy as np\n",
    "\n",
    "# assume that actual price is in a column named 'actual_price'\n",
    "# and predicted prices are in columns\" named 'lr_predicted', 'lasso_predicted', and 'ridge_predicted'\n",
    "# in a dataframe named 'predictions'\n",
    "\n",
    "# select only the necessary columns\n",
    "dff = dfm[['price', 'lr_pred', 'lasso_pred', 'ridge_pred']]\n",
    "\n",
    "# create a new dataframe with the desired format\n",
    "result = pd.DataFrame({\n",
    "    'Actual Price': dff['price'],\n",
    "    'Linear Regression': dff['lr_pred'],\n",
    "    'Lasso': dff['lasso_pred'],\n",
    "    'Ridge': dff['ridge_pred']\n",
    "})\n",
    "\n",
    "# print the result\n",
    "print(result)\n"
   ]
  },
  {
   "cell_type": "code",
   "execution_count": 265,
   "metadata": {},
   "outputs": [
    {
     "name": "stdout",
     "output_type": "stream",
     "text": [
      "R^2 Score: 0.168\n",
      "Training Score: 0.163\n",
      "Testing Score: 0.168\n",
      "RMSE: 262.456\n",
      "MAE: 213.603\n",
      "MSE: 68883.395\n",
      "       Predicted Price  Actual Price\n",
      "12273       293.875972            29\n",
      "25615       383.832684            79\n",
      "7518        519.570829           682\n",
      "2377        528.829598             1\n",
      "21525       309.042902           235\n"
     ]
    },
    {
     "data": {
      "text/plain": [
       "sklearn.linear_model._base.LinearRegression"
      ]
     },
     "execution_count": 265,
     "metadata": {},
     "output_type": "execute_result"
    }
   ],
   "source": [
    "# import required libraries\n",
    "import pandas as pd\n",
    "from sklearn.model_selection import train_test_split\n",
    "from sklearn.linear_model import LinearRegression\n",
    "from sklearn.metrics import r2_score, mean_squared_error, mean_absolute_error\n",
    "\n",
    "# define the features and target variable\n",
    "X = dfm.drop(['price'], axis=1)\n",
    "y = dfm['price']\n",
    "\n",
    "# split the data into training and testing sets\n",
    "X_train, X_test, y_train, y_test = train_test_split(X, y, test_size=0.2, random_state=42)\n",
    "\n",
    "# initialize the Linear Regression model\n",
    "lr = LinearRegression()\n",
    "\n",
    "# train the model on the training data\n",
    "lr.fit(X_train, y_train)\n",
    "\n",
    "# make predictions on the training and testing data\n",
    "train_preds = lr.predict(X_train)\n",
    "test_preds = lr.predict(X_test)\n",
    "\n",
    "# evaluate the model using various metrics\n",
    "r2 = r2_score(y_test, test_preds)\n",
    "train_score = lr.score(X_train, y_train)\n",
    "test_score = lr.score(X_test, y_test)\n",
    "rmse = mean_squared_error(y_test, test_preds, squared=False)\n",
    "mae = mean_absolute_error(y_test, test_preds)\n",
    "mse = mean_squared_error(y_test, test_preds)\n",
    "\n",
    "# print the evaluation metrics\n",
    "print(f\"R^2 Score: {r2:.3f}\")\n",
    "print(f\"Training Score: {train_score:.3f}\")\n",
    "print(f\"Testing Score: {test_score:.3f}\")\n",
    "print(f\"RMSE: {rmse:.3f}\")\n",
    "print(f\"MAE: {mae:.3f}\")\n",
    "print(f\"MSE: {mse:.3f}\")\n",
    "\n",
    "# print the predicted and actual prices for the first 5 instances in the testing data\n",
    "pred_actual_df = pd.DataFrame({'Predicted Price': test_preds[:5], 'Actual Price': y_test[:5]})\n",
    "print(pred_actual_df)\n",
    "\n",
    "LinearRegression"
   ]
  },
  {
   "cell_type": "code",
   "execution_count": 266,
   "metadata": {},
   "outputs": [
    {
     "name": "stdout",
     "output_type": "stream",
     "text": [
      "R2 Score: 0.16812522110643635\n",
      "Train score: -0.07745341132651373\n",
      "Test score: -0.06430187380794683\n",
      "RMSE score: 262.45646293354156\n",
      "MAE score: 213.60327608397736\n",
      "MSE score: 68883.39493558549\n"
     ]
    }
   ],
   "source": [
    "from sklearn.svm import SVR\n",
    "\n",
    "svr = SVR(kernel='rbf')\n",
    "svr.fit(X_train, y_train)\n",
    "\n",
    "train_pred = svr.predict(X_train)\n",
    "test_pred = svr.predict(X_test)\n",
    "\n",
    "train_score = svr.score(X_train, y_train)\n",
    "test_score = svr.score(X_test, y_test)\n",
    "print(\"R2 Score:\", r2_score(y_test, y_pred))\n",
    "print(\"Train score:\", model.score(X_train, y_train))\n",
    "print(\"Test score:\", model.score(X_test, y_test))\n",
    "print(\"RMSE score:\", np.sqrt(mean_squared_error(y_test, y_pred)))\n",
    "print(\"MAE score:\", mean_absolute_error(y_test, y_pred))\n",
    "print(\"MSE score:\", mean_squared_error(y_test, y_pred))\n",
    "\n"
   ]
  },
  {
   "cell_type": "code",
   "execution_count": 267,
   "metadata": {},
   "outputs": [
    {
     "name": "stderr",
     "output_type": "stream",
     "text": [
      "C:\\Users\\16174\\anaconda3\\lib\\site-packages\\sklearn\\linear_model\\_coordinate_descent.py:647: ConvergenceWarning: Objective did not converge. You might want to increase the number of iterations, check the scale of the features or consider increasing regularisation. Duality gap: 7.101e+08, tolerance: 1.694e+05\n",
      "  model = cd_fast.enet_coordinate_descent(\n",
      "C:\\Users\\16174\\anaconda3\\lib\\site-packages\\sklearn\\linear_model\\_ridge.py:157: LinAlgWarning: Ill-conditioned matrix (rcond=7.69786e-21): result may not be accurate.\n",
      "  return linalg.solve(A, Xy, sym_pos=True, overwrite_a=True).T\n"
     ]
    },
    {
     "name": "stdout",
     "output_type": "stream",
     "text": [
      "LinearRegression:\n",
      "R2 score: 0.161\n",
      "Train score: 0.161\n",
      "Test score: 0.176\n",
      "RMSE: 264.585\n",
      "MAE: 215.648\n",
      "MSE: 70005.343\n",
      "\n",
      "Lasso:\n",
      "R2 score: 0.157\n",
      "Train score: 0.157\n",
      "Test score: 0.173\n",
      "RMSE: 264.924\n",
      "MAE: 215.936\n",
      "MSE: 70184.869\n",
      "\n",
      "Ridge:\n",
      "R2 score: 0.161\n",
      "Train score: 0.161\n",
      "Test score: 0.176\n",
      "RMSE: 264.587\n",
      "MAE: 215.642\n",
      "MSE: 70006.035\n",
      "\n",
      "SVR:\n",
      "R2 score: -0.070\n",
      "Train score: -0.070\n",
      "Test score: -0.064\n",
      "RMSE: 300.548\n",
      "MAE: 251.515\n",
      "MSE: 90329.345\n",
      "\n",
      "RandomForestRegressor:\n",
      "R2 score: 0.898\n",
      "Train score: 0.898\n",
      "Test score: 0.306\n",
      "RMSE: 242.710\n",
      "MAE: 182.570\n",
      "MSE: 58908.008\n",
      "\n",
      "DecisionTreeRegressor:\n",
      "R2 score: 1.000\n",
      "Train score: 1.000\n",
      "Test score: -0.410\n",
      "RMSE: 346.033\n",
      "MAE: 234.432\n",
      "MSE: 119738.638\n",
      "\n",
      "XGBRegressor:\n",
      "R2 score: 0.575\n",
      "Train score: 0.575\n",
      "Test score: 0.273\n",
      "RMSE: 248.393\n",
      "MAE: 187.448\n",
      "MSE: 61698.908\n",
      "\n"
     ]
    }
   ],
   "source": [
    "import pandas as pd\n",
    "import numpy as np\n",
    "from sklearn.model_selection import train_test_split\n",
    "from sklearn.linear_model import LinearRegression, Lasso, Ridge\n",
    "from sklearn.svm import SVR\n",
    "from sklearn.tree import DecisionTreeRegressor\n",
    "from sklearn.ensemble import RandomForestRegressor\n",
    "from sklearn.metrics import r2_score, mean_squared_error, mean_absolute_error\n",
    "import xgboost as xgb\n",
    "\n",
    "# Split the dataset into training and testing sets\n",
    "X = dfm.drop('price', axis=1)\n",
    "y = dfm['price']\n",
    "X_train, X_test, y_train, y_test = train_test_split(X, y, test_size=0.2, random_state=40)\n",
    "\n",
    "# Define the regression models to evaluate\n",
    "reg_models = [LinearRegression(), Lasso(), Ridge(), SVR(), RandomForestRegressor(), DecisionTreeRegressor(), xgb.XGBRegressor()]\n",
    "\n",
    "# Initialize the dictionaries to store the evaluation metrics\n",
    "r2_scores = {}\n",
    "train_scores = {}\n",
    "test_scores = {}\n",
    "rmse_scores = {}\n",
    "mae_scores = {}\n",
    "mse_scores = {}\n",
    "\n",
    "# Evaluate the performance of each regression model\n",
    "for model in reg_models:\n",
    "    # Train the model\n",
    "    model.fit(X_train, y_train)\n",
    "    \n",
    "    # Make predictions on the test set\n",
    "    y_pred = model.predict(X_test)\n",
    "    #new\n",
    "    y_pred_train = model.predict(X_train)\n",
    "    \n",
    "    # Calculate the evaluation metrics\n",
    "    r2 = r2_score(y_train, y_pred_train)\n",
    "    train_score = model.score(X_train, y_train)\n",
    "    test_score = model.score(X_test, y_test)\n",
    "    rmse = np.sqrt(mean_squared_error(y_test, y_pred))\n",
    "    mae = mean_absolute_error(y_test, y_pred)\n",
    "    mse = mean_squared_error(y_test, y_pred)\n",
    "    \n",
    "    # Store the evaluation metrics in the dictionaries\n",
    "    r2_scores[model.__class__.__name__] = r2\n",
    "    train_scores[model.__class__.__name__] = train_score\n",
    "    test_scores[model.__class__.__name__] = test_score\n",
    "    rmse_scores[model.__class__.__name__] = rmse\n",
    "    mae_scores[model.__class__.__name__] = mae\n",
    "    mse_scores[model.__class__.__name__] = mse\n",
    "\n",
    "# Print the evaluation metrics for each model\n",
    "for model_name in reg_models:\n",
    "    print(f'{model_name.__class__.__name__}:')\n",
    "    print(f'R2 score: {r2_scores[model_name.__class__.__name__]:.3f}')\n",
    "    print(f'Train score: {train_scores[model_name.__class__.__name__]:.3f}')\n",
    "    print(f'Test score: {test_scores[model_name.__class__.__name__]:.3f}')\n",
    "    print(f'RMSE: {rmse_scores[model_name.__class__.__name__]:.3f}')\n",
    "    print(f'MAE: {mae_scores[model_name.__class__.__name__]:.3f}')\n",
    "    print(f'MSE: {mse_scores[model_name.__class__.__name__]:.3f}\\n')\n",
    "\n"
   ]
  },
  {
   "cell_type": "code",
   "execution_count": 268,
   "metadata": {},
   "outputs": [],
   "source": [
    "import matplotlib.pyplot as plt\n",
    "\n",
    "# Extract the evaluation metrics into separate lists\n",
    "r2_scores_list = [r2_scores[model_name.__class__.__name__] for model_name in reg_models]\n",
    "train_scores_list = [train_scores[model_name.__class__.__name__] for model_name in reg_models]\n",
    "test_scores_list = [test_scores[model_name.__class__.__name__] for model_name in reg_models]"
   ]
  },
  {
   "cell_type": "code",
   "execution_count": null,
   "metadata": {},
   "outputs": [],
   "source": [
    "import matplotlib.pyplot as plt\n",
    "\n",
    "# Define the regression model names\n",
    "model_names = [model.__class__.__name__ for model in reg_models]\n",
    "\n",
    "# Plot the R2 scores\n",
    "plt.bar(model_names, r2_scores)\n",
    "plt.xticks(rotation=90)\n",
    "plt.title('R2 Scores for Regression Models')\n",
    "plt.xlabel('Regression Models')\n",
    "plt.ylabel('R2 Score')\n",
    "plt.show()\n"
   ]
  },
  {
   "cell_type": "code",
   "execution_count": null,
   "metadata": {},
   "outputs": [],
   "source": [
    "import matplotlib.pyplot as plt\n",
    "\n",
    "# Define the regression model names\n",
    "model_names = [model.__class__.__name__ for model in reg_models]\n",
    "\n",
    "# Plot the R2 scores\n",
    "plt.bar(model_names, train_scores)\n",
    "plt.xticks(rotation=90)\n",
    "plt.title('train_scores')\n",
    "plt.xlabel('Regression Models')\n",
    "plt.ylabel('R2 Score')\n",
    "plt.show()\n"
   ]
  },
  {
   "cell_type": "code",
   "execution_count": null,
   "metadata": {},
   "outputs": [],
   "source": [
    "import matplotlib.pyplot as plt\n",
    "\n",
    "# Define the regression model names\n",
    "model_names = [model.__class__.__name__ for model in reg_models]\n",
    "\n",
    "# Plot the R2 scores\n",
    "plt.bar(model_names, test_scores)\n",
    "plt.xticks(rotation=90)\n",
    "plt.title('test_scores')\n",
    "plt.xlabel('Regression Models')\n",
    "plt.ylabel('R2 Score')\n",
    "plt.show()\n"
   ]
  },
  {
   "cell_type": "code",
   "execution_count": null,
   "metadata": {},
   "outputs": [],
   "source": [
    "import matplotlib.pyplot as plt\n",
    "\n",
    "# Define the regression model names\n",
    "model_names = [model.__class__.__name__ for model in reg_models]\n",
    "\n",
    "# Plot the R2 scores\n",
    "plt.bar(model_names, rmse_scores)\n",
    "plt.xticks(rotation=90)\n",
    "plt.title('R2 Scores for Regression Models')\n",
    "plt.xlabel('Regression Models')\n",
    "plt.ylabel('R2 Score')\n",
    "plt.show()\n"
   ]
  },
  {
   "cell_type": "code",
   "execution_count": null,
   "metadata": {},
   "outputs": [],
   "source": [
    "import matplotlib.pyplot as plt\n",
    "\n",
    "# Define the regression model names\n",
    "model_names = [model.__class__.__name__ for model in reg_models]\n",
    "\n",
    "# Plot the R2 scores\n",
    "plt.bar(model_names, mae_scores)\n",
    "plt.xticks(rotation=90)\n",
    "plt.title('R2 Scores for Regression Models')\n",
    "plt.xlabel('Regression Models')\n",
    "plt.ylabel('R2 Score')\n",
    "plt.show()\n"
   ]
  },
  {
   "cell_type": "code",
   "execution_count": null,
   "metadata": {},
   "outputs": [],
   "source": [
    "import matplotlib.pyplot as plt\n",
    "\n",
    "# Define the regression model names\n",
    "model_names = [model.__class__.__name__ for model in reg_models]\n",
    "\n",
    "# Plot the R2 scores\n",
    "plt.bar(model_names, mse_scores)\n",
    "plt.xticks(rotation=90)\n",
    "plt.title('R2 Scores for Regression Models')\n",
    "plt.xlabel('Regression Models')\n",
    "plt.ylabel('R2 Score')\n",
    "plt.show()\n"
   ]
  },
  {
   "cell_type": "code",
   "execution_count": null,
   "metadata": {},
   "outputs": [],
   "source": [
    "import pandas as pd\n",
    "import numpy as np\n",
    "from sklearn.model_selection import train_test_split\n",
    "from sklearn.linear_model import LinearRegression\n",
    "from sklearn.metrics import r2_score, mean_squared_error, mean_absolute_error\n",
    "\n",
    "# Split the dataset into training and testing sets\n",
    "X = dfm.drop('price', axis=1)\n",
    "y = dfm['price']\n",
    "X_train, X_test, y_train, y_test = train_test_split(X, y, test_size=0.2, random_state=42)\n",
    "\n",
    "# Train the linear regression model\n",
    "lr = LinearRegression()\n",
    "lr.fit(X_train, y_train)\n",
    "\n",
    "# Make predictions on the test set\n",
    "y_pred = lr.predict(X_test)\n",
    "\n",
    "# Calculate the evaluation metrics\n",
    "r2 = r2_score(y_test, y_pred)\n",
    "rmse = np.sqrt(mean_squared_error(y_test, y_pred))\n",
    "mae = mean_absolute_error(y_test, y_pred)\n",
    "\n",
    "# Print the evaluation metrics\n",
    "print(f'R2 score: {r2:.3f}')\n",
    "print(f'RMSE: {rmse:.3f}')\n",
    "print(f'MAE: {mae:.3f}')\n"
   ]
  },
  {
   "cell_type": "code",
   "execution_count": null,
   "metadata": {},
   "outputs": [],
   "source": [
    "\n",
    "import pandas as pd\n",
    "import numpy as np\n",
    "from sklearn.model_selection import train_test_split\n",
    "from sklearn.tree import DecisionTreeRegressor\n",
    "from sklearn.metrics import r2_score, mean_squared_error, mean_absolute_error\n",
    "\n",
    "# Split the dataset into training and testing sets\n",
    "X = dfm.drop('price', axis=1)\n",
    "y = dfm['price']\n",
    "X_train, X_test, y_train, y_test = train_test_split(X, y, test_size=0.2, random_state=42)\n",
    "\n",
    "# Create the decision tree regressor model\n",
    "tree_reg = DecisionTreeRegressor(max_depth=5)\n",
    "\n",
    "# Train the model\n",
    "tree_reg.fit(X_train, y_train)\n",
    "\n",
    "# Make predictions on the test set\n",
    "y_pred = tree_reg.predict(X_test)\n",
    "\n",
    "# Calculate the evaluation metrics\n",
    "r2 = r2_score(y_test, y_pred)\n",
    "rmse = np.sqrt(mean_squared_error(y_test, y_pred))\n",
    "mae = mean_absolute_error(y_test, y_pred)\n",
    "mse = mean_squared_error(y_test, y_pred)\n",
    "\n",
    "# Print the evaluation metrics\n",
    "print(f'Decision Tree Regressor:\\nR2 score: {r2:.3f}\\nRMSE: {rmse:.3f}\\nMAE: {mae:.3f}\\nMSE: {mse:.3f}\\n')\n"
   ]
  },
  {
   "cell_type": "code",
   "execution_count": null,
   "metadata": {},
   "outputs": [],
   "source": [
    "#to know the number listings in each year \n",
    "dfc['host_since'].value_counts()\n"
   ]
  },
  {
   "cell_type": "code",
   "execution_count": null,
   "metadata": {
    "colab": {
     "base_uri": "https://localhost:8080/"
    },
    "id": "lZalo4PaqvsA",
    "outputId": "3936686c-07c6-4437-c921-2e4f291c6b94"
   },
   "outputs": [],
   "source": [
    "from scipy.stats import f_oneway\n",
    "\n",
    "# Loop through each column in the dataframe\n",
    "for column in dfc.columns:\n",
    "    # Check if the column contains numerical data\n",
    "    if dfc[column].dtype == 'float64' or dfc[column].dtype == 'int64':\n",
    "        # Remove missing values\n",
    "        column_data = dfc[column].dropna()\n",
    "        # Check if there is more than one category of data\n",
    "        if len(column_data.unique()) > 1:\n",
    "            # Perform the ANOVA test\n",
    "            f_stat, p_val = f_oneway(*[column_data[dfc[column] == category] for category in dfc[column].unique()])\n",
    "            # Print the results\n",
    "            print(f'Column: {column}, F-value: {f_stat:.2f}, p-value: {p_val:.4f}')\n"
   ]
  },
  {
   "cell_type": "code",
   "execution_count": null,
   "metadata": {
    "id": "fRR_S5oOvz9U"
   },
   "outputs": [],
   "source": [
    "from scipy.stats import pearsonr\n",
    "\n",
    "# Loop through each column in dfc\n",
    "for col in dfc.columns:\n",
    "    # Skip the price column\n",
    "    if col == 'price':\n",
    "        continue\n",
    "    \n",
    "    # Calculate the Pearson correlation coefficient and p-value with price as the predictor\n",
    "    r, p = pearsonr(df['price'], dfc[col])\n",
    "    \n",
    "    # Print the results\n",
    "    print(f\"{col}: r = {r:.3f}, p = {p:.3f}\")"
   ]
  },
  {
   "cell_type": "code",
   "execution_count": null,
   "metadata": {
    "id": "M6M6Q5Mlu2KV"
   },
   "outputs": [],
   "source": [
    "dfc['price'] = df['price']"
   ]
  },
  {
   "cell_type": "code",
   "execution_count": null,
   "metadata": {
    "id": "JJIE538nrwOa"
   },
   "outputs": [],
   "source": [
    "from scipy.stats import f_oneway\n",
    "\n",
    "# Iterate through each column in the DataFrame\n",
    "for column in dfc.columns:\n",
    "    if dfc[column].dtype == 'float64':\n",
    "        # Get the values of the column, dropping missing values\n",
    "        groups = [group.dropna() for name, group in dfc[column].groupby(dfc[\"is_canceled\"])]\n",
    "\n",
    "        # Perform ANOVA test\n",
    "        f_stat, p_value = f_oneway(*groups)\n",
    "\n",
    "        # Print the results\n",
    "        print(f'Column: {column}')\n",
    "        print(f'F-statistic: {f_stat:.3f}, p-value: {p_value:.3f}\\n')\n"
   ]
  },
  {
   "cell_type": "code",
   "execution_count": null,
   "metadata": {
    "colab": {
     "base_uri": "https://localhost:8080/"
    },
    "id": "GcPjbFagrXZE",
    "outputId": "c3f0e5b3-9f33-4f17-e6c9-4afb52d0b011"
   },
   "outputs": [],
   "source": [
    "dfc.shape"
   ]
  },
  {
   "cell_type": "code",
   "execution_count": null,
   "metadata": {
    "id": "Xrji_FQ9qvpf"
   },
   "outputs": [],
   "source": [
    " print(f\"Column '{col}': F-value = {F-value:.3f}, p value = {p_value:.3f}\")"
   ]
  },
  {
   "cell_type": "code",
   "execution_count": null,
   "metadata": {
    "id": "0WH48JEzqvmv"
   },
   "outputs": [],
   "source": []
  },
  {
   "cell_type": "markdown",
   "metadata": {
    "id": "yEWygLhMK8sY",
    "jp-MarkdownHeadingCollapsed": true,
    "tags": []
   },
   "source": [
    "# Amenities"
   ]
  },
  {
   "cell_type": "code",
   "execution_count": null,
   "metadata": {
    "id": "X91aBbvosGNJ"
   },
   "outputs": [],
   "source": []
  },
  {
   "cell_type": "code",
   "execution_count": null,
   "metadata": {
    "id": "-UCNzvj3sGHx"
   },
   "outputs": [],
   "source": []
  },
  {
   "cell_type": "code",
   "execution_count": null,
   "metadata": {
    "id": "E_1UGu-nl5MD"
   },
   "outputs": [],
   "source": [
    "df['amenities'] = df['amenities'].str.lower()"
   ]
  },
  {
   "cell_type": "code",
   "execution_count": null,
   "metadata": {
    "id": "wq9JnHV0l6CM"
   },
   "outputs": [],
   "source": [
    "print(df[\"amenities\"].head())"
   ]
  },
  {
   "cell_type": "code",
   "execution_count": null,
   "metadata": {
    "id": "_gG6yHkpnf-k"
   },
   "outputs": [],
   "source": [
    "df['amenities_list'] = df['amenities'].str.lower().str.split(',')\n",
    "df['amenities_count'] = df['amenities_list'].apply(lambda x: len(x))"
   ]
  },
  {
   "cell_type": "code",
   "execution_count": null,
   "metadata": {
    "id": "uSQe8uTQnjT_"
   },
   "outputs": [],
   "source": [
    "print(df[\"amenities_count\"].head(10))"
   ]
  },
  {
   "cell_type": "code",
   "execution_count": null,
   "metadata": {
    "id": "BspGXipzovCM"
   },
   "outputs": [],
   "source": [
    "column_1 = df['price']\n",
    "column_2 = df['amenities']\n",
    "\n",
    "df2 = pd.DataFrame({'column_1': column_1, 'column_2': column_2})\n"
   ]
  },
  {
   "cell_type": "code",
   "execution_count": null,
   "metadata": {
    "id": "KFAwLGxBvCqM"
   },
   "outputs": [],
   "source": [
    "df2"
   ]
  },
  {
   "cell_type": "code",
   "execution_count": null,
   "metadata": {
    "id": "jiDIOp6N7bFI"
   },
   "outputs": [],
   "source": [
    "df2['column_1'] = df2['column_1'].str.replace('$','')"
   ]
  },
  {
   "cell_type": "code",
   "execution_count": null,
   "metadata": {
    "id": "R5BvkSce7ucG"
   },
   "outputs": [],
   "source": [
    "df2.head()"
   ]
  },
  {
   "cell_type": "code",
   "execution_count": null,
   "metadata": {
    "id": "NIeTAyimuW2m"
   },
   "outputs": [],
   "source": [
    "df2[\"p\"].nunique"
   ]
  },
  {
   "cell_type": "code",
   "execution_count": null,
   "metadata": {
    "id": "0zwLFImWuOxC"
   },
   "outputs": [],
   "source": [
    "df2"
   ]
  },
  {
   "cell_type": "code",
   "execution_count": null,
   "metadata": {
    "id": "adCnNxMrrJD0"
   },
   "outputs": [],
   "source": [
    "# Split the amenities column into a list of strings\n",
    "df2['column_2'] = df2['column_2'].str.lower().str.split(',')\n",
    "\n",
    "# Create a set of unique amenities\n",
    "unique_amenities = set([item for sublist in df2['column_2'] for item in sublist])\n",
    "\n",
    "# Create a new dataframe with columns for each unique amenity and set all values to 0\n",
    "amenities_df = pd.DataFrame(columns=unique_amenities, index=df.index)\n",
    "amenities_df[:] = 0\n",
    "\n",
    "# Loop through each row and set the value of the corresponding amenity column to 1\n",
    "for i, row in df2.iterrows():\n",
    "    for amenity in row['column_2']:\n",
    "        amenities_df.at[i, amenity] = 1\n",
    "\n",
    "# Join the original dataframe with the amenities dataframe\n",
    "df2 = df2.join(amenities_df)\n"
   ]
  },
  {
   "cell_type": "code",
   "execution_count": null,
   "metadata": {
    "id": "GWLNifK03PRb"
   },
   "outputs": [],
   "source": [
    "df2.shape"
   ]
  },
  {
   "cell_type": "code",
   "execution_count": null,
   "metadata": {
    "id": "YMJOmXHC30Oa"
   },
   "outputs": [],
   "source": [
    "df2.head()"
   ]
  },
  {
   "cell_type": "code",
   "execution_count": null,
   "metadata": {
    "id": "bJuO9kEU5bw3"
   },
   "outputs": [],
   "source": [
    "#Remove punctuations\n",
    "import string\n",
    "\n",
    "def remove_punctuation(col):\n",
    "    return col.translate(str.maketrans(\"\", \"\", string.punctuation))\n",
    "\n",
    "df2.rename(columns=lambda x: remove_punctuation(x), inplace=True)\n"
   ]
  },
  {
   "cell_type": "code",
   "execution_count": null,
   "metadata": {
    "id": "OuiKnDqW54TK"
   },
   "outputs": [],
   "source": [
    "df2.head()"
   ]
  },
  {
   "cell_type": "code",
   "execution_count": null,
   "metadata": {
    "id": "rw8g-7rX_-RA"
   },
   "outputs": [],
   "source": [
    "df2.shape"
   ]
  },
  {
   "cell_type": "code",
   "execution_count": null,
   "metadata": {
    "id": "9NqBaGJ2HKNr"
   },
   "outputs": [],
   "source": [
    "df2.shape"
   ]
  },
  {
   "cell_type": "code",
   "execution_count": null,
   "metadata": {
    "id": "BvSm17wl630Q"
   },
   "outputs": [],
   "source": [
    "# create a new data frame with a single column\n",
    "df2 = df[['price']]"
   ]
  },
  {
   "cell_type": "code",
   "execution_count": null,
   "metadata": {
    "id": "EPNw_Bud4blo"
   },
   "outputs": [],
   "source": [
    "df2 = df2.drop(columns=['column2'])"
   ]
  },
  {
   "cell_type": "code",
   "execution_count": null,
   "metadata": {
    "id": "gbg6CSxpFVDH"
   },
   "outputs": [],
   "source": [
    "df2 = df2.drop(columns=['price'])"
   ]
  },
  {
   "cell_type": "code",
   "execution_count": null,
   "metadata": {
    "id": "dl7ssOfd8SeS"
   },
   "outputs": [],
   "source": [
    "df2 = df2.rename(columns={'column1': 'price'})"
   ]
  },
  {
   "cell_type": "code",
   "execution_count": null,
   "metadata": {
    "id": "bb4fkjoRGLbW"
   },
   "outputs": [],
   "source": [
    "drop_cols(df2)"
   ]
  },
  {
   "cell_type": "code",
   "execution_count": null,
   "metadata": {
    "id": "rhxlgnTO80Mt"
   },
   "outputs": [],
   "source": [
    "import pandas as pd\n",
    "import scipy.stats as stats\n",
    "from scipy.stats import chi2_contingency\n",
    "\n",
    "def drop_cols(df2):\n",
    "    columns = df2.columns[1:]\n",
    "    df2[\"p-value\"] = 0.0\n",
    "    for col in columns:\n",
    "        contingency_table = pd.crosstab(df[\"price\"], df2[col])\n",
    "        chi2, p, dof, expected = chi2_contingency(contingency_table)\n",
    "        df2[\"p-value\"][df2.columns.get_loc(col) - 1] = p\n",
    "        if p > 0.05:\n",
    "            df2 = df2.drop(col, axis=1)\n",
    "    return df2\n",
    "\n"
   ]
  },
  {
   "cell_type": "code",
   "execution_count": null,
   "metadata": {
    "id": "8nr8gmxiJeg7"
   },
   "outputs": [],
   "source": [
    "df2.iloc[:, 0]"
   ]
  },
  {
   "cell_type": "code",
   "execution_count": null,
   "metadata": {
    "id": "_-ByTCPyIDJq"
   },
   "outputs": [],
   "source": [
    "#chi test\n",
    "lst = []\n",
    "\n",
    "for count in range(len(df2.columns)):\n",
    "  cross_tab = pd.crosstab(df['price'], df2.iloc[:,count])\n",
    "  lst.append(stats.chi2_contingency(cross_tab)[1])\n"
   ]
  },
  {
   "cell_type": "code",
   "execution_count": null,
   "metadata": {
    "id": "drfQiS-7Kjfe"
   },
   "outputs": [],
   "source": [
    "df_pval = pd.DataFrame({\"Name\": df2.columns, \"pval\" : lst})"
   ]
  },
  {
   "cell_type": "code",
   "execution_count": null,
   "metadata": {
    "id": "BoYj1pchHzOS"
   },
   "outputs": [],
   "source": [
    "# find the minimum value of the column\n",
    "min_value = df['p-value'].min()\n",
    "print(\"Minimum value of the column:\", min_value)\n",
    "\n",
    "df['p-value'].max()\n"
   ]
  },
  {
   "cell_type": "code",
   "execution_count": null,
   "metadata": {
    "id": "2I0Kb41vHauy"
   },
   "outputs": [],
   "source": [
    "df_pval[\"pval\"].describe"
   ]
  },
  {
   "cell_type": "code",
   "execution_count": null,
   "metadata": {
    "id": "Y0Fa1dIgLesp"
   },
   "outputs": [],
   "source": [
    "df_pval[df_pval['pval'] < 0.05]"
   ]
  },
  {
   "cell_type": "code",
   "execution_count": null,
   "metadata": {
    "id": "ahiBoO1c432D"
   },
   "outputs": [],
   "source": [
    "import pandas as pd\n",
    "from scipy.stats import chi2_contingency\n",
    "\n",
    "# select the column_2 column\n",
    "column_2 = df2['conditioner conditioner']\n",
    "\n",
    "# perform the chi-squared test for independence\n",
    "chi2, p, dof, expected = chi2_contingency(pd.crosstab(columns=column_2))\n",
    "\n",
    "# print the test results\n",
    "print(\"Chi-squared test statistic: \", chi2)\n",
    "print(\"p-value: \", p)\n",
    "print(\"Degrees of Freedom: \", dof)\n",
    "print(\"Expected Frequencies: \", expected)\n"
   ]
  },
  {
   "cell_type": "code",
   "execution_count": null,
   "metadata": {
    "id": "kd1xmX4Br2Kc"
   },
   "outputs": [],
   "source": [
    "columns = df2.columns\n",
    "for x in columns:\n",
    "  print(x)"
   ]
  },
  {
   "cell_type": "code",
   "execution_count": null,
   "metadata": {
    "id": "rrh1EGtxpOkb"
   },
   "outputs": [],
   "source": [
    "df2[\"amenities\"].unique()"
   ]
  },
  {
   "cell_type": "code",
   "execution_count": null,
   "metadata": {
    "id": "P9amd-Qro7LR"
   },
   "outputs": [],
   "source": [
    "# Create a new dataframe to store the split values\n",
    "df_amenities = df2['amenities'].str.split(',', expand=True)\n",
    "\n",
    "# Remove the quotes from the values in each column\n",
    "df_amenities = df_amenities.replace(['\"', '\\'\"'], '', regex=True)\n",
    "\n",
    "# Convert the values to lowercase\n",
    "df_amenities = df_amenities.applymap(lambda x: x.lower() if isinstance(x, str) else x)\n",
    "\n",
    "# Create a new column to store the number of amenities\n",
    "df_amenities['amenities_count'] = df_amenities.count(axis=1)\n",
    "\n",
    "# Join the new dataframe with the original dataframe\n",
    "df2 = df2.join(df_amenities)\n"
   ]
  },
  {
   "cell_type": "code",
   "execution_count": null,
   "metadata": {
    "id": "OjxkC4MGwQdz"
   },
   "outputs": [],
   "source": [
    "#before sign remover\n",
    "import pandas as pd\n",
    "\n",
    "# Load your DataFrame into the \"df\" variable\n",
    "\n",
    "# Print the first 5 rows of the \"column_name\" column\n",
    "print(df[\"price\"].head())"
   ]
  },
  {
   "cell_type": "code",
   "execution_count": null,
   "metadata": {
    "id": "E6rWqGzhoTCN"
   },
   "outputs": [],
   "source": [
    "import pandas as pd\n",
    "\n",
    "# Load your DataFrame into the \"df\" variable\n",
    "\n",
    "# Find the column with the string values that need to be converted\n",
    "column_name = \"price\"\n",
    "\n",
    "# Replace the dollar sign with an empty string\n",
    "df[column_name] = df[column_name].str.replace(\"$\", \"\")\n",
    "\n",
    "# Convert the strings to floating-point numbers\n",
    "df[column_name] = df[column_name].astype(float)\n"
   ]
  },
  {
   "cell_type": "code",
   "execution_count": null,
   "metadata": {
    "id": "96jWuH6ougXu"
   },
   "outputs": [],
   "source": [
    "import pandas as pd\n",
    "\n",
    "# Load your DataFrame into the \"df\" variable\n",
    "\n",
    "# Print the first 5 rows of the \"column_name\" column\n",
    "print(df[\"price\"].head())\n"
   ]
  },
  {
   "cell_type": "code",
   "execution_count": null,
   "metadata": {
    "id": "3aNK1M9FTU-8"
   },
   "outputs": [],
   "source": [
    "import matplotlib.pyplot as plt\n",
    "\n",
    "# Create a histogram of the 'price' column with prices less than 1000\n",
    "df_filtered = df[ df['price']< 1000 ]\n",
    "plt.hist(df_filtered['price'],bins=50, color='red')\n",
    "\n",
    "# Add labels and title\n",
    "plt.xlabel('Price')\n",
    "plt.ylabel('Frequency')\n",
    "plt.title('Histogram of Prices (Less than 1000)')\n",
    "# Show the plot\n",
    "plt.show()"
   ]
  },
  {
   "cell_type": "code",
   "execution_count": null,
   "metadata": {
    "id": "CNa351dtxhU5"
   },
   "outputs": [],
   "source": [
    "import pandas as pd\n",
    "\n",
    "# Load your DataFrame into the \"df\" variable\n",
    "\n",
    "# Print the unique values of the \"column_name\" column\n",
    "print(df[\"room_type\"].unique())\n"
   ]
  },
  {
   "cell_type": "code",
   "execution_count": null,
   "metadata": {
    "id": "06KnIHXp0KT7"
   },
   "outputs": [],
   "source": []
  },
  {
   "cell_type": "code",
   "execution_count": null,
   "metadata": {
    "id": "V16V1TJQyztH"
   },
   "outputs": [],
   "source": [
    "import pandas as pd\n",
    "import matplotlib.pyplot as plt\n",
    "\n",
    "# Load your DataFrame into the \"df\" variable\n",
    "\n",
    "# Sort the DataFrame by the price column in descending order\n",
    "dff = dff.sort_values(\"price\", ascending=False)\n",
    "\n",
    "# Select the top 10 rows\n",
    "top_10 = dff.head(10)\n",
    "\n",
    "# Create a bar plot of the top 10 listings\n",
    "top_10.plot(kind=\"bar\", x=\"name\", y=\"price\", figsize=(10, 5))\n",
    "plt.xlabel(\"Listing Name\")\n",
    "plt.ylabel(\"Price\")\n",
    "plt.title(\"Top 10 Costliest Listings\")\n",
    "plt.show()"
   ]
  },
  {
   "cell_type": "code",
   "execution_count": null,
   "metadata": {
    "id": "sZXqfiiUzBvM"
   },
   "outputs": [],
   "source": [
    "import pandas as pd\n",
    "import folium\n",
    "\n",
    "# Load your DataFrame into the \"df\" variable\n",
    "\n",
    "# Sort the DataFrame by the price column in descending order\n",
    "df = df.sort_values(\"price\", ascending=False)\n",
    "\n",
    "# Select the top 10 rows\n",
    "top_10 = df.head(10)\n",
    "\n",
    "# Create a map centered at the average latitude and longitude of the top 10 listings\n",
    "mean_latitude = top_10[\"latitude\"].mean()\n",
    "mean_longitude = top_10[\"longitude\"].mean()\n",
    "map_ = folium.Map(location=[mean_latitude, mean_longitude], zoom_start=12)\n",
    "\n",
    "# Add markers for the top 10 listings\n",
    "for i, row in top_10.iterrows():\n",
    "    folium.Marker(\n",
    "        location=[row[\"latitude\"], row[\"longitude\"]],\n",
    "        popup=row[\"name\"],\n",
    "        tooltip=f\"Price: ${row['price']}\",\n",
    "    ).add_to(map_)\n",
    "\n",
    "# Show the map\n",
    "map_.save(\"top_10_listings.html\")\n"
   ]
  },
  {
   "cell_type": "code",
   "execution_count": null,
   "metadata": {
    "id": "W5MRQETdzhNd"
   },
   "outputs": [],
   "source": [
    "import pandas as pd\n",
    "import folium\n",
    "from IPython.display import display\n",
    "\n",
    "# Load your DataFrame into the \"df\" variable\n",
    "\n",
    "# Sort the DataFrame by the price column in descending order\n",
    "df = df.sort_values(\"price\", ascending=False)\n",
    "\n",
    "# Select the top 10 rows\n",
    "top_10 = df.head(10)\n",
    "\n",
    "# Create a map centered at the average latitude and longitude of the top 10 listings\n",
    "mean_latitude = top_10[\"latitude\"].mean()\n",
    "mean_longitude = top_10[\"longitude\"].mean()\n",
    "map_ = folium.Map(location=[mean_latitude, mean_longitude], zoom_start=12)\n",
    "\n",
    "# Add markers for the top 10 listings\n",
    "for i, row in top_10.iterrows():\n",
    "    folium.Marker(\n",
    "        location=[row[\"latitude\"], row[\"longitude\"]],\n",
    "        popup=row[\"name\"],\n",
    "        tooltip=f\"Price: ${row['price']}\",\n",
    "    ).add_to(map_)\n",
    "\n",
    "# Display the map\n",
    "display(map_)\n"
   ]
  },
  {
   "cell_type": "code",
   "execution_count": null,
   "metadata": {
    "id": "rCP_fil50WWa"
   },
   "outputs": [],
   "source": [
    "import pandas as pd\n",
    "import folium\n",
    "from folium.plugins import HeatMap\n",
    "from IPython.display import display\n",
    "\n",
    "# Load your DataFrame into the \"df\" variable\n",
    "\n",
    "# Remove any rows with NaN values in the latitude and longitude columns\n",
    "df = df.dropna(subset=[\"latitude\", \"longitude\"])\n",
    "\n",
    "# Create a map centered at the average latitude and longitude of the listings\n",
    "mean_latitude = df[\"latitude\"].mean()\n",
    "mean_longitude = df[\"longitude\"].mean()\n",
    "map_ = folium.Map(location=[mean_latitude, mean_longitude], zoom_start=12)\n",
    "\n",
    "# Create a heat map using the listings' latitude and longitude\n",
    "HeatMap(\n",
    "    data=df[[\"latitude\", \"longitude\", \"price\"]].values,\n",
    "    gradient={0.4: 'blue', 0.65: 'lime', 1: 'red'},\n",
    "    min_opacity=0.5,\n",
    "    max_val=df[\"price\"].max(),\n",
    "    radius=5,\n",
    "    blur=15,\n",
    "    max_zoom=1,\n",
    ").add_to(map_)\n",
    "\n",
    "# Display the map\n",
    "display(map_)\n"
   ]
  },
  {
   "cell_type": "code",
   "execution_count": null,
   "metadata": {
    "id": "cTgwkbXG282-"
   },
   "outputs": [],
   "source": [
    "import pandas as pd\n",
    "import folium\n",
    "from IPython.display import display\n",
    "\n",
    "# Load your DataFrame into the \"df\" variable\n",
    "\n",
    "# Remove any rows with NaN values in the latitude and longitude columns\n",
    "df = df.dropna(subset=[\"latitude\", \"longitude\"])\n",
    "\n",
    "# Create a map centered at the average latitude and longitude of the listings\n",
    "mean_latitude = df[\"latitude\"].mean()\n",
    "mean_longitude = df[\"longitude\"].mean()\n",
    "map_ = folium.Map(location=[mean_latitude, mean_longitude], zoom_start=12)\n",
    "\n",
    "# Sort the DataFrame by the price column\n",
    "df = df.sort_values(by=\"price\", ascending=False)\n",
    "\n",
    "# Take the top 10 costliest listings\n",
    "costliest_listings = df.head(10)\n",
    "\n",
    "# Add markers for the costliest listings\n",
    "for index, row in costliest_listings.iterrows():\n",
    "    folium.Marker(\n",
    "        location=[row[\"latitude\"], row[\"longitude\"]],\n",
    "        popup=f\"{row['price']}\",\n",
    "        icon=folium.Icon(color=\"red\")\n",
    "    ).add_to(map_)\n",
    "\n",
    "# Take the bottom 10 cheapest listings\n",
    "cheapest_listings = df.tail(10)\n",
    "\n",
    "# Add markers for the cheapest listings\n",
    "for index, row in cheapest_listings.iterrows():\n",
    "    folium.Marker(\n",
    "        location=[row[\"latitude\"], row[\"longitude\"]],\n",
    "        popup=f\"{row['price']}\",\n",
    "        icon=folium.Icon(color=\"blue\")\n",
    "    ).add_to(map_)\n",
    "\n",
    "# Display the map\n",
    "display(map_)\n"
   ]
  },
  {
   "cell_type": "code",
   "execution_count": null,
   "metadata": {
    "id": "4gvmk3p53nLz"
   },
   "outputs": [],
   "source": [
    "import pandas as pd\n",
    "import folium\n",
    "import numpy as np\n",
    "from IPython.display import display\n",
    "\n",
    "# Load your DataFrame into the \"df\" variable\n",
    "\n",
    "# Remove any rows with NaN values in the latitude and longitude columns\n",
    "df = df.dropna(subset=[\"latitude\", \"longitude\"])\n",
    "\n",
    "# Create a map centered at the average latitude and longitude of the listings\n",
    "mean_latitude = df[\"latitude\"].mean()\n",
    "mean_longitude = df[\"longitude\"].mean()\n",
    "map_ = folium.Map(location=[mean_latitude, mean_longitude], zoom_start=12)\n",
    "\n",
    "# Divide the price column into 10 equal-width bins\n",
    "bins = np.linspace(df[\"price\"].min(), df[\"price\"].max(), 10)\n",
    "df[\"binned_price\"] = np.digitize(df[\"price\"], bins)\n",
    "binned_price_colors = ['red', 'orange', 'yellow', 'green', 'blue', 'purple', 'pink', 'brown', 'gray', 'black']\n",
    "# Create markers for each listing on the map, with different colors based on the binned values\n",
    "for i, row in df.iterrows():\n",
    "    folium.CircleMarker(\n",
    "        location=[row[\"latitude\"], row[\"longitude\"]],\n",
    "        radius=5,\n",
    "        color=binned_price_colors[row[\"binned_price\"] - 1],\n",
    "        fill=True,\n",
    "        fill_color=binned_price_colors[row[\"binned_price\"] - 1],\n",
    "        fill_opacity=0.7\n",
    "    ).add_to(map_)\n",
    "\n",
    "# Display the map\n",
    "display(map_)\n"
   ]
  },
  {
   "cell_type": "code",
   "execution_count": null,
   "metadata": {
    "id": "7lwMmcutSyUJ"
   },
   "outputs": [],
   "source": [
    "# Find the sum of missing values for each feature\n",
    "missing_values=df.isnull().sum()\n",
    "# Set the maximum number of columns to be displayed\n",
    "pd.options.display.max_rows=100\n",
    "# Print the number of missing values for each feature\n",
    "print(missing_values)"
   ]
  }
 ],
 "metadata": {
  "accelerator": "GPU",
  "colab": {
   "collapsed_sections": [
    "Mn1BQSmKLdYT",
    "5dFTKG7rKv2m",
    "aquCoZB_e0HT",
    "eYX7XF6c3pOJ",
    "lxVak3LjK3v3"
   ],
   "provenance": []
  },
  "gpuClass": "standard",
  "kernelspec": {
   "display_name": "Python 3 (ipykernel)",
   "language": "python",
   "name": "python3"
  },
  "language_info": {
   "codemirror_mode": {
    "name": "ipython",
    "version": 3
   },
   "file_extension": ".py",
   "mimetype": "text/x-python",
   "name": "python",
   "nbconvert_exporter": "python",
   "pygments_lexer": "ipython3",
   "version": "3.9.13"
  }
 },
 "nbformat": 4,
 "nbformat_minor": 4
}
